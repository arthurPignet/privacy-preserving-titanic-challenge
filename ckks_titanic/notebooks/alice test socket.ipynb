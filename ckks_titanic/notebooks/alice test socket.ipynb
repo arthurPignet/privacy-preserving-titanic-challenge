{
 "cells": [
  {
   "cell_type": "code",
   "execution_count": 6,
   "metadata": {},
   "outputs": [],
   "source": [
    "import socket\n",
    "import pickle as pk\n",
    "import numpy as np\n",
    "import time"
   ]
  },
  {
   "cell_type": "code",
   "execution_count": 7,
   "metadata": {},
   "outputs": [],
   "source": [
    "\n",
    "\n",
    "HOST = '127.0.0.1'  # The server's hostname or IP address\n",
    "PORT = 65432        # The port used by the server\n",
    "\n",
    "alice = socket.socket(socket.AF_INET, socket.SOCK_STREAM)\n",
    "alice.connect((HOST, PORT))\n"
   ]
  },
  {
   "cell_type": "code",
   "execution_count": 8,
   "metadata": {},
   "outputs": [],
   "source": [
    "data=1"
   ]
  },
  {
   "cell_type": "code",
   "execution_count": 9,
   "metadata": {},
   "outputs": [],
   "source": [
    "def recieve(alice):\n",
    "    print('revc')\n",
    "    b_data = []\n",
    "    while True:\n",
    "        print(\"t\")\n",
    "        packet = alice.recv(1024)\n",
    "        print(packet)\n",
    "        if packet == b'break':break\n",
    "        else:\n",
    "            b_data.append(packet)\n",
    "        \n",
    "    return pk.loads(b\"\".join(b_data))\n",
    "def send(alice, data):\n",
    "    print('sd')\n",
    "    b_data = pk.dumps(data)\n",
    "    alice.sendall(b_data)\n",
    "    time.sleep(1)\n",
    "    alice.send(b'break')"
   ]
  },
  {
   "cell_type": "code",
   "execution_count": null,
   "metadata": {},
   "outputs": [],
   "source": []
  },
  {
   "cell_type": "code",
   "execution_count": 10,
   "metadata": {},
   "outputs": [
    {
     "name": "stdout",
     "output_type": "stream",
     "text": [
      "sd\n",
      "2\n",
      "sd\n",
      "3\n",
      "sd\n",
      "4\n",
      "sd\n",
      "5\n",
      "sd\n",
      "6\n",
      "sd\n",
      "7\n",
      "sd\n",
      "8\n",
      "sd\n",
      "9\n",
      "sd\n",
      "10\n",
      "sd\n",
      "11\n"
     ]
    }
   ],
   "source": [
    "for _ in range(10):\n",
    "    send(alice, data)\n",
    "    data+=1\n",
    "    print(data)"
   ]
  },
  {
   "cell_type": "code",
   "execution_count": null,
   "metadata": {},
   "outputs": [],
   "source": [
    "alice.close()"
   ]
  },
  {
   "cell_type": "code",
   "execution_count": null,
   "metadata": {},
   "outputs": [],
   "source": [
    "alice.sendall(b'Hello, pcihe')"
   ]
  },
  {
   "cell_type": "code",
   "execution_count": null,
   "metadata": {},
   "outputs": [],
   "source": [
    "print(type(alice.recv))\n",
    "\n",
    "print('Received', repr(pk.loads(data)))"
   ]
  },
  {
   "cell_type": "code",
   "execution_count": null,
   "metadata": {},
   "outputs": [],
   "source": [
    "data = b'KILLBOB'"
   ]
  },
  {
   "cell_type": "code",
   "execution_count": null,
   "metadata": {},
   "outputs": [],
   "source": [
    "data == b'KILLBOB'"
   ]
  },
  {
   "cell_type": "code",
   "execution_count": null,
   "metadata": {},
   "outputs": [],
   "source": [
    "alice.send(b'KILLBOB')"
   ]
  },
  {
   "cell_type": "code",
   "execution_count": null,
   "metadata": {},
   "outputs": [],
   "source": []
  }
 ],
 "metadata": {
  "kernelspec": {
   "display_name": "TenSEAL",
   "language": "python",
   "name": "tenseal"
  },
  "language_info": {
   "codemirror_mode": {
    "name": "ipython",
    "version": 3
   },
   "file_extension": ".py",
   "mimetype": "text/x-python",
   "name": "python",
   "nbconvert_exporter": "python",
   "pygments_lexer": "ipython3",
   "version": "3.7.7"
  }
 },
 "nbformat": 4,
 "nbformat_minor": 4
}
