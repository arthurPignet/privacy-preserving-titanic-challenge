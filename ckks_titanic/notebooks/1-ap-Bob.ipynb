{
 "cells": [
  {
   "cell_type": "markdown",
   "metadata": {},
   "source": [
    "# Privacy-preserving machine learning with two agents\n",
    "## Using homomorphic encryption over the titanic challenge\n",
    "\n",
    "Author:\n",
    "\n",
    "Arthur Pignet - apignet@equancy.com\n",
    "    \n",
    "\n",
    "### Objectives\n",
    "This notebook aims to demonstrate the faisibility of private machine learning.\n",
    "\n",
    "We got two agents, Bob and Alice. Bob has data, and wants to extract value from it. But Bob has no clue about data science and needs someone to help him to properly exploite his data. Bob contacts Alice, data scientist, to do so. Here, Bob's project is to create a model that predicts which passengers survived the Titanic shipwreck. He initialy has a datase which contains the details of a subset of the passengers on board (891 to be exact) and importantly, will reveal whether they survived or not. As the Titanic was an european ship, these data are under the GRPD reglementation. \n",
    "\n",
    "Therefore the problematic is how Alice can do her job of datascientist without seeing the private data.\n",
    "\n",
    "A part of the answer relies in homomorphic encryption. This kind of encryption allows one to make computation on encrypted data, without decrypting it, to obtain encrypted result. \n",
    "\n",
    "Here Bob will preprocess his data, then will encrypt its using the CKKS encryption scheme.\n",
    "Alice will receive the encrypted data, and train a model on it. \n",
    "Finally Alice will be able to use this model to make (encrypted) prediction for Bob.\n",
    "Once the model trained, Bob will send new (encrypted) data, (like test data, or unlabeled data),and got a encrypted prediction from Alice, that he will be able to decrypt. "
   ]
  },
  {
   "cell_type": "markdown",
   "metadata": {},
   "source": [
    "## This notebook shows the Bob's side"
   ]
  },
  {
   "cell_type": "markdown",
   "metadata": {},
   "source": [
    "## Setup \n",
    "\n",
    "All modules are mandatory. Make sure to import them all by running the cell below"
   ]
  },
  {
   "cell_type": "code",
   "execution_count": 1,
   "metadata": {},
   "outputs": [],
   "source": [
    "import logging\n",
    "import os\n",
    "import socket\n",
    "import sys\n",
    "import time\n",
    "\n",
    "import numpy as np\n",
    "import pandas as pd\n",
    "import pickle as pk\n",
    "import tenseal as ts\n",
    "\n",
    "from sklearn.model_selection import train_test_split\n",
    "from sklearn.metrics import confusion_matrix, f1_score, recall_score, precision_score, accuracy_score\n",
    "                           \n",
    "os.chdir(\"/home/apignet/homomorphic-encryption/ckks_titanic/\")\n",
    "from src.features import build_features\n",
    "from src.communication import Actors"
   ]
  },
  {
   "cell_type": "code",
   "execution_count": 2,
   "metadata": {},
   "outputs": [],
   "source": [
    "%load_ext memory_profiler"
   ]
  },
  {
   "cell_type": "code",
   "execution_count": 3,
   "metadata": {},
   "outputs": [
    {
     "data": {
      "text/plain": [
       "1"
      ]
     },
     "execution_count": 3,
     "metadata": {},
     "output_type": "execute_result"
    }
   ],
   "source": [
    "import matplotlib.pyplot as plt\n",
    "import seaborn as sns\n",
    "%matplotlib inline\n",
    "1"
   ]
  },
  {
   "cell_type": "markdown",
   "metadata": {},
   "source": [
    "# Definition of parameters"
   ]
  },
  {
   "cell_type": "markdown",
   "metadata": {},
   "source": [
    "### Paths\n",
    "\n",
    "The raw data location, the log file location, and the output directory location"
   ]
  },
  {
   "cell_type": "code",
   "execution_count": 4,
   "metadata": {},
   "outputs": [],
   "source": [
    "WORKING_DIR = os.getcwd()\n",
    "SUBMISSION_PATH = WORKING_DIR+\"/data/submission/\"\n",
    "DATA_PATH = WORKING_DIR+\"/data/raw/\"            # whole data set\n",
    "#DATA_PATH = WORKING_DIR+\"/data/quick_demo/\"   # subset of the data set, with 15 train_samples and 5 test_samples\n",
    "\n",
    "\n",
    "LOG_PATH = WORKING_DIR+\"/reports/log/\"\n",
    "LOG_FILENAME = \"Bob\""
   ]
  },
  {
   "cell_type": "markdown",
   "metadata": {},
   "source": [
    "### Log\n",
    "\n",
    "Log parameters, for the logging librairy. The log will be printed on the notebook and stored on a file. "
   ]
  },
  {
   "cell_type": "code",
   "execution_count": 5,
   "metadata": {},
   "outputs": [],
   "source": [
    "fileHandler = logging.FileHandler(\"{0}/{1}.log\".format(LOG_PATH, LOG_FILENAME))\n",
    "streamHandler = logging.StreamHandler(sys.stdout)\n",
    "logging.basicConfig(format=\"%(asctime)s  [%(levelname)-8.8s]  %(message)s\", \n",
    "                    datefmt='%m/%d/%Y %I:%M:%S %p', \n",
    "                    level = logging.INFO, \n",
    "                    handlers=[fileHandler, streamHandler]\n",
    "                   )"
   ]
  },
  {
   "cell_type": "markdown",
   "metadata": {},
   "source": [
    "### Socket Variables\n",
    "\n",
    "Bob and Alice will communicate though the socket module, and so will use these parameters.\n",
    "The port is the port on which the communication is going to be made\n",
    "The packet_size defines the size (in bytes) of the batch that will be sent and received\n",
    "The sentinel is a binary that will be sent to warn the other side that the message is complete."
   ]
  },
  {
   "cell_type": "code",
   "execution_count": 6,
   "metadata": {},
   "outputs": [],
   "source": [
    "HOST = '127.0.0.1'  # The server's hostname or IP address\n",
    "PORT = 65431        # The port used by the server\n",
    "PACKETS_SIZE = 16384\n",
    "SENTINEL = b'BREAK'"
   ]
  },
  {
   "cell_type": "markdown",
   "metadata": {},
   "source": [
    "# Loading and processing the data\n",
    "\n",
    "Bob starts by loading the data, and preprocess it. For more infomations on preprocessing and feature engineering, see the notebook 1-ap-processing "
   ]
  },
  {
   "cell_type": "code",
   "execution_count": 7,
   "metadata": {},
   "outputs": [
    {
     "name": "stdout",
     "output_type": "stream",
     "text": [
      "08/10/2020 12:28:07 PM  [INFO    ]  /home/apignet/homomorphic-encryption/ckks_titanic\n",
      "08/10/2020 12:28:07 PM  [INFO    ]  loading the data into memory (pandas df)\n",
      "08/10/2020 12:28:07 PM  [INFO    ]  Done\n",
      "08/10/2020 12:28:07 PM  [INFO    ]  making final data set from raw data\n",
      "08/10/2020 12:28:08 PM  [INFO    ]  Done\n",
      "peak memory: 165.64 MiB, increment: 12.99 MiB\n"
     ]
    }
   ],
   "source": [
    "%%memit\n",
    "logging.info(os.getcwd())\n",
    "raw_train, raw_test = build_features.data_import(DATA_PATH)\n",
    "train, submission_test = build_features.processing(raw_train, raw_test)"
   ]
  },
  {
   "cell_type": "markdown",
   "metadata": {},
   "source": [
    "We use 15 % of the dataset as test set, and will send it to Alice only when the model had been trained. "
   ]
  },
  {
   "cell_type": "code",
   "execution_count": 8,
   "metadata": {},
   "outputs": [
    {
     "name": "stdout",
     "output_type": "stream",
     "text": [
      "peak memory: 165.98 MiB, increment: 0.10 MiB\n"
     ]
    }
   ],
   "source": [
    "%%memit\n",
    "train, test = train_test_split(train, test_size=0.15)\n",
    "train_labels = train.Survived\n",
    "test_labels = test.Survived\n",
    "train_features = train.drop(\"Survived\", axis=1)\n",
    "test_features = test.drop(\"Survived\", axis=1)"
   ]
  },
  {
   "cell_type": "markdown",
   "metadata": {},
   "source": [
    "# Homomorphic encryption\n",
    "\n",
    "Homomorphic encryption allowing private computations on the encrypted data, without having to decrypt its. Here Bob will encrypt the data, and will had Alice made the computation (model training). Alice will never see the plain data, and thus the dataset will stay private. Besides, this king of encryption suffers from huge draw back, as increasing memory/time complexity, and limited calculus depth per ciphertext. Indeed, for most of the homomorphic encryption (HE) schemes, the number of operation (like multiplication and addition) is limited. After performing a finite number of multiplication on a ciphertext, one will not be able to decrypt it properly. Some schemes by pass this limitation, but always at important costs, in memory or time computation. \n",
    "\n",
    "### Choice of the encryption scheme \n",
    "\n",
    "The encryption will be done with the tenseal library, which is build on the top of the Microsoft SEAL software.\n",
    "The two encryption schemes avaible in SEAL are BFV and CKKS. Here, we choose to use the CKKS sheme, which is designed to made floating point operations, at the opposite of the BFV scheme, which handles only intergers. \n",
    "\n",
    "### Definition of safety parameters\n",
    "\n",
    "The choice of the safety parameters (poly_modulus_degree, coeff_mod_bit_sizes, and global_scale) is cruciale. It is them that will define the memory size of our ciphertext, the floating precision of our operations, and the calculus depth limite.\n",
    "\n",
    "A really good understanding of the CKKS scheme functionning is requiered to properly set up these parameters. \n",
    "\n",
    "In the CKKS scheme, the plaintext vextors are first converted into polynomials with integer coefficients, which are then map by a ring isomorphisme in the ring FORMULE ICI.\n",
    "\n",
    "The number of slots in a ciphertext is poly_modulus_degree / 2 and each slot encodes one real or complex number. While encoding a smaller vector, the SEAL CKKSEncoder will implicitly pad itwith zeros to full size (poly_modulus_degree / 2) when encoding. Thus, the memory size of a ciphertext is definied by the poly_modulus.\n",
    "\n",
    "Moreover, to convert the plaintext into polynomial, the floating-point coefficients of the input will be scaled up by the parameter gloabl_scale. The scale can be seen as determining the bit-precision of the encoding. The ismorphism will store our messages modulo coeff_modulus, so the scaled message must not get too close to the total size of coeff_modulus. Otherwise, the decrypted result will make no sense. Therefore, the choice of the scale will participate to the precision of our operations, and is strongly relies to the choice of the poly_modulus.  \n",
    "\n",
    "As ciphertext multiplications are done as polynomial multiplications, we need to relinearize the polynom to obtain a result that has the same size as the initial ciphertexts (In fact this operation is not mandatory, but is done after every mutiplication in our application. See the documentation for more information). It is done with a special key (relin_key), and as a side-effect, makes the scale dramaticly increase. The scale of any ciphertext must not get too close to the total size of coeff_modulus, or else the ciphertext simply runs out of room to store the scaled-up plaintext. The CKKS scheme provides a rescale functionality that can reduce the scale, and stabilize the scale expansion. \n",
    "\n",
    "This rescale operation removes the last of the primes from coeff_modulus, but as a side-effect it scales down the ciphertext by the removed prime. More precisely, suppose that the scale in a CKKS ciphertext is S, and the last prime in the current coeff_modulus (for the ciphertext) is P. Rescaling to the next level changes the scale to S/P, and removes the prime P from the coeff_modulus, as usual in modulus switching. The number of primes limits how many rescalings can be done, and thus limits the multiplicative depth of the computation. It is possible to choose the initial scale freely. One good strategy can be to is to set the initial scale S and primes P_i in the coeff_modulus to be very close to each other. If ciphertexts have scale S before multiplication, they have scale S^2 after multiplication, and S^2/P_i after rescaling. If all P_i are close to S, then S^2/P_i is close to S again. This way we stabilize the scales to be close to S throughout the computation. Generally, for a circuit of depth D, we need to rescale D times, i.e., we need to be able to remove D primes from the coefficient modulus. Once we have only one prime left in the coeff_modulus, the remaining prime must be larger than S by a few bits to preserve the pre-decimal-point value of the plaintext.\n",
    "\n",
    "sources : \n",
    "SEAL tutorials \n",
    "\n",
    "https://github.com/microsoft/SEAL/blob/master/native/examples/1_bfv_basics.cpp\n",
    "https://github.com/microsoft/SEAL/blob/master/native/examples/2_encoders.cpp               \n",
    "https://github.com/microsoft/SEAL/blob/master/native/examples/3_levels.cpp\n",
    "https://github.com/microsoft/SEAL/blob/master/native/examples/4_ckks_basics.cpp\n",
    "\n",
    "from https://github.com/microsoft/SEAL/blob/master/native/examples\n"
   ]
  },
  {
   "cell_type": "code",
   "execution_count": 9,
   "metadata": {},
   "outputs": [
    {
     "name": "stdout",
     "output_type": "stream",
     "text": [
      "08/10/2020 12:28:09 PM  [INFO    ]  Definition of safety parameters...\n",
      "08/10/2020 12:28:09 PM  [INFO    ]  Done. 0.31 seconds\n",
      "08/10/2020 12:28:09 PM  [INFO    ]  Generation of the secret key...\n",
      "08/10/2020 12:28:09 PM  [INFO    ]  Done. 0.0 seconds\n",
      "08/10/2020 12:28:09 PM  [INFO    ]  Generation of the Galois Key...\n",
      "08/10/2020 12:28:12 PM  [INFO    ]  Done. 3.3 seconds\n",
      "08/10/2020 12:28:12 PM  [INFO    ]  Generation of the Relin Key...\n",
      "08/10/2020 12:28:12 PM  [INFO    ]  Done. 0.13 seconds\n",
      "08/10/2020 12:28:12 PM  [INFO    ]  The context is now public, the context do not hold the secret key anymore, and decrypt    methods need the secret key to be provide,\n",
      "08/10/2020 12:28:12 PM  [INFO    ]  serialization of the context started...\n",
      "08/10/2020 12:29:01 PM  [INFO    ]  Serialization done in 48.882649421691895 seconds\n",
      "peak memory: 1593.52 MiB, increment: 1427.54 MiB\n"
     ]
    }
   ],
   "source": [
    "%%memit\n",
    "logging.info('Definition of safety parameters...')\n",
    "timer = time.time()\n",
    "\n",
    "context = ts.context(ts.SCHEME_TYPE.CKKS, 16384, coeff_mod_bit_sizes=[60, 40, 40, 40, 40, 40, 40,40, 60])\n",
    "context.global_scale = pow(2, 40)\n",
    "logging.info(\"Done. \" + str(round(time.time() - timer, 2)) + \" seconds\")\n",
    "\n",
    "\n",
    "\n"
   ]
  },
  {
   "cell_type": "markdown",
   "metadata": {},
   "source": [
    "The context is the main tenseal object. When created, it holds the secret and public keys. So it is needed to encrypt a vector.We can add to this context the relin's and Galois' keys. These keys are mandatory for every computation, therefore every vector encrypted with a specific context holds as an attribut a pointeur on the context. Moreover,if the context is private (ie holds the secret key), the method decrypt() on a vector will not need the secret key, as it can be accessed with vector.context.secret_key.\n",
    "It really convenient for computations but raise on issue on serialization, as we will see later.\n",
    "\n",
    "Alice will need the relin's and Galois' keys, so Bob will send the context to Alice, obviously without the secret key. So Bob will store the secret key, and will have the context drop it. Then Bob can generate the relin/galois keys, and sent it to Alice. "
   ]
  },
  {
   "cell_type": "code",
   "execution_count": null,
   "metadata": {},
   "outputs": [],
   "source": [
    "logging.info('Generation of the secret key...')\n",
    "timer = time.time()\n",
    "secret_key = context.secret_key()\n",
    "context.make_context_public() #drop the relin keys, the galois keys, and the secret keys. \n",
    "logging.info(\"Done. \" + str(round(time.time() - timer, 2)) + \" seconds\")\n",
    "logging.info('Generation of the Galois Key...')\n",
    "timer = time.time()\n",
    "context.generate_galois_keys(secret_key)\n",
    "logging.info(\"Done. \" + str(round(time.time() - timer, 2)) + \" seconds\")\n",
    "logging.info('Generation of the Relin Key...')\n",
    "timer = time.time()\n",
    "context.generate_relin_keys(secret_key)\n",
    "logging.info(\"Done. \" + str(round(time.time() - timer, 2)) + \" seconds\")\n",
    "if context.is_public():\n",
    "    logging.info(\"The context is now public, the context do not hold the secret key anymore, and decrypt\\\n",
    "    methods need the secret key to be provide,\")\n",
    "logging.info(\"serialization of the context started...\")\n",
    "timer = time.time()\n",
    "b_context = context.serialize()\n",
    "logging.info(\"Serialization done in %s seconds\" %(time.time()-timer))\n"
   ]
  },
  {
   "cell_type": "markdown",
   "metadata": {},
   "source": [
    "# Esthablishing the communication with Alice\n",
    "\n",
    "The computation, the training of the model will be done by Alice. We need to esthablishe a communication between the two actors to pass encrypted data, encrypted prediction, and the keys which are mandatory for the computation (in fact Bob will pass the full public context (ie without the secret key).\n",
    "\n",
    "### Actors\n",
    "\n",
    "Here we use the homemade calss actors. When initialized an actor tries to connect to the adress/ort which is passed as parameter (client role). If nobody is listening, the actor bind a socket and listen to it, waiting for a actor. \n",
    "\n",
    "For the transmission, an actor sents packet of the size PACKET_SIZE, and wait that the other actor replied b'next', which means that the packet had been received, and that it is waiting for the next packet. If the message is not completely sent, the actors itere the process. Else, the transmiting actor sends b'DONE' to signal to the other actor that all the packets had been sent, and the full message can be deserialize, or use...  "
   ]
  },
  {
   "cell_type": "code",
   "execution_count": 23,
   "metadata": {},
   "outputs": [
    {
     "name": "stdout",
     "output_type": "stream",
     "text": [
      "08/06/2020 03:45:29 PM  [INFO    ]  Nobody is listening, binding a server...\n",
      "08/06/2020 03:45:34 PM  [INFO    ]  Connected by 127.0.0.1:49688\n"
     ]
    }
   ],
   "source": [
    "ALICE = Actors.Actor(HOST, PORT, PACKETS_SIZE, SENTINEL)"
   ]
  },
  {
   "cell_type": "markdown",
   "metadata": {},
   "source": [
    "### Sending the public context\n",
    "\n",
    "Alice needs the context. The context is already ready, it is public and holds the three keys needed by Alice. We first need to serialize it. Keep in mind that the context with these keys is heavy in memory (around 500 Mb if you did not change the safety parameters)"
   ]
  },
  {
   "cell_type": "code",
   "execution_count": 11,
   "metadata": {},
   "outputs": [
    {
     "name": "stdout",
     "output_type": "stream",
     "text": [
      "08/06/2020 02:31:04 PM  [INFO    ]  The context has been sent\n"
     ]
    }
   ],
   "source": [
    "logging.info(\"serialization of the context started...\")\n",
    "timer = time.time()\n",
    "b_context = context.serialize()\n",
    "logging.info(\"Serialization done in %s seconds. Sending the context...\" %(time.time()-timer))\n",
    "ALICE.transmission(b_context)\n",
    "logging.info('The context has been sent')"
   ]
  },
  {
   "cell_type": "markdown",
   "metadata": {},
   "source": [
    "### Crypting, serializing and sending the crypted data"
   ]
  },
  {
   "cell_type": "markdown",
   "metadata": {},
   "source": [
    "The data are currectly pandas dataframe, but tenseal needs list as input. We first use numpy for reshape"
   ]
  },
  {
   "cell_type": "code",
   "execution_count": 12,
   "metadata": {},
   "outputs": [
    {
     "name": "stdout",
     "output_type": "stream",
     "text": [
      "08/06/2020 02:31:04 PM  [INFO    ]  Data encryption/serialization/ transfert to Alice...\n"
     ]
    }
   ],
   "source": [
    "logging.info(\"Data encryption/serialization/ transfert to Alice...\")\n",
    "timer = time.time()\n",
    "\n",
    "plain_X = train_features.to_numpy().tolist()\n",
    "plain_Y = train_labels.to_numpy().reshape((-1,1)).tolist()"
   ]
  },
  {
   "cell_type": "markdown",
   "metadata": {},
   "source": [
    "We first sending to Alice the amouth of data she is supposed to receive, and the number of features in it. \n",
    "\n",
    "The amouth of data is useful for Alice, to initialize variable and know when stop listening for message. Alice also needs the number of features to initialize the weight and bias. \n"
   ]
  },
  {
   "cell_type": "code",
   "execution_count": 13,
   "metadata": {},
   "outputs": [
    {
     "data": {
      "text/plain": [
       "11"
      ]
     },
     "execution_count": 13,
     "metadata": {},
     "output_type": "execute_result"
    }
   ],
   "source": [
    "ALICE.transmission(pk.dumps(train_features.shape))"
   ]
  },
  {
   "cell_type": "markdown",
   "metadata": {},
   "source": [
    "While encrypting the data, we also serialize it, ie convert it in binary, which will be sent to Alice. \n",
    "\n",
    "It is interesting to denote that while being serialize, ckks vector drops its context. If we pickle it in the standart way, by serilaizing every attribute, we will serialize the context (500 Mb) for every vector. So we serialize the context, sent it, serialize the vectors, which drop the context reference during the process. When Alice will deserialize the Bob's encrypted data, she will provide the context which these vectors will use for computations.\n",
    "\n",
    "We want to sent to Alice a easy-to-read object, so we send a dictionary, with explicit keys(id, features, label). The \"id\" is here to allow Alice to shuffle the dataset, during multiprocessing for instance, and still recover the right label/prediction for the right data. \n",
    "\n",
    "We use the pickle module to serialize and deserialize the dict. As the tenseal vector cannot be serialize by pickle for the reasons we evocated few lines ago, we have to first serialize the tenseal object with their own methods, and then ask pickle to serialize a dict containing references to strings, int and binaries."
   ]
  },
  {
   "cell_type": "code",
   "execution_count": 14,
   "metadata": {},
   "outputs": [
    {
     "name": "stdout",
     "output_type": "stream",
     "text": [
      "08/06/2020 02:32:14 PM  [INFO    ]  25 % ...\n",
      "08/06/2020 02:33:20 PM  [INFO    ]  50 % ...\n",
      "08/06/2020 02:34:25 PM  [INFO    ]  75% ...\n",
      "08/06/2020 02:35:31 PM  [INFO    ]  Done. 266.58 seconds\n"
     ]
    },
    {
     "data": {
      "text/plain": [
       "4"
      ]
     },
     "execution_count": 14,
     "metadata": {},
     "output_type": "execute_result"
    }
   ],
   "source": [
    "for i in range(len(plain_X)):\n",
    "    ser_enc_x = ts.ckks_vector(context, plain_X[i]).serialize()\n",
    "    ser_enc_y = ts.ckks_vector(context, plain_Y[i]).serialize()\n",
    "    \n",
    "    data = pk.dumps({'id':i,\n",
    "                     'X':ser_enc_x, \n",
    "                     'label':ser_enc_y\n",
    "                    })\n",
    "    ALICE.transmission(data)\n",
    "    \n",
    "    if i == len(plain_X) // 4:\n",
    "        logging.info(\"25 % ...\")\n",
    "    elif i == len(plain_X) // 2 :\n",
    "        logging.info(\"50 % ...\")\n",
    "    elif i == 3* len(plain_X)//4:\n",
    "        logging.info(\"75% ...\")\n",
    "logging.info(\"Done. \" + str(round(time.time() - timer, 2)) + \" seconds\")\n",
    "ALICE.transmission(b'DONE')"
   ]
  },
  {
   "cell_type": "markdown",
   "metadata": {},
   "source": [
    "# Refreshing the weight\n",
    "\n",
    "At this point Alice has recieved all she needs. Its work can begin. While training its models, Alice will probably need to make more computations than allowed by the safety parameters (here around 8 mutiplications are allowed before running out of scale). So in order to evaluate calculus circuit of arbitrary depth, Alice needs a \"refresh\" function, which reset this dept. To do so, Bob will listening to Alice, and when needed, Alice will sent a vector to Bob. Bob will deseriailize it, decrypt it, re-encrypt it, and after serializition, send it back to Alice. Therefore, Alice will receive a freshly encrypted vector, which she will be able to use. She never saw any secret key nor unencrypted data.\n",
    "\n",
    "When the training is done, Alice annonces to Bob to b'STOP_REFRESH'\n",
    "\n",
    "We can then skip to the next step, the evaluation of the model\n"
   ]
  },
  {
   "cell_type": "code",
   "execution_count": 15,
   "metadata": {},
   "outputs": [
    {
     "name": "stdout",
     "output_type": "stream",
     "text": [
      "08/06/2020 02:36:20 PM  [INFO    ]  Alice says start_fitting\n",
      "08/06/2020 02:36:36 PM  [INFO    ]  refreshing a vector...\n",
      "08/06/2020 02:36:37 PM  [INFO    ]  refreshing a vector...\n",
      "08/06/2020 02:37:32 PM  [INFO    ]  refreshing a vector...\n",
      "08/06/2020 02:37:33 PM  [INFO    ]  refreshing a vector...\n",
      "08/06/2020 02:37:33 PM  [INFO    ]  refreshing a vector...\n",
      "08/06/2020 02:37:34 PM  [INFO    ]  refreshing a vector...\n",
      "08/06/2020 02:39:18 PM  [INFO    ]  refreshing a vector...\n",
      "08/06/2020 02:39:19 PM  [INFO    ]  refreshing a vector...\n",
      "08/06/2020 02:40:14 PM  [INFO    ]  refreshing a vector...\n",
      "08/06/2020 02:40:15 PM  [INFO    ]  refreshing a vector...\n",
      "08/06/2020 02:41:10 PM  [INFO    ]  refreshing a vector...\n",
      "08/06/2020 02:41:11 PM  [INFO    ]  refreshing a vector...\n",
      "08/06/2020 02:42:06 PM  [INFO    ]  refreshing a vector...\n",
      "08/06/2020 02:42:07 PM  [INFO    ]  refreshing a vector...\n",
      "08/06/2020 02:43:02 PM  [INFO    ]  refreshing a vector...\n",
      "08/06/2020 02:43:03 PM  [INFO    ]  refreshing a vector...\n",
      "08/06/2020 02:43:03 PM  [INFO    ]  refreshing a vector...\n",
      "08/06/2020 02:43:04 PM  [INFO    ]  refreshing a vector...\n",
      "08/06/2020 02:44:49 PM  [INFO    ]  refreshing a vector...\n",
      "08/06/2020 02:44:49 PM  [INFO    ]  refreshing a vector...\n",
      "08/06/2020 02:45:45 PM  [INFO    ]  refreshing a vector...\n",
      "08/06/2020 02:45:45 PM  [INFO    ]  refreshing a vector...\n",
      "08/06/2020 02:46:41 PM  [INFO    ]  refreshing a vector...\n",
      "08/06/2020 02:46:41 PM  [INFO    ]  refreshing a vector...\n",
      "08/06/2020 02:47:37 PM  [INFO    ]  refreshing a vector...\n",
      "08/06/2020 02:47:37 PM  [INFO    ]  refreshing a vector...\n",
      "08/06/2020 02:48:33 PM  [INFO    ]  refreshing a vector...\n",
      "08/06/2020 02:48:33 PM  [INFO    ]  refreshing a vector...\n",
      "08/06/2020 02:48:33 PM  [INFO    ]  refreshing a vector...\n",
      "08/06/2020 02:48:34 PM  [INFO    ]  refreshing a vector...\n",
      "08/06/2020 02:50:19 PM  [INFO    ]  refreshing a vector...\n",
      "08/06/2020 02:50:20 PM  [INFO    ]  refreshing a vector...\n",
      "08/06/2020 02:51:15 PM  [INFO    ]  refreshing a vector...\n",
      "08/06/2020 02:51:16 PM  [INFO    ]  refreshing a vector...\n",
      "08/06/2020 02:52:11 PM  [INFO    ]  refreshing a vector...\n",
      "08/06/2020 02:52:11 PM  [INFO    ]  refreshing a vector...\n",
      "08/06/2020 02:53:07 PM  [INFO    ]  refreshing a vector...\n",
      "08/06/2020 02:53:07 PM  [INFO    ]  refreshing a vector...\n",
      "08/06/2020 02:54:03 PM  [INFO    ]  refreshing a vector...\n",
      "08/06/2020 02:54:03 PM  [INFO    ]  refreshing a vector...\n",
      "08/06/2020 02:54:04 PM  [INFO    ]  refreshing a vector...\n",
      "08/06/2020 02:54:04 PM  [INFO    ]  refreshing a vector...\n",
      "08/06/2020 02:55:49 PM  [INFO    ]  refreshing a vector...\n",
      "08/06/2020 02:55:50 PM  [INFO    ]  refreshing a vector...\n",
      "08/06/2020 02:56:45 PM  [INFO    ]  refreshing a vector...\n",
      "08/06/2020 02:56:46 PM  [INFO    ]  refreshing a vector...\n",
      "08/06/2020 02:57:41 PM  [INFO    ]  refreshing a vector...\n",
      "08/06/2020 02:57:41 PM  [INFO    ]  refreshing a vector...\n",
      "08/06/2020 02:58:37 PM  [INFO    ]  refreshing a vector...\n",
      "08/06/2020 02:58:37 PM  [INFO    ]  refreshing a vector...\n",
      "08/06/2020 02:59:33 PM  [INFO    ]  refreshing a vector...\n",
      "08/06/2020 02:59:34 PM  [INFO    ]  refreshing a vector...\n",
      "08/06/2020 02:59:34 PM  [INFO    ]  refreshing a vector...\n",
      "08/06/2020 02:59:35 PM  [INFO    ]  refreshing a vector...\n",
      "08/06/2020 03:01:20 PM  [INFO    ]  refreshing a vector...\n",
      "08/06/2020 03:01:20 PM  [INFO    ]  refreshing a vector...\n",
      "08/06/2020 03:02:16 PM  [INFO    ]  refreshing a vector...\n",
      "08/06/2020 03:02:16 PM  [INFO    ]  refreshing a vector...\n",
      "08/06/2020 03:03:12 PM  [INFO    ]  refreshing a vector...\n",
      "08/06/2020 03:03:12 PM  [INFO    ]  refreshing a vector...\n",
      "08/06/2020 03:04:08 PM  [INFO    ]  refreshing a vector...\n",
      "08/06/2020 03:04:08 PM  [INFO    ]  refreshing a vector...\n",
      "08/06/2020 03:05:04 PM  [INFO    ]  refreshing a vector...\n",
      "08/06/2020 03:05:04 PM  [INFO    ]  refreshing a vector...\n",
      "08/06/2020 03:05:05 PM  [INFO    ]  refreshing a vector...\n",
      "08/06/2020 03:05:05 PM  [INFO    ]  refreshing a vector...\n",
      "08/06/2020 03:06:50 PM  [INFO    ]  refreshing a vector...\n",
      "08/06/2020 03:06:51 PM  [INFO    ]  refreshing a vector...\n",
      "08/06/2020 03:07:46 PM  [INFO    ]  refreshing a vector...\n",
      "08/06/2020 03:07:47 PM  [INFO    ]  refreshing a vector...\n",
      "08/06/2020 03:08:42 PM  [INFO    ]  refreshing a vector...\n",
      "08/06/2020 03:08:43 PM  [INFO    ]  refreshing a vector...\n",
      "08/06/2020 03:09:38 PM  [INFO    ]  refreshing a vector...\n",
      "08/06/2020 03:09:38 PM  [INFO    ]  refreshing a vector...\n",
      "08/06/2020 03:10:34 PM  [INFO    ]  refreshing a vector...\n",
      "08/06/2020 03:10:34 PM  [INFO    ]  refreshing a vector...\n",
      "08/06/2020 03:10:35 PM  [INFO    ]  refreshing a vector...\n",
      "08/06/2020 03:10:35 PM  [INFO    ]  refreshing a vector...\n",
      "08/06/2020 03:12:20 PM  [INFO    ]  refreshing a vector...\n",
      "08/06/2020 03:12:21 PM  [INFO    ]  refreshing a vector...\n",
      "08/06/2020 03:13:16 PM  [INFO    ]  refreshing a vector...\n",
      "08/06/2020 03:13:17 PM  [INFO    ]  refreshing a vector...\n",
      "08/06/2020 03:14:12 PM  [INFO    ]  refreshing a vector...\n",
      "08/06/2020 03:14:13 PM  [INFO    ]  refreshing a vector...\n",
      "08/06/2020 03:15:08 PM  [INFO    ]  refreshing a vector...\n",
      "08/06/2020 03:15:09 PM  [INFO    ]  refreshing a vector...\n",
      "08/06/2020 03:16:04 PM  [INFO    ]  refreshing a vector...\n",
      "08/06/2020 03:16:05 PM  [INFO    ]  refreshing a vector...\n",
      "08/06/2020 03:16:05 PM  [INFO    ]  refreshing a vector...\n",
      "08/06/2020 03:16:05 PM  [INFO    ]  refreshing a vector...\n",
      "08/06/2020 03:17:50 PM  [INFO    ]  refreshing a vector...\n",
      "08/06/2020 03:17:51 PM  [INFO    ]  refreshing a vector...\n",
      "08/06/2020 03:18:46 PM  [INFO    ]  refreshing a vector...\n",
      "08/06/2020 03:18:47 PM  [INFO    ]  refreshing a vector...\n",
      "08/06/2020 03:19:43 PM  [INFO    ]  refreshing a vector...\n",
      "08/06/2020 03:19:43 PM  [INFO    ]  refreshing a vector...\n",
      "08/06/2020 03:20:39 PM  [INFO    ]  refreshing a vector...\n",
      "08/06/2020 03:20:39 PM  [INFO    ]  refreshing a vector...\n",
      "08/06/2020 03:21:34 PM  [INFO    ]  refreshing a vector...\n",
      "08/06/2020 03:21:35 PM  [INFO    ]  refreshing a vector...\n",
      "08/06/2020 03:21:35 PM  [INFO    ]  refreshing a vector...\n",
      "08/06/2020 03:21:36 PM  [INFO    ]  refreshing a vector...\n",
      "08/06/2020 03:23:21 PM  [INFO    ]  refreshing a vector...\n",
      "08/06/2020 03:23:21 PM  [INFO    ]  refreshing a vector...\n",
      "08/06/2020 03:24:17 PM  [INFO    ]  refreshing a vector...\n",
      "08/06/2020 03:24:17 PM  [INFO    ]  refreshing a vector...\n",
      "08/06/2020 03:25:13 PM  [INFO    ]  refreshing a vector...\n",
      "08/06/2020 03:25:13 PM  [INFO    ]  refreshing a vector...\n",
      "08/06/2020 03:26:09 PM  [INFO    ]  refreshing a vector...\n",
      "08/06/2020 03:26:09 PM  [INFO    ]  refreshing a vector...\n",
      "08/06/2020 03:27:05 PM  [INFO    ]  refreshing a vector...\n",
      "08/06/2020 03:27:05 PM  [INFO    ]  refreshing a vector...\n",
      "08/06/2020 03:27:06 PM  [INFO    ]  refreshing a vector...\n",
      "08/06/2020 03:27:06 PM  [INFO    ]  refreshing a vector...\n",
      "08/06/2020 03:28:51 PM  [INFO    ]  refreshing a vector...\n",
      "08/06/2020 03:28:51 PM  [INFO    ]  refreshing a vector...\n",
      "08/06/2020 03:29:47 PM  [INFO    ]  refreshing a vector...\n",
      "08/06/2020 03:29:47 PM  [INFO    ]  refreshing a vector...\n",
      "08/06/2020 03:30:43 PM  [INFO    ]  refreshing a vector...\n",
      "08/06/2020 03:30:43 PM  [INFO    ]  refreshing a vector...\n",
      "08/06/2020 03:31:39 PM  [INFO    ]  refreshing a vector...\n",
      "08/06/2020 03:31:39 PM  [INFO    ]  refreshing a vector...\n"
     ]
    }
   ],
   "source": [
    "logging.info(\"Alice says \"+str(ALICE.reception().decode()))\n",
    "while True:\n",
    "    b_data = ALICE.reception()\n",
    "    if b_data == b'STOP_REFRESH': break\n",
    "    logging.info(\"refreshing a vector...\")\n",
    "    vector = ts.ckks_vector_from(context, b_data)\n",
    "    decrypted_vector = vector.decrypt(secret_key)\n",
    "    refreshed_vector = ts.ckks_vector(context, decrypted_vector)\n",
    "    ALICE.transmission(refreshed_vector.serialize())"
   ]
  },
  {
   "cell_type": "markdown",
   "metadata": {},
   "source": [
    "### Getting the loss back\n",
    "\n",
    "During the training, Alice computed loss. Nevertheless, the loss values are encrypted so she cannot use it at all, so she sent it to Bob for plotting.\n",
    "\n",
    "Here there is a potential security leack. The loss graphic cannot be sent to Alice, otherwise Alice will have access to a kind of decrypt method. If Alice decide to sent not the loss, but a fake loss constitued with some interesting values (encrypted) to Bob, and Bob send the decrypted fake loss to Alice, Alice will have acess to these sensitive values. \n",
    "\n",
    "So even a normalize figure cannot be sent to Alice. Bob will be the only one who can look at the loss (Maybe not ht eonly one, but he cannot sent it back to ALice)"
   ]
  },
  {
   "cell_type": "code",
   "execution_count": 16,
   "metadata": {},
   "outputs": [],
   "source": [
    "epoch, enc_loss = pk.loads(ALICE.reception())\n",
    "loss = [ts.ckks_vector_from(context,l).decrypt(secret_key)[0] for l in enc_loss]"
   ]
  },
  {
   "cell_type": "markdown",
   "metadata": {},
   "source": [
    "### Use Alice to make prediction\n",
    "\n",
    "As Bob was previously continuously listening for vector to refresh, now Alice is listening to Bob, waiting for data to do inference on it. So Bob will use Alice's model to make predictions over a test set, and after getting a good evaluation of Alice's model, he will sent fresh data, to get predictions.\n",
    "\n",
    "It is important to denote that, even if we spoke only of predictions, Alice does not really sent predictions, but probability. The output of Alice model corresponds to the probability of being in the class 1. Bob can round the decrypted result to get the label prediction (0 if the probability is above 0.5, and 1 if it is higher). One can choose to use a threshold differente from 0.5, for instance if less risk on the prediction of one class is needed. This choice has to be made by Bob, as Alice cannot do comparison between ciphertext. "
   ]
  },
  {
   "cell_type": "code",
   "execution_count": 17,
   "metadata": {},
   "outputs": [
    {
     "name": "stdout",
     "output_type": "stream",
     "text": [
      "08/06/2020 03:31:40 PM  [INFO    ]  Data encryption/serialization/ transfert to Alice...\n"
     ]
    }
   ],
   "source": [
    "logging.info(\"Test data encryption/serialization/ transfert to Alice...\")\n",
    "timer = time.time()\n",
    "\n",
    "plain_test_X = test_features.to_numpy().tolist()\n",
    "proba_predictions = [None for _ in range(len(plain_test_X))]"
   ]
  },
  {
   "cell_type": "code",
   "execution_count": 18,
   "metadata": {},
   "outputs": [
    {
     "name": "stdout",
     "output_type": "stream",
     "text": [
      "08/06/2020 03:31:40 PM  [INFO    ]  Asking Alice for prediction\n",
      "08/06/2020 03:32:47 PM  [INFO    ]  Done. 67.47 seconds\n"
     ]
    }
   ],
   "source": [
    "logging.info(\"Asking Alice for prediction\")\n",
    "timer = time.time()\n",
    "for i in range(len(plain_test_X)):\n",
    "    ser_enc_x = ts.ckks_vector(context, plain_test_X[i]).serialize()\n",
    "    data = pk.dumps([i,ser_enc_x])\n",
    "    ALICE.transmission(data)\n",
    "    key, enc_ser_pred = pk.loads(ALICE.reception())\n",
    "    proba_predictions[key] = ts.ckks_vector_from(context, enc_ser_pred).decrypt(secret_key)\n",
    "    if i == len(plain_X) // 4:\n",
    "        logging.info(\"25 % ...\")\n",
    "    elif i == len(plain_X) // 2 :\n",
    "        logging.info(\"50 % ...\")\n",
    "    elif i == 3* len(plain_X)//4:\n",
    "        logging.info(\"75% ...\")\n",
    "logging.info(\"Done. \" + str(round(time.time() - timer, 2)) + \" seconds\")\n",
    "assert not (None in proba_predictions), 'Missing predictions'"
   ]
  },
  {
   "cell_type": "markdown",
   "metadata": {},
   "source": [
    "# Evaluation of the model\n",
    "\n",
    "Once Bob got predictions on test set and loss, he can evaluate some metrics on Alice's model"
   ]
  },
  {
   "cell_type": "markdown",
   "metadata": {},
   "source": [
    "## Loss"
   ]
  },
  {
   "cell_type": "code",
   "execution_count": 19,
   "metadata": {},
   "outputs": [
    {
     "data": {
      "text/plain": [
       "Text(0.5, 1.0, 'Loss evolution over epochs')"
      ]
     },
     "execution_count": 19,
     "metadata": {},
     "output_type": "execute_result"
    },
    {
     "data": {
      "image/png": "[encoded data removed]",
      "text/plain": [
       "<Figure size 432x288 with 1 Axes>"
      ]
     },
     "metadata": {
      "needs_background": "light"
     },
     "output_type": "display_data"
    }
   ],
   "source": [
    "plt.plot(epoch,\n",
    "         loss)\n",
    "plt.xlabel('Epoch')\n",
    "plt.ylabel('Loss')\n",
    "plt.title('Loss evolution over epochs')"
   ]
  },
  {
   "cell_type": "markdown",
   "metadata": {},
   "source": [
    "### Metrics"
   ]
  },
  {
   "cell_type": "code",
   "execution_count": 20,
   "metadata": {},
   "outputs": [
    {
     "name": "stdout",
     "output_type": "stream",
     "text": [
      "08/06/2020 03:32:47 PM  [INFO    ]  Precision score of encrypted model on test set: 0.7333333333333333 \n",
      "08/06/2020 03:32:47 PM  [INFO    ]  Recall score  of encrypted model on test set : 0.6470588235294118 \n",
      "08/06/2020 03:32:47 PM  [INFO    ]  F1 score of encrypted model on test set: 0.6875 \n",
      "08/06/2020 03:32:47 PM  [INFO    ]  Accuracy of encrypted model on train set : 0.7938144329896907 \n"
     ]
    },
    {
     "data": {
      "text/plain": [
       "<AxesSubplot:>"
      ]
     },
     "execution_count": 20,
     "metadata": {},
     "output_type": "execute_result"
    },
    {
     "data": {
      "image/png": "[encoded data removed]",
      "text/plain": [
       "<Figure size 432x288 with 2 Axes>"
      ]
     },
     "metadata": {
      "needs_background": "light"
     },
     "output_type": "display_data"
    }
   ],
   "source": [
    "prediction = 1*(np.array(proba_predictions) > 0.5)\n",
    "recall = recall_score(test_labels,prediction)\n",
    "F1 = f1_score(test_labels, prediction)\n",
    "precision = precision_score(test_labels, prediction)\n",
    "cf_m=confusion_matrix(test_labels, prediction ) \n",
    "accuracy = accuracy_score(test_labels, prediction)\n",
    "\n",
    "logging.info(\"Precision score of encrypted model on test set: %s \" % precision)\n",
    "logging.info(\"Recall score  of encrypted model on test set : %s \" % recall)\n",
    "logging.info(\"F1 score of encrypted model on test set: %s \" % F1)\n",
    "logging.info(\"Accuracy of encrypted model on test set : %s \" % accuracy)\n",
    "sns.heatmap(cf_m, annot=True)"
   ]
  },
  {
   "cell_type": "markdown",
   "metadata": {},
   "source": [
    "Here Bob can be satisfied, the model has a quite good accuracy, even if the F1 score is not that high. Nevertheless, these metrics satisfied Bob, so he decides to use Alice's model to do some real/useful predictions. \n",
    "\n",
    "For that, he has a data set, with unlabelled data. Alice is still listening for data to predict on. So like before, Bob sent the encrypted unlabelled data. "
   ]
  },
  {
   "cell_type": "code",
   "execution_count": 24,
   "metadata": {},
   "outputs": [
    {
     "name": "stdout",
     "output_type": "stream",
     "text": [
      "08/06/2020 03:45:55 PM  [INFO    ]  New data encryption/serialization/ transfert to Alice for prediction...\n"
     ]
    }
   ],
   "source": [
    "logging.info(\"New data encryption/serialization/ transfert to Alice for prediction...\")\n",
    "timer = time.time()\n",
    "\n",
    "plain_test_X = submission_test.to_numpy().tolist()\n",
    "proba_predictions = [None for _ in range(len(plain_test_X))]"
   ]
  },
  {
   "cell_type": "code",
   "execution_count": 25,
   "metadata": {},
   "outputs": [
    {
     "name": "stdout",
     "output_type": "stream",
     "text": [
      "08/06/2020 03:45:57 PM  [INFO    ]  Asking Alice for prediction on the new data\n",
      "08/06/2020 03:47:32 PM  [INFO    ]  25 % ...\n",
      "08/06/2020 03:49:07 PM  [INFO    ]  50 % ...\n",
      "08/06/2020 03:50:42 PM  [INFO    ]  75% ...\n",
      "08/06/2020 03:50:48 PM  [INFO    ]  Done. 290.9 seconds\n"
     ]
    }
   ],
   "source": [
    "logging.info(\"Asking Alice for prediction on the new data\")\n",
    "timer = time.time()\n",
    "for i in range(len(plain_test_X)):\n",
    "    ser_enc_x = ts.ckks_vector(context, plain_test_X[i]).serialize()\n",
    "    data = pk.dumps([i,ser_enc_x])\n",
    "    ALICE.transmission(data)\n",
    "    key, enc_ser_pred = pk.loads(ALICE.reception())\n",
    "    proba_predictions[key] = ts.ckks_vector_from(context, enc_ser_pred).decrypt(secret_key)\n",
    "    if i == len(plain_X) // 4:\n",
    "        logging.info(\"25 % ...\")\n",
    "    elif i == len(plain_X) // 2 :\n",
    "        logging.info(\"50 % ...\")\n",
    "    elif i == 3* len(plain_X)//4:\n",
    "        logging.info(\"75% ...\")\n",
    "logging.info(\"Done. \" + str(round(time.time() - timer, 2)) + \" seconds\")\n",
    "assert not (None in proba_predictions), 'Missing predictions'"
   ]
  },
  {
   "cell_type": "markdown",
   "metadata": {},
   "source": [
    "Now Bob has all the predictions he needed, so he informs Alice that he no longer requiere her prediction."
   ]
  },
  {
   "cell_type": "code",
   "execution_count": 28,
   "metadata": {},
   "outputs": [],
   "source": [
    "ALICE.transmission(b'STOP_PREDICT')\n",
    "ALICE.close()"
   ]
  },
  {
   "cell_type": "raw",
   "metadata": {},
   "source": [
    "Bob can now decrypt the result, and export a good looking dataframe. "
   ]
  },
  {
   "cell_type": "code",
   "execution_count": 1,
   "metadata": {},
   "outputs": [
    {
     "ename": "NameError",
     "evalue": "name 'np' is not defined",
     "output_type": "error",
     "traceback": [
      "\u001b[0;31m---------------------------------------------------------------------------\u001b[0m",
      "\u001b[0;31mNameError\u001b[0m                                 Traceback (most recent call last)",
      "\u001b[0;32m<ipython-input-1-d7d890de2fd2>\u001b[0m in \u001b[0;36m<module>\u001b[0;34m\u001b[0m\n\u001b[0;32m----> 1\u001b[0;31m \u001b[0msubmission_pred\u001b[0m \u001b[0;34m=\u001b[0m \u001b[0;36m1\u001b[0m\u001b[0;34m*\u001b[0m\u001b[0;34m(\u001b[0m\u001b[0mnp\u001b[0m\u001b[0;34m.\u001b[0m\u001b[0marray\u001b[0m\u001b[0;34m(\u001b[0m\u001b[0mproba_predictions\u001b[0m\u001b[0;34m)\u001b[0m \u001b[0;34m>\u001b[0m \u001b[0;36m0.5\u001b[0m\u001b[0;34m)\u001b[0m\u001b[0;34m\u001b[0m\u001b[0;34m\u001b[0m\u001b[0m\n\u001b[0m\u001b[1;32m      2\u001b[0m submission_df = pd.DataFrame({\n\u001b[1;32m      3\u001b[0m         \u001b[0;34m\"PassengerId\"\u001b[0m\u001b[0;34m:\u001b[0m \u001b[0mraw_test\u001b[0m\u001b[0;34m[\u001b[0m\u001b[0;34m\"PassengerId\"\u001b[0m\u001b[0;34m]\u001b[0m\u001b[0;34m,\u001b[0m\u001b[0;34m\u001b[0m\u001b[0;34m\u001b[0m\u001b[0m\n\u001b[1;32m      4\u001b[0m         \u001b[0;34m\"Survived\"\u001b[0m\u001b[0;34m:\u001b[0m \u001b[0msubmission_pred\u001b[0m\u001b[0;34m.\u001b[0m\u001b[0mreshape\u001b[0m\u001b[0;34m(\u001b[0m\u001b[0;34m-\u001b[0m\u001b[0;36m1\u001b[0m\u001b[0;34m)\u001b[0m\u001b[0;34m\u001b[0m\u001b[0;34m\u001b[0m\u001b[0m\n\u001b[1;32m      5\u001b[0m     })\n",
      "\u001b[0;31mNameError\u001b[0m: name 'np' is not defined"
     ]
    }
   ],
   "source": [
    "submission_pred = 1*(np.array(proba_predictions) > 0.5)\n",
    "submission_df = pd.DataFrame({\n",
    "        \"PassengerId\": raw_test[\"PassengerId\"],\n",
    "        \"Survived\": submission_pred.reshape(-1)\n",
    "    })\n",
    "submission_df.head()"
   ]
  },
  {
   "cell_type": "code",
   "execution_count": 17,
   "metadata": {},
   "outputs": [],
   "source": [
    "submission_df.to_csv(SUBMISSION_PATH+'first_sub_alice_bob2.csv', index=False)"
   ]
  }
 ],
 "metadata": {
  "kernelspec": {
   "display_name": "Python 3",
   "language": "python",
   "name": "python3"
  },
  "language_info": {
   "codemirror_mode": {
    "name": "ipython",
    "version": 3
   },
   "file_extension": ".py",
   "mimetype": "text/x-python",
   "name": "python",
   "nbconvert_exporter": "python",
   "pygments_lexer": "ipython3",
   "version": "3.7.6"
  }
 },
 "nbformat": 4,
 "nbformat_minor": 4
}
