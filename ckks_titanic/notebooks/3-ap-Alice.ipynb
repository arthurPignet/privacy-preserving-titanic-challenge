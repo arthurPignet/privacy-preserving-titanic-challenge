{
 "cells": [
  {
   "cell_type": "code",
   "execution_count": 2,
   "metadata": {},
   "outputs": [],
   "source": [
    "import logging\n",
    "import os\n",
    "import socket\n",
    "import sys\n",
    "import time\n",
    "\n",
    "import numpy as np\n",
    "import pickle as pk\n",
    "import tenseal as ts\n",
    "\n",
    "from sklearn.model_selection import train_test_split\n",
    "from sklearn.linear_model import LogisticRegression\n",
    "from sklearn.metrics import confusion_matrix, f1_score, recall_score, precision_score, accuracy_score\n",
    "                           \n",
    "os.chdir(\"/home/apignet/homomorphic-encryption/ckks_titanic/\")\n",
    "from src.features import build_features\n",
    "from models import Alice_LR\n",
    "from models.Actors import *"
   ]
  },
  {
   "cell_type": "code",
   "execution_count": 2,
   "metadata": {},
   "outputs": [],
   "source": [
    "%load_ext memory_profiler"
   ]
  },
  {
   "cell_type": "code",
   "execution_count": 3,
   "metadata": {},
   "outputs": [
    {
     "data": {
      "text/plain": [
       "1"
      ]
     },
     "execution_count": 3,
     "metadata": {},
     "output_type": "execute_result"
    }
   ],
   "source": [
    "import matplotlib.pyplot as plt\n",
    "import seaborn as sns\n",
    "%matplotlib inline\n",
    "1"
   ]
  },
  {
   "cell_type": "markdown",
   "metadata": {},
   "source": [
    "# definition of parameters"
   ]
  },
  {
   "cell_type": "markdown",
   "metadata": {},
   "source": [
    "### Paths"
   ]
  },
  {
   "cell_type": "code",
   "execution_count": 4,
   "metadata": {},
   "outputs": [],
   "source": [
    "WORKING_DIR = os.getcwd()\n",
    "\n",
    "LOG_PATH = WORKING_DIR+\"/reports/log/\"\n",
    "LOG_FILENAME = \"Alice\""
   ]
  },
  {
   "cell_type": "markdown",
   "metadata": {},
   "source": [
    "### Paths"
   ]
  },
  {
   "cell_type": "code",
   "execution_count": 5,
   "metadata": {},
   "outputs": [],
   "source": [
    "fileHandler = logging.FileHandler(\"{0}/{1}.log\".format(LOG_PATH, LOG_FILENAME))\n",
    "streamHandler = logging.StreamHandler(sys.stdout)\n",
    "logging.basicConfig(format=\"%(asctime)s  [%(levelname)-8.8s]  %(message)s\", \n",
    "                    datefmt='%m/%d/%Y %I:%M:%S %p', \n",
    "                    level = logging.INFO, \n",
    "                    handlers=[fileHandler, streamHandler]\n",
    "                   )"
   ]
  },
  {
   "cell_type": "markdown",
   "metadata": {},
   "source": [
    "### Training variables"
   ]
  },
  {
   "cell_type": "code",
   "execution_count": 6,
   "metadata": {},
   "outputs": [],
   "source": [
    "EPOCH = 40\n",
    "LEARNING_RATE = 0.9\n",
    "MOMENTUM_RATE = 0.6\n",
    "REGULARIZATION_RATE = 0.5\n",
    "VERBOSE = 4\n",
    "SAVE_WEIGHT = 4\n",
    "N_JOBS = 8"
   ]
  },
  {
   "cell_type": "markdown",
   "metadata": {},
   "source": [
    "### Socket Variables"
   ]
  },
  {
   "cell_type": "code",
   "execution_count": 20,
   "metadata": {},
   "outputs": [],
   "source": [
    "HOST = '127.0.0.1'  # The server's hostname or IP address\n",
    "PORT = 65431        # The port used by the server\n",
    "PACKETS_SIZE = 16384\n",
    "SENTINEL = b'BREAK'"
   ]
  },
  {
   "cell_type": "markdown",
   "metadata": {},
   "source": [
    "# Esthablishing the communication with Bob\n"
   ]
  },
  {
   "cell_type": "code",
   "execution_count": 21,
   "metadata": {},
   "outputs": [
    {
     "name": "stdout",
     "output_type": "stream",
     "text": [
      "08/06/2020 03:45:34 PM  [INFO    ]  b'Connection accepted'\n"
     ]
    }
   ],
   "source": [
    "BOB = Actor(HOST, PORT, PACKETS_SIZE, SENTINEL)"
   ]
  },
  {
   "cell_type": "markdown",
   "metadata": {},
   "source": [
    "## Receiving the public context"
   ]
  },
  {
   "cell_type": "code",
   "execution_count": 9,
   "metadata": {},
   "outputs": [
    {
     "name": "stdout",
     "output_type": "stream",
     "text": [
      "08/06/2020 02:31:03 PM  [INFO    ]  Waiting for serialized context\n",
      "08/06/2020 02:31:04 PM  [INFO    ]  Context received. Starting deserialization.\n",
      "08/06/2020 02:31:08 PM  [INFO    ]  Context successfully deserialized\n"
     ]
    }
   ],
   "source": [
    "logging.info('Waiting for serialized context')\n",
    "\n",
    "b_context = BOB.reception()\n",
    "logging.info('Context received. Starting deserialization.')\n",
    "context = ts.context_from(b_context)\n",
    "logging.info('Context successfully deserialized')"
   ]
  },
  {
   "cell_type": "markdown",
   "metadata": {},
   "source": [
    "## Receiving serialized data"
   ]
  },
  {
   "cell_type": "code",
   "execution_count": 10,
   "metadata": {},
   "outputs": [],
   "source": [
    "len_X, nb_features = pk.loads(BOB.reception())\n",
    "b_Y = [None for _ in range(len_X)]\n",
    "b_X = [None for _ in range(len_X)]"
   ]
  },
  {
   "cell_type": "code",
   "execution_count": 11,
   "metadata": {},
   "outputs": [
    {
     "name": "stdout",
     "output_type": "stream",
     "text": [
      "08/06/2020 02:32:14 PM  [INFO    ]  25 % ...\n",
      "08/06/2020 02:33:20 PM  [INFO    ]  50 % ...\n",
      "08/06/2020 02:34:25 PM  [INFO    ]  75% ...\n"
     ]
    }
   ],
   "source": [
    "while True:\n",
    "    b_data = BOB.reception()\n",
    "    if b_data==b'DONE': break\n",
    "    data = pk.loads(b_data)\n",
    "    b_X[data[0]]=data[1]\n",
    "    b_Y[data[0]]=data[2]\n",
    "    \n",
    "    if data[0] == len(b_X) // 4:\n",
    "        logging.info(\"25 % ...\")\n",
    "    elif data[0] == len(b_X) // 2 :\n",
    "        logging.info(\"50 % ...\")\n",
    "    elif data[0] == 3* len(b_X)//4:\n",
    "        logging.info(\"75% ...\")\n",
    "    \n",
    "assert not (None in b_X), 'Missing value: ' + str([idx for idx,e in enumerate(b_X) if e is None])"
   ]
  },
  {
   "cell_type": "markdown",
   "metadata": {},
   "source": [
    "# Initialize the weight\n",
    "\n",
    "The weights have to be crypted "
   ]
  },
  {
   "cell_type": "code",
   "execution_count": 12,
   "metadata": {},
   "outputs": [
    {
     "name": "stdout",
     "output_type": "stream",
     "text": [
      "08/06/2020 02:35:31 PM  [INFO    ]  [ 0.14119233  0.13322082  0.10677418  0.14946615 -0.17499522  0.11817762\n",
      " -0.09094475  0.05006976  0.1208017  -0.05478917  0.06556012 -0.05331097\n",
      " -0.04307331  0.12412614 -0.42812706  0.12723906  0.00043748 -0.06539209\n",
      " -0.20330532 -0.29728731  0.10161476 -0.3024797   0.07153177  0.26603781\n",
      " -0.17171421 -0.03019694  0.00290262  0.03083542  0.05290126 -0.01780719\n",
      " -0.2148345  -0.23494342]\n",
      "08/06/2020 02:35:31 PM  [INFO    ]  [-0.24488505 -0.40020771  0.26734085  0.06336104 -0.01561979 -0.19677161\n",
      "  0.29498591 -0.00980197  0.04640455 -0.09566694 -0.12725217  0.3803441\n",
      " -0.31543093 -0.10960499 -0.05537333 -0.30819449  0.00613294  0.068314\n",
      "  0.13851433  0.15245565 -0.16241355  0.28786917 -0.14767324 -0.39154034\n",
      " -0.30012324 -0.60976281  0.01604236 -0.12119899  0.04235395  0.12985458\n",
      "  0.03750433  0.20356318]\n",
      "peak memory: 2835.16 MiB, increment: 0.98 MiB\n"
     ]
    }
   ],
   "source": [
    "%%memit\n",
    "unencrypted_weight = np.random.normal(loc=0,\n",
    "                                      scale=0.2, size =(nb_features))\n",
    "logging.info(unencrypted_weight)\n",
    "weight = ts.ckks_vector(context, unencrypted_weight.tolist())\n",
    "unencrypted_bias = np.random.random((1))\n",
    "bias = ts.ckks_vector(context, unencrypted_bias.tolist())"
   ]
  },
  {
   "cell_type": "markdown",
   "metadata": {},
   "source": [
    "# Training the crypted models"
   ]
  },
  {
   "cell_type": "markdown",
   "metadata": {},
   "source": [
    "### Initialization of the model..."
   ]
  },
  {
   "cell_type": "code",
   "execution_count": 13,
   "metadata": {},
   "outputs": [
    {
     "name": "stdout",
     "output_type": "stream",
     "text": [
      "08/06/2020 02:35:31 PM  [INFO    ]  Model initialization\n"
     ]
    }
   ],
   "source": [
    "logging.info(\"Model initialization\")\n",
    "model = encrypted_LR.LogisticRegressionHE(init_weight=weight,\n",
    "                                          init_bias=bias,\n",
    "                                          bob=BOB,\n",
    "                                          context=context,\n",
    "                                          verbose=VERBOSE,\n",
    "                                          save_weight=SAVE_WEIGHT,\n",
    "                                          max_epoch=EPOCH,\n",
    "                                          learning_rate=LEARNING_RATE,\n",
    "                                          momentum_rate=MOMENTUM_RATE,\n",
    "                                          reg_para=REGULARIZATION_RATE,\n",
    "                                          n_jobs = N_JOBS)"
   ]
  },
  {
   "cell_type": "markdown",
   "metadata": {},
   "source": [
    "### Warn Bob that Alice is starting the training\n",
    "Indeed Alice needs Bob to be ready to refresh the weights"
   ]
  },
  {
   "cell_type": "code",
   "execution_count": 14,
   "metadata": {},
   "outputs": [
    {
     "data": {
      "text/plain": [
       "13"
      ]
     },
     "execution_count": 14,
     "metadata": {},
     "output_type": "execute_result"
    }
   ],
   "source": [
    "BOB.transmission(b'start_fitting')"
   ]
  },
  {
   "cell_type": "code",
   "execution_count": 15,
   "metadata": {},
   "outputs": [
    {
     "name": "stdout",
     "output_type": "stream",
     "text": [
      "08/06/2020 02:36:20 PM  [INFO    ]  Training starting\n",
      "08/06/2020 02:36:20 PM  [INFO    ]  Data already serialized\n",
      "08/06/2020 02:36:20 PM  [INFO    ]  Deserialization of the label for the future computations of the loss\n",
      "08/06/2020 02:36:26 PM  [INFO    ]  Initialization of 8 workers\n",
      "08/06/2020 02:36:34 PM  [INFO    ]  Initialization done for process Process-3. Len of data : 69\n",
      "08/06/2020 02:36:34 PM  [INFO    ]  Initialization done for process Process-4. Len of data : 69\n",
      "08/06/2020 02:36:35 PM  [INFO    ]  Initialization done for process Process-7. Len of data : 68\n",
      "08/06/2020 02:36:35 PM  [INFO    ]  Initialization done for process Process-5. Len of data : 68\n",
      "08/06/2020 02:36:35 PM  [INFO    ]  Initialization done for process Process-6. Len of data : 68\n",
      "08/06/2020 02:36:35 PM  [INFO    ]  Initialization done for process Process-8. Len of data : 68\n",
      "08/06/2020 02:36:36 PM  [INFO    ]  Initialization done for process Process-9. Len of data : 68\n",
      "08/06/2020 02:36:36 PM  [INFO    ]  Initialization done for process Process-10. Len of data : 68\n",
      "08/06/2020 02:36:36 PM  [INFO    ]  Initialization done in 9.959195137023926 seconds\n",
      "08/06/2020 02:37:32 PM  [INFO    ]  Just finished iteration number 0 in  56.50121092796326 seconds. \n",
      "08/06/2020 02:39:18 PM  [INFO    ]  Starting computation of the loss ...\n",
      "08/06/2020 02:39:18 PM  [INFO    ]  Loss : <_tenseal_cpp.CKKSVector object at 0x7fe2169a7180>.\n",
      "08/06/2020 02:40:14 PM  [INFO    ]  Just finished iteration number 1 in  56.22637748718262 seconds. \n",
      "08/06/2020 02:41:10 PM  [INFO    ]  Just finished iteration number 2 in  55.933380365371704 seconds. \n",
      "08/06/2020 02:42:06 PM  [INFO    ]  Just finished iteration number 3 in  55.961458683013916 seconds. \n",
      "08/06/2020 02:43:02 PM  [INFO    ]  Just finished iteration number 4 in  56.01650667190552 seconds. \n",
      "08/06/2020 02:44:48 PM  [INFO    ]  Starting computation of the loss ...\n",
      "08/06/2020 02:44:48 PM  [INFO    ]  Loss : <_tenseal_cpp.CKKSVector object at 0x7fe2169b0b90>.\n",
      "08/06/2020 02:45:45 PM  [INFO    ]  Just finished iteration number 5 in  56.30620050430298 seconds. \n",
      "08/06/2020 02:46:41 PM  [INFO    ]  Just finished iteration number 6 in  55.86375403404236 seconds. \n",
      "08/06/2020 02:47:37 PM  [INFO    ]  Just finished iteration number 7 in  55.9799120426178 seconds. \n",
      "08/06/2020 02:48:33 PM  [INFO    ]  Just finished iteration number 8 in  55.9802770614624 seconds. \n",
      "08/06/2020 02:50:19 PM  [INFO    ]  Starting computation of the loss ...\n",
      "08/06/2020 02:50:19 PM  [INFO    ]  Loss : <_tenseal_cpp.CKKSVector object at 0x7fe2169b0bc8>.\n",
      "08/06/2020 02:51:15 PM  [INFO    ]  Just finished iteration number 9 in  56.27318286895752 seconds. \n",
      "08/06/2020 02:52:11 PM  [INFO    ]  Just finished iteration number 10 in  55.83186173439026 seconds. \n",
      "08/06/2020 02:53:07 PM  [INFO    ]  Just finished iteration number 11 in  55.94169473648071 seconds. \n",
      "08/06/2020 02:54:03 PM  [INFO    ]  Just finished iteration number 12 in  55.867053508758545 seconds. \n",
      "08/06/2020 02:55:49 PM  [INFO    ]  Starting computation of the loss ...\n",
      "08/06/2020 02:55:49 PM  [INFO    ]  Loss : <_tenseal_cpp.CKKSVector object at 0x7fe2169b0d50>.\n",
      "08/06/2020 02:56:45 PM  [INFO    ]  Just finished iteration number 13 in  56.34511041641235 seconds. \n",
      "08/06/2020 02:57:41 PM  [INFO    ]  Just finished iteration number 14 in  55.88460683822632 seconds. \n",
      "08/06/2020 02:58:37 PM  [INFO    ]  Just finished iteration number 15 in  55.994868516922 seconds. \n",
      "08/06/2020 02:59:33 PM  [INFO    ]  Just finished iteration number 16 in  56.1053569316864 seconds. \n",
      "08/06/2020 03:01:19 PM  [INFO    ]  Starting computation of the loss ...\n",
      "08/06/2020 03:01:19 PM  [INFO    ]  Loss : <_tenseal_cpp.CKKSVector object at 0x7fe2169b0e30>.\n",
      "08/06/2020 03:02:16 PM  [INFO    ]  Just finished iteration number 17 in  56.53168225288391 seconds. \n",
      "08/06/2020 03:03:12 PM  [INFO    ]  Just finished iteration number 18 in  56.06705641746521 seconds. \n",
      "08/06/2020 03:04:08 PM  [INFO    ]  Just finished iteration number 19 in  55.92074131965637 seconds. \n",
      "08/06/2020 03:05:04 PM  [INFO    ]  Just finished iteration number 20 in  55.997920751571655 seconds. \n",
      "08/06/2020 03:06:50 PM  [INFO    ]  Starting computation of the loss ...\n",
      "08/06/2020 03:06:50 PM  [INFO    ]  Loss : <_tenseal_cpp.CKKSVector object at 0x7fe2169b0ed8>.\n",
      "08/06/2020 03:07:46 PM  [INFO    ]  Just finished iteration number 21 in  56.36084032058716 seconds. \n",
      "08/06/2020 03:08:42 PM  [INFO    ]  Just finished iteration number 22 in  55.896058082580566 seconds. \n",
      "08/06/2020 03:09:38 PM  [INFO    ]  Just finished iteration number 23 in  55.90194225311279 seconds. \n",
      "08/06/2020 03:10:34 PM  [INFO    ]  Just finished iteration number 24 in  55.99186086654663 seconds. \n",
      "08/06/2020 03:12:20 PM  [INFO    ]  Starting computation of the loss ...\n",
      "08/06/2020 03:12:20 PM  [INFO    ]  Loss : <_tenseal_cpp.CKKSVector object at 0x7fe2169b0dc0>.\n",
      "08/06/2020 03:13:16 PM  [INFO    ]  Just finished iteration number 25 in  56.512272119522095 seconds. \n",
      "08/06/2020 03:14:12 PM  [INFO    ]  Just finished iteration number 26 in  55.81535196304321 seconds. \n",
      "08/06/2020 03:15:08 PM  [INFO    ]  Just finished iteration number 27 in  55.9077844619751 seconds. \n",
      "08/06/2020 03:16:04 PM  [INFO    ]  Just finished iteration number 28 in  55.95461392402649 seconds. \n",
      "08/06/2020 03:17:50 PM  [INFO    ]  Starting computation of the loss ...\n",
      "08/06/2020 03:17:50 PM  [INFO    ]  Loss : <_tenseal_cpp.CKKSVector object at 0x7fe2169b0ca8>.\n",
      "08/06/2020 03:18:46 PM  [INFO    ]  Just finished iteration number 29 in  56.321807622909546 seconds. \n",
      "08/06/2020 03:19:43 PM  [INFO    ]  Just finished iteration number 30 in  56.06309962272644 seconds. \n",
      "08/06/2020 03:20:39 PM  [INFO    ]  Just finished iteration number 31 in  55.99196910858154 seconds. \n",
      "08/06/2020 03:21:34 PM  [INFO    ]  Just finished iteration number 32 in  55.85324716567993 seconds. \n",
      "08/06/2020 03:23:20 PM  [INFO    ]  Starting computation of the loss ...\n",
      "08/06/2020 03:23:20 PM  [INFO    ]  Loss : <_tenseal_cpp.CKKSVector object at 0x7fe2169b0fb8>.\n",
      "08/06/2020 03:24:17 PM  [INFO    ]  Just finished iteration number 33 in  56.27564239501953 seconds. \n",
      "08/06/2020 03:25:13 PM  [INFO    ]  Just finished iteration number 34 in  56.059860706329346 seconds. \n",
      "08/06/2020 03:26:09 PM  [INFO    ]  Just finished iteration number 35 in  56.09840631484985 seconds. \n",
      "08/06/2020 03:27:05 PM  [INFO    ]  Just finished iteration number 36 in  55.86970281600952 seconds. \n",
      "08/06/2020 03:28:51 PM  [INFO    ]  Starting computation of the loss ...\n",
      "08/06/2020 03:28:51 PM  [INFO    ]  Loss : <_tenseal_cpp.CKKSVector object at 0x7fe2169ba030>.\n",
      "08/06/2020 03:29:47 PM  [INFO    ]  Just finished iteration number 37 in  56.29068446159363 seconds. \n",
      "08/06/2020 03:30:43 PM  [INFO    ]  Just finished iteration number 38 in  55.85148525238037 seconds. \n",
      "08/06/2020 03:31:39 PM  [INFO    ]  Just finished iteration number 39 in  55.8840651512146 seconds. \n",
      "08/06/2020 03:31:39 PM  [INFO    ]  Training done. 3319.0 seconds\n"
     ]
    }
   ],
   "source": [
    "logging.info(\"Training starting\")\n",
    "timer=time.time()\n",
    "model.fit(b_X, b_Y)\n",
    "logging.info(\"Training done. \" + str(round(time.time() - timer, 0)) + \" seconds\")"
   ]
  },
  {
   "cell_type": "markdown",
   "metadata": {},
   "source": [
    "Warn Bob that Alice finished the training"
   ]
  },
  {
   "cell_type": "code",
   "execution_count": 16,
   "metadata": {},
   "outputs": [
    {
     "data": {
      "text/plain": [
       "12"
      ]
     },
     "execution_count": 16,
     "metadata": {},
     "output_type": "execute_result"
    }
   ],
   "source": [
    "BOB.transmission(b'STOP_REFRESH')"
   ]
  },
  {
   "cell_type": "code",
   "execution_count": 17,
   "metadata": {},
   "outputs": [
    {
     "data": {
      "text/plain": [
       "2601739"
      ]
     },
     "execution_count": 17,
     "metadata": {},
     "output_type": "execute_result"
    }
   ],
   "source": [
    "ser_loss = [l.serialize() for l in model.loss_list]\n",
    "ser_epoch = [i*VERBOSE for i in range(len(model.loss_list))]\n",
    "BOB.transmission(pk.dumps((ser_epoch, ser_loss)))"
   ]
  },
  {
   "cell_type": "code",
   "execution_count": 22,
   "metadata": {},
   "outputs": [],
   "source": [
    "while True:\n",
    "    b_data = BOB.reception()\n",
    "    if b_data == b'STOP_PREDICT': break\n",
    "    key, vector = pk.loads(b_data)\n",
    "    prediction = model.predict(ts.ckks_vector_from(model.context, vector))\n",
    "    BOB.transmission(pk.dumps((key, prediction.serialize())))"
   ]
  },
  {
   "cell_type": "code",
   "execution_count": 23,
   "metadata": {},
   "outputs": [],
   "source": [
    "BOB.close()"
   ]
  },
  {
   "cell_type": "code",
   "execution_count": null,
   "metadata": {},
   "outputs": [],
   "source": []
  }
 ],
 "metadata": {
  "kernelspec": {
   "display_name": "Python 3",
   "language": "python",
   "name": "python3"
  },
  "language_info": {
   "codemirror_mode": {
    "name": "ipython",
    "version": 3
   },
   "file_extension": ".py",
   "mimetype": "text/x-python",
   "name": "python",
   "nbconvert_exporter": "python",
   "pygments_lexer": "ipython3",
   "version": "3.7.3"
  }
 },
 "nbformat": 4,
 "nbformat_minor": 2
}
