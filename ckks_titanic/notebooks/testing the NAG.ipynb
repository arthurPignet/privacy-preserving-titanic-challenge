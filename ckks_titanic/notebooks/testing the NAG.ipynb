{
 "cells": [
  {
   "cell_type": "code",
   "execution_count": 1,
   "metadata": {},
   "outputs": [],
   "source": [
    "import time\n",
    "import os\n",
    "import sys\n",
    "import logging\n",
    "\n",
    "import numpy as np\n",
    "import tenseal as ts\n",
    "\n",
    "from sklearn.model_selection import train_test_split\n",
    "os.chdir(\"/home/apignet/homomorphic-encryption/ckks_titanic\")\n",
    "from src.features import build_features\n",
    "from models import encrypted_LR\n",
    "from models import unencrypted_LR"
   ]
  },
  {
   "cell_type": "code",
   "execution_count": 2,
   "metadata": {},
   "outputs": [],
   "source": [
    "%load_ext memory_profiler"
   ]
  },
  {
   "cell_type": "code",
   "execution_count": 3,
   "metadata": {},
   "outputs": [
    {
     "data": {
      "text/plain": [
       "1"
      ]
     },
     "execution_count": 3,
     "metadata": {},
     "output_type": "execute_result"
    }
   ],
   "source": [
    "import matplotlib.pyplot as plt\n",
    "%matplotlib inline\n",
    "1"
   ]
  },
  {
   "cell_type": "markdown",
   "metadata": {},
   "source": [
    "# definition of parameters"
   ]
  },
  {
   "cell_type": "markdown",
   "metadata": {},
   "source": [
    "### Paths"
   ]
  },
  {
   "cell_type": "code",
   "execution_count": 4,
   "metadata": {},
   "outputs": [],
   "source": [
    "#DATA_PATH = \"\\\\data\\\\raw\\\\\"            # whole data set\n",
    "DATA_PATH = \"/data/quick_demo/\"   # subset of the data set, with 15 train_samples and 5 test_samples\n",
    "#DATA_PATH = \"/home/apignet/homomorphic-encryption/ckks_titanic/data/quick_demo/\"   # subset of the data set, with 400 train_samples and 50 test_samples\n",
    "LOG_PATH = \"reports/log\"\n",
    "LOG_FILENAME = \"test_0716\""
   ]
  },
  {
   "cell_type": "code",
   "execution_count": 5,
   "metadata": {},
   "outputs": [
    {
     "data": {
      "text/plain": [
       "'/home/apignet/homomorphic-encryption/ckks_titanic'"
      ]
     },
     "execution_count": 5,
     "metadata": {},
     "output_type": "execute_result"
    }
   ],
   "source": [
    "os.getcwd()"
   ]
  },
  {
   "cell_type": "markdown",
   "metadata": {},
   "source": [
    "### Log "
   ]
  },
  {
   "cell_type": "code",
   "execution_count": 6,
   "metadata": {},
   "outputs": [],
   "source": [
    "fileHandler = logging.FileHandler(\"{0}/{1}.log\".format(LOG_PATH, LOG_FILENAME))\n",
    "streamHandler = logging.StreamHandler(sys.stdout)\n",
    "logging.basicConfig(format=\"%(asctime)s  [%(levelname)-8.8s]  %(message)s\", datefmt='%m/%d/%Y %I:%M:%S %p', level = logging.DEBUG, handlers=[fileHandler, streamHandler])"
   ]
  },
  {
   "cell_type": "markdown",
   "metadata": {},
   "source": [
    "### Training variables"
   ]
  },
  {
   "cell_type": "code",
   "execution_count": 7,
   "metadata": {},
   "outputs": [],
   "source": [
    "EPOCH = 20\n",
    "LEARNING_RATE = 0.9\n",
    "MOMENTUM_RATE = 0.5\n",
    "REGULARIZATION_RATE = 0.5\n",
    "VERBOSE = 2\n",
    "SAVE_WEIGHT = 2\n",
    "N_JOBS = 1"
   ]
  },
  {
   "cell_type": "markdown",
   "metadata": {},
   "source": [
    "# Loading and processing the data"
   ]
  },
  {
   "cell_type": "code",
   "execution_count": 8,
   "metadata": {},
   "outputs": [
    {
     "name": "stdout",
     "output_type": "stream",
     "text": [
      "07/23/2020 03:12:12 PM  [INFO    ]  /home/apignet/homomorphic-encryption/ckks_titanic\n",
      "07/23/2020 03:12:12 PM  [INFO    ]  loading the data into memory (pandas df)\n",
      "07/23/2020 03:12:12 PM  [INFO    ]  Done\n",
      "07/23/2020 03:12:12 PM  [INFO    ]  making final data set from raw data\n",
      "07/23/2020 03:12:12 PM  [INFO    ]  Done\n",
      "07/23/2020 03:12:12 PM  [INFO    ]  /home/apignet/homomorphic-encryption/ckks_titanic\n",
      "07/23/2020 03:12:12 PM  [INFO    ]  loading the data into memory (pandas df)\n",
      "07/23/2020 03:12:12 PM  [INFO    ]  Done\n",
      "07/23/2020 03:12:12 PM  [INFO    ]  making final data set from raw data\n",
      "07/23/2020 03:12:12 PM  [INFO    ]  Done\n",
      "peak memory: 159.18 MiB, increment: 14.22 MiB\n"
     ]
    }
   ],
   "source": [
    "%%memit\n",
    "logging.info(os.getcwd())\n",
    "raw_train, raw_test = build_features.data_import(os.getcwd()+DATA_PATH)\n",
    "train, submission_test = build_features.processing(raw_train, raw_test)\n",
    "del submission_test"
   ]
  },
  {
   "cell_type": "code",
   "execution_count": 9,
   "metadata": {},
   "outputs": [
    {
     "name": "stdout",
     "output_type": "stream",
     "text": [
      "peak memory: 159.50 MiB, increment: 0.07 MiB\n"
     ]
    }
   ],
   "source": [
    "%%memit\n",
    "train, test = train_test_split(train, test_size=0.15)\n",
    "train_labels = train.Survived\n",
    "test_labels = test.Survived\n",
    "train_features = train.drop(\"Survived\", axis=1)\n",
    "test_features = test.drop(\"Survived\", axis=1)"
   ]
  },
  {
   "cell_type": "markdown",
   "metadata": {},
   "source": [
    "# Definition of safety parameters"
   ]
  },
  {
   "cell_type": "markdown",
   "metadata": {},
   "source": [
    "# Data encryption"
   ]
  },
  {
   "cell_type": "markdown",
   "metadata": {},
   "source": [
    "# Initialize the weight\n",
    "\n",
    "The weights have to be crypted "
   ]
  },
  {
   "cell_type": "code",
   "execution_count": 10,
   "metadata": {},
   "outputs": [
    {
     "name": "stdout",
     "output_type": "stream",
     "text": [
      "07/23/2020 03:12:12 PM  [INFO    ]  [-0.08493447 -0.02033789 -0.2794656   0.38854683  0.11203303 -0.05913432\n",
      "  0.43307746  0.07522778  0.02962404 -0.02158323 -0.00163407 -0.09967124\n",
      "  0.24310294 -0.15508099 -0.03386669  0.05580803 -0.42074524 -0.00984651\n",
      " -0.22769856 -0.33614336  0.24153189  0.29729224 -0.4659519   0.19019058\n",
      " -0.24188166 -0.5978305  -0.00736067 -0.01392417  0.11502167 -0.13988928\n",
      " -0.17478976]\n",
      "07/23/2020 03:12:12 PM  [INFO    ]  [-0.26028173 -0.31541852 -0.23042656 -0.27922057  0.19510007  0.14113864\n",
      " -0.15522052 -0.09126514 -0.25602789  0.55332932  0.22381734  0.27239723\n",
      " -0.15393805 -0.57324962  0.19030382 -0.03578127  0.2298485   0.04443787\n",
      " -0.02202201  0.02984787 -0.05216923  0.17355279 -0.38693777 -0.15122977\n",
      "  0.23693766 -0.38869182  0.15215076  0.11741644 -0.16475364 -0.00975841\n",
      "  0.12069257]\n",
      "07/23/2020 03:12:12 PM  [INFO    ]  [ 0.00048358  0.05952148  0.23953061 -0.0319625  -0.03810677  0.02746333\n",
      " -0.08711081 -0.46207342  0.22454754 -0.12117934  0.00378831 -0.02785711\n",
      "  0.20518441  0.03837548  0.17307673  0.45313217 -0.28227753 -0.05040937\n",
      "  0.34990481  0.00287696  0.02850853 -0.25016926 -0.30491258 -0.2648848\n",
      " -0.33979513  0.06990797  0.03494    -0.15500123 -0.01975216  0.20277965\n",
      " -0.03842581]\n",
      "07/23/2020 03:12:12 PM  [INFO    ]  [ 0.11097396  0.1090411   0.16940722 -0.13090984 -0.10415504  0.20174503\n",
      "  0.46394932 -0.12757828  0.12141514  0.10614678  0.10014654  0.19249666\n",
      "  0.1249959  -0.01174691 -0.00572131 -0.23880593  0.3641998  -0.23338852\n",
      "  0.16983725  0.13949778 -0.04340081  0.3372729  -0.13271035  0.08214625\n",
      " -0.38787638  0.0753963  -0.28215228  0.03251871 -0.27319799  0.2655095\n",
      " -0.0689068 ]\n",
      "07/23/2020 03:12:12 PM  [INFO    ]  [ 0.01560176  0.16731169 -0.03227175 -0.04322162 -0.36364085  0.4962359\n",
      "  0.23910393 -0.42729398  0.20619049  0.04220555  0.22264869 -0.34863092\n",
      " -0.12485947  0.14026507  0.02040504  0.02745791 -0.1261376  -0.20788834\n",
      " -0.18067098 -0.15566566 -0.03637735 -0.03207419  0.28510618  0.13357881\n",
      "  0.30380606 -0.25506448 -0.00379076 -0.00392825  0.26156637  0.10140487\n",
      " -0.15357945]\n",
      "07/23/2020 03:12:12 PM  [INFO    ]  [-0.12965807 -0.16081929  0.12306945  0.01736624 -0.22788746 -0.1045244\n",
      "  0.47144082  0.15921193 -0.51028669  0.09870354 -0.16079038  0.23936933\n",
      "  0.05808164 -0.24415848 -0.32407418 -0.3594987   0.26531471 -0.05304757\n",
      "  0.40762746 -0.1230328  -0.33975943  0.01862326  0.02916571  0.38242528\n",
      " -0.33149328  0.25566144 -0.32847107 -0.23297386 -0.11991094 -0.05059679\n",
      "  0.10983518]\n",
      "07/23/2020 03:12:12 PM  [INFO    ]  [-0.13117764 -0.22469247  0.14644113 -0.27086595  0.02327547 -0.32480354\n",
      " -0.11774017  0.06776978  0.2426101  -0.1813075   0.37126806 -0.04862686\n",
      "  0.17248952  0.13116853  0.09563752 -0.1391244   0.03041525 -0.05813962\n",
      "  0.6115886   0.22734991 -0.17587904  0.00600138 -0.03020457  0.0679672\n",
      " -0.2627417   0.27953263  0.20479268  0.10637128  0.13975633  0.01734276\n",
      "  0.2045226 ]\n",
      "peak memory: 159.76 MiB, increment: 0.26 MiB\n"
     ]
    }
   ],
   "source": [
    "%%memit\n",
    "unencrypted_weight = np.random.normal(loc=0,\n",
    "                                      scale=0.2, size =(train_features.to_numpy().shape[1]))\n",
    "logging.info(unencrypted_weight)\n",
    "unencrypted_bias = np.random.random((1))\n"
   ]
  },
  {
   "cell_type": "markdown",
   "metadata": {},
   "source": [
    "The confidential data as yet stored into a dictionnary, and will be used during the training only by functions which are passed as arguments to the fit methods. This encapsulation of sensitive data will allows us to ensure security during training later. "
   ]
  },
  {
   "cell_type": "markdown",
   "metadata": {},
   "source": [
    "# Training the unencrypted model"
   ]
  },
  {
   "cell_type": "code",
   "execution_count": 11,
   "metadata": {},
   "outputs": [
    {
     "name": "stdout",
     "output_type": "stream",
     "text": [
      "07/23/2020 03:12:13 PM  [INFO    ]  Model initialization\n"
     ]
    }
   ],
   "source": [
    "logging.info(\"Model initialization\")\n",
    "unencrypted_model = unencrypted_LR.LogisticRegression(init_weight=unencrypted_weight,\n",
    "                                                      init_bias=unencrypted_bias,\n",
    "                                                      verbose=VERBOSE,\n",
    "                                                      save_weight= SAVE_WEIGHT,\n",
    "                                                      max_epoch=EPOCH,\n",
    "                                                      learning_rate=LEARNING_RATE,\n",
    "                                                      momentum_rate=0,\n",
    "                                                      reg_para=REGULARIZATION_RATE,\n",
    "                                                      n_jobs = N_JOBS)"
   ]
  },
  {
   "cell_type": "code",
   "execution_count": 12,
   "metadata": {},
   "outputs": [
    {
     "name": "stdout",
     "output_type": "stream",
     "text": [
      "07/23/2020 03:12:13 PM  [INFO    ]  Training starting\n",
      "07/23/2020 03:12:13 PM  [INFO    ]  Just finished iteration number 1 \n",
      "07/23/2020 03:12:13 PM  [INFO    ]  Loss : 0.9065125159826283.\n",
      "07/23/2020 03:12:13 PM  [INFO    ]  Just finished iteration number 3 \n",
      "07/23/2020 03:12:13 PM  [INFO    ]  Loss : 0.5435549310318817.\n",
      "07/23/2020 03:12:13 PM  [INFO    ]  Just finished iteration number 5 \n",
      "07/23/2020 03:12:13 PM  [INFO    ]  Loss : 0.5153757071903512.\n",
      "07/23/2020 03:12:13 PM  [INFO    ]  Just finished iteration number 7 \n",
      "07/23/2020 03:12:13 PM  [INFO    ]  Loss : 0.49528054830310314.\n",
      "07/23/2020 03:12:13 PM  [INFO    ]  Just finished iteration number 9 \n",
      "07/23/2020 03:12:13 PM  [INFO    ]  Loss : 0.48057479446154466.\n",
      "07/23/2020 03:12:13 PM  [INFO    ]  Just finished iteration number 11 \n",
      "07/23/2020 03:12:13 PM  [INFO    ]  Loss : 0.4699301255037351.\n",
      "07/23/2020 03:12:13 PM  [INFO    ]  Just finished iteration number 13 \n",
      "07/23/2020 03:12:13 PM  [INFO    ]  Loss : 0.4622718074357941.\n",
      "07/23/2020 03:12:13 PM  [INFO    ]  Just finished iteration number 15 \n",
      "07/23/2020 03:12:13 PM  [INFO    ]  Loss : 0.4567661639754514.\n",
      "07/23/2020 03:12:13 PM  [INFO    ]  Just finished iteration number 17 \n",
      "07/23/2020 03:12:13 PM  [INFO    ]  Loss : 0.45279896848775764.\n",
      "07/23/2020 03:12:13 PM  [INFO    ]  Just finished iteration number 19 \n",
      "07/23/2020 03:12:13 PM  [INFO    ]  Loss : 0.4499290885053127.\n",
      "07/23/2020 03:12:13 PM  [INFO    ]  Training done. 0.0 seconds\n"
     ]
    }
   ],
   "source": [
    "logging.info(\"Training starting\")\n",
    "timer=time.time()\n",
    "unencrypted_model.fit(train_features.to_numpy(), train_labels.to_numpy().reshape((-1, 1)))\n",
    "logging.info(\"Training done. \" + str(round(time.time() - timer, 0)) + \" seconds\")"
   ]
  },
  {
   "cell_type": "code",
   "execution_count": 13,
   "metadata": {},
   "outputs": [
    {
     "name": "stdout",
     "output_type": "stream",
     "text": [
      "07/23/2020 03:12:13 PM  [INFO    ]  Accuracy of unencrypted model : 1.0 \n"
     ]
    }
   ],
   "source": [
    "acc = unencrypted_model.accuracy(test_features.to_numpy(), test_labels.to_numpy().reshape((-1, 1)))\n",
    "logging.info(\"Accuracy of unencrypted model : %s \" % acc)"
   ]
  },
  {
   "cell_type": "code",
   "execution_count": 34,
   "metadata": {},
   "outputs": [
    {
     "name": "stdout",
     "output_type": "stream",
     "text": [
      "07/23/2020 03:36:13 PM  [INFO    ]  Model initialization\n"
     ]
    }
   ],
   "source": [
    "logging.info(\"Model initialization\")\n",
    "unencrypted_model_wm = unencrypted_LR.LogisticRegression(init_weight=unencrypted_weight,\n",
    "                                                      init_bias=unencrypted_bias,\n",
    "                                                      verbose=VERBOSE,\n",
    "                                                      save_weight= SAVE_WEIGHT,\n",
    "                                                      max_epoch=EPOCH,\n",
    "                                                      learning_rate=1.5,\n",
    "                                                      momentum_rate=0.5,\n",
    "                                                      reg_para=REGULARIZATION_RATE,\n",
    "                                                      n_jobs = N_JOBS)"
   ]
  },
  {
   "cell_type": "code",
   "execution_count": 35,
   "metadata": {},
   "outputs": [
    {
     "name": "stdout",
     "output_type": "stream",
     "text": [
      "07/23/2020 03:36:13 PM  [INFO    ]  Training starting\n",
      "07/23/2020 03:36:13 PM  [INFO    ]  Just finished iteration number 1 \n",
      "07/23/2020 03:36:13 PM  [INFO    ]  Loss : 0.9145749262193611.\n",
      "07/23/2020 03:36:13 PM  [INFO    ]  Just finished iteration number 3 \n",
      "07/23/2020 03:36:13 PM  [INFO    ]  Loss : 0.4776028169657509.\n",
      "07/23/2020 03:36:13 PM  [INFO    ]  Just finished iteration number 5 \n",
      "07/23/2020 03:36:13 PM  [INFO    ]  Loss : 0.43679094543341707.\n",
      "07/23/2020 03:36:13 PM  [INFO    ]  Just finished iteration number 7 \n",
      "07/23/2020 03:36:13 PM  [INFO    ]  Loss : 0.4371773492139918.\n",
      "07/23/2020 03:36:13 PM  [INFO    ]  Just finished iteration number 9 \n",
      "07/23/2020 03:36:13 PM  [INFO    ]  Loss : 0.4411092028630385.\n",
      "07/23/2020 03:36:13 PM  [INFO    ]  Just finished iteration number 11 \n",
      "07/23/2020 03:36:13 PM  [INFO    ]  Loss : 0.4422329538442348.\n",
      "07/23/2020 03:36:13 PM  [INFO    ]  Just finished iteration number 13 \n",
      "07/23/2020 03:36:13 PM  [INFO    ]  Loss : 0.44217684610649843.\n",
      "07/23/2020 03:36:13 PM  [INFO    ]  Just finished iteration number 15 \n",
      "07/23/2020 03:36:13 PM  [INFO    ]  Loss : 0.4420458690255835.\n",
      "07/23/2020 03:36:13 PM  [INFO    ]  Just finished iteration number 17 \n",
      "07/23/2020 03:36:13 PM  [INFO    ]  Loss : 0.4420138027464858.\n",
      "07/23/2020 03:36:13 PM  [INFO    ]  Just finished iteration number 19 \n",
      "07/23/2020 03:36:13 PM  [INFO    ]  Loss : 0.4420207323878827.\n",
      "07/23/2020 03:36:13 PM  [INFO    ]  Training done. 0.0 seconds\n"
     ]
    }
   ],
   "source": [
    "logging.info(\"Training starting\")\n",
    "timer=time.time()\n",
    "unencrypted_model_wm.fit(train_features.to_numpy(), train_labels.to_numpy().reshape((-1, 1)))\n",
    "logging.info(\"Training done. \" + str(round(time.time() - timer, 0)) + \" seconds\")"
   ]
  },
  {
   "cell_type": "markdown",
   "metadata": {},
   "source": [
    "# Figures"
   ]
  },
  {
   "cell_type": "markdown",
   "metadata": {},
   "source": [
    "## encrypted and unencrypted losses "
   ]
  },
  {
   "cell_type": "code",
   "execution_count": 36,
   "metadata": {},
   "outputs": [
    {
     "data": {
      "text/plain": [
       "<matplotlib.legend.Legend at 0x7f21b3e20b00>"
      ]
     },
     "execution_count": 36,
     "metadata": {},
     "output_type": "execute_result"
    },
    {
     "name": "stdout",
     "output_type": "stream",
     "text": [
      "07/23/2020 03:36:14 PM  [DEBUG   ]  update_title_pos\n",
      "07/23/2020 03:36:14 PM  [DEBUG   ]  update_title_pos\n",
      "07/23/2020 03:36:14 PM  [DEBUG   ]  update_title_pos\n",
      "07/23/2020 03:36:14 PM  [DEBUG   ]  update_title_pos\n",
      "07/23/2020 03:36:14 PM  [DEBUG   ]  update_title_pos\n"
     ]
    },
    {
     "data": {
      "image/png": "[encoded data removed]",
      "text/plain": [
       "<Figure size 432x288 with 1 Axes>"
      ]
     },
     "metadata": {
      "needs_background": "light"
     },
     "output_type": "display_data"
    }
   ],
   "source": [
    "plt.plot([i*VERBOSE for i in range(len(unencrypted_model_wm.true_loss_list))], unencrypted_model_wm.loss_list, label='momentum'+str(unencrypted_model_wm.mr))\n",
    "plt.plot([i*VERBOSE for i in range(len(unencrypted_model.true_loss_list))], unencrypted_model.loss_list,label='momentum'+str(unencrypted_model.mr))\n",
    "plt.xlabel('Epoch')\n",
    "plt.ylabel('Loss')\n",
    "plt.title('Losses evolution of both models')\n",
    "plt.legend(loc='best')"
   ]
  },
  {
   "cell_type": "markdown",
   "metadata": {},
   "source": [
    "## Unencrypted loss"
   ]
  },
  {
   "cell_type": "markdown",
   "metadata": {},
   "source": [
    "# Errors"
   ]
  },
  {
   "cell_type": "markdown",
   "metadata": {},
   "source": [
    "## Relative error between losses"
   ]
  },
  {
   "cell_type": "code",
   "execution_count": 17,
   "metadata": {},
   "outputs": [
    {
     "ename": "NameError",
     "evalue": "name 'model' is not defined",
     "output_type": "error",
     "traceback": [
      "\u001b[0;31m---------------------------------------------------------------------------\u001b[0m",
      "\u001b[0;31mNameError\u001b[0m                                 Traceback (most recent call last)",
      "\u001b[0;32m<ipython-input-17-dbfbff0db881>\u001b[0m in \u001b[0;36m<module>\u001b[0;34m\u001b[0m\n\u001b[0;32m----> 1\u001b[0;31m \u001b[0mdecrypted\u001b[0m \u001b[0;34m=\u001b[0m \u001b[0;34m[\u001b[0m\u001b[0mi\u001b[0m\u001b[0;34m.\u001b[0m\u001b[0mdecrypt\u001b[0m\u001b[0;34m(\u001b[0m\u001b[0msecret_key\u001b[0m\u001b[0;34m)\u001b[0m\u001b[0;34m[\u001b[0m\u001b[0;36m0\u001b[0m\u001b[0;34m]\u001b[0m \u001b[0;32mfor\u001b[0m \u001b[0mi\u001b[0m \u001b[0;32min\u001b[0m \u001b[0mmodel\u001b[0m\u001b[0;34m.\u001b[0m\u001b[0mloss_list\u001b[0m\u001b[0;34m]\u001b[0m\u001b[0;34m\u001b[0m\u001b[0;34m\u001b[0m\u001b[0m\n\u001b[0m\u001b[1;32m      2\u001b[0m \u001b[0mtrue_err_cl\u001b[0m \u001b[0;34m=\u001b[0m \u001b[0mnp\u001b[0m\u001b[0;34m.\u001b[0m\u001b[0mabs\u001b[0m\u001b[0;34m(\u001b[0m\u001b[0mnp\u001b[0m\u001b[0;34m.\u001b[0m\u001b[0marray\u001b[0m\u001b[0;34m(\u001b[0m\u001b[0mdecrypted\u001b[0m\u001b[0;34m)\u001b[0m \u001b[0;34m-\u001b[0m \u001b[0mnp\u001b[0m\u001b[0;34m.\u001b[0m\u001b[0marray\u001b[0m\u001b[0;34m(\u001b[0m\u001b[0munencrypted_model\u001b[0m\u001b[0;34m.\u001b[0m\u001b[0mloss_list\u001b[0m\u001b[0;34m)\u001b[0m\u001b[0;34m)\u001b[0m\u001b[0;34m\u001b[0m\u001b[0;34m\u001b[0m\u001b[0m\n\u001b[1;32m      3\u001b[0m \u001b[0mrel_err_cl\u001b[0m \u001b[0;34m=\u001b[0m \u001b[0mtrue_err_cl\u001b[0m\u001b[0;34m/\u001b[0m\u001b[0mnp\u001b[0m\u001b[0;34m.\u001b[0m\u001b[0mabs\u001b[0m\u001b[0;34m(\u001b[0m\u001b[0mdecrypted\u001b[0m\u001b[0;34m)\u001b[0m\u001b[0;34m\u001b[0m\u001b[0;34m\u001b[0m\u001b[0m\n\u001b[1;32m      4\u001b[0m \u001b[0mtrue_err_ct\u001b[0m \u001b[0;34m=\u001b[0m \u001b[0mnp\u001b[0m\u001b[0;34m.\u001b[0m\u001b[0mabs\u001b[0m\u001b[0;34m(\u001b[0m\u001b[0mnp\u001b[0m\u001b[0;34m.\u001b[0m\u001b[0marray\u001b[0m\u001b[0;34m(\u001b[0m\u001b[0mdecrypted\u001b[0m\u001b[0;34m)\u001b[0m \u001b[0;34m-\u001b[0m \u001b[0mnp\u001b[0m\u001b[0;34m.\u001b[0m\u001b[0marray\u001b[0m\u001b[0;34m(\u001b[0m\u001b[0munencrypted_model\u001b[0m\u001b[0;34m.\u001b[0m\u001b[0mtrue_loss_list\u001b[0m\u001b[0;34m)\u001b[0m\u001b[0;34m)\u001b[0m\u001b[0;34m\u001b[0m\u001b[0;34m\u001b[0m\u001b[0m\n\u001b[1;32m      5\u001b[0m \u001b[0mrel_err_ct\u001b[0m \u001b[0;34m=\u001b[0m \u001b[0mtrue_err_ct\u001b[0m\u001b[0;34m/\u001b[0m\u001b[0mnp\u001b[0m\u001b[0;34m.\u001b[0m\u001b[0mabs\u001b[0m\u001b[0;34m(\u001b[0m\u001b[0mdecrypted\u001b[0m\u001b[0;34m)\u001b[0m\u001b[0;34m\u001b[0m\u001b[0;34m\u001b[0m\u001b[0m\n",
      "\u001b[0;31mNameError\u001b[0m: name 'model' is not defined"
     ]
    }
   ],
   "source": [
    "decrypted = [i.decrypt(secret_key)[0] for i in model.loss_list]\n",
    "true_err_cl = np.abs(np.array(decrypted) - np.array(unencrypted_model.loss_list))\n",
    "rel_err_cl = true_err_cl/np.abs(decrypted)\n",
    "true_err_ct = np.abs(np.array(decrypted) - np.array(unencrypted_model.true_loss_list))\n",
    "rel_err_ct = true_err_ct/np.abs(decrypted)\n",
    "true_err_lt = np.abs(np.array(unencrypted_model.loss_list) - np.array(unencrypted_model.true_loss_list))\n",
    "rel_err_lt = true_err_lt/np.abs(unencrypted_model.true_loss_list)\n"
   ]
  },
  {
   "cell_type": "code",
   "execution_count": null,
   "metadata": {},
   "outputs": [],
   "source": [
    "plt.plot([i*VERBOSE for i in range(len(model.loss_list))],  rel_err_cl, label='cipherloss and plainloss')\n",
    "plt.plot([i*VERBOSE for i in range(len(model.loss_list))],  rel_err_ct, label='cipherloss and trueloss' )\n",
    "plt.plot([i*VERBOSE for i in range(len(model.loss_list))],  rel_err_lt, label='plainlosses')\n",
    "plt.legend(loc='best')\n",
    "plt.xlabel('Epoch')\n",
    "plt.ylabel('Relative error on loss')\n",
    "plt.title('Relative error between losses')"
   ]
  },
  {
   "cell_type": "markdown",
   "metadata": {},
   "source": [
    "## Relative error between weights"
   ]
  },
  {
   "cell_type": "code",
   "execution_count": null,
   "metadata": {},
   "outputs": [],
   "source": [
    "dwl = np.array([i.decrypt(secret_key) for i in model.weight_list])\n",
    "dbl = np.array([i.decrypt(secret_key) for i in model.bias_list]).reshape((-1,1))\n",
    "dl = np.concatenate((dwl,dbl), axis=1)\n",
    "\n",
    "ul = np.concatenate((np.array(unencrypted_model.weight_list), np.array(unencrypted_model.bias_list).reshape((-1,1))), axis=1)\n",
    "w_err = np.mean((np.abs(dl-ul)/np.abs(ul)), axis=1)"
   ]
  },
  {
   "cell_type": "code",
   "execution_count": null,
   "metadata": {},
   "outputs": [],
   "source": [
    "plt.plot([i*VERBOSE for i in range(w_err.shape[0])],w_err)\n",
    "plt.xlabel('Epoch')\n",
    "plt.ylabel('Relative error on weights')\n",
    "plt.title('Relative error between encrypted weights and unencrypted weights')"
   ]
  },
  {
   "cell_type": "markdown",
   "metadata": {},
   "source": [
    "# Error of the log approx, crypted and decrypted"
   ]
  },
  {
   "cell_type": "code",
   "execution_count": null,
   "metadata": {},
   "outputs": [],
   "source": [
    "uX=np.linspace(0.01, 1, 10).reshape((-1,1))\n",
    "eX = crytp_array(uX, local_context=context)"
   ]
  },
  {
   "cell_type": "code",
   "execution_count": null,
   "metadata": {},
   "outputs": [],
   "source": [
    "def log(x):\n",
    "    poly_coeff = [-3.57257812,  8.78497194, -6.88562064,  1.81888491]\n",
    "    return x.polyval([i  for i in poly_coeff])"
   ]
  },
  {
   "cell_type": "code",
   "execution_count": null,
   "metadata": {},
   "outputs": [],
   "source": [
    "el = [log(x) for x in eX]"
   ]
  },
  {
   "cell_type": "code",
   "execution_count": null,
   "metadata": {},
   "outputs": [],
   "source": [
    "dX = [i.decrypt(secret_key) for i in el]"
   ]
  },
  {
   "cell_type": "code",
   "execution_count": null,
   "metadata": {},
   "outputs": [],
   "source": [
    "dX"
   ]
  },
  {
   "cell_type": "code",
   "execution_count": null,
   "metadata": {},
   "outputs": [],
   "source": [
    "np.log(uX)"
   ]
  },
  {
   "cell_type": "code",
   "execution_count": null,
   "metadata": {},
   "outputs": [],
   "source": [
    "np.abs(dX - np.log(uX))/uX"
   ]
  },
  {
   "cell_type": "code",
   "execution_count": null,
   "metadata": {},
   "outputs": [],
   "source": []
  }
 ],
 "metadata": {
  "kernelspec": {
   "display_name": "Python 3",
   "language": "python",
   "name": "python3"
  },
  "language_info": {
   "codemirror_mode": {
    "name": "ipython",
    "version": 3
   },
   "file_extension": ".py",
   "mimetype": "text/x-python",
   "name": "python",
   "nbconvert_exporter": "python",
   "pygments_lexer": "ipython3",
   "version": "3.7.3"
  }
 },
 "nbformat": 4,
 "nbformat_minor": 2
}
