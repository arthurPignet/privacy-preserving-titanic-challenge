{
 "cells": [
  {
   "cell_type": "code",
   "execution_count": 2,
   "metadata": {},
   "outputs": [],
   "source": [
    "import time\n",
    "import os\n",
    "import sys\n",
    "import logging\n",
    "\n",
    "import numpy as np\n",
    "import tenseal as ts\n",
    "\n",
    "from sklearn.model_selection import train_test_split\n",
    "os.chdir(\"/home/apignet/homomorphic-encryption/ckks_titanic\")\n",
    "from src.features import build_features\n",
    "from models import encrypted_LR\n",
    "from models import unencrypted_LR"
   ]
  },
  {
   "cell_type": "code",
   "execution_count": 3,
   "metadata": {},
   "outputs": [],
   "source": [
    "%load_ext memory_profiler"
   ]
  },
  {
   "cell_type": "code",
   "execution_count": 4,
   "metadata": {},
   "outputs": [
    {
     "data": {
      "text/plain": [
       "1"
      ]
     },
     "execution_count": 4,
     "metadata": {},
     "output_type": "execute_result"
    }
   ],
   "source": [
    "import matplotlib.pyplot as plt\n",
    "%matplotlib inline\n",
    "1"
   ]
  },
  {
   "cell_type": "markdown",
   "metadata": {},
   "source": [
    "# definition of parameters"
   ]
  },
  {
   "cell_type": "markdown",
   "metadata": {},
   "source": [
    "### Paths"
   ]
  },
  {
   "cell_type": "code",
   "execution_count": 5,
   "metadata": {},
   "outputs": [],
   "source": [
    "#DATA_PATH = \"\\\\data\\\\raw\\\\\"            # whole data set\n",
    "DATA_PATH = \"/data/quick_demo/\"   # subset of the data set, with 15 train_samples and 5 test_samples\n",
    "#DATA_PATH = \"/home/apignet/homomorphic-encryption/ckks_titanic/data/quick_demo/\"   # subset of the data set, with 400 train_samples and 50 test_samples\n",
    "LOG_PATH = \"reports/log\"\n",
    "LOG_FILENAME = \"test_0716\""
   ]
  },
  {
   "cell_type": "code",
   "execution_count": 6,
   "metadata": {},
   "outputs": [
    {
     "data": {
      "text/plain": [
       "'/home/apignet/homomorphic-encryption/ckks_titanic'"
      ]
     },
     "execution_count": 6,
     "metadata": {},
     "output_type": "execute_result"
    }
   ],
   "source": [
    "os.getcwd()"
   ]
  },
  {
   "cell_type": "markdown",
   "metadata": {},
   "source": [
    "### Log "
   ]
  },
  {
   "cell_type": "code",
   "execution_count": 7,
   "metadata": {},
   "outputs": [],
   "source": [
    "fileHandler = logging.FileHandler(\"{0}/{1}.log\".format(LOG_PATH, LOG_FILENAME))\n",
    "streamHandler = logging.StreamHandler(sys.stdout)\n",
    "logging.basicConfig(format=\"%(asctime)s  [%(levelname)-8.8s]  %(message)s\", datefmt='%m/%d/%Y %I:%M:%S %p', level = logging.DEBUG, handlers=[fileHandler, streamHandler])"
   ]
  },
  {
   "cell_type": "markdown",
   "metadata": {},
   "source": [
    "### Training variables"
   ]
  },
  {
   "cell_type": "code",
   "execution_count": 8,
   "metadata": {},
   "outputs": [],
   "source": [
    "EPOCH = 20\n",
    "LEARNING_RATE = 0.8\n",
    "MOMENTUM_RATE = 0.5\n",
    "REGULARIZATION_RATE = 0.5\n",
    "VERBOSE = 2\n",
    "SAVE_WEIGHT = 2\n",
    "N_JOBS = 1"
   ]
  },
  {
   "cell_type": "markdown",
   "metadata": {},
   "source": [
    "# Loading and processing the data"
   ]
  },
  {
   "cell_type": "code",
   "execution_count": 9,
   "metadata": {},
   "outputs": [
    {
     "name": "stdout",
     "output_type": "stream",
     "text": [
      "07/23/2020 02:04:31 PM  [INFO    ]  /home/apignet/homomorphic-encryption/ckks_titanic\n",
      "07/23/2020 02:04:31 PM  [INFO    ]  loading the data into memory (pandas df)\n",
      "07/23/2020 02:04:31 PM  [INFO    ]  Done\n",
      "07/23/2020 02:04:31 PM  [INFO    ]  making final data set from raw data\n",
      "07/23/2020 02:04:31 PM  [INFO    ]  Done\n",
      "07/23/2020 02:04:31 PM  [INFO    ]  /home/apignet/homomorphic-encryption/ckks_titanic\n",
      "07/23/2020 02:04:31 PM  [INFO    ]  loading the data into memory (pandas df)\n",
      "07/23/2020 02:04:31 PM  [INFO    ]  Done\n",
      "07/23/2020 02:04:31 PM  [INFO    ]  making final data set from raw data\n",
      "07/23/2020 02:04:31 PM  [INFO    ]  Done\n",
      "peak memory: 158.98 MiB, increment: 14.23 MiB\n"
     ]
    }
   ],
   "source": [
    "%%memit\n",
    "logging.info(os.getcwd())\n",
    "raw_train, raw_test = build_features.data_import(os.getcwd()+DATA_PATH)\n",
    "train, submission_test = build_features.processing(raw_train, raw_test)\n",
    "del submission_test"
   ]
  },
  {
   "cell_type": "code",
   "execution_count": 10,
   "metadata": {},
   "outputs": [
    {
     "name": "stdout",
     "output_type": "stream",
     "text": [
      "peak memory: 159.28 MiB, increment: 0.05 MiB\n"
     ]
    }
   ],
   "source": [
    "%%memit\n",
    "train, test = train_test_split(train, test_size=0.15)\n",
    "train_labels = train.Survived\n",
    "test_labels = test.Survived\n",
    "train_features = train.drop(\"Survived\", axis=1)\n",
    "test_features = test.drop(\"Survived\", axis=1)"
   ]
  },
  {
   "cell_type": "markdown",
   "metadata": {},
   "source": [
    "# Definition of safety parameters"
   ]
  },
  {
   "cell_type": "markdown",
   "metadata": {},
   "source": [
    "# Data encryption"
   ]
  },
  {
   "cell_type": "markdown",
   "metadata": {},
   "source": [
    "# Initialize the weight\n",
    "\n",
    "The weights have to be crypted "
   ]
  },
  {
   "cell_type": "code",
   "execution_count": 11,
   "metadata": {},
   "outputs": [
    {
     "name": "stdout",
     "output_type": "stream",
     "text": [
      "07/23/2020 02:04:33 PM  [INFO    ]  [-1.98867069e-04 -1.88269381e-01  1.40207351e-01 -1.93837725e-02\n",
      "  8.65651988e-02 -3.58874468e-01  3.14610433e-01  1.19775921e-01\n",
      "  4.31222638e-01 -2.70657353e-01  5.83030665e-02  1.68981213e-01\n",
      " -6.36685123e-02 -1.29243075e-01 -2.22587478e-01 -4.19143070e-02\n",
      " -6.03253862e-03  3.74188322e-01  4.92835541e-02  1.22966780e-01\n",
      " -1.67837976e-01 -1.65516435e-01 -5.69377052e-02  2.33648142e-01\n",
      "  2.11596858e-01  1.51481886e-01 -3.09974103e-02 -2.77493797e-02\n",
      " -2.04113457e-01  1.44188834e-01 -2.44008318e-02]\n",
      "07/23/2020 02:04:33 PM  [INFO    ]  [ 0.16585189 -0.07804421  0.04073539  0.3414023   0.12323479 -0.10794063\n",
      " -0.13318004  0.15551654 -0.52120696  0.15321134  0.17631414  0.06378324\n",
      "  0.0771158   0.29794473 -0.2124033   0.12282094 -0.28256641  0.21359345\n",
      "  0.44973159 -0.08619254  0.03181913  0.28257267 -0.01782413 -0.13019651\n",
      " -0.11819255  0.21182448 -0.16666351 -0.00463259 -0.31301834  0.06745979\n",
      "  0.17102493]\n",
      "07/23/2020 02:04:33 PM  [INFO    ]  [-0.10320892 -0.12155252  0.07389707  0.12109108  0.16457079  0.1601957\n",
      " -0.18150255  0.21296122  0.17956846  0.13463703 -0.06210394  0.14952715\n",
      " -0.05755342 -0.14110338  0.23308361 -0.26575425 -0.0732986  -0.24388896\n",
      " -0.12177699  0.28688025  0.00350042  0.19170647  0.21268552  0.07829648\n",
      " -0.08530694 -0.42031481  0.04013715  0.36607696  0.10752326  0.004725\n",
      "  0.08216592]\n",
      "07/23/2020 02:04:33 PM  [INFO    ]  [ 0.30663064 -0.30077432  0.14435195  0.12658698 -0.19439687  0.19923008\n",
      " -0.03646227 -0.00463641 -0.2085779   0.17720231 -0.171089    0.27317882\n",
      " -0.14181212 -0.30563496 -0.38803174  0.1308632   0.06488696  0.07731436\n",
      "  0.00534175  0.03910027  0.05230924  0.11912111 -0.14574838 -0.12465377\n",
      "  0.12607017 -0.12051617 -0.20605146  0.10273549 -0.14132936  0.09731139\n",
      " -0.07436821]\n",
      "07/23/2020 02:04:33 PM  [INFO    ]  [ 0.00493716  0.05818859  0.23886554 -0.24339186 -0.00226823  0.12937293\n",
      "  0.23715808  0.12673576  0.22546719 -0.27736424 -0.14014345 -0.12517635\n",
      " -0.18055714 -0.12020627  0.41084691  0.00204051  0.26156592 -0.15102693\n",
      " -0.23551793 -0.17398516 -0.01317278 -0.13892797 -0.02383485 -0.02637623\n",
      " -0.1987467   0.08983419 -0.30028473 -0.17131435 -0.07234462 -0.44503492\n",
      " -0.07673264]\n",
      "07/23/2020 02:04:33 PM  [INFO    ]  [ 0.15226186  0.15962599 -0.34583156  0.24678474 -0.00737476 -0.23024922\n",
      " -0.13763302 -0.24463026 -0.16836313  0.03927031  0.18354344  0.00609537\n",
      "  0.07863093  0.15530883 -0.24342543 -0.03276349 -0.10389887  0.08694309\n",
      "  0.03431876 -0.22798012 -0.24412819  0.05065078  0.34168837 -0.11282693\n",
      " -0.00632849  0.00077667  0.15592967  0.06813121  0.21272267  0.0546594\n",
      " -0.00406933]\n",
      "07/23/2020 02:04:33 PM  [INFO    ]  [-0.17629772  0.17112608  0.14465781 -0.02431277 -0.24826865 -0.26722114\n",
      "  0.46837374 -0.03299977  0.1858928   0.13169344  0.40185141  0.5169816\n",
      " -0.194642   -0.25134731  0.19326959  0.0597616  -0.4280816  -0.02026556\n",
      " -0.29104437  0.03793323 -0.03671948 -0.00526947  0.03479129  0.06857905\n",
      "  0.0151884   0.09852172  0.23521099 -0.39161078  0.24436909 -0.14330091\n",
      "  0.40599565]\n",
      "peak memory: 159.52 MiB, increment: 0.07 MiB\n"
     ]
    }
   ],
   "source": [
    "%%memit\n",
    "unencrypted_weight = np.random.normal(loc=0,\n",
    "                                      scale=0.2, size =(train_features.to_numpy().shape[1]))\n",
    "logging.info(unencrypted_weight)\n",
    "unencrypted_bias = np.random.random((1))\n"
   ]
  },
  {
   "cell_type": "markdown",
   "metadata": {},
   "source": [
    "The confidential data as yet stored into a dictionnary, and will be used during the training only by functions which are passed as arguments to the fit methods. This encapsulation of sensitive data will allows us to ensure security during training later. "
   ]
  },
  {
   "cell_type": "markdown",
   "metadata": {},
   "source": [
    "# Training the unencrypted model"
   ]
  },
  {
   "cell_type": "code",
   "execution_count": 12,
   "metadata": {},
   "outputs": [
    {
     "name": "stdout",
     "output_type": "stream",
     "text": [
      "07/23/2020 02:04:35 PM  [INFO    ]  Model initialization\n"
     ]
    }
   ],
   "source": [
    "logging.info(\"Model initialization\")\n",
    "unencrypted_model = unencrypted_LR.LogisticRegression(init_weight=unencrypted_weight,\n",
    "                                                      init_bias=unencrypted_bias,\n",
    "                                                      verbose=VERBOSE,\n",
    "                                                      save_weight= SAVE_WEIGHT,\n",
    "                                                      max_epoch=EPOCH,\n",
    "                                                      learning_rate=LEARNING_RATE,\n",
    "                                                      momentum_rate=0,\n",
    "                                                      reg_para=REGULARIZATION_RATE,\n",
    "                                                      n_jobs = N_JOBS)"
   ]
  },
  {
   "cell_type": "code",
   "execution_count": 13,
   "metadata": {},
   "outputs": [
    {
     "name": "stdout",
     "output_type": "stream",
     "text": [
      "07/23/2020 02:04:37 PM  [INFO    ]  Training starting\n",
      "07/23/2020 02:04:37 PM  [INFO    ]  Just finished iteration number 1 \n",
      "07/23/2020 02:04:37 PM  [INFO    ]  Loss : 1.0060968300487356.\n",
      "07/23/2020 02:04:37 PM  [INFO    ]  Just finished iteration number 3 \n",
      "07/23/2020 02:04:37 PM  [INFO    ]  Loss : 0.4569661894409352.\n",
      "07/23/2020 02:04:37 PM  [INFO    ]  Just finished iteration number 5 \n",
      "07/23/2020 02:04:37 PM  [INFO    ]  Loss : 0.3935017767585469.\n",
      "07/23/2020 02:04:37 PM  [INFO    ]  Just finished iteration number 7 \n",
      "07/23/2020 02:04:37 PM  [INFO    ]  Loss : 0.35448613343479973.\n",
      "07/23/2020 02:04:37 PM  [INFO    ]  Just finished iteration number 9 \n",
      "07/23/2020 02:04:37 PM  [INFO    ]  Loss : 0.32872119017635276.\n",
      "07/23/2020 02:04:37 PM  [INFO    ]  Just finished iteration number 11 \n",
      "07/23/2020 02:04:37 PM  [INFO    ]  Loss : 0.3122796767857525.\n",
      "07/23/2020 02:04:37 PM  [INFO    ]  Just finished iteration number 13 \n",
      "07/23/2020 02:04:37 PM  [INFO    ]  Loss : 0.30193141835918996.\n",
      "07/23/2020 02:04:37 PM  [INFO    ]  Just finished iteration number 15 \n",
      "07/23/2020 02:04:37 PM  [INFO    ]  Loss : 0.2954307993495788.\n",
      "07/23/2020 02:04:37 PM  [INFO    ]  Just finished iteration number 17 \n",
      "07/23/2020 02:04:37 PM  [INFO    ]  Loss : 0.29133514403287125.\n",
      "07/23/2020 02:04:37 PM  [INFO    ]  Just finished iteration number 19 \n",
      "07/23/2020 02:04:37 PM  [INFO    ]  Loss : 0.2887413787522341.\n",
      "07/23/2020 02:04:37 PM  [INFO    ]  Training done. 0.0 seconds\n"
     ]
    }
   ],
   "source": [
    "logging.info(\"Training starting\")\n",
    "timer=time.time()\n",
    "unencrypted_model.fit(train_features.to_numpy(), train_labels.to_numpy().reshape((-1, 1)))\n",
    "logging.info(\"Training done. \" + str(round(time.time() - timer, 0)) + \" seconds\")"
   ]
  },
  {
   "cell_type": "code",
   "execution_count": null,
   "metadata": {},
   "outputs": [],
   "source": [
    "acc = unencrypted_model.accuracy(test_features.to_numpy(), test_labels.to_numpy().reshape((-1, 1)))\n",
    "logging.info(\"Accuracy of unencrypted model : %s \" % acc)"
   ]
  },
  {
   "cell_type": "code",
   "execution_count": 44,
   "metadata": {},
   "outputs": [
    {
     "name": "stdout",
     "output_type": "stream",
     "text": [
      "07/23/2020 02:09:36 PM  [INFO    ]  Model initialization\n"
     ]
    }
   ],
   "source": [
    "logging.info(\"Model initialization\")\n",
    "unencrypted_model_wm = unencrypted_LR.LogisticRegression(init_weight=unencrypted_weight,\n",
    "                                                      init_bias=unencrypted_bias,\n",
    "                                                      verbose=VERBOSE,\n",
    "                                                      save_weight= SAVE_WEIGHT,\n",
    "                                                      max_epoch=EPOCH,\n",
    "                                                      learning_rate=LEARNING_RATE+0.1,\n",
    "                                                      momentum_rate=0.2,\n",
    "                                                      reg_para=REGULARIZATION_RATE,\n",
    "                                                      n_jobs = N_JOBS)"
   ]
  },
  {
   "cell_type": "code",
   "execution_count": 45,
   "metadata": {},
   "outputs": [
    {
     "name": "stdout",
     "output_type": "stream",
     "text": [
      "07/23/2020 02:09:36 PM  [INFO    ]  Training starting\n",
      "07/23/2020 02:09:36 PM  [INFO    ]  Just finished iteration number 1 \n",
      "07/23/2020 02:09:36 PM  [INFO    ]  Loss : 1.008405696849794.\n",
      "07/23/2020 02:09:36 PM  [INFO    ]  Just finished iteration number 3 \n",
      "07/23/2020 02:09:36 PM  [INFO    ]  Loss : 0.393648582570402.\n",
      "07/23/2020 02:09:36 PM  [INFO    ]  Just finished iteration number 5 \n",
      "07/23/2020 02:09:36 PM  [INFO    ]  Loss : 0.33839942199646916.\n",
      "07/23/2020 02:09:36 PM  [INFO    ]  Just finished iteration number 7 \n",
      "07/23/2020 02:09:36 PM  [INFO    ]  Loss : 0.31826370707275353.\n",
      "07/23/2020 02:09:36 PM  [INFO    ]  Just finished iteration number 9 \n",
      "07/23/2020 02:09:36 PM  [INFO    ]  Loss : 0.30154484500417356.\n",
      "07/23/2020 02:09:36 PM  [INFO    ]  Just finished iteration number 11 \n",
      "07/23/2020 02:09:36 PM  [INFO    ]  Loss : 0.292996608369274.\n",
      "07/23/2020 02:09:36 PM  [INFO    ]  Just finished iteration number 13 \n",
      "07/23/2020 02:09:36 PM  [INFO    ]  Loss : 0.2887470906986167.\n",
      "07/23/2020 02:09:36 PM  [INFO    ]  Just finished iteration number 15 \n",
      "07/23/2020 02:09:36 PM  [INFO    ]  Loss : 0.28657839179788164.\n",
      "07/23/2020 02:09:36 PM  [INFO    ]  Just finished iteration number 17 \n",
      "07/23/2020 02:09:36 PM  [INFO    ]  Loss : 0.28543998270568033.\n",
      "07/23/2020 02:09:36 PM  [INFO    ]  Just finished iteration number 19 \n",
      "07/23/2020 02:09:36 PM  [INFO    ]  Loss : 0.28482529093913106.\n",
      "07/23/2020 02:09:36 PM  [INFO    ]  Training done. 0.0 seconds\n"
     ]
    }
   ],
   "source": [
    "logging.info(\"Training starting\")\n",
    "timer=time.time()\n",
    "unencrypted_model_wm.fit(train_features.to_numpy(), train_labels.to_numpy().reshape((-1, 1)))\n",
    "logging.info(\"Training done. \" + str(round(time.time() - timer, 0)) + \" seconds\")"
   ]
  },
  {
   "cell_type": "markdown",
   "metadata": {},
   "source": [
    "# Figures"
   ]
  },
  {
   "cell_type": "markdown",
   "metadata": {},
   "source": [
    "## encrypted and unencrypted losses "
   ]
  },
  {
   "cell_type": "code",
   "execution_count": 46,
   "metadata": {},
   "outputs": [
    {
     "data": {
      "text/plain": [
       "<matplotlib.legend.Legend at 0x7f845b370240>"
      ]
     },
     "execution_count": 46,
     "metadata": {},
     "output_type": "execute_result"
    },
    {
     "name": "stdout",
     "output_type": "stream",
     "text": [
      "07/23/2020 02:09:37 PM  [DEBUG   ]  update_title_pos\n",
      "07/23/2020 02:09:37 PM  [DEBUG   ]  update_title_pos\n",
      "07/23/2020 02:09:37 PM  [DEBUG   ]  update_title_pos\n",
      "07/23/2020 02:09:37 PM  [DEBUG   ]  update_title_pos\n",
      "07/23/2020 02:09:37 PM  [DEBUG   ]  update_title_pos\n"
     ]
    },
    {
     "data": {
      "image/png": "[encoded data removed]",
      "text/plain": [
       "<Figure size 432x288 with 1 Axes>"
      ]
     },
     "metadata": {
      "needs_background": "light"
     },
     "output_type": "display_data"
    }
   ],
   "source": [
    "plt.plot([i*VERBOSE for i in range(len(unencrypted_model_wm.true_loss_list))], unencrypted_model_wm.true_loss_list, label='momentum'+str(unencrypted_model_wm.mr))\n",
    "plt.plot([i*VERBOSE for i in range(len(unencrypted_model.true_loss_list))], unencrypted_model.true_loss_list,label='momentum'+str(unencrypted_model.mr))\n",
    "plt.xlabel('Epoch')\n",
    "plt.ylabel('Loss')\n",
    "plt.title('Losses evolution of both models')\n",
    "plt.legend(loc='best')"
   ]
  },
  {
   "cell_type": "markdown",
   "metadata": {},
   "source": [
    "## Unencrypted loss"
   ]
  },
  {
   "cell_type": "markdown",
   "metadata": {},
   "source": [
    "# Errors"
   ]
  },
  {
   "cell_type": "markdown",
   "metadata": {},
   "source": [
    "## Relative error between losses"
   ]
  },
  {
   "cell_type": "code",
   "execution_count": null,
   "metadata": {},
   "outputs": [],
   "source": [
    "decrypted = [i.decrypt(secret_key)[0] for i in model.loss_list]\n",
    "true_err_cl = np.abs(np.array(decrypted) - np.array(unencrypted_model.loss_list))\n",
    "rel_err_cl = true_err_cl/np.abs(decrypted)\n",
    "true_err_ct = np.abs(np.array(decrypted) - np.array(unencrypted_model.true_loss_list))\n",
    "rel_err_ct = true_err_ct/np.abs(decrypted)\n",
    "true_err_lt = np.abs(np.array(unencrypted_model.loss_list) - np.array(unencrypted_model.true_loss_list))\n",
    "rel_err_lt = true_err_lt/np.abs(unencrypted_model.true_loss_list)\n"
   ]
  },
  {
   "cell_type": "code",
   "execution_count": null,
   "metadata": {},
   "outputs": [],
   "source": [
    "plt.plot([i*VERBOSE for i in range(len(model.loss_list))],  rel_err_cl, label='cipherloss and plainloss')\n",
    "plt.plot([i*VERBOSE for i in range(len(model.loss_list))],  rel_err_ct, label='cipherloss and trueloss' )\n",
    "plt.plot([i*VERBOSE for i in range(len(model.loss_list))],  rel_err_lt, label='plainlosses')\n",
    "plt.legend(loc='best')\n",
    "plt.xlabel('Epoch')\n",
    "plt.ylabel('Relative error on loss')\n",
    "plt.title('Relative error between losses')"
   ]
  },
  {
   "cell_type": "markdown",
   "metadata": {},
   "source": [
    "## Relative error between weights"
   ]
  },
  {
   "cell_type": "code",
   "execution_count": null,
   "metadata": {},
   "outputs": [],
   "source": [
    "dwl = np.array([i.decrypt(secret_key) for i in model.weight_list])\n",
    "dbl = np.array([i.decrypt(secret_key) for i in model.bias_list]).reshape((-1,1))\n",
    "dl = np.concatenate((dwl,dbl), axis=1)\n",
    "\n",
    "ul = np.concatenate((np.array(unencrypted_model.weight_list), np.array(unencrypted_model.bias_list).reshape((-1,1))), axis=1)\n",
    "w_err = np.mean((np.abs(dl-ul)/np.abs(ul)), axis=1)"
   ]
  },
  {
   "cell_type": "code",
   "execution_count": null,
   "metadata": {},
   "outputs": [],
   "source": [
    "plt.plot([i*VERBOSE for i in range(w_err.shape[0])],w_err)\n",
    "plt.xlabel('Epoch')\n",
    "plt.ylabel('Relative error on weights')\n",
    "plt.title('Relative error between encrypted weights and unencrypted weights')"
   ]
  },
  {
   "cell_type": "markdown",
   "metadata": {},
   "source": [
    "# Error of the log approx, crypted and decrypted"
   ]
  },
  {
   "cell_type": "code",
   "execution_count": null,
   "metadata": {},
   "outputs": [],
   "source": [
    "uX=np.linspace(0.01, 1, 10).reshape((-1,1))\n",
    "eX = crytp_array(uX, local_context=context)"
   ]
  },
  {
   "cell_type": "code",
   "execution_count": null,
   "metadata": {},
   "outputs": [],
   "source": [
    "def log(x):\n",
    "    poly_coeff = [-3.57257812,  8.78497194, -6.88562064,  1.81888491]\n",
    "    return x.polyval([i  for i in poly_coeff])"
   ]
  },
  {
   "cell_type": "code",
   "execution_count": null,
   "metadata": {},
   "outputs": [],
   "source": [
    "el = [log(x) for x in eX]"
   ]
  },
  {
   "cell_type": "code",
   "execution_count": null,
   "metadata": {},
   "outputs": [],
   "source": [
    "dX = [i.decrypt(secret_key) for i in el]"
   ]
  },
  {
   "cell_type": "code",
   "execution_count": null,
   "metadata": {},
   "outputs": [],
   "source": [
    "dX"
   ]
  },
  {
   "cell_type": "code",
   "execution_count": null,
   "metadata": {},
   "outputs": [],
   "source": [
    "np.log(uX)"
   ]
  },
  {
   "cell_type": "code",
   "execution_count": null,
   "metadata": {},
   "outputs": [],
   "source": [
    "np.abs(dX - np.log(uX))/uX"
   ]
  },
  {
   "cell_type": "code",
   "execution_count": null,
   "metadata": {},
   "outputs": [],
   "source": []
  }
 ],
 "metadata": {
  "kernelspec": {
   "display_name": "Python 3",
   "language": "python",
   "name": "python3"
  },
  "language_info": {
   "codemirror_mode": {
    "name": "ipython",
    "version": 3
   },
   "file_extension": ".py",
   "mimetype": "text/x-python",
   "name": "python",
   "nbconvert_exporter": "python",
   "pygments_lexer": "ipython3",
   "version": "3.7.3"
  }
 },
 "nbformat": 4,
 "nbformat_minor": 2
}
