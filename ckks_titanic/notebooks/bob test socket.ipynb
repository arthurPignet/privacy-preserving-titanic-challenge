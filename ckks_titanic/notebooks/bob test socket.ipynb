{
 "cells": [
  {
   "cell_type": "code",
   "execution_count": 1,
   "metadata": {},
   "outputs": [],
   "source": [
    "#!/usr/bin/env python3\n",
    "import numpy as np\n",
    "import socket\n",
    "import pickle as pk\n",
    "impo"
   ]
  },
  {
   "cell_type": "code",
   "execution_count": 2,
   "metadata": {},
   "outputs": [],
   "source": [
    "def recieve(alice):\n",
    "    print('revc')\n",
    "    b_data = []\n",
    "    while True:\n",
    "        print(\"t\")\n",
    "        packet = alice.recv(1024)\n",
    "        print(packet)\n",
    "        if packet == b'break':break\n",
    "        else:\n",
    "            b_data.append(packet)\n",
    "        \n",
    "    return pk.loads(b\"\".join(b_data))\n",
    "def send(alice, data):\n",
    "    print('sd')\n",
    "    b_data = pk.dumps(data)\n",
    "    alice.sendall(b_data)\n",
    "    alice.send(b'break')"
   ]
  },
  {
   "cell_type": "code",
   "execution_count": null,
   "metadata": {},
   "outputs": [
    {
     "name": "stdout",
     "output_type": "stream",
     "text": [
      "Connected by ('127.0.0.1', 58031)\n",
      "revc\n",
      "t\n",
      "b'\\x80\\x03K\\x01.break\\x80\\x03K\\x02.break\\x80\\x03K\\x03.break\\x80\\x03K\\x04.break'\n",
      "t\n",
      "b'\\x80\\x03K\\x05.'\n",
      "t\n",
      "b'break\\x80\\x03K\\x06.'\n",
      "t\n",
      "b'break'\n",
      "sorti\n",
      "1\n",
      "sd\n",
      "revc\n",
      "t\n",
      "b'\\x80\\x03K\\x07.break\\x80\\x03K\\x08.break\\x80\\x03K\\t.break\\x80\\x03K\\n.break'\n",
      "t\n"
     ]
    }
   ],
   "source": [
    "\n",
    "\n",
    "HOST = '127.0.0.1'  # Standard loopback interface address (localhost)\n",
    "PORT = 65432        # Port to listen on (non-privileged ports are > 1023)\n",
    "\n",
    "with socket.socket(socket.AF_INET, socket.SOCK_STREAM) as s:\n",
    "    s.bind((HOST, PORT))\n",
    "    s.listen()\n",
    "    conn, addr = s.accept()\n",
    "    with conn:\n",
    "        print('Connected by', addr)\n",
    "        while True:\n",
    "            data = recieve(conn)\n",
    "            print('sorti')\n",
    "            print(data)\n",
    "            if data == b'KILLBOB':\n",
    "                conn.sendall(b'killing myself')\n",
    "                print('killing myself')\n",
    "                break\n",
    "            else:\n",
    "                data+=1\n",
    "                send(conn,data)"
   ]
  },
  {
   "cell_type": "code",
   "execution_count": null,
   "metadata": {},
   "outputs": [],
   "source": []
  }
 ],
 "metadata": {
  "kernelspec": {
   "display_name": "TenSEAL",
   "language": "python",
   "name": "tenseal"
  },
  "language_info": {
   "codemirror_mode": {
    "name": "ipython",
    "version": 3
   },
   "file_extension": ".py",
   "mimetype": "text/x-python",
   "name": "python",
   "nbconvert_exporter": "python",
   "pygments_lexer": "ipython3",
   "version": "3.7.7"
  }
 },
 "nbformat": 4,
 "nbformat_minor": 4
}
