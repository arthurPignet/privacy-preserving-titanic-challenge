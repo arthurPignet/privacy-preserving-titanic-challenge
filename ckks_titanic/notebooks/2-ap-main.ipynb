{
 "cells": [
  {
   "cell_type": "code",
   "execution_count": 1,
   "metadata": {},
   "outputs": [],
   "source": [
    "import time\n",
    "import os\n",
    "import sys\n",
    "import logging\n",
    "\n",
    "import numpy as np\n",
    "import tenseal as ts\n",
    "\n",
    "from sklearn.model_selection import train_test_split\n",
    "os.chdir(\"C://Users//apignet//Documents/homomorphic-encryption/ckks_titanic/\")\n",
    "from src.features import build_features\n",
    "from models import encrypted_LR\n",
    "from models import unencrypted_LR"
   ]
  },
  {
   "cell_type": "code",
   "execution_count": 2,
   "metadata": {},
   "outputs": [],
   "source": [
    "%load_ext memory_profiler"
   ]
  },
  {
   "cell_type": "code",
   "execution_count": 3,
   "metadata": {},
   "outputs": [
    {
     "data": {
      "text/plain": [
       "1"
      ]
     },
     "execution_count": 3,
     "metadata": {},
     "output_type": "execute_result"
    }
   ],
   "source": [
    "import matplotlib.pyplot as plt\n",
    "%matplotlib inline\n",
    "1"
   ]
  },
  {
   "cell_type": "markdown",
   "metadata": {},
   "source": [
    "# definition of parameters"
   ]
  },
  {
   "cell_type": "markdown",
   "metadata": {},
   "source": [
    "### Log "
   ]
  },
  {
   "cell_type": "markdown",
   "metadata": {},
   "source": [
    "### Paths"
   ]
  },
  {
   "cell_type": "code",
   "execution_count": 4,
   "metadata": {},
   "outputs": [],
   "source": [
    "DATA_PATH = \"/data/raw/\"            # whole data set\n",
    "#DATA_PATH = \"/data/quick_demo/\"   # subset of the data set, with 15 train_samples and 5 test_samples\n",
    "#DATA_PATH = \"/home/apignet/homomorphic-encryption/ckks_titanic/data/quick_demo/\"   # subset of the data set, with 400 train_samples and 50 test_samples\n",
    "#DATA_PATH =   '/data/quick_demo/'\n",
    "LOG_PATH = \"reports/log\"\n",
    "LOG_FILENAME = \"test_0716\""
   ]
  },
  {
   "cell_type": "code",
   "execution_count": 5,
   "metadata": {},
   "outputs": [],
   "source": [
    "fileHandler = logging.FileHandler(\"{0}/{1}.log\".format(LOG_PATH, LOG_FILENAME))\n",
    "streamHandler = logging.StreamHandler(sys.stdout)\n",
    "logging.basicConfig(format=\"%(asctime)s  [%(levelname)-8.8s]  %(message)s\", datefmt='%m/%d/%Y %I:%M:%S %p', level = logging.INFO, handlers=[fileHandler, streamHandler])"
   ]
  },
  {
   "cell_type": "code",
   "execution_count": 6,
   "metadata": {},
   "outputs": [
    {
     "data": {
      "text/plain": [
       "'C:\\\\Users\\\\apignet\\\\Documents\\\\homomorphic-encryption\\\\ckks_titanic'"
      ]
     },
     "execution_count": 6,
     "metadata": {},
     "output_type": "execute_result"
    }
   ],
   "source": [
    "os.getcwd()"
   ]
  },
  {
   "cell_type": "markdown",
   "metadata": {},
   "source": [
    "### Training variables"
   ]
  },
  {
   "cell_type": "code",
   "execution_count": 7,
   "metadata": {},
   "outputs": [],
   "source": [
    "EPOCH = 40\n",
    "LEARNING_RATE = 0.9\n",
    "MOMENTUM_RATE = 0.6\n",
    "REGULARIZATION_RATE = 0.5\n",
    "VERBOSE = 2\n",
    "SAVE_WEIGHT = 2\n",
    "N_JOBS = 1"
   ]
  },
  {
   "cell_type": "markdown",
   "metadata": {},
   "source": [
    "## Static functions"
   ]
  },
  {
   "cell_type": "code",
   "execution_count": 8,
   "metadata": {},
   "outputs": [],
   "source": [
    "def crytp_array(X, local_context):\n",
    "    \"\"\"\n",
    "    This function encrypt a list of vector\n",
    "    \n",
    "    :parameters \n",
    "    ------------\n",
    "    \n",
    "    :param X ; list of list, interpreted as list of vector to encrypt\n",
    "    :param local_context ; TenSEAL context object used to encrypt\n",
    "    \n",
    "    :returns\n",
    "    ------------\n",
    "    \n",
    "    list ; list of CKKS ciphertext  \n",
    "    \n",
    "    \"\"\"\n",
    "    res = []\n",
    "    for i in range(len(X)):\n",
    "        res.append(ts.ckks_vector(local_context, X[i]))\n",
    "        if i == len(X) // 4:\n",
    "            logging.info(\"25 % ...\")\n",
    "        elif i == len(X) // 2 :\n",
    "            logging.info(\"50 % ...\")\n",
    "        elif i == 3* len(X)//4:\n",
    "            logging.info(\"75% ...\")\n",
    "    return res"
   ]
  },
  {
   "cell_type": "markdown",
   "metadata": {},
   "source": [
    "### Confidential functions\n",
    "\n",
    "These functions involves security breachs (as use of unencrypted data, or decryption of weights) and cannot be coded by Alice.\n",
    "However, the functions encapslulate the unsafe process, so can be performed by Alice if Bob provides them. \n",
    "Therefore, they are currently passed as parameters to Alice, which only calls them.\n",
    "\n",
    "Currently there is a huge security breach, as confidential parameters (security key for instance), which are needed by those functions, are passed in a dictionnary to Alice. \n",
    "For a safe protocole, we have to change these functions, to set up a safe communication protocole between Bob and Alice.\n",
    "Alice will therefore only send the crypted data to Bob (using these functions, in which can be set up the communication process) and Bob will locally perform the functions which are currently coded bellow. "
   ]
  },
  {
   "cell_type": "code",
   "execution_count": 9,
   "metadata": {},
   "outputs": [],
   "source": [
    "def refresh(ciphertext, **kwarg):\n",
    "    \"\"\"\n",
    "    This function is here to refresh a ciphertext. This operation reset to 0 the calculus depth of the input ciphertext \n",
    "    WARNING :  Basically the function decryt and re-encrypt the ciphertext. \n",
    "    This is not safe, this operation needs to be done by a trusted part \n",
    "    (Bob for the perfect instance, even if it requieres communications between Alice and Bob while training)\n",
    "    \n",
    "    :parameters \n",
    "    ------------\n",
    "    \n",
    "    ciphertext ; encrypted CKKS vector \n",
    "    **kwarg ; dict, must contain context and secret_key.\n",
    "    \n",
    "    :returns\n",
    "    ------------\n",
    "    \n",
    "    ciphertext : encrypted CKKS vector \n",
    "    \n",
    "    \"\"\"\n",
    "    context = kwarg.get(\"context\", None)\n",
    "    secret_key = kwarg.get(\"secret_key\", None)\n",
    "    assert context , \"Context must be provided with the key : context\"+str(context)\n",
    "    if context.is_private():\n",
    "        return ts.ckks_vector(context, ciphertext.decrypt())\n",
    "    else : \n",
    "        if not secret_key:\n",
    "            raise AttributeError(\"The secret key is not provided and the context provided is public, decryption is not possible\")\n",
    "        else:\n",
    "            return ts.ckks_vector(context, ciphertext.decrypt(secret_key))\n",
    "   \n",
    "            \n",
    "def accuracy(crypted_weight, crypted_bias, prior_unencrypted_X = None, prior_unencrypted_Y=None, **kwarg):\n",
    "    \"\"\"\n",
    "    This function is here to compute the accuracy\n",
    "    1-NOTE : we could maybe estimate this function homomorphically, by designing an approximation of the sign function. \n",
    "    However, this kind of approximation seems really hard to set up \n",
    "    Therefore, we will not be able to use the metric, as the result is encrypted.\n",
    "    2-NOTE : this function could be parallelized, as we do not need the result for the next epoch. \n",
    "    \n",
    "    :parameters \n",
    "    ------------\n",
    "    \n",
    "    crypted_weight ; encrypted CKKS vector (size equal to the number of features)\n",
    "    crypted_bias ; encrypted CKKS vector (size 1)\n",
    "    (Optionnal) prior_unencrypted_X ; samples on which the model accuracy will be computed. \n",
    "                                If not provided, the accuracy will be computed with the data provided in the kwarg\n",
    "    (Optionnal) prior_unencrypted_Y ; labels on which the model accuracy will be computed. If not provided.\n",
    "                                If not provided, the accuracy will be computed with the data provided in the kwarg\n",
    "    **kwarg ; dict, must contain context, secret_key, (Optionnal) unencrytped_X and (Optionnal) unencrypted_Y \n",
    "    \n",
    "    :returns\n",
    "    ------------\n",
    "    \n",
    "    accuray : float (rounded to 2 digits)\n",
    "    \n",
    "    \n",
    "    \"\"\"\n",
    "    context = kwarg.get(\"context\", None)\n",
    "    if not context:\n",
    "        raise AttributeError(\"Context must be provided in the **kwarg, with the key : context\")\n",
    "    secret_key = kwarg.get(\"secret_key\", None)\n",
    "    if prior_unencrypted_X is None:\n",
    "        unencrypted_X = kwarg.get(\"unencrypted_X\", None)\n",
    "        if unencrypted_X is None:\n",
    "            raise AttributeError(\"Unencrypted samples must be provided, either in the arguments, or in the **kwarg, with the key : unencrypted_X\")\n",
    "    else:\n",
    "        unencrypted_X = np.array(prior_unencrypted_X)\n",
    "    if prior_unencrypted_Y is None:\n",
    "        unencrypted_Y = kwarg.get(\"unencrypted_Y\", None)\n",
    "        if unencrypted_Y is None:\n",
    "            raise AttributeError(\"Unencrypted labels must be provided, either in the arguments, or in the **kwarg, with the key : unencrypted_Y\")\n",
    "    else:\n",
    "        unencrypted_Y = np.array(prior_unencrypted_Y)\n",
    "    if context.is_private():\n",
    "            weight = np.array(crypted_weight.decrypt())\n",
    "            bias = np.array(crypted_bias.decrypt())\n",
    "    else : \n",
    "        if not secret_key:\n",
    "            raise AttributeError(\"The secret key is not provided and the context provided is public, decryption is not possible. Pass a private context or the secret key\")\n",
    "        else:\n",
    "            weight = np.array(crypted_weight.decrypt(secret_key))\n",
    "            bias = np.array(crypted_bias.decrypt(secret_key))\n",
    "            \n",
    "    re = unencrypted_X.dot(weight) + bias  \n",
    "    prediction = (np.float_power(re, 3)) * -0.004 + re * 0.197 + 0.5\n",
    "    print(prediction)\n",
    "    return (np.abs((unencrypted_Y-prediction.reshape(unencrypted_Y.shape))) < 0.5).astype(float).mean()\n",
    "    "
   ]
  },
  {
   "cell_type": "markdown",
   "metadata": {},
   "source": [
    "# Loading and processing the data"
   ]
  },
  {
   "cell_type": "code",
   "execution_count": 10,
   "metadata": {},
   "outputs": [
    {
     "name": "stdout",
     "output_type": "stream",
     "text": [
      "07/27/2020 04:11:58 PM  [INFO    ]  C:\\Users\\apignet\\Documents\\homomorphic-encryption\\ckks_titanic\n",
      "07/27/2020 04:11:58 PM  [INFO    ]  loading the data into memory (pandas df)\n",
      "07/27/2020 04:11:58 PM  [INFO    ]  Done\n",
      "07/27/2020 04:11:58 PM  [INFO    ]  making final data set from raw data\n",
      "07/27/2020 04:11:58 PM  [INFO    ]  Done\n",
      "07/27/2020 04:11:59 PM  [INFO    ]  C:\\Users\\apignet\\Documents\\homomorphic-encryption\\ckks_titanic\n",
      "07/27/2020 04:11:59 PM  [INFO    ]  loading the data into memory (pandas df)\n",
      "07/27/2020 04:11:59 PM  [INFO    ]  Done\n",
      "07/27/2020 04:11:59 PM  [INFO    ]  making final data set from raw data\n",
      "07/27/2020 04:11:59 PM  [INFO    ]  Done\n",
      "peak memory: 134.46 MiB, increment: 4.64 MiB\n"
     ]
    }
   ],
   "source": [
    "%%memit\n",
    "logging.info(os.getcwd())\n",
    "raw_train, raw_test = build_features.data_import(os.getcwd()+DATA_PATH)\n",
    "train, submission_test = build_features.processing(raw_train, raw_test)\n",
    "del submission_test"
   ]
  },
  {
   "cell_type": "code",
   "execution_count": 11,
   "metadata": {},
   "outputs": [
    {
     "name": "stdout",
     "output_type": "stream",
     "text": [
      "peak memory: 133.79 MiB, increment: 0.04 MiB\n"
     ]
    }
   ],
   "source": [
    "%%memit\n",
    "train, test = train_test_split(train, test_size=0.15)\n",
    "train_labels = train.Survived\n",
    "test_labels = test.Survived\n",
    "train_features = train.drop(\"Survived\", axis=1)\n",
    "test_features = test.drop(\"Survived\", axis=1)"
   ]
  },
  {
   "cell_type": "markdown",
   "metadata": {},
   "source": [
    "# Definition of safety parameters"
   ]
  },
  {
   "cell_type": "code",
   "execution_count": 12,
   "metadata": {},
   "outputs": [
    {
     "name": "stdout",
     "output_type": "stream",
     "text": [
      "07/27/2020 04:12:04 PM  [INFO    ]  Definition of safety parameters...\n",
      "07/27/2020 04:12:06 PM  [INFO    ]  Done. 2.11 seconds\n",
      "07/27/2020 04:12:06 PM  [INFO    ]  Generation of the secret key...\n",
      "07/27/2020 04:12:06 PM  [INFO    ]  Done. 0.0 seconds\n",
      "07/27/2020 04:12:06 PM  [INFO    ]  Generation of the Galois Key...\n",
      "07/27/2020 04:12:12 PM  [INFO    ]  Done. 6.14 seconds\n",
      "07/27/2020 04:12:12 PM  [INFO    ]  Generation of the Relin Key...\n",
      "07/27/2020 04:12:13 PM  [INFO    ]  Done. 0.27 seconds\n",
      "peak memory: 702.79 MiB, increment: 568.99 MiB\n"
     ]
    }
   ],
   "source": [
    "%%memit\n",
    "logging.info('Definition of safety parameters...')\n",
    "timer = time.time()\n",
    "# context = ts.context(ts.SCHEME_TYPE.CKKS, 32768,\n",
    "# coeff_mod_bit_sizes=[60, 40, 40, 40, 40, 40, 40, 40, 40, 40, 40, 40, 40, 40, 40, 60])\n",
    "#context = ts.context(ts.SCHEME_TYPE.CKKS, 8192, coeff_mod_bit_sizes=[40, 21, 21, 21, 21, 21, 21, 40])\n",
    "\n",
    "context = ts.context(ts.SCHEME_TYPE.CKKS, 16384, coeff_mod_bit_sizes=[60, 40, 40, 40, 40, 40, 40,40, 60])\n",
    "context.global_scale = pow(2, 40)\n",
    "logging.info(\"Done. \" + str(round(time.time() - timer, 2)) + \" seconds\")\n",
    "\n",
    "\n",
    "logging.info('Generation of the secret key...')\n",
    "timer = time.time()\n",
    "secret_key = context.secret_key()\n",
    "#context.make_context_public() #drop the relin keys, the galois keys, and the secret keys. \n",
    "logging.info(\"Done. \" + str(round(time.time() - timer, 2)) + \" seconds\")\n",
    "logging.info('Generation of the Galois Key...')\n",
    "timer = time.time()\n",
    "context.generate_galois_keys(secret_key)\n",
    "logging.info(\"Done. \" + str(round(time.time() - timer, 2)) + \" seconds\")\n",
    "logging.info('Generation of the Relin Key...')\n",
    "timer = time.time()\n",
    "context.generate_relin_keys(secret_key)\n",
    "logging.info(\"Done. \" + str(round(time.time() - timer, 2)) + \" seconds\")\n",
    "if context.is_public():\n",
    "    logging.info(\"The context is now public, the context do not hold the secret key anymore, and decrypt methods need the secret key to be provide,\")\n",
    "\n"
   ]
  },
  {
   "cell_type": "markdown",
   "metadata": {},
   "source": [
    "# Data encryption"
   ]
  },
  {
   "cell_type": "code",
   "execution_count": 13,
   "metadata": {},
   "outputs": [
    {
     "name": "stdout",
     "output_type": "stream",
     "text": [
      "07/27/2020 04:12:14 PM  [INFO    ]  Data encryption...\n",
      "07/27/2020 04:12:19 PM  [INFO    ]  25 % ...\n",
      "07/27/2020 04:12:24 PM  [INFO    ]  50 % ...\n",
      "07/27/2020 04:12:29 PM  [INFO    ]  75% ...\n",
      "07/27/2020 04:12:39 PM  [INFO    ]  25 % ...\n",
      "07/27/2020 04:12:44 PM  [INFO    ]  50 % ...\n",
      "07/27/2020 04:12:49 PM  [INFO    ]  75% ...\n",
      "07/27/2020 04:12:55 PM  [INFO    ]  25 % ...\n",
      "07/27/2020 04:12:56 PM  [INFO    ]  50 % ...\n",
      "07/27/2020 04:12:57 PM  [INFO    ]  75% ...\n",
      "07/27/2020 04:12:58 PM  [INFO    ]  25 % ...\n",
      "07/27/2020 04:12:59 PM  [INFO    ]  50 % ...\n",
      "07/27/2020 04:13:00 PM  [INFO    ]  75% ...\n",
      "07/27/2020 04:13:01 PM  [INFO    ]  Done. 47.25 seconds\n",
      "peak memory: 3277.16 MiB, increment: 2575.38 MiB\n"
     ]
    }
   ],
   "source": [
    "%%memit\n",
    "logging.info(\"Data encryption...\")\n",
    "timer = time.time()\n",
    "encrypted_X = crytp_array(train_features.to_numpy(), context)\n",
    "encrypted_Y = crytp_array(train_labels.to_numpy().reshape((-1, 1)), context)\n",
    "encrypted_test_X = crytp_array(test_features.to_numpy(), context)\n",
    "encrypted_test_Y = crytp_array(test_labels.to_numpy().reshape((-1, 1)), context)\n",
    "logging.info(\"Done. \" + str(round(time.time() - timer, 2)) + \" seconds\")"
   ]
  },
  {
   "cell_type": "markdown",
   "metadata": {},
   "source": [
    "# Initialize the weight\n",
    "\n",
    "The weights have to be crypted "
   ]
  },
  {
   "cell_type": "code",
   "execution_count": 14,
   "metadata": {},
   "outputs": [
    {
     "name": "stdout",
     "output_type": "stream",
     "text": [
      "07/27/2020 04:13:02 PM  [INFO    ]  [-0.18697702  0.35901735  0.1844088  -0.14490278 -0.13177714  0.02600066\n",
      " -0.01228767 -0.30740482  0.43170242 -0.01972261 -0.29785908  0.07022252\n",
      "  0.13710597  0.05373127  0.34850938 -0.4462788   0.06469832  0.30852834\n",
      "  0.03210874  0.12304691  0.2473772  -0.14819954  0.19390938  0.39916354\n",
      "  0.15106349  0.29429811 -0.26985678  0.18554541  0.11156988  0.11174232\n",
      "  0.3768097   0.53257406]\n",
      "07/27/2020 04:13:04 PM  [INFO    ]  [ 0.17417375 -0.01700633 -0.16862914  0.04860831 -0.08339361  0.10912779\n",
      "  0.31395505 -0.37799035 -0.05456657  0.24809188 -0.20257786  0.42403702\n",
      " -0.242344   -0.28319957  0.01018761  0.48400809 -0.2554772  -0.17479583\n",
      "  0.01720372 -0.06577052 -0.00311102  0.21139184  0.47925557  0.06102232\n",
      "  0.11005595 -0.04247231 -0.03346959  0.10579345  0.20407741  0.04133294\n",
      "  0.07746621  0.20169146]\n",
      "peak memory: 3283.37 MiB, increment: 7.34 MiB\n"
     ]
    }
   ],
   "source": [
    "%%memit\n",
    "unencrypted_weight = np.random.normal(loc=0,\n",
    "                                      scale=0.2, size =(train_features.to_numpy().shape[1]))\n",
    "logging.info(unencrypted_weight)\n",
    "weight = ts.ckks_vector(context, unencrypted_weight)\n",
    "unencrypted_weight = np.array(unencrypted_weight)\n",
    "unencrypted_bias = np.random.random((1))\n",
    "bias = ts.ckks_vector(context, unencrypted_bias)\n",
    "unencrypted_bias = np.array(unencrypted_bias)"
   ]
  },
  {
   "cell_type": "markdown",
   "metadata": {},
   "source": [
    "The confidential data as yet stored into a dictionnary, and will be used during the training only by functions which are passed as arguments to the fit methods. This encapsulation of sensitive data will allows us to ensure security during training later. "
   ]
  },
  {
   "cell_type": "code",
   "execution_count": 15,
   "metadata": {},
   "outputs": [
    {
     "name": "stdout",
     "output_type": "stream",
     "text": [
      "peak memory: 3282.38 MiB, increment: 0.13 MiB\n"
     ]
    }
   ],
   "source": [
    "%%memit\n",
    "confidential_data = {'context':context,\n",
    "                     'secret_key':secret_key, \n",
    "                     'unencrypted_X':train_features.to_numpy(),\n",
    "                     'unencrypted_Y':train_labels.to_numpy().reshape((-1, 1)) \n",
    "                    }"
   ]
  },
  {
   "cell_type": "markdown",
   "metadata": {},
   "source": [
    "# Training the unencrypted model"
   ]
  },
  {
   "cell_type": "code",
   "execution_count": 16,
   "metadata": {},
   "outputs": [
    {
     "name": "stdout",
     "output_type": "stream",
     "text": [
      "07/27/2020 04:13:08 PM  [INFO    ]  Model initialization\n"
     ]
    }
   ],
   "source": [
    "logging.info(\"Model initialization\")\n",
    "unencrypted_model = unencrypted_LR.LogisticRegression(init_weight=unencrypted_weight,\n",
    "                                                      init_bias=unencrypted_bias,\n",
    "                                                      verbose=VERBOSE,\n",
    "                                                      save_weight= SAVE_WEIGHT,\n",
    "                                                      max_epoch=EPOCH,\n",
    "                                                      learning_rate=LEARNING_RATE,\n",
    "                                                      momentum_rate=MOMENTUM_RATE,\n",
    "                                                      reg_para=REGULARIZATION_RATE,\n",
    "                                                      n_jobs = N_JOBS)"
   ]
  },
  {
   "cell_type": "code",
   "execution_count": 17,
   "metadata": {},
   "outputs": [
    {
     "name": "stdout",
     "output_type": "stream",
     "text": [
      "07/27/2020 04:13:08 PM  [INFO    ]  Training starting\n",
      "07/27/2020 04:13:08 PM  [INFO    ]  Just finished iteration number 0 in  0.02199387550354004 seconds. Starting computations of the loss \n",
      "07/27/2020 04:13:08 PM  [INFO    ]  Loss : 1.8234586237397727.\n",
      "07/27/2020 04:13:08 PM  [INFO    ]  Just finished iteration number 1 in  0.018998384475708008 seconds. Starting computations of the loss \n",
      "07/27/2020 04:13:08 PM  [INFO    ]  Just finished iteration number 2 in  0.02200174331665039 seconds. Starting computations of the loss \n",
      "07/27/2020 04:13:08 PM  [INFO    ]  Loss : 1.3519068298206893.\n",
      "07/27/2020 04:13:08 PM  [INFO    ]  Just finished iteration number 3 in  0.01600360870361328 seconds. Starting computations of the loss \n",
      "07/27/2020 04:13:08 PM  [INFO    ]  Just finished iteration number 4 in  0.012997865676879883 seconds. Starting computations of the loss \n",
      "07/27/2020 04:13:08 PM  [INFO    ]  Loss : 1.2496812107119817.\n",
      "07/27/2020 04:13:08 PM  [INFO    ]  Just finished iteration number 5 in  0.022983789443969727 seconds. Starting computations of the loss \n",
      "07/27/2020 04:13:08 PM  [INFO    ]  Just finished iteration number 6 in  0.023001670837402344 seconds. Starting computations of the loss \n",
      "07/27/2020 04:13:08 PM  [INFO    ]  Loss : 1.1927494865336932.\n",
      "07/27/2020 04:13:08 PM  [INFO    ]  Just finished iteration number 7 in  0.022983312606811523 seconds. Starting computations of the loss \n",
      "07/27/2020 04:13:08 PM  [INFO    ]  Just finished iteration number 8 in  0.0209808349609375 seconds. Starting computations of the loss \n",
      "07/27/2020 04:13:08 PM  [INFO    ]  Loss : 1.1513517554995323.\n",
      "07/27/2020 04:13:08 PM  [INFO    ]  Just finished iteration number 9 in  0.02199697494506836 seconds. Starting computations of the loss \n",
      "07/27/2020 04:13:08 PM  [INFO    ]  Just finished iteration number 10 in  0.010975122451782227 seconds. Starting computations of the loss \n",
      "07/27/2020 04:13:08 PM  [INFO    ]  Loss : 1.1188724747562766.\n",
      "07/27/2020 04:13:08 PM  [INFO    ]  Just finished iteration number 11 in  0.014998435974121094 seconds. Starting computations of the loss \n",
      "07/27/2020 04:13:08 PM  [INFO    ]  Just finished iteration number 12 in  0.024001598358154297 seconds. Starting computations of the loss \n",
      "07/27/2020 04:13:09 PM  [INFO    ]  Loss : 1.0925040361347205.\n",
      "07/27/2020 04:13:09 PM  [INFO    ]  Just finished iteration number 13 in  0.011999845504760742 seconds. Starting computations of the loss \n",
      "07/27/2020 04:13:09 PM  [INFO    ]  Just finished iteration number 14 in  0.013004541397094727 seconds. Starting computations of the loss \n",
      "07/27/2020 04:13:09 PM  [INFO    ]  Loss : 1.0706540259743604.\n",
      "07/27/2020 04:13:09 PM  [INFO    ]  Just finished iteration number 15 in  0.013950824737548828 seconds. Starting computations of the loss \n",
      "07/27/2020 04:13:09 PM  [INFO    ]  Just finished iteration number 16 in  0.021999835968017578 seconds. Starting computations of the loss \n",
      "07/27/2020 04:13:09 PM  [INFO    ]  Loss : 1.052293048172867.\n",
      "07/27/2020 04:13:09 PM  [INFO    ]  Just finished iteration number 17 in  0.01799631118774414 seconds. Starting computations of the loss \n",
      "07/27/2020 04:13:09 PM  [INFO    ]  Just finished iteration number 18 in  0.014000654220581055 seconds. Starting computations of the loss \n",
      "07/27/2020 04:13:09 PM  [INFO    ]  Loss : 1.0367025473466325.\n",
      "07/27/2020 04:13:09 PM  [INFO    ]  Just finished iteration number 19 in  0.022006988525390625 seconds. Starting computations of the loss \n",
      "07/27/2020 04:13:09 PM  [INFO    ]  Just finished iteration number 20 in  0.01799798011779785 seconds. Starting computations of the loss \n",
      "07/27/2020 04:13:09 PM  [INFO    ]  Loss : 1.0233544109569805.\n",
      "07/27/2020 04:13:09 PM  [INFO    ]  Just finished iteration number 21 in  0.017002344131469727 seconds. Starting computations of the loss \n",
      "07/27/2020 04:13:09 PM  [INFO    ]  Just finished iteration number 22 in  0.024039030075073242 seconds. Starting computations of the loss \n",
      "07/27/2020 04:13:09 PM  [INFO    ]  Loss : 1.0118463455259055.\n",
      "07/27/2020 04:13:09 PM  [INFO    ]  Just finished iteration number 23 in  0.01600170135498047 seconds. Starting computations of the loss \n",
      "07/27/2020 04:13:09 PM  [INFO    ]  Just finished iteration number 24 in  0.01700305938720703 seconds. Starting computations of the loss \n",
      "07/27/2020 04:13:09 PM  [INFO    ]  Loss : 1.001864047467084.\n",
      "07/27/2020 04:13:09 PM  [INFO    ]  Just finished iteration number 25 in  0.021010160446166992 seconds. Starting computations of the loss \n",
      "07/27/2020 04:13:09 PM  [INFO    ]  Just finished iteration number 26 in  0.014999866485595703 seconds. Starting computations of the loss \n",
      "07/27/2020 04:13:09 PM  [INFO    ]  Loss : 0.9931574109409108.\n",
      "07/27/2020 04:13:09 PM  [INFO    ]  Just finished iteration number 27 in  0.018000125885009766 seconds. Starting computations of the loss \n",
      "07/27/2020 04:13:09 PM  [INFO    ]  Just finished iteration number 28 in  0.021988391876220703 seconds. Starting computations of the loss \n",
      "07/27/2020 04:13:09 PM  [INFO    ]  Loss : 0.985524657056043.\n",
      "07/27/2020 04:13:09 PM  [INFO    ]  Just finished iteration number 29 in  0.02099752426147461 seconds. Starting computations of the loss \n",
      "07/27/2020 04:13:09 PM  [INFO    ]  Just finished iteration number 30 in  0.02198934555053711 seconds. Starting computations of the loss \n",
      "07/27/2020 04:13:09 PM  [INFO    ]  Loss : 0.9788012420905992.\n",
      "07/27/2020 04:13:09 PM  [INFO    ]  Just finished iteration number 31 in  0.017993450164794922 seconds. Starting computations of the loss \n",
      "07/27/2020 04:13:09 PM  [INFO    ]  Just finished iteration number 32 in  0.016997337341308594 seconds. Starting computations of the loss \n",
      "07/27/2020 04:13:09 PM  [INFO    ]  Loss : 0.972851821486215.\n",
      "07/27/2020 04:13:09 PM  [INFO    ]  Just finished iteration number 33 in  0.012997150421142578 seconds. Starting computations of the loss \n",
      "07/27/2020 04:13:10 PM  [INFO    ]  Just finished iteration number 34 in  0.019983530044555664 seconds. Starting computations of the loss \n",
      "07/27/2020 04:13:10 PM  [INFO    ]  Loss : 0.9675642646009684.\n",
      "07/27/2020 04:13:10 PM  [INFO    ]  Just finished iteration number 35 in  0.02000594139099121 seconds. Starting computations of the loss \n",
      "07/27/2020 04:13:10 PM  [INFO    ]  Just finished iteration number 36 in  0.015000343322753906 seconds. Starting computations of the loss \n",
      "07/27/2020 04:13:10 PM  [INFO    ]  Loss : 0.9628451004422987.\n",
      "07/27/2020 04:13:10 PM  [INFO    ]  Just finished iteration number 37 in  0.015999555587768555 seconds. Starting computations of the loss \n",
      "07/27/2020 04:13:10 PM  [INFO    ]  Just finished iteration number 38 in  0.022998332977294922 seconds. Starting computations of the loss \n",
      "07/27/2020 04:13:10 PM  [INFO    ]  Loss : 0.9586159932618069.\n",
      "07/27/2020 04:13:10 PM  [INFO    ]  Just finished iteration number 39 in  0.017001628875732422 seconds. Starting computations of the loss \n",
      "07/27/2020 04:13:10 PM  [INFO    ]  Training done. 2.0 seconds\n"
     ]
    }
   ],
   "source": [
    "logging.info(\"Training starting\")\n",
    "timer=time.time()\n",
    "unencrypted_model.fit(train_features.to_numpy(), train_labels.to_numpy().reshape((-1, 1)))\n",
    "logging.info(\"Training done. \" + str(round(time.time() - timer, 0)) + \" seconds\")"
   ]
  },
  {
   "cell_type": "code",
   "execution_count": 18,
   "metadata": {},
   "outputs": [
    {
     "data": {
      "text/plain": [
       "40"
      ]
     },
     "execution_count": 18,
     "metadata": {},
     "output_type": "execute_result"
    }
   ],
   "source": [
    "unencrypted_model.iter"
   ]
  },
  {
   "cell_type": "markdown",
   "metadata": {},
   "source": [
    "### Unencrypted accuracy and loss"
   ]
  },
  {
   "cell_type": "code",
   "execution_count": 19,
   "metadata": {},
   "outputs": [
    {
     "name": "stdout",
     "output_type": "stream",
     "text": [
      "07/27/2020 04:13:10 PM  [INFO    ]  Accuracy of unencrypted model : 0.845360824742268 \n"
     ]
    },
    {
     "data": {
      "text/plain": [
       "<matplotlib.legend.Legend at 0x2012beb79c8>"
      ]
     },
     "execution_count": 19,
     "metadata": {},
     "output_type": "execute_result"
    },
    {
     "data": {
      "image/png": "[encoded data removed]",
      "text/plain": [
       "<Figure size 432x288 with 1 Axes>"
      ]
     },
     "metadata": {
      "needs_background": "light"
     },
     "output_type": "display_data"
    }
   ],
   "source": [
    "acc = unencrypted_model.accuracy(test_features.to_numpy(), test_labels.to_numpy().reshape((-1, 1)))\n",
    "logging.info(\"Accuracy of unencrypted model : %s \" % acc)\n",
    "\n",
    "plt.plot([i*VERBOSE for i in range(len(unencrypted_model.loss_list))], unencrypted_model.loss_list,'-xr' ,label='plainloss')\n",
    "plt.plot([i*VERBOSE for i in range(len(unencrypted_model.true_loss_list))], unencrypted_model.true_loss_list, '-ob', label='True plainloss')\n",
    "\n",
    "plt.xlabel('Epoch')\n",
    "plt.ylabel('Loss')\n",
    "plt.title('Losses evolution of unencrypted model with momentum')\n",
    "plt.legend(loc='best')"
   ]
  },
  {
   "cell_type": "markdown",
   "metadata": {},
   "source": [
    "# Training the crypted models"
   ]
  },
  {
   "cell_type": "code",
   "execution_count": 20,
   "metadata": {},
   "outputs": [
    {
     "name": "stdout",
     "output_type": "stream",
     "text": [
      "07/27/2020 04:13:10 PM  [INFO    ]  Model initialization\n"
     ]
    }
   ],
   "source": [
    "logging.info(\"Model initialization\")\n",
    "model = encrypted_LR.LogisticRegressionHE(init_weight=weight,\n",
    "                                          init_bias=bias,\n",
    "                                          refresh_function=refresh, \n",
    "                                          confidential_kwarg=confidential_data,\n",
    "                                          accuracy=accuracy,\n",
    "                                          verbose=VERBOSE,\n",
    "                                          save_weight=SAVE_WEIGHT,\n",
    "                                          max_epoch=EPOCH,\n",
    "                                          learning_rate=LEARNING_RATE,\n",
    "                                          momentum_rate=MOMENTUM_RATE,\n",
    "                                          reg_para=REGULARIZATION_RATE,\n",
    "                                          n_jobs = N_JOBS)"
   ]
  },
  {
   "cell_type": "code",
   "execution_count": null,
   "metadata": {},
   "outputs": [
    {
     "name": "stdout",
     "output_type": "stream",
     "text": [
      "07/27/2020 04:13:11 PM  [INFO    ]  Training starting\n"
     ]
    }
   ],
   "source": [
    "logging.info(\"Training starting\")\n",
    "timer=time.time()\n",
    "model.fit(encrypted_X, encrypted_Y)\n",
    "logging.info(\"Training done. \" + str(round(time.time() - timer, 0)) + \" seconds\")"
   ]
  },
  {
   "cell_type": "code",
   "execution_count": null,
   "metadata": {},
   "outputs": [],
   "source": [
    "model.iter"
   ]
  },
  {
   "cell_type": "markdown",
   "metadata": {},
   "source": [
    "# Figures"
   ]
  },
  {
   "cell_type": "markdown",
   "metadata": {},
   "source": [
    "## encrypted and unencrypted losses "
   ]
  },
  {
   "cell_type": "code",
   "execution_count": null,
   "metadata": {},
   "outputs": [],
   "source": [
    "plt.plot([i*VERBOSE for i in range(len(model.loss_list))], [i.decrypt(secret_key)[0] for i in model.loss_list],'-or', label='cipherloss')\n",
    "\n",
    "plt.plot([i*VERBOSE for i in range(len(unencrypted_model.loss_list))], unencrypted_model.loss_list, label='plainloss')\n",
    "plt.plot([i*VERBOSE for i in range(len(unencrypted_model.true_loss_list))], unencrypted_model.true_loss_list, label='True plainloss')\n",
    "plt.xlabel('Epoch')\n",
    "plt.ylabel('Loss')\n",
    "plt.title('Losses evolution of both models')\n",
    "plt.legend(loc='best')"
   ]
  },
  {
   "cell_type": "markdown",
   "metadata": {},
   "source": [
    "## Unencrypted loss"
   ]
  },
  {
   "cell_type": "markdown",
   "metadata": {},
   "source": [
    "# Errors"
   ]
  },
  {
   "cell_type": "markdown",
   "metadata": {},
   "source": [
    "## Relative error between losses"
   ]
  },
  {
   "cell_type": "code",
   "execution_count": null,
   "metadata": {},
   "outputs": [],
   "source": [
    "decrypted = [i.decrypt(secret_key)[0] for i in model.loss_list]\n",
    "true_err_cl = np.abs(np.array(decrypted) - np.array(unencrypted_model.loss_list))\n",
    "rel_err_cl = true_err_cl/np.abs(decrypted)\n",
    "true_err_ct = np.abs(np.array(decrypted) - np.array(unencrypted_model.true_loss_list))\n",
    "rel_err_ct = true_err_ct/np.abs(decrypted)\n",
    "true_err_lt = np.abs(np.array(unencrypted_model.loss_list) - np.array(unencrypted_model.true_loss_list))\n",
    "rel_err_lt = true_err_lt/np.abs(unencrypted_model.true_loss_list)\n"
   ]
  },
  {
   "cell_type": "code",
   "execution_count": null,
   "metadata": {},
   "outputs": [],
   "source": [
    "plt.plot([i*VERBOSE for i in range(len(model.loss_list))],  rel_err_cl, label='cipherloss and plainloss')\n",
    "plt.plot([i*VERBOSE for i in range(len(model.loss_list))],  rel_err_ct, label='cipherloss and trueloss' )\n",
    "plt.plot([i*VERBOSE for i in range(len(model.loss_list))],  rel_err_lt, label='plainlosses')\n",
    "plt.legend(loc='best')\n",
    "plt.xlabel('Epoch')\n",
    "plt.ylabel('Relative error on loss')\n",
    "plt.title('Relative error between losses')"
   ]
  },
  {
   "cell_type": "markdown",
   "metadata": {},
   "source": [
    "## Relative error between weights"
   ]
  },
  {
   "cell_type": "code",
   "execution_count": null,
   "metadata": {},
   "outputs": [],
   "source": [
    "dwl = np.array([i.decrypt(secret_key) for i in model.weight_list])\n",
    "dbl = np.array([i.decrypt(secret_key) for i in model.bias_list]).reshape((-1,1))\n",
    "dl = np.concatenate((dwl,dbl), axis=1)\n",
    "\n",
    "ul = np.concatenate((np.array(unencrypted_model.weight_list), np.array(unencrypted_model.bias_list).reshape((-1,1))), axis=1)\n",
    "wm_err = np.mean((np.abs(dl-ul)/np.abs(ul)), axis=1)"
   ]
  },
  {
   "cell_type": "code",
   "execution_count": null,
   "metadata": {},
   "outputs": [],
   "source": [
    "dwl = np.array([i.decrypt(secret_key) for i in model_nm.weight_list])\n",
    "dbl = np.array([i.decrypt(secret_key) for i in model_nm.bias_list]).reshape((-1,1))\n",
    "dl = np.concatenate((dwl,dbl), axis=1)\n",
    "\n",
    "d2wl = np.array([i.decrypt(secret_key) for i in model.weight_list])\n",
    "d2bl = np.array([i.decrypt(secret_key) for i in model.bias_list]).reshape((-1,1))\n",
    "d2l = np.concatenate((d2wl,d2bl), axis=1)\n",
    "\n",
    "w2_err = np.mean((np.abs(dl-d2l)/np.abs(dl)), axis=1)"
   ]
  },
  {
   "cell_type": "code",
   "execution_count": null,
   "metadata": {},
   "outputs": [],
   "source": [
    "#plt.plot([i*VERBOSE for i in range(w_err.shape[0])],wm_err)\n",
    "plt.plot([i*VERBOSE for i in range(w_err.shape[0])],w_err)\n",
    "#plt.plot([i*VERBOSE for i in range(w_err.shape[0])],w2_err)\n",
    "\n",
    "\n",
    "plt.xlabel('Epoch')\n",
    "plt.ylabel('Relative error on weights')\n",
    "plt.title('Relative error between encrypted weights and unencrypted weights')"
   ]
  }
 ],
 "metadata": {
  "kernelspec": {
   "display_name": "TenSEAL",
   "language": "python",
   "name": "tenseal"
  },
  "language_info": {
   "codemirror_mode": {
    "name": "ipython",
    "version": 3
   },
   "file_extension": ".py",
   "mimetype": "text/x-python",
   "name": "python",
   "nbconvert_exporter": "python",
   "pygments_lexer": "ipython3",
   "version": "3.7.7"
  }
 },
 "nbformat": 4,
 "nbformat_minor": 4
}
