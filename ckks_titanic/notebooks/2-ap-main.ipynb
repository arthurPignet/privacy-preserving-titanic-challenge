{
 "cells": [
  {
   "cell_type": "code",
   "execution_count": 1,
   "metadata": {},
   "outputs": [],
   "source": [
    "import time\n",
    "import os\n",
    "import sys\n",
    "import logging\n",
    "\n",
    "import numpy as np\n",
    "import tenseal as ts\n",
    "\n",
    "from sklearn.model_selection import train_test_split\n",
    "os.chdir(\"/home/apignet/homomorphic-encryption/ckks_titanic\")\n",
    "from src.features import build_features\n",
    "from models import encrypted_LR\n",
    "from models import unencrypted_LR"
   ]
  },
  {
   "cell_type": "code",
   "execution_count": 2,
   "metadata": {},
   "outputs": [
    {
     "data": {
      "text/plain": [
       "1"
      ]
     },
     "execution_count": 2,
     "metadata": {},
     "output_type": "execute_result"
    }
   ],
   "source": [
    "import matplotlib.pyplot as plt\n",
    "%matplotlib inline\n",
    "1"
   ]
  },
  {
   "cell_type": "markdown",
   "metadata": {},
   "source": [
    "# definition of parameters"
   ]
  },
  {
   "cell_type": "markdown",
   "metadata": {},
   "source": [
    "### Paths"
   ]
  },
  {
   "cell_type": "code",
   "execution_count": 3,
   "metadata": {},
   "outputs": [],
   "source": [
    "# DATAPATH = \"~/homomorphic-encryption/ckks_titanic/data/raw/\"            # whole data set\n",
    "#DATA_PATH = \"/home/apignet/homomorphic-encryption/ckks_titanic/data/quick_demo/\"   # subset of the data set, with 15 train_samples and 5 test_samples\n",
    "DATA_PATH = \"/home/apignet/homomorphic-encryption/ckks_titanic/data/quick_demo/\"   # subset of the data set, with 400 train_samples and 50 test_samples\n",
    "LOG_PATH = \"reports/log\"\n",
    "LOG_FILENAME = \"test_0716\""
   ]
  },
  {
   "cell_type": "markdown",
   "metadata": {},
   "source": [
    "### Log "
   ]
  },
  {
   "cell_type": "code",
   "execution_count": 4,
   "metadata": {},
   "outputs": [],
   "source": [
    "fileHandler = logging.FileHandler(\"{0}/{1}.log\".format(LOG_PATH, LOG_FILENAME))\n",
    "streamHandler = logging.StreamHandler(sys.stdout)\n",
    "logging.basicConfig(format=\"%(asctime)s  [%(levelname)-8.8s]  %(message)s\", datefmt='%m/%d/%Y %I:%M:%S %p', level = logging.DEBUG, handlers=[fileHandler, streamHandler])"
   ]
  },
  {
   "cell_type": "markdown",
   "metadata": {},
   "source": [
    "### Training variables"
   ]
  },
  {
   "cell_type": "code",
   "execution_count": 5,
   "metadata": {},
   "outputs": [],
   "source": [
    "EPOCH = 10\n",
    "LEARNING_RATE = 0.8\n",
    "REGULARIZATION_RATE = 0.5\n",
    "VERBOSE = 2\n",
    "SAVE_WEIGHT = 2"
   ]
  },
  {
   "cell_type": "markdown",
   "metadata": {},
   "source": [
    "## Static functions"
   ]
  },
  {
   "cell_type": "code",
   "execution_count": 6,
   "metadata": {},
   "outputs": [],
   "source": [
    "def crytp_array(X, local_context):\n",
    "    \"\"\"\n",
    "    This function encrypt a list of vector\n",
    "    \n",
    "    :parameters \n",
    "    ------------\n",
    "    \n",
    "    :param X ; list of list, interpreted as list of vector to encrypt\n",
    "    :param local_context ; TenSEAL context object used to encrypt\n",
    "    \n",
    "    :returns\n",
    "    ------------\n",
    "    \n",
    "    list ; list of CKKS ciphertext  \n",
    "    \n",
    "    \"\"\"\n",
    "    res = []\n",
    "    for i in range(len(X)):\n",
    "        res.append(ts.ckks_vector(local_context, X[i]))\n",
    "        if i == len(X) // 4:\n",
    "            logging.info(\"25 % ...\")\n",
    "        elif i == len(X) // 2 :\n",
    "            logging.info(\"50 % ...\")\n",
    "        elif i == 3* len(X)//4:\n",
    "            logging.info(\"75% ...\")\n",
    "    return res\n",
    "\n",
    "def encryption_error(encrypted_weight,encrypted_bias, unencrypted_weight, unencrypted_bias, secret_key=None):\n",
    "    \n",
    "    def err(encrypted_weight,encrypted_bias, unencrypted_weight, unencrypted_bias, secret_key=secret_key):\n",
    "        if secret_key is None:\n",
    "            return (np.sum(np.power((np.array(encrypted_weight.decrypt()) - unencrypted_weight), 2)) + np.power((np.array(encrypted_bias.decrypt()) - unencrypted_bias), 2)) / (np.sum(np.power(unencrypted_weight, 2)) + np.power(unencrypted_bias,2))\n",
    "        else:\n",
    "            return (np.sum(np.power((np.array(encrypted_weight.decrypt(secret_key)) - unencrypted_weight), 2)) + np.power((np.array(encrypted_bias.decrypt(secret_key)) - unencrypted_bias), 2)) / (np.sum(np.power(unencrypted_weight, 2)) + np.power(unencrypted_bias,2))\n",
    "    \n",
    "    \n",
    "    res = [0 for _ in range(len(encrypted_bias))]\n",
    "    for i in range(len(encrypted_bias)):\n",
    "        res[i]=err(encrypted_weight[i], encrypted_bias[i],unencrypted_weight[i], unencrypted_bias[i], secret_key=secret_key)\n",
    "        \n",
    "    return res\n"
   ]
  },
  {
   "cell_type": "markdown",
   "metadata": {},
   "source": [
    "### Confidential functions\n",
    "\n",
    "These functions involves security breachs (as use of unencrypted data, or decryption of weights) and cannot be coded by Alice.\n",
    "However, the functions encapslulate the unsafe process, so can be performed by Alice if Bob provides them. \n",
    "Therefore, they are currently passed as parameters to Alice, which only calls them.\n",
    "\n",
    "Currently there is a huge security breach, as confidential parameters (security key for instance), which are needed by those functions, are passed in a dictionnary to Alice. \n",
    "For a safe protocole, we have to change these functions, to set up a safe communication protocole between Bob and Alice.\n",
    "Alice will therefore only send the crypted data to Bob (using these functions, in which can be set up the communication process) and Bob will locally perform the functions which are currently coded bellow. "
   ]
  },
  {
   "cell_type": "code",
   "execution_count": 7,
   "metadata": {},
   "outputs": [],
   "source": [
    "def refresh(ciphertext, **kwarg):\n",
    "    \"\"\"\n",
    "    This function is here to refresh a ciphertext. This operation reset to 0 the calculus depth of the input ciphertext \n",
    "    WARNING :  Basically the function decryt and re-encrypt the ciphertext. \n",
    "    This is not safe, this operation needs to be done by a trusted part \n",
    "    (Bob for the perfect instance, even if it requieres communications between Alice and Bob while training)\n",
    "    \n",
    "    :parameters \n",
    "    ------------\n",
    "    \n",
    "    ciphertext ; encrypted CKKS vector \n",
    "    **kwarg ; dict, must contain context and secret_key.\n",
    "    \n",
    "    :returns\n",
    "    ------------\n",
    "    \n",
    "    ciphertext : encrypted CKKS vector \n",
    "    \n",
    "    \"\"\"\n",
    "    context = kwarg.get(\"context\", None)\n",
    "    secret_key = kwarg.get(\"secret_key\", None)\n",
    "    assert context , \"Context must be provided with the key : context\"+str(context)\n",
    "    if context.is_private():\n",
    "        return ts.ckks_vector(context, ciphertext.decrypt())\n",
    "    else : \n",
    "        if not secret_key:\n",
    "            raise AttributeError(\"The secret key is not provided and the context provided is public, decryption is not possible\")\n",
    "        else:\n",
    "            return ts.ckks_vector(context, ciphertext.decrypt(secret_key))\n",
    "def loss(crypted_weight, crypted_bias, regularization,**kwarg):\n",
    "    \"\"\"\n",
    "    This function is here to compute the cross entropy loss \n",
    "    1-NOTE : we could estimate this function homomorphically, by designing an approximation of log. \n",
    "    The prediction will stay between 0 and 1 anyway, so we should be able to do so with small degree polynomial. \n",
    "    However, we will not be able to use the metric, as the result is encrypted.\n",
    "    2-NOTE : this function could be parallelized, as we do not need the result for the next epoch. \n",
    "    \n",
    "    :parameters \n",
    "    ------------\n",
    "    \n",
    "    crypted_weight ; encrypted CKKS vector (size equal to the number of features)\n",
    "    crypted_bias ; encrypted CKKS vector (size 1)\n",
    "    regularization ; float, used for regulatization of the weight\n",
    "    **kwarg ; dict, must contain context, secret_key, unencrytped_X and unencrypted_Y \n",
    "    \n",
    "    :returns\n",
    "    ------------\n",
    "    \n",
    "    loss : float (rounded to 3 digits)\n",
    "    \n",
    "    \n",
    "    \"\"\"\n",
    "    context = kwarg.get(\"context\", None)\n",
    "    secret_key = kwarg.get(\"secret_key\", None)\n",
    "    unencrypted_X = kwarg.get(\"unencrypted_X\", None)\n",
    "    unencrypted_Y = kwarg.get(\"unencrypted_Y\", None)\n",
    "    if not context:\n",
    "        raise AttributeError(\"Context must be provided in the **kwarg, with the key : context\")\n",
    "    if unencrypted_X is None:\n",
    "        raise AttributeError(\"Unencrypted samples must be provided in the **kwarg, with the key : unencrypted_X\")\n",
    "    if unencrypted_Y is None:\n",
    "        raise AttributeError(\"Unencrypted labels must be provided in the **kwarg, with the key : unencrypted_Y\")\n",
    "    \n",
    "    if context.is_private():\n",
    "            weight = np.array(crypted_weight.decrypt())\n",
    "            bias = np.array(crypted_bias.decrypt())\n",
    "    else : \n",
    "        if not secret_key:\n",
    "            raise AttributeError(\"The secret key is not provided and the context provided is public, decryption is not possible. Pass a private context or the secret key\")\n",
    "        else:\n",
    "            weight = np.array(crypted_weight.decrypt(secret_key))\n",
    "            bias = np.array(crypted_bias.decrypt(secret_key))\n",
    "            \n",
    "    re = unencrypted_X.dot(weight) + bias  # we use cross entropy loss function\n",
    "    prediction = (np.float_power(re, 3)) * -0.004 + re * 0.197 + 0.5\n",
    "    loss = -np.log(prediction).dot(unencrypted_Y)\n",
    "    loss -= (1 - np.array(unencrypted_Y)).T.dot(np.log(1 - prediction))\n",
    "    loss += (regularization / 2) * (np.array(weight).dot(weight) + np.float_power(bias, 2))\n",
    "\n",
    "    return np.round(loss[0], 3)\n",
    "            \n",
    "def accuracy(crypted_weight, crypted_bias, prior_unencrypted_X = None, prior_unencrypted_Y=None, **kwarg):\n",
    "    \"\"\"\n",
    "    This function is here to compute the accuracy\n",
    "    1-NOTE : we could maybe estimate this function homomorphically, by designing an approximation of the sign function. \n",
    "    However, this kind of approximation seems really hard to set up \n",
    "    Therefore, we will not be able to use the metric, as the result is encrypted.\n",
    "    2-NOTE : this function could be parallelized, as we do not need the result for the next epoch. \n",
    "    \n",
    "    :parameters \n",
    "    ------------\n",
    "    \n",
    "    crypted_weight ; encrypted CKKS vector (size equal to the number of features)\n",
    "    crypted_bias ; encrypted CKKS vector (size 1)\n",
    "    (Optionnal) prior_unencrypted_X ; samples on which the model accuracy will be computed. \n",
    "                                If not provided, the accuracy will be computed with the data provided in the kwarg\n",
    "    (Optionnal) prior_unencrypted_Y ; labels on which the model accuracy will be computed. If not provided.\n",
    "                                If not provided, the accuracy will be computed with the data provided in the kwarg\n",
    "    **kwarg ; dict, must contain context, secret_key, (Optionnal) unencrytped_X and (Optionnal) unencrypted_Y \n",
    "    \n",
    "    :returns\n",
    "    ------------\n",
    "    \n",
    "    accuray : float (rounded to 2 digits)\n",
    "    \n",
    "    \n",
    "    \"\"\"\n",
    "    context = kwarg.get(\"context\", None)\n",
    "    if not context:\n",
    "        raise AttributeError(\"Context must be provided in the **kwarg, with the key : context\")\n",
    "    secret_key = kwarg.get(\"secret_key\", None)\n",
    "    if prior_unencrypted_X is None:\n",
    "        unencrypted_X = kwarg.get(\"unencrypted_X\", None)\n",
    "        if unencrypted_X is None:\n",
    "            raise AttributeError(\"Unencrypted samples must be provided, either in the arguments, or in the **kwarg, with the key : unencrypted_X\")\n",
    "    else:\n",
    "        unencrypted_X = np.array(prior_unencrypted_X)\n",
    "    if prior_unencrypted_Y is None:\n",
    "        unencrypted_Y = kwarg.get(\"unencrypted_Y\", None)\n",
    "        if unencrypted_Y is None:\n",
    "            raise AttributeError(\"Unencrypted labels must be provided, either in the arguments, or in the **kwarg, with the key : unencrypted_Y\")\n",
    "    else:\n",
    "        unencrypted_Y = np.array(prior_unencrypted_Y)\n",
    "    if context.is_private():\n",
    "            weight = np.array(crypted_weight.decrypt())\n",
    "            bias = np.array(crypted_bias.decrypt())\n",
    "    else : \n",
    "        if not secret_key:\n",
    "            raise AttributeError(\"The secret key is not provided and the context provided is public, decryption is not possible. Pass a private context or the secret key\")\n",
    "        else:\n",
    "            weight = np.array(crypted_weight.decrypt(secret_key))\n",
    "            bias = np.array(crypted_bias.decrypt(secret_key))\n",
    "            \n",
    "    re = unencrypted_X.dot(weight) + bias  \n",
    "    prediction = (np.float_power(re, 3)) * -0.004 + re * 0.197 + 0.5\n",
    "    print(prediction)\n",
    "    return (np.abs((unencrypted_Y-prediction.reshape(unencrypted_Y.shape))) < 0.5).astype(float).mean()\n",
    "    "
   ]
  },
  {
   "cell_type": "markdown",
   "metadata": {},
   "source": [
    "# Loading and processing the data"
   ]
  },
  {
   "cell_type": "code",
   "execution_count": 8,
   "metadata": {},
   "outputs": [
    {
     "name": "stdout",
     "output_type": "stream",
     "text": [
      "07/20/2020 02:05:10 PM  [INFO    ]  /home/apignet/homomorphic-encryption/ckks_titanic\n",
      "07/20/2020 02:05:10 PM  [INFO    ]  loading the data into memory (pandas df)\n",
      "07/20/2020 02:05:10 PM  [INFO    ]  Done\n",
      "07/20/2020 02:05:10 PM  [INFO    ]  making final data set from raw data\n",
      "07/20/2020 02:05:10 PM  [INFO    ]  Done\n"
     ]
    }
   ],
   "source": [
    "logging.info(os.getcwd())\n",
    "raw_train, raw_test = build_features.data_import(DATA_PATH)\n",
    "train, submission_test = build_features.processing(raw_train, raw_test)\n",
    "del submission_test"
   ]
  },
  {
   "cell_type": "code",
   "execution_count": 9,
   "metadata": {},
   "outputs": [],
   "source": [
    "train, test = train_test_split(train, test_size=0.15)\n",
    "train_labels = train.Survived\n",
    "test_labels = test.Survived\n",
    "train_features = train.drop(\"Survived\", axis=1)\n",
    "test_features = test.drop(\"Survived\", axis=1)"
   ]
  },
  {
   "cell_type": "markdown",
   "metadata": {},
   "source": [
    "# Definition of safety parameters"
   ]
  },
  {
   "cell_type": "code",
   "execution_count": 10,
   "metadata": {},
   "outputs": [
    {
     "name": "stdout",
     "output_type": "stream",
     "text": [
      "07/20/2020 02:05:10 PM  [INFO    ]  Definition of safety parameters...\n",
      "07/20/2020 02:05:11 PM  [INFO    ]  Done. 0.5 seconds\n",
      "07/20/2020 02:05:11 PM  [INFO    ]  Generation of the Galois Key...\n",
      "07/20/2020 02:05:16 PM  [INFO    ]  Done. 4.84 seconds\n"
     ]
    }
   ],
   "source": [
    "logging.info('Definition of safety parameters...')\n",
    "timer = time.time()\n",
    "# context = ts.context(ts.SCHEME_TYPE.CKKS, 32768,\n",
    "# coeff_mod_bit_sizes=[60, 40, 40, 40, 40, 40, 40, 40, 40, 40, 40, 40, 40, 40, 40, 60])\n",
    "#context = ts.context(ts.SCHEME_TYPE.CKKS, 8192, coeff_mod_bit_sizes=[40, 21, 21, 21, 21, 21, 21, 40])\n",
    "\n",
    "context = ts.context(ts.SCHEME_TYPE.CKKS, 16384, coeff_mod_bit_sizes=[60, 40, 40, 40, 40, 40, 40, 40, 60])\n",
    "context.global_scale = pow(2, 40)\n",
    "logging.info(\"Done. \" + str(round(time.time() - timer, 2)) + \" seconds\")\n",
    "logging.info('Generation of the Galois Key...')\n",
    "timer = time.time()\n",
    "context.generate_galois_keys()\n",
    "logging.info(\"Done. \" + str(round(time.time() - timer, 2)) + \" seconds\")\n",
    "\n",
    "#logging.info('Generation of the secret key...')\n",
    "#timer = time.time()\n",
    "secret_key = context.secret_key()\n",
    "#context.make_context_public()\n",
    "#logging.info(\"Done. \" + str(round(time.time() - timer, 2)) + \" seconds\")\n",
    "#if context.is_public():\n",
    "#    logging.info(\"The context is now public, the context do not hold the secret key anymore, and decrypt methods need the secret key to be provide,\")\n",
    "\n",
    "\n"
   ]
  },
  {
   "cell_type": "markdown",
   "metadata": {},
   "source": [
    "# Data encryption"
   ]
  },
  {
   "cell_type": "code",
   "execution_count": 11,
   "metadata": {},
   "outputs": [
    {
     "name": "stdout",
     "output_type": "stream",
     "text": [
      "07/20/2020 02:05:16 PM  [INFO    ]  Data encryption...\n",
      "07/20/2020 02:05:16 PM  [INFO    ]  25 % ...\n",
      "07/20/2020 02:05:16 PM  [INFO    ]  50 % ...\n",
      "07/20/2020 02:05:16 PM  [INFO    ]  75% ...\n",
      "07/20/2020 02:05:16 PM  [INFO    ]  25 % ...\n",
      "07/20/2020 02:05:17 PM  [INFO    ]  50 % ...\n",
      "07/20/2020 02:05:17 PM  [INFO    ]  75% ...\n",
      "07/20/2020 02:05:17 PM  [INFO    ]  25 % ...\n",
      "07/20/2020 02:05:17 PM  [INFO    ]  50 % ...\n",
      "07/20/2020 02:05:17 PM  [INFO    ]  75% ...\n",
      "07/20/2020 02:05:17 PM  [INFO    ]  25 % ...\n",
      "07/20/2020 02:05:17 PM  [INFO    ]  50 % ...\n",
      "07/20/2020 02:05:17 PM  [INFO    ]  75% ...\n",
      "07/20/2020 02:05:17 PM  [INFO    ]  Done. 1.21 seconds\n"
     ]
    }
   ],
   "source": [
    "logging.info(\"Data encryption...\")\n",
    "timer = time.time()\n",
    "encrypted_X = crytp_array(train_features.to_numpy(), context)\n",
    "encrypted_Y = crytp_array(train_labels.to_numpy().reshape((-1, 1)), context)\n",
    "encrypted_test_X = crytp_array(test_features.to_numpy(), context)\n",
    "encrypted_test_Y = crytp_array(test_labels.to_numpy().reshape((-1, 1)), context)\n",
    "logging.info(\"Done. \" + str(round(time.time() - timer, 2)) + \" seconds\")"
   ]
  },
  {
   "cell_type": "markdown",
   "metadata": {},
   "source": [
    "# Initialize the weight\n",
    "\n",
    "The weights have to be crypted "
   ]
  },
  {
   "cell_type": "code",
   "execution_count": 12,
   "metadata": {},
   "outputs": [],
   "source": [
    "unencrypted_weight = [0. for _ in range(encrypted_test_X[0].size())]\n",
    "weight = ts.ckks_vector(context, unencrypted_weight)\n",
    "unencrypted_weight = np.array(unencrypted_weight)\n",
    "unencrypted_bias = [0.]\n",
    "bias = ts.ckks_vector(context, unencrypted_bias)\n",
    "unencrypted_bias = np.array(unencrypted_bias)"
   ]
  },
  {
   "cell_type": "markdown",
   "metadata": {},
   "source": [
    "The confidential data as yet stored into a dictionnary, and will be used during the training only by functions which are passed as arguments to the fit methods. This encapsulation of sensitive data will allows us to ensure security during training later. "
   ]
  },
  {
   "cell_type": "code",
   "execution_count": 13,
   "metadata": {},
   "outputs": [],
   "source": [
    "confidential_data = {'context':context,\n",
    "                     'secret_key':secret_key, \n",
    "                     'unencrypted_X':train_features.to_numpy(),\n",
    "                     'unencrypted_Y':train_labels.to_numpy().reshape((-1, 1)) \n",
    "                    }"
   ]
  },
  {
   "cell_type": "markdown",
   "metadata": {},
   "source": [
    "# Training the crypted model"
   ]
  },
  {
   "cell_type": "code",
   "execution_count": 29,
   "metadata": {},
   "outputs": [
    {
     "name": "stdout",
     "output_type": "stream",
     "text": [
      "07/20/2020 02:13:26 PM  [INFO    ]  Model initialization\n"
     ]
    }
   ],
   "source": [
    "logging.info(\"Model initialization\")\n",
    "model = encrypted_LR.LogisticRegressionHE(init_weight=weight,\n",
    "                                          init_bias=bias,\n",
    "                                          refresh_function=refresh, \n",
    "                                          confidential_kwarg=confidential_data,\n",
    "                                          accuracy=accuracy,\n",
    "                                          verbose=VERBOSE,\n",
    "                                          save_weight=SAVE_WEIGHT,\n",
    "                                          max_epoch=EPOCH,\n",
    "                                          lr=LEARNING_RATE,\n",
    "                                          reg_para=REGULARIZATION_RATE)"
   ]
  },
  {
   "cell_type": "code",
   "execution_count": 31,
   "metadata": {},
   "outputs": [
    {
     "name": "stdout",
     "output_type": "stream",
     "text": [
      "07/20/2020 02:14:50 PM  [INFO    ]  Training starting\n",
      "07/20/2020 02:15:03 PM  [INFO    ]  iteration number 3 is starting\n",
      "07/20/2020 02:15:18 PM  [INFO    ]  Loss : <_tenseal_cpp.CKKSVector object at 0x7fe6422d5ea0>.\n",
      "07/20/2020 02:15:43 PM  [INFO    ]  iteration number 5 is starting\n",
      "07/20/2020 02:15:59 PM  [INFO    ]  Loss : <_tenseal_cpp.CKKSVector object at 0x7fe64a0c4dc0>.\n",
      "07/20/2020 02:16:24 PM  [INFO    ]  iteration number 7 is starting\n",
      "07/20/2020 02:16:39 PM  [INFO    ]  Loss : <_tenseal_cpp.CKKSVector object at 0x7fe63ebd1378>.\n",
      "07/20/2020 02:17:04 PM  [INFO    ]  iteration number 9 is starting\n",
      "07/20/2020 02:17:19 PM  [INFO    ]  Loss : <_tenseal_cpp.CKKSVector object at 0x7fe64a0abdf8>.\n",
      " 07/20/2020 02:17:32 PM  [INFO    ]  Training done. 161.0 seconds\n"
     ]
    },
    {
     "data": {
      "text/plain": [
       "         1804 function calls in 161.429 seconds\n",
       "\n",
       "   Ordered by: internal time\n",
       "\n",
       "   ncalls  tottime  percall  cumtime  percall filename:lineno(function)\n",
       "       12  104.005    8.667  104.005    8.667 encrypted_LR.py:122(<listcomp>)\n",
       "      144   24.288    0.169   24.288    0.169 encrypted_LR.py:94(sigmoid)\n",
       "        8   14.298    1.787   14.298    1.787 encrypted_LR.py:128(backward)\n",
       "       96   12.081    0.126   12.081    0.126 encrypted_LR.py:109(__log)\n",
       "        4    5.557    1.389   60.741   15.185 encrypted_LR.py:74(loss)\n",
       "       24    0.917    0.038    0.917    0.038 __init__.py:25(ckks_vector)\n",
       "       24    0.206    0.009    1.123    0.047 <ipython-input-7-a73277f9a7d3>:1(refresh)\n",
       "        1    0.052    0.052  161.429  161.429 encrypted_LR.py:148(fit)\n",
       "       32    0.020    0.001    0.020    0.001 socket.py:337(send)\n",
       "       12    0.002    0.000   24.290    2.024 encrypted_LR.py:123(<listcomp>)\n",
       "      144    0.000    0.000    0.000    0.000 encrypted_LR.py:107(<listcomp>)\n",
       "        8    0.000    0.000    0.000    0.000 {method 'flush' of '_io.TextIOWrapper' objects}\n",
       "       96    0.000    0.000    0.000    0.000 encrypted_LR.py:112(<listcomp>)\n",
       "        8    0.000    0.000    0.001    0.000 __init__.py:293(__init__)\n",
       "       12    0.000    0.000  128.295   10.691 encrypted_LR.py:114(forward)\n",
       "       24    0.000    0.000    1.123    0.047 encrypted_LR.py:66(refresh)\n",
       "       16    0.000    0.000    0.000    0.000 {built-in method time.localtime}\n",
       "       32    0.000    0.000    0.020    0.001 iostream.py:195(schedule)\n",
       "        8    0.000    0.000    0.018    0.002 iostream.py:334(flush)\n",
       "       16    0.000    0.000    0.000    0.000 {built-in method time.strftime}\n",
       "        8    0.000    0.000    0.000    0.000 __init__.py:1451(findCaller)\n",
       "        8    0.000    0.000    0.000    0.000 threading.py:216(__init__)\n",
       "       40    0.000    0.000    0.000    0.000 threading.py:1080(is_alive)\n",
       "        1    0.000    0.000  161.429  161.429 {built-in method builtins.exec}\n",
       "       16    0.000    0.000    0.022    0.001 __init__.py:1022(emit)\n",
       "        8    0.000    0.000    0.023    0.003 __init__.py:1373(info)\n",
       "       16    0.000    0.000    0.018    0.001 __init__.py:1011(flush)\n",
       "        8    0.000    0.000    0.022    0.003 __init__.py:1575(callHandlers)\n",
       "       16    0.000    0.000    0.001    0.000 __init__.py:606(format)\n",
       "       16    0.000    0.000    0.022    0.001 __init__.py:892(handle)\n",
       "        8    0.000    0.000    0.002    0.000 iostream.py:382(write)\n",
       "        8    0.000    0.000    0.023    0.003 __init__.py:1496(_log)\n",
       "       16    0.000    0.000    0.000    0.000 {built-in method posix.getpid}\n",
       "       16    0.000    0.000    0.000    0.000 __init__.py:432(format)\n",
       "       32    0.000    0.000    0.000    0.000 iostream.py:93(_event_pipe)\n",
       "        8    0.000    0.000    0.000    0.000 threading.py:499(__init__)\n",
       "       20    0.000    0.000    0.000    0.000 {built-in method builtins.len}\n",
       "       40    0.000    0.000    0.000    0.000 threading.py:1038(_wait_for_tstate_lock)\n",
       "        8    0.000    0.000    0.000    0.000 posixpath.py:144(basename)\n",
       "        8    0.000    0.000    0.001    0.000 __init__.py:1481(makeRecord)\n",
       "       40    0.000    0.000    0.000    0.000 threading.py:507(is_set)\n",
       "       40    0.000    0.000    0.000    0.000 {method 'acquire' of '_thread.lock' objects}\n",
       "       64    0.000    0.000    0.000    0.000 {method 'get' of 'dict' objects}\n",
       "       32    0.000    0.000    0.000    0.000 __init__.py:849(acquire)\n",
       "       32    0.000    0.000    0.000    0.000 __init__.py:856(release)\n",
       "       24    0.000    0.000    0.000    0.000 {method 'rfind' of 'str' objects}\n",
       "        8    0.000    0.000    0.000    0.000 __init__.py:154(<lambda>)\n",
       "        8    0.000    0.000    0.000    0.000 posixpath.py:52(normcase)\n",
       "        8    0.000    0.000    0.000    0.000 posixpath.py:121(splitext)\n",
       "        8    0.000    0.000    0.022    0.003 __init__.py:1521(handle)\n",
       "       16    0.000    0.000    0.000    0.000 __init__.py:539(formatTime)\n",
       "        8    0.000    0.000    0.000    0.000 {method 'write' of '_io.TextIOWrapper' objects}\n",
       "       32    0.000    0.000    0.000    0.000 {built-in method builtins.hasattr}\n",
       "       16    0.000    0.000    0.001    0.000 __init__.py:869(format)\n",
       "       16    0.000    0.000    0.000    0.000 __init__.py:429(usesTime)\n",
       "       32    0.000    0.000    0.000    0.000 {method 'acquire' of '_thread.RLock' objects}\n",
       "       24    0.000    0.000    0.000    0.000 __init__.py:747(filter)\n",
       "        8    0.000    0.000    0.000    0.000 __init__.py:1619(isEnabledFor)\n",
       "        8    0.000    0.000    0.001    0.000 __init__.py:1123(emit)\n",
       "        8    0.000    0.000    0.000    0.000 {built-in method sys._getframe}\n",
       "        1    0.000    0.000  161.429  161.429 <string>:1(<module>)\n",
       "        8    0.000    0.000    0.000    0.000 __init__.py:117(getLevelName)\n",
       "        8    0.000    0.000    0.000    0.000 threading.py:1214(current_thread)\n",
       "        8    0.000    0.000    0.000    0.000 genericpath.py:117(_splitext)\n",
       "       32    0.000    0.000    0.000    0.000 {built-in method builtins.isinstance}\n",
       "       16    0.000    0.000    0.000    0.000 __init__.py:371(getMessage)\n",
       "       16    0.000    0.000    0.000    0.000 __init__.py:584(usesTime)\n",
       "       16    0.000    0.000    0.000    0.000 __init__.py:590(formatMessage)\n",
       "        8    0.000    0.000    0.000    0.000 iostream.py:307(_is_master_process)\n",
       "        8    0.000    0.000    0.000    0.000 {built-in method time.time}\n",
       "        8    0.000    0.000    0.001    0.000 iostream.py:320(_schedule_flush)\n",
       "        8    0.000    0.000    0.000    0.000 {built-in method _thread.allocate_lock}\n",
       "        8    0.000    0.000    0.000    0.000 threading.py:534(wait)\n",
       "        8    0.000    0.000    0.000    0.000 threading.py:1052(name)\n",
       "        8    0.000    0.000    0.000    0.000 posixpath.py:41(_get_sep)\n",
       "       24    0.000    0.000    0.000    0.000 {built-in method posix.fspath}\n",
       "       16    0.000    0.000    0.000    0.000 {built-in method _thread.get_ident}\n",
       "       32    0.000    0.000    0.000    0.000 {method 'append' of 'collections.deque' objects}\n",
       "       16    0.000    0.000    0.000    0.000 {method 'find' of 'str' objects}\n",
       "       32    0.000    0.000    0.000    0.000 {method 'release' of '_thread.RLock' objects}\n",
       "       12    0.000    0.000    0.000    0.000 {method 'append' of 'list' objects}\n",
       "        8    0.000    0.000    0.000    0.000 {built-in method _imp.lock_held}\n",
       "        8    0.000    0.000    0.000    0.000 process.py:180(name)\n",
       "        8    0.000    0.000    0.000    0.000 threading.py:243(__exit__)\n",
       "        8    0.000    0.000    0.000    0.000 {method '__enter__' of '_thread.lock' objects}\n",
       "        8    0.000    0.000    0.000    0.000 process.py:36(current_process)\n",
       "        8    0.000    0.000    0.000    0.000 threading.py:240(__enter__)\n",
       "        8    0.000    0.000    0.000    0.000 {method '__exit__' of '_thread.lock' objects}\n",
       "        1    0.000    0.000    0.000    0.000 {method 'disable' of '_lsprof.Profiler' objects}"
      ]
     },
     "metadata": {},
     "output_type": "display_data"
    }
   ],
   "source": [
    "logging.info(\"Training starting\")\n",
    "timer=time.time()\n",
    "%prun model.fit(encrypted_X, encrypted_Y)\n",
    "logging.info(\"Training done. \" + str(round(time.time() - timer, 0)) + \" seconds\")"
   ]
  },
  {
   "cell_type": "markdown",
   "metadata": {},
   "source": [
    "# Accuracy"
   ]
  },
  {
   "cell_type": "code",
   "execution_count": 16,
   "metadata": {},
   "outputs": [
    {
     "name": "stdout",
     "output_type": "stream",
     "text": [
      "[0.40774499 0.92046031 0.3950052 ]\n",
      "[1. 1. 0.]\n",
      "07/20/2020 02:08:39 PM  [INFO    ]  Accuracy of encrypted model : 0.6666666666666666 \n"
     ]
    }
   ],
   "source": [
    "acc = model.accuracy(unencrypted_X=test_features.to_numpy(), unencrypted_Y=test_labels.to_numpy().reshape((-1, 1)))\n",
    "print(test_labels.to_numpy())\n",
    "logging.info(\"Accuracy of encrypted model : %s \" % acc)"
   ]
  },
  {
   "cell_type": "markdown",
   "metadata": {},
   "source": [
    "# Training the unencrypted model"
   ]
  },
  {
   "cell_type": "code",
   "execution_count": 17,
   "metadata": {},
   "outputs": [
    {
     "name": "stdout",
     "output_type": "stream",
     "text": [
      "07/20/2020 02:08:39 PM  [INFO    ]  Model initialization\n"
     ]
    }
   ],
   "source": [
    "logging.info(\"Model initialization\")\n",
    "unencrypted_model = unencrypted_LR.LogisticRegression(init_weight=unencrypted_weight,\n",
    "                                                      init_bias=unencrypted_bias,\n",
    "                                                      verbose=VERBOSE,\n",
    "                                                      save_weight= SAVE_WEIGHT,\n",
    "                                                      max_epoch=EPOCH,\n",
    "                                                      lr=LEARNING_RATE,\n",
    "                                                      reg_para=REGULARIZATION_RATE)"
   ]
  },
  {
   "cell_type": "code",
   "execution_count": 18,
   "metadata": {},
   "outputs": [
    {
     "name": "stdout",
     "output_type": "stream",
     "text": [
      "07/20/2020 02:08:39 PM  [INFO    ]  Training starting\n",
      "07/20/2020 02:08:39 PM  [INFO    ]  iteration number 1 is starting\n",
      "07/20/2020 02:08:39 PM  [INFO    ]  Loss : 6.632633923147157.\n",
      "07/20/2020 02:08:39 PM  [INFO    ]  iteration number 3 is starting\n",
      "07/20/2020 02:08:39 PM  [INFO    ]  Loss : 5.3803088164430255.\n",
      "07/20/2020 02:08:39 PM  [INFO    ]  iteration number 5 is starting\n",
      "07/20/2020 02:08:39 PM  [INFO    ]  Loss : 4.720555399269449.\n",
      "07/20/2020 02:08:39 PM  [INFO    ]  iteration number 7 is starting\n",
      "07/20/2020 02:08:39 PM  [INFO    ]  Loss : 4.347967383864288.\n",
      "07/20/2020 02:08:39 PM  [INFO    ]  iteration number 9 is starting\n",
      "07/20/2020 02:08:39 PM  [INFO    ]  Loss : 4.132377306899712.\n",
      "07/20/2020 02:08:39 PM  [INFO    ]  Training done. 0.0 seconds\n"
     ]
    }
   ],
   "source": [
    "logging.info(\"Training starting\")\n",
    "timer=time.time()\n",
    "unencrypted_model.fit(train_features.to_numpy(), train_labels.to_numpy().reshape((-1, 1)))\n",
    "logging.info(\"Training done. \" + str(round(time.time() - timer, 0)) + \" seconds\")"
   ]
  },
  {
   "cell_type": "code",
   "execution_count": 19,
   "metadata": {},
   "outputs": [
    {
     "name": "stdout",
     "output_type": "stream",
     "text": [
      "07/20/2020 02:08:39 PM  [INFO    ]  Accuracy of unencrypted model : 0.6666666666666666 \n"
     ]
    }
   ],
   "source": [
    "acc = unencrypted_model.accuracy(test_features.to_numpy(), test_labels.to_numpy().reshape((-1, 1)))\n",
    "logging.info(\"Accuracy of unencrypted model : %s \" % acc)"
   ]
  },
  {
   "cell_type": "markdown",
   "metadata": {},
   "source": [
    "# Figures"
   ]
  },
  {
   "cell_type": "markdown",
   "metadata": {},
   "source": [
    "## encrypted loss "
   ]
  },
  {
   "cell_type": "code",
   "execution_count": 20,
   "metadata": {},
   "outputs": [
    {
     "data": {
      "text/plain": [
       "Text(0.5, 1.0, 'Loss evolution of crypted model')"
      ]
     },
     "execution_count": 20,
     "metadata": {},
     "output_type": "execute_result"
    },
    {
     "name": "stdout",
     "output_type": "stream",
     "text": [
      "07/20/2020 02:08:39 PM  [DEBUG   ]  update_title_pos\n",
      "07/20/2020 02:08:39 PM  [DEBUG   ]  findfont: Matching :family=sans-serif:style=normal:variant=normal:weight=normal:stretch=normal:size=10.0 to DejaVu Sans ('/home/apignet/anaconda3/lib/python3.7/site-packages/matplotlib/mpl-data/fonts/ttf/DejaVuSans.ttf') with score of 0.050000.\n",
      "07/20/2020 02:08:39 PM  [DEBUG   ]  findfont: Matching :family=sans-serif:style=normal:variant=normal:weight=normal:stretch=normal:size=12.0 to DejaVu Sans ('/home/apignet/anaconda3/lib/python3.7/site-packages/matplotlib/mpl-data/fonts/ttf/DejaVuSans.ttf') with score of 0.050000.\n",
      "07/20/2020 02:08:39 PM  [DEBUG   ]  update_title_pos\n",
      "07/20/2020 02:08:39 PM  [DEBUG   ]  update_title_pos\n",
      "07/20/2020 02:08:39 PM  [DEBUG   ]  update_title_pos\n",
      "07/20/2020 02:08:39 PM  [DEBUG   ]  update_title_pos\n"
     ]
    },
    {
     "data": {
      "image/png": "[encoded data removed]",
      "text/plain": [
       "<Figure size 432x288 with 1 Axes>"
      ]
     },
     "metadata": {
      "needs_background": "light"
     },
     "output_type": "display_data"
    }
   ],
   "source": [
    "plt.plot([i*VERBOSE for i in range(len(model.loss_list))], [i.decrypt()[0] for i in model.loss_list])\n",
    "plt.plot([i*VERBOSE for i in range(len(unencrypted_model.loss_list))], unencrypted_model.loss_list)\n",
    "plt.xlabel('Epoch')\n",
    "plt.ylabel('Loss')\n",
    "plt.title('Loss evolution of crypted model')"
   ]
  },
  {
   "cell_type": "markdown",
   "metadata": {},
   "source": [
    "## Unencrypted loss"
   ]
  },
  {
   "cell_type": "code",
   "execution_count": 21,
   "metadata": {},
   "outputs": [
    {
     "data": {
      "text/plain": [
       "Text(0.5, 1.0, 'Loss evolution of unencrypted model')"
      ]
     },
     "execution_count": 21,
     "metadata": {},
     "output_type": "execute_result"
    },
    {
     "name": "stdout",
     "output_type": "stream",
     "text": [
      "07/20/2020 02:08:39 PM  [DEBUG   ]  update_title_pos\n",
      "07/20/2020 02:08:39 PM  [DEBUG   ]  update_title_pos\n",
      "07/20/2020 02:08:39 PM  [DEBUG   ]  update_title_pos\n",
      "07/20/2020 02:08:39 PM  [DEBUG   ]  update_title_pos\n",
      "07/20/2020 02:08:40 PM  [DEBUG   ]  update_title_pos\n"
     ]
    },
    {
     "data": {
      "image/png": "[encoded data removed]",
      "text/plain": [
       "<Figure size 432x288 with 1 Axes>"
      ]
     },
     "metadata": {
      "needs_background": "light"
     },
     "output_type": "display_data"
    }
   ],
   "source": [
    "plt.plot([i*VERBOSE for i in range(len(unencrypted_model.loss_list))], unencrypted_model.loss_list)\n",
    "plt.xlabel('Epoch')\n",
    "plt.ylabel('Loss')\n",
    "plt.title('Loss evolution of unencrypted model')"
   ]
  },
  {
   "cell_type": "markdown",
   "metadata": {},
   "source": [
    "logging.info(\"Model initialization\")\n",
    "unencrypted_model = unencrypted_LR.LogisticRegression(init_weight=unencrypted_weight,\n",
    "                                                      init_bias=unencrypted_bias,\n",
    "                                                      verbose=VERBOSE,\n",
    "                                                      save_weight= SAVE_WEIGHT,\n",
    "                                                      max_epoch==EPOCH,\n",
    "                                                      lr=LEARNING_RATE,\n",
    "                                                      reg_para=REGULARIZATION_RATE)"
   ]
  },
  {
   "cell_type": "markdown",
   "metadata": {},
   "source": [
    "# Errors"
   ]
  },
  {
   "cell_type": "markdown",
   "metadata": {},
   "source": [
    "## Relative error between losses"
   ]
  },
  {
   "cell_type": "code",
   "execution_count": 22,
   "metadata": {},
   "outputs": [
    {
     "data": {
      "text/plain": [
       "array([0.00834334, 0.02707385, 0.0391186 , 0.03989804, 0.03526514])"
      ]
     },
     "execution_count": 22,
     "metadata": {},
     "output_type": "execute_result"
    }
   ],
   "source": [
    "decrypted = [i.decrypt()[0] for i in model.loss_list]\n",
    "true_err = np.abs(np.array(decrypted) - np.array(unencrypted_model.loss_list))\n",
    "rel_err = true_err/np.linalg.norm(decrypted)\n",
    "rel_err"
   ]
  },
  {
   "cell_type": "code",
   "execution_count": 23,
   "metadata": {},
   "outputs": [
    {
     "data": {
      "text/plain": [
       "Text(0.5, 1.0, 'Relative error between encrypted loss and unencrypted loss')"
      ]
     },
     "execution_count": 23,
     "metadata": {},
     "output_type": "execute_result"
    },
    {
     "name": "stdout",
     "output_type": "stream",
     "text": [
      "07/20/2020 02:08:40 PM  [DEBUG   ]  update_title_pos\n",
      "07/20/2020 02:08:40 PM  [DEBUG   ]  update_title_pos\n",
      "07/20/2020 02:08:40 PM  [DEBUG   ]  update_title_pos\n",
      "07/20/2020 02:08:40 PM  [DEBUG   ]  update_title_pos\n",
      "07/20/2020 02:08:40 PM  [DEBUG   ]  update_title_pos\n"
     ]
    },
    {
     "data": {
      "image/png": "[encoded data removed]",
      "text/plain": [
       "<Figure size 432x288 with 1 Axes>"
      ]
     },
     "metadata": {
      "needs_background": "light"
     },
     "output_type": "display_data"
    }
   ],
   "source": [
    "\n",
    "plt.plot([i*VERBOSE for i in range(len(model.loss_list))],  rel_err)\n",
    "plt.xlabel('Epoch')\n",
    "plt.ylabel('Relative error on loss')\n",
    "plt.title('Relative error between encrypted loss and unencrypted loss')"
   ]
  },
  {
   "cell_type": "markdown",
   "metadata": {},
   "source": [
    "## Relative error between weights"
   ]
  },
  {
   "cell_type": "code",
   "execution_count": 24,
   "metadata": {},
   "outputs": [
    {
     "data": {
      "text/plain": [
       "Text(0.5, 1.0, 'Relative error between encrypted weights and unencrypted weights')"
      ]
     },
     "execution_count": 24,
     "metadata": {},
     "output_type": "execute_result"
    },
    {
     "name": "stdout",
     "output_type": "stream",
     "text": [
      "07/20/2020 02:08:40 PM  [DEBUG   ]  update_title_pos\n",
      "07/20/2020 02:08:40 PM  [DEBUG   ]  update_title_pos\n",
      "07/20/2020 02:08:40 PM  [DEBUG   ]  update_title_pos\n",
      "07/20/2020 02:08:40 PM  [DEBUG   ]  update_title_pos\n",
      "07/20/2020 02:08:40 PM  [DEBUG   ]  update_title_pos\n"
     ]
    },
    {
     "data": {
      "image/png": "[encoded data removed]",
      "text/plain": [
       "<Figure size 432x288 with 1 Axes>"
      ]
     },
     "metadata": {
      "needs_background": "light"
     },
     "output_type": "display_data"
    }
   ],
   "source": [
    "error_list = encryption_error(model.weight_list,model.bias_list, unencrypted_model.weight_list,unencrypted_model.bias_list)\n",
    "plt.plot([i*VERBOSE for i in range(len(error_list))], error_list)\n",
    "plt.xlabel('Epoch')\n",
    "plt.ylabel('Relative error on weights')\n",
    "plt.title('Relative error between encrypted weights and unencrypted weights')"
   ]
  },
  {
   "cell_type": "code",
   "execution_count": 25,
   "metadata": {},
   "outputs": [
    {
     "data": {
      "text/plain": [
       "[[0.10206921551496452,\n",
       "  0.07017132446036063,\n",
       "  -0.10000369571570197,\n",
       "  -0.2000034771504361,\n",
       "  -0.07197039423157472,\n",
       "  0.06666757573156762,\n",
       "  0.033333567080744295,\n",
       "  -0.16666993870819768,\n",
       "  0.03333349230592747,\n",
       "  -0.03333382686363896,\n",
       "  -0.06667003268809477,\n",
       "  -0.06666820551751892,\n",
       "  0.033332621126742776,\n",
       "  1.5905863344914464e-09,\n",
       "  -0.033334084166765185,\n",
       "  -4.0530182990825566e-10,\n",
       "  -6.006999203611585e-10,\n",
       "  -4.047953857430482e-10,\n",
       "  -5.696624814931166e-10,\n",
       "  -1.1086873615158242e-08,\n",
       "  0.0666671607582085,\n",
       "  -1.6472188335558968e-09,\n",
       "  -1.6487930881714519e-09,\n",
       "  -4.1216616925021654e-11,\n",
       "  0.03333349124917202,\n",
       "  -0.16666912557120966,\n",
       "  -0.033334061196377704,\n",
       "  0.03333353960724535,\n",
       "  -0.1666703347349413,\n",
       "  0.10000137968835109,\n",
       "  -2.5532287950547072e-09],\n",
       " [0.14801730485212908,\n",
       "  0.11781353668782206,\n",
       "  -0.031680123056204795,\n",
       "  -0.40544703262954485,\n",
       "  -0.04632567017925242,\n",
       "  0.17451332347304316,\n",
       "  0.09855540485518888,\n",
       "  -0.26163245782315864,\n",
       "  0.09855517647118112,\n",
       "  -0.06942937291797033,\n",
       "  -0.017694043722010454,\n",
       "  -0.08728859769226613,\n",
       "  0.16272902620687635,\n",
       "  4.655499531801053e-09,\n",
       "  -0.064006665865815,\n",
       "  -3.1588393496540677e-09,\n",
       "  -1.736113600103728e-09,\n",
       "  2.671002798750374e-09,\n",
       "  -2.7654297078125215e-09,\n",
       "  -2.407292441103503e-08,\n",
       "  0.17451216397149302,\n",
       "  -8.444745236424467e-09,\n",
       "  9.935316597209365e-10,\n",
       "  -8.56361920958948e-09,\n",
       "  0.10957796932414501,\n",
       "  -0.2726528897712398,\n",
       "  -0.06400660255867271,\n",
       "  0.1173539821772645,\n",
       "  -0.3414430340434753,\n",
       "  0.2995299471454632,\n",
       "  -5.6144316418205165e-09],\n",
       " [0.1580796781099369,\n",
       "  0.1424632086289729,\n",
       "  0.0067508381981435245,\n",
       "  -0.5526436801217858,\n",
       "  -0.04290064986094119,\n",
       "  0.24777618407276575,\n",
       "  0.1499432118313929,\n",
       "  -0.31781812493035183,\n",
       "  0.14994285567201482,\n",
       "  -0.09077657207282613,\n",
       "  0.020727712742558822,\n",
       "  -0.08871068028936681,\n",
       "  0.25498752986769596,\n",
       "  -2.405564374075648e-09,\n",
       "  -0.08637960326229618,\n",
       "  -7.76491199690062e-09,\n",
       "  -1.7886890857354842e-09,\n",
       "  3.741141752703369e-09,\n",
       "  -8.28617703129429e-09,\n",
       "  -2.3475503575360816e-08,\n",
       "  0.24777429610304375,\n",
       "  -3.914712720654023e-09,\n",
       "  2.8044386049530523e-09,\n",
       "  -1.0748588519238211e-08,\n",
       "  0.17295493368528064,\n",
       "  -0.3408263856421364,\n",
       "  -0.08637950549573854,\n",
       "  0.17836424616403085,\n",
       "  -0.4662683649196264,\n",
       "  0.4541816899878578,\n",
       "  -5.557277693579721e-09],\n",
       " [0.15663695699688499,\n",
       "  0.15618346319326626,\n",
       "  0.030377754017775677,\n",
       "  -0.6631228374662099,\n",
       "  -0.04786120653531491,\n",
       "  0.29781238044099745,\n",
       "  0.1897725422009756,\n",
       "  -0.3557084317535155,\n",
       "  0.1897720560714887,\n",
       "  -0.10382218685925663,\n",
       "  0.04591676348913071,\n",
       "  -0.0841842481048061,\n",
       "  0.31961280573291373,\n",
       "  3.327117213766891e-10,\n",
       "  -0.10355750148046151,\n",
       "  -8.22958070152161e-09,\n",
       "  -1.1290264834151742e-09,\n",
       "  3.5018870883726692e-09,\n",
       "  -3.4776950873164924e-09,\n",
       "  -2.018884711833444e-08,\n",
       "  0.2978098056632638,\n",
       "  2.9898291065144633e-09,\n",
       "  1.916771366627934e-09,\n",
       "  -3.589863392661208e-09,\n",
       "  0.2252848463100622,\n",
       "  -0.39121599277842883,\n",
       "  -0.10355737559500879,\n",
       "  0.22044852916400082,\n",
       "  -0.55957115323974,\n",
       "  0.5745521233227759,\n",
       "  -2.4409388399426746e-09],\n",
       " [0.15205519781310728,\n",
       "  0.16373334410075477,\n",
       "  0.047571880001350736,\n",
       "  -0.7475006286711705,\n",
       "  -0.054746309467527995,\n",
       "  0.33229604808921887,\n",
       "  0.22058252024478642,\n",
       "  -0.3824749258266139,\n",
       "  0.22058190533148436,\n",
       "  -0.11170774515689244,\n",
       "  0.061517231725921606,\n",
       "  -0.07764420971097341,\n",
       "  0.365028218698543,\n",
       "  1.548886311532926e-09,\n",
       "  -0.11698714943429535,\n",
       "  -1.2523629558134724e-08,\n",
       "  -6.474604186124111e-11,\n",
       "  4.086705031434974e-09,\n",
       "  2.2730329910721913e-09,\n",
       "  -1.6111319564910645e-08,\n",
       "  0.3322928330030035,\n",
       "  3.253357888644004e-09,\n",
       "  3.9425928424763335e-09,\n",
       "  -6.561356735712565e-09,\n",
       "  0.2687965159982844,\n",
       "  -0.4306830175787093,\n",
       "  -0.116986999187564,\n",
       "  0.2484728652922377,\n",
       "  -0.6305207179352625,\n",
       "  0.6694330561900534,\n",
       "  -1.1872994254424896e-08]]"
      ]
     },
     "execution_count": 25,
     "metadata": {},
     "output_type": "execute_result"
    }
   ],
   "source": [
    "[i.decrypt()for i in model.weight_list]"
   ]
  },
  {
   "cell_type": "code",
   "execution_count": 26,
   "metadata": {},
   "outputs": [
    {
     "data": {
      "text/plain": [
       "[array([ 0.10206573,  0.07017035, -0.1       , -0.2       , -0.07196827,\n",
       "         0.06666667,  0.03333333, -0.16666667,  0.03333333, -0.03333333,\n",
       "        -0.06666667, -0.06666667,  0.03333333,  0.        , -0.03333333,\n",
       "         0.        ,  0.        ,  0.        ,  0.        ,  0.        ,\n",
       "         0.06666667,  0.        ,  0.        ,  0.        ,  0.03333333,\n",
       "        -0.16666667, -0.03333333,  0.03333333, -0.16666667,  0.1       ,\n",
       "         0.        ]),\n",
       " array([ 0.15046744,  0.12022569, -0.03485491, -0.4090908 , -0.04685132,\n",
       "         0.17237076,  0.0975762 , -0.26733685,  0.0975762 , -0.07023738,\n",
       "        -0.02472871, -0.09202467,  0.15916993,  0.        , -0.06453514,\n",
       "         0.        ,  0.        ,  0.        ,  0.        ,  0.        ,\n",
       "         0.17237076,  0.        ,  0.        ,  0.        ,  0.10887806,\n",
       "        -0.2786387 , -0.06453514,  0.1147622 , -0.34455566,  0.29693872,\n",
       "         0.        ]),\n",
       " array([ 0.15565023,  0.14099907,  0.0131277 , -0.55002163, -0.03898143,\n",
       "         0.24764843,  0.15000625, -0.31371452,  0.15000625, -0.09059367,\n",
       "         0.02452758, -0.08684075,  0.25671956,  0.        , -0.08593865,\n",
       "         0.        ,  0.        ,  0.        ,  0.        ,  0.        ,\n",
       "         0.24764843,  0.        ,  0.        ,  0.        ,  0.17339279,\n",
       "        -0.33710106, -0.08593865,  0.17915294, -0.46408298,  0.45480885,\n",
       "         0.        ]),\n",
       " array([ 0.14961148,  0.15027308,  0.04231279, -0.65431775, -0.04332274,\n",
       "         0.30168095,  0.19176756, -0.34127462,  0.19176756, -0.102317  ,\n",
       "         0.06272333, -0.07355487,  0.32797302,  0.        , -0.10224426,\n",
       "         0.        ,  0.        ,  0.        ,  0.        ,  0.        ,\n",
       "         0.30168095,  0.        ,  0.        ,  0.        ,  0.22711625,\n",
       "        -0.37662331, -0.10224426,  0.22637287, -0.55207349,  0.58011876,\n",
       "         0.        ]),\n",
       " array([ 0.14129413,  0.15376935,  0.06254489, -0.73351759, -0.05129408,\n",
       "         0.34090091,  0.22492019, -0.35897276,  0.22492019, -0.10889332,\n",
       "         0.09082148, -0.05840526,  0.38016352,  0.        , -0.11490991,\n",
       "         0.        ,  0.        ,  0.        ,  0.        ,  0.        ,\n",
       "         0.34090091,  0.        ,  0.        ,  0.        ,  0.27203763,\n",
       "        -0.4060902 , -0.11490991,  0.25993469, -0.61860768,  0.68043125,\n",
       "         0.        ])]"
      ]
     },
     "execution_count": 26,
     "metadata": {},
     "output_type": "execute_result"
    }
   ],
   "source": [
    "unencrypted_model.weight_list"
   ]
  },
  {
   "cell_type": "code",
   "execution_count": 27,
   "metadata": {},
   "outputs": [],
   "source": [
    "b=2\n",
    "a=[[b]]\n"
   ]
  },
  {
   "cell_type": "code",
   "execution_count": null,
   "metadata": {},
   "outputs": [],
   "source": [
    "\n"
   ]
  },
  {
   "cell_type": "code",
   "execution_count": null,
   "metadata": {},
   "outputs": [],
   "source": []
  },
  {
   "cell_type": "code",
   "execution_count": 28,
   "metadata": {},
   "outputs": [],
   "source": [
    "b=1"
   ]
  },
  {
   "cell_type": "code",
   "execution_count": null,
   "metadata": {},
   "outputs": [],
   "source": []
  }
 ],
 "metadata": {
  "kernelspec": {
   "display_name": "Python 3",
   "language": "python",
   "name": "python3"
  },
  "language_info": {
   "codemirror_mode": {
    "name": "ipython",
    "version": 3
   },
   "file_extension": ".py",
   "mimetype": "text/x-python",
   "name": "python",
   "nbconvert_exporter": "python",
   "pygments_lexer": "ipython3",
   "version": "3.7.3"
  }
 },
 "nbformat": 4,
 "nbformat_minor": 2
}
