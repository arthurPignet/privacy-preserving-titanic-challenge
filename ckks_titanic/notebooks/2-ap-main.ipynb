{
 "cells": [
  {
   "cell_type": "code",
   "execution_count": 1,
   "metadata": {},
   "outputs": [],
   "source": [
    "import time\n",
    "import os\n",
    "import sys\n",
    "import logging\n",
    "\n",
    "import numpy as np\n",
    "import tenseal as ts\n",
    "\n",
    "from sklearn.model_selection import train_test_split\n",
    "os.chdir(\"..\")\n",
    "from src.features import build_features\n",
    "from models import encrypted_LR\n",
    "from models import unencrypted_LR"
   ]
  },
  {
   "cell_type": "code",
   "execution_count": 2,
   "metadata": {},
   "outputs": [],
   "source": [
    "%load_ext memory_profiler"
   ]
  },
  {
   "cell_type": "code",
   "execution_count": 3,
   "metadata": {},
   "outputs": [
    {
     "data": {
      "text/plain": [
       "1"
      ]
     },
     "execution_count": 3,
     "metadata": {},
     "output_type": "execute_result"
    }
   ],
   "source": [
    "import matplotlib.pyplot as plt\n",
    "%matplotlib inline\n",
    "1"
   ]
  },
  {
   "cell_type": "markdown",
   "metadata": {},
   "source": [
    "# definition of parameters"
   ]
  },
  {
   "cell_type": "markdown",
   "metadata": {},
   "source": [
    "### Paths"
   ]
  },
  {
   "cell_type": "code",
   "execution_count": 4,
   "metadata": {},
   "outputs": [],
   "source": [
    "#DATA_PATH = \"\\\\data\\\\raw\\\\\"            # whole data set\n",
    "DATA_PATH = \"/data/quick_demo/\"   # subset of the data set, with 15 train_samples and 5 test_samples\n",
    "#DATA_PATH = \"/home/apignet/homomorphic-encryption/ckks_titanic/data/quick_demo/\"   # subset of the data set, with 400 train_samples and 50 test_samples\n",
    "LOG_PATH = \"reports/log\"\n",
    "LOG_FILENAME = \"test_0716\""
   ]
  },
  {
   "cell_type": "code",
   "execution_count": 5,
   "metadata": {},
   "outputs": [
    {
     "data": {
      "text/plain": [
       "'C:\\\\Users\\\\apignet\\\\Documents\\\\homomorphic-encryption\\\\ckks_titanic'"
      ]
     },
     "execution_count": 5,
     "metadata": {},
     "output_type": "execute_result"
    }
   ],
   "source": [
    "os.getcwd()"
   ]
  },
  {
   "cell_type": "markdown",
   "metadata": {},
   "source": [
    "### Log "
   ]
  },
  {
   "cell_type": "code",
   "execution_count": 6,
   "metadata": {},
   "outputs": [],
   "source": [
    "fileHandler = logging.FileHandler(\"{0}/{1}.log\".format(LOG_PATH, LOG_FILENAME))\n",
    "streamHandler = logging.StreamHandler(sys.stdout)\n",
    "logging.basicConfig(format=\"%(asctime)s  [%(levelname)-8.8s]  %(message)s\", datefmt='%m/%d/%Y %I:%M:%S %p', level = logging.DEBUG, handlers=[fileHandler, streamHandler])"
   ]
  },
  {
   "cell_type": "markdown",
   "metadata": {},
   "source": [
    "### Training variables"
   ]
  },
  {
   "cell_type": "code",
   "execution_count": 7,
   "metadata": {},
   "outputs": [],
   "source": [
    "EPOCH = 20\n",
    "LEARNING_RATE = 0.8\n",
    "REGULARIZATION_RATE = 0.5\n",
    "VERBOSE = 2\n",
    "SAVE_WEIGHT = 2\n",
    "N_JOBS = 1"
   ]
  },
  {
   "cell_type": "markdown",
   "metadata": {},
   "source": [
    "## Static functions"
   ]
  },
  {
   "cell_type": "code",
   "execution_count": 8,
   "metadata": {},
   "outputs": [],
   "source": [
    "def crytp_array(X, local_context):\n",
    "    \"\"\"\n",
    "    This function encrypt a list of vector\n",
    "    \n",
    "    :parameters \n",
    "    ------------\n",
    "    \n",
    "    :param X ; list of list, interpreted as list of vector to encrypt\n",
    "    :param local_context ; TenSEAL context object used to encrypt\n",
    "    \n",
    "    :returns\n",
    "    ------------\n",
    "    \n",
    "    list ; list of CKKS ciphertext  \n",
    "    \n",
    "    \"\"\"\n",
    "    res = []\n",
    "    for i in range(len(X)):\n",
    "        res.append(ts.ckks_vector(local_context, X[i]))\n",
    "        if i == len(X) // 4:\n",
    "            logging.info(\"25 % ...\")\n",
    "        elif i == len(X) // 2 :\n",
    "            logging.info(\"50 % ...\")\n",
    "        elif i == 3* len(X)//4:\n",
    "            logging.info(\"75% ...\")\n",
    "    return res\n",
    "\n",
    "def encryption_error(encrypted_weight,encrypted_bias, unencrypted_weight, unencrypted_bias, secret_key=None):\n",
    "    \n",
    "    def err(encrypted_weight,encrypted_bias, unencrypted_weight, unencrypted_bias, secret_key=secret_key):\n",
    "        if secret_key is None:\n",
    "            return (np.sum(np.power((np.array(encrypted_weight.decrypt()) - unencrypted_weight), 2)) + np.power((np.array(encrypted_bias.decrypt()) - unencrypted_bias), 2)) / (np.sum(np.power(unencrypted_weight, 2)) + np.power(unencrypted_bias,2))\n",
    "        else:\n",
    "            return (np.sum(np.power((np.array(encrypted_weight.decrypt(secret_key)) - unencrypted_weight), 2)) + np.power((np.array(encrypted_bias.decrypt(secret_key)) - unencrypted_bias), 2)) / (np.sum(np.power(unencrypted_weight, 2)) + np.power(unencrypted_bias,2))\n",
    "    \n",
    "    \n",
    "    res = [0 for _ in range(len(encrypted_bias))]\n",
    "    for i in range(len(encrypted_bias)):\n",
    "        res[i]=err(encrypted_weight[i], encrypted_bias[i],unencrypted_weight[i], unencrypted_bias[i], secret_key=secret_key)\n",
    "        \n",
    "    return res\n"
   ]
  },
  {
   "cell_type": "markdown",
   "metadata": {},
   "source": [
    "### Confidential functions\n",
    "\n",
    "These functions involves security breachs (as use of unencrypted data, or decryption of weights) and cannot be coded by Alice.\n",
    "However, the functions encapslulate the unsafe process, so can be performed by Alice if Bob provides them. \n",
    "Therefore, they are currently passed as parameters to Alice, which only calls them.\n",
    "\n",
    "Currently there is a huge security breach, as confidential parameters (security key for instance), which are needed by those functions, are passed in a dictionnary to Alice. \n",
    "For a safe protocole, we have to change these functions, to set up a safe communication protocole between Bob and Alice.\n",
    "Alice will therefore only send the crypted data to Bob (using these functions, in which can be set up the communication process) and Bob will locally perform the functions which are currently coded bellow. "
   ]
  },
  {
   "cell_type": "code",
   "execution_count": 9,
   "metadata": {},
   "outputs": [],
   "source": [
    "def refresh(ciphertext, **kwarg):\n",
    "    \"\"\"\n",
    "    This function is here to refresh a ciphertext. This operation reset to 0 the calculus depth of the input ciphertext \n",
    "    WARNING :  Basically the function decryt and re-encrypt the ciphertext. \n",
    "    This is not safe, this operation needs to be done by a trusted part \n",
    "    (Bob for the perfect instance, even if it requieres communications between Alice and Bob while training)\n",
    "    \n",
    "    :parameters \n",
    "    ------------\n",
    "    \n",
    "    ciphertext ; encrypted CKKS vector \n",
    "    **kwarg ; dict, must contain context and secret_key.\n",
    "    \n",
    "    :returns\n",
    "    ------------\n",
    "    \n",
    "    ciphertext : encrypted CKKS vector \n",
    "    \n",
    "    \"\"\"\n",
    "    context = kwarg.get(\"context\", None)\n",
    "    secret_key = kwarg.get(\"secret_key\", None)\n",
    "    assert context , \"Context must be provided with the key : context\"+str(context)\n",
    "    if context.is_private():\n",
    "        return ts.ckks_vector(context, ciphertext.decrypt())\n",
    "    else : \n",
    "        if not secret_key:\n",
    "            raise AttributeError(\"The secret key is not provided and the context provided is public, decryption is not possible\")\n",
    "        else:\n",
    "            return ts.ckks_vector(context, ciphertext.decrypt(secret_key))\n",
    "   \n",
    "            \n",
    "def accuracy(crypted_weight, crypted_bias, prior_unencrypted_X = None, prior_unencrypted_Y=None, **kwarg):\n",
    "    \"\"\"\n",
    "    This function is here to compute the accuracy\n",
    "    1-NOTE : we could maybe estimate this function homomorphically, by designing an approximation of the sign function. \n",
    "    However, this kind of approximation seems really hard to set up \n",
    "    Therefore, we will not be able to use the metric, as the result is encrypted.\n",
    "    2-NOTE : this function could be parallelized, as we do not need the result for the next epoch. \n",
    "    \n",
    "    :parameters \n",
    "    ------------\n",
    "    \n",
    "    crypted_weight ; encrypted CKKS vector (size equal to the number of features)\n",
    "    crypted_bias ; encrypted CKKS vector (size 1)\n",
    "    (Optionnal) prior_unencrypted_X ; samples on which the model accuracy will be computed. \n",
    "                                If not provided, the accuracy will be computed with the data provided in the kwarg\n",
    "    (Optionnal) prior_unencrypted_Y ; labels on which the model accuracy will be computed. If not provided.\n",
    "                                If not provided, the accuracy will be computed with the data provided in the kwarg\n",
    "    **kwarg ; dict, must contain context, secret_key, (Optionnal) unencrytped_X and (Optionnal) unencrypted_Y \n",
    "    \n",
    "    :returns\n",
    "    ------------\n",
    "    \n",
    "    accuray : float (rounded to 2 digits)\n",
    "    \n",
    "    \n",
    "    \"\"\"\n",
    "    context = kwarg.get(\"context\", None)\n",
    "    if not context:\n",
    "        raise AttributeError(\"Context must be provided in the **kwarg, with the key : context\")\n",
    "    secret_key = kwarg.get(\"secret_key\", None)\n",
    "    if prior_unencrypted_X is None:\n",
    "        unencrypted_X = kwarg.get(\"unencrypted_X\", None)\n",
    "        if unencrypted_X is None:\n",
    "            raise AttributeError(\"Unencrypted samples must be provided, either in the arguments, or in the **kwarg, with the key : unencrypted_X\")\n",
    "    else:\n",
    "        unencrypted_X = np.array(prior_unencrypted_X)\n",
    "    if prior_unencrypted_Y is None:\n",
    "        unencrypted_Y = kwarg.get(\"unencrypted_Y\", None)\n",
    "        if unencrypted_Y is None:\n",
    "            raise AttributeError(\"Unencrypted labels must be provided, either in the arguments, or in the **kwarg, with the key : unencrypted_Y\")\n",
    "    else:\n",
    "        unencrypted_Y = np.array(prior_unencrypted_Y)\n",
    "    if context.is_private():\n",
    "            weight = np.array(crypted_weight.decrypt())\n",
    "            bias = np.array(crypted_bias.decrypt())\n",
    "    else : \n",
    "        if not secret_key:\n",
    "            raise AttributeError(\"The secret key is not provided and the context provided is public, decryption is not possible. Pass a private context or the secret key\")\n",
    "        else:\n",
    "            weight = np.array(crypted_weight.decrypt(secret_key))\n",
    "            bias = np.array(crypted_bias.decrypt(secret_key))\n",
    "            \n",
    "    re = unencrypted_X.dot(weight) + bias  \n",
    "    prediction = (np.float_power(re, 3)) * -0.004 + re * 0.197 + 0.5\n",
    "    print(prediction)\n",
    "    return (np.abs((unencrypted_Y-prediction.reshape(unencrypted_Y.shape))) < 0.5).astype(float).mean()\n",
    "    "
   ]
  },
  {
   "cell_type": "markdown",
   "metadata": {},
   "source": [
    "# Loading and processing the data"
   ]
  },
  {
   "cell_type": "code",
   "execution_count": 10,
   "metadata": {},
   "outputs": [
    {
     "name": "stdout",
     "output_type": "stream",
     "text": [
      "07/22/2020 06:26:32 PM  [INFO    ]  C:\\Users\\apignet\\Documents\\homomorphic-encryption\\ckks_titanic\n",
      "07/22/2020 06:26:32 PM  [INFO    ]  loading the data into memory (pandas df)\n",
      "07/22/2020 06:26:33 PM  [INFO    ]  Done\n",
      "07/22/2020 06:26:33 PM  [INFO    ]  making final data set from raw data\n",
      "07/22/2020 06:26:33 PM  [INFO    ]  Done\n",
      "07/22/2020 06:26:34 PM  [INFO    ]  C:\\Users\\apignet\\Documents\\homomorphic-encryption\\ckks_titanic\n",
      "07/22/2020 06:26:34 PM  [INFO    ]  loading the data into memory (pandas df)\n",
      "07/22/2020 06:26:34 PM  [INFO    ]  Done\n",
      "07/22/2020 06:26:34 PM  [INFO    ]  making final data set from raw data\n",
      "07/22/2020 06:26:34 PM  [INFO    ]  Done\n",
      "peak memory: 133.09 MiB, increment: 3.02 MiB\n"
     ]
    }
   ],
   "source": [
    "%%memit\n",
    "logging.info(os.getcwd())\n",
    "raw_train, raw_test = build_features.data_import(os.getcwd()+DATA_PATH)\n",
    "train, submission_test = build_features.processing(raw_train, raw_test)\n",
    "del submission_test"
   ]
  },
  {
   "cell_type": "code",
   "execution_count": 11,
   "metadata": {},
   "outputs": [
    {
     "name": "stdout",
     "output_type": "stream",
     "text": [
      "peak memory: 133.12 MiB, increment: 0.03 MiB\n"
     ]
    }
   ],
   "source": [
    "%%memit\n",
    "train, test = train_test_split(train, test_size=0.15)\n",
    "train_labels = train.Survived\n",
    "test_labels = test.Survived\n",
    "train_features = train.drop(\"Survived\", axis=1)\n",
    "test_features = test.drop(\"Survived\", axis=1)"
   ]
  },
  {
   "cell_type": "markdown",
   "metadata": {},
   "source": [
    "# Definition of safety parameters"
   ]
  },
  {
   "cell_type": "code",
   "execution_count": 12,
   "metadata": {},
   "outputs": [
    {
     "name": "stdout",
     "output_type": "stream",
     "text": [
      "07/22/2020 06:26:38 PM  [INFO    ]  Definition of safety parameters...\n",
      "07/22/2020 06:26:40 PM  [INFO    ]  Done. 2.05 seconds\n",
      "07/22/2020 06:26:40 PM  [INFO    ]  Generation of the Galois Key...\n",
      "07/22/2020 06:26:46 PM  [INFO    ]  Done. 6.04 seconds\n",
      "peak memory: 685.14 MiB, increment: 552.02 MiB\n"
     ]
    }
   ],
   "source": [
    "%%memit\n",
    "logging.info('Definition of safety parameters...')\n",
    "timer = time.time()\n",
    "# context = ts.context(ts.SCHEME_TYPE.CKKS, 32768,\n",
    "# coeff_mod_bit_sizes=[60, 40, 40, 40, 40, 40, 40, 40, 40, 40, 40, 40, 40, 40, 40, 60])\n",
    "#context = ts.context(ts.SCHEME_TYPE.CKKS, 8192, coeff_mod_bit_sizes=[40, 21, 21, 21, 21, 21, 21, 40])\n",
    "\n",
    "context = ts.context(ts.SCHEME_TYPE.CKKS, 16384, coeff_mod_bit_sizes=[60, 40, 40, 40, 40, 40, 40, 40, 60])\n",
    "context.global_scale = pow(2, 40)\n",
    "logging.info(\"Done. \" + str(round(time.time() - timer, 2)) + \" seconds\")\n",
    "logging.info('Generation of the Galois Key...')\n",
    "timer = time.time()\n",
    "context.generate_galois_keys()\n",
    "logging.info(\"Done. \" + str(round(time.time() - timer, 2)) + \" seconds\")\n",
    "\n",
    "#logging.info('Generation of the secret key...')\n",
    "#timer = time.time()\n",
    "secret_key = context.secret_key()\n",
    "#context.make_context_public()\n",
    "#logging.info(\"Done. \" + str(round(time.time() - timer, 2)) + \" seconds\")\n",
    "#if context.is_public():\n",
    "#    logging.info(\"The context is now public, the context do not hold the secret key anymore, and decrypt methods need the secret key to be provide,\")\n",
    "\n",
    "\n"
   ]
  },
  {
   "cell_type": "markdown",
   "metadata": {},
   "source": [
    "# Data encryption"
   ]
  },
  {
   "cell_type": "code",
   "execution_count": 13,
   "metadata": {},
   "outputs": [
    {
     "name": "stdout",
     "output_type": "stream",
     "text": [
      "07/22/2020 06:26:48 PM  [INFO    ]  Data encryption...\n",
      "07/22/2020 06:26:48 PM  [INFO    ]  25 % ...\n",
      "07/22/2020 06:26:48 PM  [INFO    ]  50 % ...\n",
      "07/22/2020 06:26:48 PM  [INFO    ]  75% ...\n",
      "07/22/2020 06:26:48 PM  [INFO    ]  25 % ...\n",
      "07/22/2020 06:26:48 PM  [INFO    ]  50 % ...\n",
      "07/22/2020 06:26:48 PM  [INFO    ]  75% ...\n",
      "07/22/2020 06:26:48 PM  [INFO    ]  25 % ...\n",
      "07/22/2020 06:26:48 PM  [INFO    ]  50 % ...\n",
      "07/22/2020 06:26:48 PM  [INFO    ]  25 % ...\n",
      "07/22/2020 06:26:48 PM  [INFO    ]  50 % ...\n",
      "07/22/2020 06:26:48 PM  [INFO    ]  Done. 0.9 seconds\n",
      "peak memory: 727.12 MiB, increment: 44.25 MiB\n"
     ]
    }
   ],
   "source": [
    "%%memit\n",
    "logging.info(\"Data encryption...\")\n",
    "timer = time.time()\n",
    "encrypted_X = crytp_array(train_features.to_numpy(), context)\n",
    "encrypted_Y = crytp_array(train_labels.to_numpy().reshape((-1, 1)), context)\n",
    "encrypted_test_X = crytp_array(test_features.to_numpy(), context)\n",
    "encrypted_test_Y = crytp_array(test_labels.to_numpy().reshape((-1, 1)), context)\n",
    "logging.info(\"Done. \" + str(round(time.time() - timer, 2)) + \" seconds\")"
   ]
  },
  {
   "cell_type": "markdown",
   "metadata": {},
   "source": [
    "# Initialize the weight\n",
    "\n",
    "The weights have to be crypted "
   ]
  },
  {
   "cell_type": "code",
   "execution_count": 14,
   "metadata": {},
   "outputs": [
    {
     "name": "stdout",
     "output_type": "stream",
     "text": [
      "07/22/2020 06:26:50 PM  [INFO    ]  [-0.03728003 -0.22118233 -0.02821037  0.16781451 -0.16910528 -0.18027723\n",
      "  0.1418758   0.12167226  0.15728503  0.22444824 -0.34745436  0.07369468\n",
      "  0.12869451  0.11730282 -0.26277094  0.02371997  0.1205593   0.06311755\n",
      "  0.08282779 -0.03741227 -0.13547144  0.12238001  0.00511736 -0.17799449\n",
      "  0.30109943 -0.23201542 -0.12988362  0.11869281 -0.10980877  0.08489242\n",
      " -0.02738822]\n",
      "07/22/2020 06:26:51 PM  [INFO    ]  [-0.25221592 -0.19008214  0.19742692 -0.07292176 -0.11611411 -0.36235529\n",
      " -0.29473678 -0.15076962  0.25298727  0.44179656 -0.24154526 -0.0466663\n",
      " -0.06914596  0.54374655  0.13946972 -0.04421122  0.1522394   0.21618007\n",
      " -0.25404665 -0.13342794  0.25537901 -0.42716826 -0.00306433  0.12607883\n",
      "  0.0184761  -0.40889499  0.25981618 -0.17000903 -0.33609104 -0.22387234\n",
      "  0.03696169]\n",
      "peak memory: 734.39 MiB, increment: 7.27 MiB\n"
     ]
    }
   ],
   "source": [
    "%%memit\n",
    "unencrypted_weight = np.random.normal(loc=0,\n",
    "                                      scale=0.2, size =(train_features.to_numpy().shape[1]))\n",
    "logging.info(unencrypted_weight)\n",
    "weight = ts.ckks_vector(context, unencrypted_weight)\n",
    "unencrypted_weight = np.array(unencrypted_weight)\n",
    "unencrypted_bias = np.random.random((1))\n",
    "bias = ts.ckks_vector(context, unencrypted_bias)\n",
    "unencrypted_bias = np.array(unencrypted_bias)"
   ]
  },
  {
   "cell_type": "markdown",
   "metadata": {},
   "source": [
    "The confidential data as yet stored into a dictionnary, and will be used during the training only by functions which are passed as arguments to the fit methods. This encapsulation of sensitive data will allows us to ensure security during training later. "
   ]
  },
  {
   "cell_type": "code",
   "execution_count": 15,
   "metadata": {},
   "outputs": [
    {
     "name": "stdout",
     "output_type": "stream",
     "text": [
      "peak memory: 733.26 MiB, increment: 0.00 MiB\n"
     ]
    }
   ],
   "source": [
    "%%memit\n",
    "confidential_data = {'context':context,\n",
    "                     'secret_key':secret_key, \n",
    "                     'unencrypted_X':train_features.to_numpy(),\n",
    "                     'unencrypted_Y':train_labels.to_numpy().reshape((-1, 1)) \n",
    "                    }"
   ]
  },
  {
   "cell_type": "code",
   "execution_count": 16,
   "metadata": {},
   "outputs": [
    {
     "name": "stdout",
     "output_type": "stream",
     "text": [
      "peak memory: 758.32 MiB, increment: 25.05 MiB\n"
     ]
    }
   ],
   "source": [
    "%%memit\n",
    "weight.dot(weight)"
   ]
  },
  {
   "cell_type": "markdown",
   "metadata": {},
   "source": [
    "# Training the crypted model"
   ]
  },
  {
   "cell_type": "code",
   "execution_count": 17,
   "metadata": {},
   "outputs": [
    {
     "name": "stdout",
     "output_type": "stream",
     "text": [
      "07/22/2020 06:26:57 PM  [INFO    ]  Model initialization\n"
     ]
    }
   ],
   "source": [
    "logging.info(\"Model initialization\")\n",
    "model = encrypted_LR.LogisticRegressionHE(init_weight=weight,\n",
    "                                          init_bias=bias,\n",
    "                                          refresh_function=refresh, \n",
    "                                          confidential_kwarg=confidential_data,\n",
    "                                          accuracy=accuracy,\n",
    "                                          verbose=VERBOSE,\n",
    "                                          save_weight=SAVE_WEIGHT,\n",
    "                                          max_epoch=EPOCH,\n",
    "                                          lr=LEARNING_RATE,\n",
    "                                          reg_para=REGULARIZATION_RATE,\n",
    "                                          n_jobs = N_JOBS)"
   ]
  },
  {
   "cell_type": "code",
   "execution_count": 18,
   "metadata": {},
   "outputs": [
    {
     "name": "stdout",
     "output_type": "stream",
     "text": [
      "07/22/2020 06:26:57 PM  [INFO    ]  Training starting\n",
      "07/22/2020 06:27:03 PM  [INFO    ]  Just finished iteration number 1 \n",
      "07/22/2020 06:27:05 PM  [INFO    ]  Loss : <_tenseal_cpp.CKKSVector object at 0x00000193BE49C3F0>.\n",
      "07/22/2020 06:27:16 PM  [INFO    ]  Just finished iteration number 3 \n",
      "07/22/2020 06:27:19 PM  [INFO    ]  Loss : <_tenseal_cpp.CKKSVector object at 0x00000193BE3B3470>.\n",
      "07/22/2020 06:27:29 PM  [INFO    ]  Just finished iteration number 5 \n",
      "07/22/2020 06:27:32 PM  [INFO    ]  Loss : <_tenseal_cpp.CKKSVector object at 0x00000193BE48F070>.\n",
      "07/22/2020 06:27:43 PM  [INFO    ]  Just finished iteration number 7 \n",
      "07/22/2020 06:27:45 PM  [INFO    ]  Loss : <_tenseal_cpp.CKKSVector object at 0x00000193BE40AB70>.\n",
      "07/22/2020 06:27:56 PM  [INFO    ]  Just finished iteration number 9 \n",
      "07/22/2020 06:27:59 PM  [INFO    ]  Loss : <_tenseal_cpp.CKKSVector object at 0x00000193BE48F7F0>.\n",
      "07/22/2020 06:28:10 PM  [INFO    ]  Just finished iteration number 11 \n",
      "07/22/2020 06:28:12 PM  [INFO    ]  Loss : <_tenseal_cpp.CKKSVector object at 0x00000193BE49C6F0>.\n",
      "07/22/2020 06:28:23 PM  [INFO    ]  Just finished iteration number 13 \n",
      "07/22/2020 06:28:25 PM  [INFO    ]  Loss : <_tenseal_cpp.CKKSVector object at 0x00000193BE49C170>.\n",
      "07/22/2020 06:28:36 PM  [INFO    ]  Just finished iteration number 15 \n",
      "07/22/2020 06:28:39 PM  [INFO    ]  Loss : <_tenseal_cpp.CKKSVector object at 0x00000193BE49C070>.\n",
      "07/22/2020 06:28:50 PM  [INFO    ]  Just finished iteration number 17 \n",
      "07/22/2020 06:28:52 PM  [INFO    ]  Loss : <_tenseal_cpp.CKKSVector object at 0x00000193BE48FEB0>.\n",
      "07/22/2020 06:29:03 PM  [INFO    ]  Just finished iteration number 19 \n",
      "07/22/2020 06:29:05 PM  [INFO    ]  Loss : <_tenseal_cpp.CKKSVector object at 0x00000193BE40A730>.\n",
      " 07/22/2020 06:29:11 PM  [INFO    ]  Training done. 134.0 seconds\n"
     ]
    }
   ],
   "source": [
    "logging.info(\"Training starting\")\n",
    "timer=time.time()\n",
    "%prun model.fit(encrypted_X, encrypted_Y)\n",
    "logging.info(\"Training done. \" + str(round(time.time() - timer, 0)) + \" seconds\")"
   ]
  },
  {
   "cell_type": "markdown",
   "metadata": {},
   "source": [
    "# Accuracy"
   ]
  },
  {
   "cell_type": "code",
   "execution_count": 19,
   "metadata": {},
   "outputs": [
    {
     "name": "stdout",
     "output_type": "stream",
     "text": [
      "[0.50500129 0.35363225]\n",
      "[1. 1.]\n",
      "07/22/2020 06:29:11 PM  [INFO    ]  Accuracy of encrypted model : 0.5 \n"
     ]
    }
   ],
   "source": [
    "acc = model.accuracy(unencrypted_X=test_features.to_numpy(), unencrypted_Y=test_labels.to_numpy().reshape((-1, 1)))\n",
    "print(test_labels.to_numpy())\n",
    "logging.info(\"Accuracy of encrypted model : %s \" % acc)"
   ]
  },
  {
   "cell_type": "markdown",
   "metadata": {},
   "source": [
    "# Training the unencrypted model"
   ]
  },
  {
   "cell_type": "code",
   "execution_count": 20,
   "metadata": {},
   "outputs": [
    {
     "name": "stdout",
     "output_type": "stream",
     "text": [
      "07/22/2020 06:29:11 PM  [INFO    ]  Model initialization\n"
     ]
    }
   ],
   "source": [
    "logging.info(\"Model initialization\")\n",
    "unencrypted_model = unencrypted_LR.LogisticRegression(init_weight=unencrypted_weight,\n",
    "                                                      init_bias=unencrypted_bias,\n",
    "                                                      verbose=VERBOSE,\n",
    "                                                      save_weight= SAVE_WEIGHT,\n",
    "                                                      max_epoch=EPOCH,\n",
    "                                                      lr=LEARNING_RATE,\n",
    "                                                      reg_para=REGULARIZATION_RATE,\n",
    "                                                      n_jobs = N_JOBS)"
   ]
  },
  {
   "cell_type": "code",
   "execution_count": 21,
   "metadata": {},
   "outputs": [
    {
     "name": "stdout",
     "output_type": "stream",
     "text": [
      "07/22/2020 06:29:11 PM  [INFO    ]  Training starting\n",
      "07/22/2020 06:29:11 PM  [INFO    ]  Just finished iteration number 1 \n",
      "07/22/2020 06:29:11 PM  [INFO    ]  Loss : 5.781917117690192.\n",
      "07/22/2020 06:29:11 PM  [INFO    ]  Just finished iteration number 3 \n",
      "07/22/2020 06:29:11 PM  [INFO    ]  Loss : 2.0195799711658045.\n",
      "07/22/2020 06:29:11 PM  [INFO    ]  Just finished iteration number 5 \n",
      "07/22/2020 06:29:11 PM  [INFO    ]  Loss : 1.4947089571596819.\n",
      "07/22/2020 06:29:11 PM  [INFO    ]  Just finished iteration number 7 \n",
      "07/22/2020 06:29:11 PM  [INFO    ]  Loss : 1.3017645691565753.\n",
      "07/22/2020 06:29:11 PM  [INFO    ]  Just finished iteration number 9 \n",
      "07/22/2020 06:29:11 PM  [INFO    ]  Loss : 1.1911200008037026.\n",
      "07/22/2020 06:29:11 PM  [INFO    ]  Just finished iteration number 11 \n",
      "07/22/2020 06:29:11 PM  [INFO    ]  Loss : 1.1082519477667114.\n",
      "07/22/2020 06:29:11 PM  [INFO    ]  Just finished iteration number 13 \n",
      "07/22/2020 06:29:11 PM  [INFO    ]  Loss : 1.045463137495664.\n",
      "07/22/2020 06:29:11 PM  [INFO    ]  Just finished iteration number 15 \n",
      "07/22/2020 06:29:11 PM  [INFO    ]  Loss : 0.9986459355081558.\n",
      "07/22/2020 06:29:11 PM  [INFO    ]  Just finished iteration number 17 \n",
      "07/22/2020 06:29:11 PM  [INFO    ]  Loss : 0.9637430817077016.\n",
      "07/22/2020 06:29:11 PM  [INFO    ]  Just finished iteration number 19 \n",
      "07/22/2020 06:29:11 PM  [INFO    ]  Loss : 0.9374970940526742.\n",
      "07/22/2020 06:29:11 PM  [INFO    ]  Training done. 0.0 seconds\n"
     ]
    }
   ],
   "source": [
    "logging.info(\"Training starting\")\n",
    "timer=time.time()\n",
    "unencrypted_model.fit(train_features.to_numpy(), train_labels.to_numpy().reshape((-1, 1)))\n",
    "logging.info(\"Training done. \" + str(round(time.time() - timer, 0)) + \" seconds\")"
   ]
  },
  {
   "cell_type": "code",
   "execution_count": 22,
   "metadata": {},
   "outputs": [
    {
     "name": "stdout",
     "output_type": "stream",
     "text": [
      "07/22/2020 06:29:11 PM  [INFO    ]  Accuracy of unencrypted model : 0.5 \n"
     ]
    }
   ],
   "source": [
    "acc = unencrypted_model.accuracy(test_features.to_numpy(), test_labels.to_numpy().reshape((-1, 1)))\n",
    "logging.info(\"Accuracy of unencrypted model : %s \" % acc)"
   ]
  },
  {
   "cell_type": "code",
   "execution_count": 23,
   "metadata": {},
   "outputs": [
    {
     "data": {
      "text/plain": [
       "2.5575205206459"
      ]
     },
     "execution_count": 23,
     "metadata": {},
     "output_type": "execute_result"
    }
   ],
   "source": [
    "unencrypted_model.true_loss_list[0].reshape(1)[0]"
   ]
  },
  {
   "cell_type": "code",
   "execution_count": 24,
   "metadata": {},
   "outputs": [
    {
     "data": {
      "text/plain": [
       "2.4726322316128932"
      ]
     },
     "execution_count": 24,
     "metadata": {},
     "output_type": "execute_result"
    }
   ],
   "source": [
    "unencrypted_model.weight.dot(unencrypted_model.weight)"
   ]
  },
  {
   "cell_type": "markdown",
   "metadata": {},
   "source": [
    "# Figures"
   ]
  },
  {
   "cell_type": "markdown",
   "metadata": {},
   "source": [
    "## encrypted and unencrypted losses "
   ]
  },
  {
   "cell_type": "code",
   "execution_count": 25,
   "metadata": {},
   "outputs": [
    {
     "data": {
      "text/plain": [
       "[1.369464809199921,\n",
       " 0.8919299190474733,\n",
       " 0.8057646218488385,\n",
       " 0.7655022122581262,\n",
       " 0.739114532639606,\n",
       " 0.7177934532459991,\n",
       " 0.6999188494608055,\n",
       " 0.6849390421466826,\n",
       " 0.6724144203102266,\n",
       " 0.6619631507145464]"
      ]
     },
     "execution_count": 25,
     "metadata": {},
     "output_type": "execute_result"
    },
    {
     "name": "stdout",
     "output_type": "stream",
     "text": [
      "07/22/2020 06:29:12 PM  [DEBUG   ]  findfont: Matching sans\\-serif:style=normal:variant=normal:weight=normal:stretch=normal:size=12.0.\n",
      "07/22/2020 06:29:12 PM  [DEBUG   ]  findfont: score(<Font 'STIXNonUnicode' (STIXNonUniIta.ttf) italic normal 400 normal>) = 11.05\n",
      "07/22/2020 06:29:12 PM  [DEBUG   ]  findfont: score(<Font 'DejaVu Serif' (DejaVuSerif-Italic.ttf) italic normal 400 normal>) = 11.05\n",
      "07/22/2020 06:29:12 PM  [DEBUG   ]  findfont: score(<Font 'cmmi10' (cmmi10.ttf) normal normal 400 normal>) = 10.05\n",
      "07/22/2020 06:29:12 PM  [DEBUG   ]  findfont: score(<Font 'STIXSizeFiveSym' (STIXSizFiveSymReg.ttf) normal normal regular normal>) = 10.05\n",
      "07/22/2020 06:29:12 PM  [DEBUG   ]  findfont: score(<Font 'STIXSizeOneSym' (STIXSizOneSymReg.ttf) normal normal regular normal>) = 10.05\n",
      "07/22/2020 06:29:12 PM  [DEBUG   ]  findfont: score(<Font 'STIXGeneral' (STIXGeneral.ttf) normal normal regular normal>) = 10.05\n",
      "07/22/2020 06:29:12 PM  [DEBUG   ]  findfont: score(<Font 'STIXSizeThreeSym' (STIXSizThreeSymBol.ttf) normal normal 700 normal>) = 10.335\n",
      "07/22/2020 06:29:12 PM  [DEBUG   ]  findfont: score(<Font 'cmex10' (cmex10.ttf) normal normal 400 normal>) = 10.05\n",
      "07/22/2020 06:29:12 PM  [DEBUG   ]  findfont: score(<Font 'cmss10' (cmss10.ttf) normal normal 400 normal>) = 10.05\n",
      "07/22/2020 06:29:12 PM  [DEBUG   ]  findfont: score(<Font 'DejaVu Serif' (DejaVuSerif-BoldItalic.ttf) italic normal 700 normal>) = 11.335\n",
      "07/22/2020 06:29:12 PM  [DEBUG   ]  findfont: score(<Font 'cmsy10' (cmsy10.ttf) normal normal 400 normal>) = 10.05\n",
      "07/22/2020 06:29:12 PM  [DEBUG   ]  findfont: score(<Font 'DejaVu Sans Mono' (DejaVuSansMono.ttf) normal normal 400 normal>) = 10.05\n",
      "07/22/2020 06:29:12 PM  [DEBUG   ]  findfont: score(<Font 'STIXNonUnicode' (STIXNonUni.ttf) normal normal regular normal>) = 10.05\n",
      "07/22/2020 06:29:12 PM  [DEBUG   ]  findfont: score(<Font 'cmr10' (cmr10.ttf) normal normal 400 normal>) = 10.05\n",
      "07/22/2020 06:29:12 PM  [DEBUG   ]  findfont: score(<Font 'STIXSizeFourSym' (STIXSizFourSymBol.ttf) normal normal 700 normal>) = 10.335\n",
      "07/22/2020 06:29:12 PM  [DEBUG   ]  findfont: score(<Font 'cmtt10' (cmtt10.ttf) normal normal 400 normal>) = 10.05\n",
      "07/22/2020 06:29:12 PM  [DEBUG   ]  findfont: score(<Font 'STIXSizeOneSym' (STIXSizOneSymBol.ttf) normal normal 700 normal>) = 10.335\n",
      "07/22/2020 06:29:12 PM  [DEBUG   ]  findfont: score(<Font 'STIXSizeThreeSym' (STIXSizThreeSymReg.ttf) normal normal regular normal>) = 10.05\n",
      "07/22/2020 06:29:12 PM  [DEBUG   ]  findfont: score(<Font 'DejaVu Sans Mono' (DejaVuSansMono-Oblique.ttf) oblique normal 400 normal>) = 11.05\n",
      "07/22/2020 06:29:12 PM  [DEBUG   ]  findfont: score(<Font 'STIXGeneral' (STIXGeneralItalic.ttf) italic normal 400 normal>) = 11.05\n",
      "07/22/2020 06:29:12 PM  [DEBUG   ]  findfont: score(<Font 'DejaVu Sans' (DejaVuSans.ttf) normal normal 400 normal>) = 0.05\n",
      "07/22/2020 06:29:12 PM  [DEBUG   ]  findfont: score(<Font 'DejaVu Sans' (DejaVuSans-Oblique.ttf) oblique normal 400 normal>) = 1.05\n",
      "07/22/2020 06:29:12 PM  [DEBUG   ]  findfont: score(<Font 'STIXSizeTwoSym' (STIXSizTwoSymBol.ttf) normal normal 700 normal>) = 10.335\n",
      "07/22/2020 06:29:12 PM  [DEBUG   ]  findfont: score(<Font 'STIXNonUnicode' (STIXNonUniBol.ttf) normal normal 700 normal>) = 10.335\n",
      "07/22/2020 06:29:12 PM  [DEBUG   ]  findfont: score(<Font 'DejaVu Sans' (DejaVuSans-BoldOblique.ttf) oblique normal 700 normal>) = 1.335\n",
      "07/22/2020 06:29:12 PM  [DEBUG   ]  findfont: score(<Font 'DejaVu Serif' (DejaVuSerif.ttf) normal normal 400 normal>) = 10.05\n",
      "07/22/2020 06:29:12 PM  [DEBUG   ]  findfont: score(<Font 'STIXSizeFourSym' (STIXSizFourSymReg.ttf) normal normal regular normal>) = 10.05\n",
      "07/22/2020 06:29:12 PM  [DEBUG   ]  findfont: score(<Font 'STIXGeneral' (STIXGeneralBolIta.ttf) italic normal 700 normal>) = 11.335\n",
      "07/22/2020 06:29:12 PM  [DEBUG   ]  findfont: score(<Font 'DejaVu Sans Mono' (DejaVuSansMono-Bold.ttf) normal normal 700 normal>) = 10.335\n",
      "07/22/2020 06:29:12 PM  [DEBUG   ]  findfont: score(<Font 'DejaVu Sans Mono' (DejaVuSansMono-BoldOblique.ttf) oblique normal 700 normal>) = 11.335\n",
      "07/22/2020 06:29:12 PM  [DEBUG   ]  findfont: score(<Font 'DejaVu Serif' (DejaVuSerif-Bold.ttf) normal normal 700 normal>) = 10.335\n",
      "07/22/2020 06:29:12 PM  [DEBUG   ]  findfont: score(<Font 'DejaVu Sans Display' (DejaVuSansDisplay.ttf) normal normal 400 normal>) = 10.05\n",
      "07/22/2020 06:29:12 PM  [DEBUG   ]  findfont: score(<Font 'STIXGeneral' (STIXGeneralBol.ttf) normal normal 700 normal>) = 10.335\n",
      "07/22/2020 06:29:12 PM  [DEBUG   ]  findfont: score(<Font 'DejaVu Sans' (DejaVuSans-Bold.ttf) normal normal 700 normal>) = 0.33499999999999996\n",
      "07/22/2020 06:29:12 PM  [DEBUG   ]  findfont: score(<Font 'STIXNonUnicode' (STIXNonUniBolIta.ttf) italic normal 700 normal>) = 11.335\n",
      "07/22/2020 06:29:12 PM  [DEBUG   ]  findfont: score(<Font 'cmb10' (cmb10.ttf) normal normal 400 normal>) = 10.05\n",
      "07/22/2020 06:29:12 PM  [DEBUG   ]  findfont: score(<Font 'DejaVu Serif Display' (DejaVuSerifDisplay.ttf) normal normal 400 normal>) = 10.05\n",
      "07/22/2020 06:29:12 PM  [DEBUG   ]  findfont: score(<Font 'STIXSizeTwoSym' (STIXSizTwoSymReg.ttf) normal normal regular normal>) = 10.05\n",
      "07/22/2020 06:29:12 PM  [DEBUG   ]  findfont: score(<Font 'Gadugi' (gadugib.ttf) normal normal 700 normal>) = 10.335\n",
      "07/22/2020 06:29:12 PM  [DEBUG   ]  findfont: score(<Font 'Franklin Gothic Medium' (framd.ttf) normal normal medium normal>) = 10.145\n",
      "07/22/2020 06:29:12 PM  [DEBUG   ]  findfont: score(<Font 'Century Gothic' (GOTHIC.TTF) normal normal 400 normal>) = 10.05\n",
      "07/22/2020 06:29:12 PM  [DEBUG   ]  findfont: score(<Font 'Book Antiqua' (BKANT.TTF) normal normal book normal>) = 10.05\n",
      "07/22/2020 06:29:12 PM  [DEBUG   ]  findfont: score(<Font 'Calibri' (calibrib.ttf) normal normal 700 normal>) = 10.335\n",
      "07/22/2020 06:29:12 PM  [DEBUG   ]  findfont: score(<Font 'Wingdings 3' (WINGDNG3.TTF) normal normal 400 normal>) = 10.05\n",
      "07/22/2020 06:29:12 PM  [DEBUG   ]  findfont: score(<Font 'Candara' (Candarab.ttf) normal normal 700 normal>) = 10.335\n",
      "07/22/2020 06:29:12 PM  [DEBUG   ]  findfont: score(<Font 'Georgia' (georgia.ttf) normal normal 400 normal>) = 10.05\n",
      "07/22/2020 06:29:12 PM  [DEBUG   ]  findfont: score(<Font 'Sylfaen' (sylfaen.ttf) normal normal 400 normal>) = 10.05\n",
      "07/22/2020 06:29:12 PM  [DEBUG   ]  findfont: score(<Font 'Mongolian Baiti' (monbaiti.ttf) normal normal 400 normal>) = 10.05\n",
      "07/22/2020 06:29:12 PM  [DEBUG   ]  findfont: score(<Font 'Garamond' (GARA.TTF) normal normal 400 normal>) = 10.05\n",
      "07/22/2020 06:29:12 PM  [DEBUG   ]  findfont: score(<Font 'Ink Free' (Inkfree.ttf) normal normal 400 normal>) = 10.05\n",
      "07/22/2020 06:29:12 PM  [DEBUG   ]  findfont: score(<Font 'Georgia' (georgiai.ttf) italic normal 400 normal>) = 11.05\n",
      "07/22/2020 06:29:12 PM  [DEBUG   ]  findfont: score(<Font 'Bookshelf Symbol 7' (BSSYM7.TTF) normal normal book normal>) = 10.05\n",
      "07/22/2020 06:29:12 PM  [DEBUG   ]  findfont: score(<Font 'Comic Sans MS' (comicz.ttf) italic normal 700 normal>) = 11.335\n",
      "07/22/2020 06:29:12 PM  [DEBUG   ]  findfont: score(<Font 'Constantia' (constani.ttf) italic normal 400 normal>) = 11.05\n",
      "07/22/2020 06:29:12 PM  [DEBUG   ]  findfont: score(<Font 'Garamond' (GARAIT.TTF) italic normal 400 normal>) = 11.05\n",
      "07/22/2020 06:29:12 PM  [DEBUG   ]  findfont: score(<Font 'Leelawadee UI' (LeelUIsl.ttf) normal normal light normal>) = 10.24\n",
      "07/22/2020 06:29:12 PM  [DEBUG   ]  findfont: score(<Font 'Microsoft YaHei' (msyhl.ttc) normal normal light normal>) = 10.24\n",
      "07/22/2020 06:29:12 PM  [DEBUG   ]  findfont: score(<Font 'Segoe UI Emoji' (seguiemj.ttf) normal normal 400 normal>) = 10.05\n",
      "07/22/2020 06:29:12 PM  [DEBUG   ]  findfont: score(<Font 'Cambria' (cambriab.ttf) normal normal 700 normal>) = 10.335\n",
      "07/22/2020 06:29:12 PM  [DEBUG   ]  findfont: score(<Font 'Palatino Linotype' (palai.ttf) italic normal 400 normal>) = 11.05\n",
      "07/22/2020 06:29:12 PM  [DEBUG   ]  findfont: score(<Font 'Century Gothic' (GOTHICI.TTF) italic normal 400 normal>) = 11.05\n",
      "07/22/2020 06:29:12 PM  [DEBUG   ]  findfont: score(<Font 'MS Reference Sans Serif' (REFSAN.TTF) normal normal 400 normal>) = 10.05\n",
      "07/22/2020 06:29:12 PM  [DEBUG   ]  findfont: score(<Font 'Microsoft PhagsPa' (phagspab.ttf) normal normal 700 normal>) = 10.335\n",
      "07/22/2020 06:29:12 PM  [DEBUG   ]  findfont: score(<Font 'Papyrus' (PAPYRUS.TTF) normal normal 400 normal>) = 10.05\n"
     ]
    },
    {
     "name": "stdout",
     "output_type": "stream",
     "text": [
      "07/22/2020 06:29:12 PM  [DEBUG   ]  findfont: score(<Font 'Verdana' (verdanaz.ttf) italic normal 700 normal>) = 4.971363636363637\n",
      "07/22/2020 06:29:12 PM  [DEBUG   ]  findfont: score(<Font 'Segoe Print' (segoepr.ttf) normal normal 400 normal>) = 10.05\n",
      "07/22/2020 06:29:12 PM  [DEBUG   ]  findfont: score(<Font 'Myanmar Text' (mmrtextb.ttf) normal normal 700 normal>) = 10.335\n",
      "07/22/2020 06:29:12 PM  [DEBUG   ]  findfont: score(<Font 'Segoe Script' (segoesc.ttf) normal normal 400 normal>) = 10.05\n",
      "07/22/2020 06:29:12 PM  [DEBUG   ]  findfont: score(<Font 'Calibri' (calibrib.ttf) normal normal 700 normal>) = 10.335\n",
      "07/22/2020 06:29:12 PM  [DEBUG   ]  findfont: score(<Font 'Segoe UI' (seguili.ttf) italic normal light normal>) = 11.24\n",
      "07/22/2020 06:29:12 PM  [DEBUG   ]  findfont: score(<Font 'Segoe Script' (segoescb.ttf) normal normal 700 normal>) = 10.335\n",
      "07/22/2020 06:29:12 PM  [DEBUG   ]  findfont: score(<Font 'HoloLens MDL2 Assets' (holomdl2.ttf) normal normal 400 normal>) = 10.05\n",
      "07/22/2020 06:29:12 PM  [DEBUG   ]  findfont: score(<Font 'Wingdings 2' (WINGDNG2.TTF) normal normal 400 normal>) = 10.05\n",
      "07/22/2020 06:29:12 PM  [DEBUG   ]  findfont: score(<Font 'Cambria' (cambriai.ttf) italic normal 400 normal>) = 11.05\n",
      "07/22/2020 06:29:12 PM  [DEBUG   ]  findfont: score(<Font 'Segoe UI' (segoeuisl.ttf) normal normal light normal>) = 10.24\n",
      "07/22/2020 06:29:12 PM  [DEBUG   ]  findfont: score(<Font 'Arial' (ARIALNB.TTF) normal normal 700 condensed>) = 6.8986363636363635\n",
      "07/22/2020 06:29:12 PM  [DEBUG   ]  findfont: score(<Font 'Arial' (ariblk.ttf) normal normal black normal>) = 6.888636363636364\n",
      "07/22/2020 06:29:12 PM  [DEBUG   ]  findfont: score(<Font 'Juice ITC' (JUICE___.TTF) normal normal 400 normal>) = 10.05\n",
      "07/22/2020 06:29:12 PM  [DEBUG   ]  findfont: score(<Font 'Bookman Old Style' (BOOKOS.TTF) normal normal book normal>) = 10.05\n",
      "07/22/2020 06:29:12 PM  [DEBUG   ]  findfont: score(<Font 'Constantia' (constanb.ttf) normal normal 700 normal>) = 10.335\n",
      "07/22/2020 06:29:12 PM  [DEBUG   ]  findfont: score(<Font 'Segoe UI Symbol' (seguisym.ttf) normal normal 400 normal>) = 10.05\n",
      "07/22/2020 06:29:12 PM  [DEBUG   ]  findfont: score(<Font 'Lucida Handwriting' (LHANDW.TTF) italic normal 400 normal>) = 11.05\n",
      "07/22/2020 06:29:12 PM  [DEBUG   ]  findfont: score(<Font 'Arial' (ARIALN.TTF) normal normal 400 condensed>) = 6.613636363636363\n",
      "07/22/2020 06:29:12 PM  [DEBUG   ]  findfont: score(<Font 'French Script MT' (FRSCRIPT.TTF) normal normal 400 normal>) = 10.05\n",
      "07/22/2020 06:29:12 PM  [DEBUG   ]  findfont: score(<Font 'MS Reference Specialty' (REFSPCL.TTF) normal normal 400 normal>) = 10.05\n",
      "07/22/2020 06:29:12 PM  [DEBUG   ]  findfont: score(<Font 'Georgia' (georgiab.ttf) normal normal 700 normal>) = 10.335\n",
      "07/22/2020 06:29:12 PM  [DEBUG   ]  findfont: score(<Font 'Tahoma' (tahoma.ttf) normal normal 400 normal>) = 10.05\n",
      "07/22/2020 06:29:12 PM  [DEBUG   ]  findfont: score(<Font 'Courier New' (cour.ttf) normal normal 400 normal>) = 10.05\n",
      "07/22/2020 06:29:12 PM  [DEBUG   ]  findfont: score(<Font 'Palatino Linotype' (palabi.ttf) italic normal 700 normal>) = 11.335\n",
      "07/22/2020 06:29:12 PM  [DEBUG   ]  findfont: score(<Font 'Book Antiqua' (ANTQUAB.TTF) normal normal 700 normal>) = 10.335\n",
      "07/22/2020 06:29:12 PM  [DEBUG   ]  findfont: score(<Font 'Dubai' (DUBAI-MEDIUM.TTF) normal normal medium normal>) = 10.145\n",
      "07/22/2020 06:29:12 PM  [DEBUG   ]  findfont: score(<Font 'Calibri' (calibrii.ttf) italic normal 400 normal>) = 11.05\n",
      "07/22/2020 06:29:12 PM  [DEBUG   ]  findfont: score(<Font 'Trebuchet MS' (trebucbd.ttf) normal normal 700 normal>) = 10.335\n",
      "07/22/2020 06:29:12 PM  [DEBUG   ]  findfont: score(<Font 'Century' (CENTURY.TTF) normal normal 400 normal>) = 10.05\n",
      "07/22/2020 06:29:12 PM  [DEBUG   ]  findfont: score(<Font 'Candara' (Candarai.ttf) italic normal 400 normal>) = 11.05\n",
      "07/22/2020 06:29:12 PM  [DEBUG   ]  findfont: score(<Font 'Segoe UI' (segoeuib.ttf) normal normal 700 normal>) = 10.335\n",
      "07/22/2020 06:29:12 PM  [DEBUG   ]  findfont: score(<Font 'Leelawadee UI' (LeelawUI.ttf) normal normal 400 normal>) = 10.05\n",
      "07/22/2020 06:29:12 PM  [DEBUG   ]  findfont: score(<Font 'Monotype Corsiva' (MTCORSVA.TTF) normal normal 400 normal>) = 10.05\n",
      "07/22/2020 06:29:12 PM  [DEBUG   ]  findfont: score(<Font 'Nirmala UI' (NirmalaB.ttf) normal normal 700 normal>) = 10.335\n",
      "07/22/2020 06:29:12 PM  [DEBUG   ]  findfont: score(<Font 'Bookman Old Style' (BOOKOS.TTF) normal normal book normal>) = 10.05\n",
      "07/22/2020 06:29:12 PM  [DEBUG   ]  findfont: score(<Font 'Trebuchet MS' (trebucbi.ttf) italic normal 700 normal>) = 11.335\n",
      "07/22/2020 06:29:12 PM  [DEBUG   ]  findfont: score(<Font 'Verdana' (verdana.ttf) normal normal 400 normal>) = 3.6863636363636365\n",
      "07/22/2020 06:29:12 PM  [DEBUG   ]  findfont: score(<Font 'Times New Roman' (timesi.ttf) italic normal roman normal>) = 11.145\n",
      "07/22/2020 06:29:12 PM  [DEBUG   ]  findfont: score(<Font 'Ebrima' (ebrimabd.ttf) normal normal 700 normal>) = 10.335\n",
      "07/22/2020 06:29:12 PM  [DEBUG   ]  findfont: score(<Font 'Arial' (ARIALNBI.TTF) italic normal 700 condensed>) = 7.8986363636363635\n",
      "07/22/2020 06:29:12 PM  [DEBUG   ]  findfont: score(<Font 'Microsoft JhengHei' (msjh.ttc) normal normal 400 normal>) = 10.05\n",
      "07/22/2020 06:29:12 PM  [DEBUG   ]  findfont: score(<Font 'Javanese Text' (javatext.ttf) normal normal 400 normal>) = 10.05\n",
      "07/22/2020 06:29:12 PM  [DEBUG   ]  findfont: score(<Font 'Segoe UI' (seguisbi.ttf) italic normal semibold normal>) = 11.24\n",
      "07/22/2020 06:29:12 PM  [DEBUG   ]  findfont: score(<Font 'Microsoft PhagsPa' (phagspab.ttf) normal normal 700 normal>) = 10.335\n",
      "07/22/2020 06:29:12 PM  [DEBUG   ]  findfont: score(<Font 'Century' (CENTURY.TTF) normal normal 400 normal>) = 10.05\n",
      "07/22/2020 06:29:12 PM  [DEBUG   ]  findfont: score(<Font 'Palatino Linotype' (pala.ttf) normal normal 400 normal>) = 10.05\n",
      "07/22/2020 06:29:12 PM  [DEBUG   ]  findfont: score(<Font 'Segoe UI' (segoeuii.ttf) italic normal 400 normal>) = 11.05\n",
      "07/22/2020 06:29:12 PM  [DEBUG   ]  findfont: score(<Font 'MT Extra' (MTEXTRA.TTF) normal normal 400 normal>) = 10.05\n",
      "07/22/2020 06:29:12 PM  [DEBUG   ]  findfont: score(<Font 'Arial' (arial.ttf) normal normal 400 normal>) = 6.413636363636363\n",
      "07/22/2020 06:29:12 PM  [DEBUG   ]  findfont: score(<Font 'Marlett' (marlett.ttf) normal normal 400 normal>) = 10.05\n",
      "07/22/2020 06:29:12 PM  [DEBUG   ]  findfont: score(<Font 'Bookman Old Style' (BOOKOSI.TTF) italic normal book normal>) = 11.05\n",
      "07/22/2020 06:29:12 PM  [DEBUG   ]  findfont: score(<Font 'Sitka Small' (SitkaB.ttc) normal normal 700 normal>) = 10.335\n",
      "07/22/2020 06:29:12 PM  [DEBUG   ]  findfont: score(<Font 'Microsoft New Tai Lue' (ntailub.ttf) normal normal 700 normal>) = 10.335\n",
      "07/22/2020 06:29:12 PM  [DEBUG   ]  findfont: score(<Font 'Arial' (arialbd.ttf) normal normal 700 normal>) = 6.698636363636363\n",
      "07/22/2020 06:29:12 PM  [DEBUG   ]  findfont: score(<Font 'Palatino Linotype' (palab.ttf) normal normal 700 normal>) = 10.335\n",
      "07/22/2020 06:29:12 PM  [DEBUG   ]  findfont: score(<Font 'Candara' (Candaral.ttf) normal normal light normal>) = 10.24\n",
      "07/22/2020 06:29:12 PM  [DEBUG   ]  findfont: score(<Font 'Corbel' (corbel.ttf) normal normal 400 normal>) = 10.05\n",
      "07/22/2020 06:29:12 PM  [DEBUG   ]  findfont: score(<Font 'Monotype Corsiva' (MTCORSVA.TTF) normal normal 400 normal>) = 10.05\n",
      "07/22/2020 06:29:12 PM  [DEBUG   ]  findfont: score(<Font 'Juice ITC' (JUICE___.TTF) normal normal 400 normal>) = 10.05\n",
      "07/22/2020 06:29:12 PM  [DEBUG   ]  findfont: score(<Font 'Corbel' (corbelli.ttf) italic normal light normal>) = 11.24\n",
      "07/22/2020 06:29:12 PM  [DEBUG   ]  findfont: score(<Font 'Malgun Gothic' (malgun.ttf) normal normal 400 normal>) = 10.05\n",
      "07/22/2020 06:29:12 PM  [DEBUG   ]  findfont: score(<Font 'Yu Gothic' (YuGothR.ttc) normal normal regular normal>) = 10.05\n",
      "07/22/2020 06:29:12 PM  [DEBUG   ]  findfont: score(<Font 'Comic Sans MS' (comicbd.ttf) normal normal 700 normal>) = 10.335\n",
      "07/22/2020 06:29:12 PM  [DEBUG   ]  findfont: score(<Font 'Yu Gothic' (YuGothL.ttc) normal normal light normal>) = 10.24\n",
      "07/22/2020 06:29:12 PM  [DEBUG   ]  findfont: score(<Font 'Gabriola' (Gabriola.ttf) normal normal 400 normal>) = 10.05\n",
      "07/22/2020 06:29:12 PM  [DEBUG   ]  findfont: score(<Font 'Sitka Small' (SitkaZ.ttc) italic normal 700 normal>) = 11.335\n"
     ]
    },
    {
     "name": "stdout",
     "output_type": "stream",
     "text": [
      "07/22/2020 06:29:12 PM  [DEBUG   ]  findfont: score(<Font 'Malgun Gothic' (malgunsl.ttf) normal normal light normal>) = 10.24\n",
      "07/22/2020 06:29:12 PM  [DEBUG   ]  findfont: score(<Font 'Mistral' (MISTRAL.TTF) normal normal 400 normal>) = 10.05\n",
      "07/22/2020 06:29:12 PM  [DEBUG   ]  findfont: score(<Font 'Comic Sans MS' (comic.ttf) normal normal 400 normal>) = 10.05\n",
      "07/22/2020 06:29:12 PM  [DEBUG   ]  findfont: score(<Font 'Microsoft Yi Baiti' (msyi.ttf) normal normal 400 normal>) = 10.05\n",
      "07/22/2020 06:29:12 PM  [DEBUG   ]  findfont: score(<Font 'Candara' (Candarali.ttf) italic normal light normal>) = 11.24\n",
      "07/22/2020 06:29:12 PM  [DEBUG   ]  findfont: score(<Font 'Arial' (arialbi.ttf) italic normal 700 normal>) = 7.698636363636363\n",
      "07/22/2020 06:29:12 PM  [DEBUG   ]  findfont: score(<Font 'Courier New' (cour.ttf) normal normal 400 normal>) = 10.05\n",
      "07/22/2020 06:29:12 PM  [DEBUG   ]  findfont: score(<Font 'Freestyle Script' (FREESCPT.TTF) normal normal 400 normal>) = 10.05\n",
      "07/22/2020 06:29:12 PM  [DEBUG   ]  findfont: score(<Font 'Arial' (ariali.ttf) italic normal 400 normal>) = 7.413636363636363\n",
      "07/22/2020 06:29:12 PM  [DEBUG   ]  findfont: score(<Font 'Sitka Small' (Sitka.ttc) normal normal 400 normal>) = 10.05\n",
      "07/22/2020 06:29:12 PM  [DEBUG   ]  findfont: score(<Font 'Lucida Sans Unicode' (l_10646.ttf) normal normal 400 normal>) = 10.05\n",
      "07/22/2020 06:29:12 PM  [DEBUG   ]  findfont: score(<Font 'Microsoft JhengHei' (msjhbd.ttc) normal normal 700 normal>) = 10.335\n",
      "07/22/2020 06:29:12 PM  [DEBUG   ]  findfont: score(<Font 'Tempus Sans ITC' (TEMPSITC.TTF) normal normal 400 normal>) = 10.05\n",
      "07/22/2020 06:29:12 PM  [DEBUG   ]  findfont: score(<Font 'Candara' (Candarali.ttf) italic normal light normal>) = 11.24\n",
      "07/22/2020 06:29:12 PM  [DEBUG   ]  findfont: score(<Font 'Kristen ITC' (ITCKRIST.TTF) normal normal 400 normal>) = 10.05\n",
      "07/22/2020 06:29:12 PM  [DEBUG   ]  findfont: score(<Font 'Bradley Hand ITC' (BRADHITC.TTF) normal normal 400 normal>) = 10.05\n",
      "07/22/2020 06:29:12 PM  [DEBUG   ]  findfont: score(<Font 'Palatino Linotype' (pala.ttf) normal normal 400 normal>) = 10.05\n",
      "07/22/2020 06:29:12 PM  [DEBUG   ]  findfont: score(<Font 'Segoe UI' (seguisbi.ttf) italic normal semibold normal>) = 11.24\n",
      "07/22/2020 06:29:12 PM  [DEBUG   ]  findfont: score(<Font 'Microsoft JhengHei' (msjhbd.ttc) normal normal 700 normal>) = 10.335\n",
      "07/22/2020 06:29:12 PM  [DEBUG   ]  findfont: score(<Font 'Calibri' (calibriz.ttf) italic normal 700 normal>) = 11.335\n",
      "07/22/2020 06:29:12 PM  [DEBUG   ]  findfont: score(<Font 'Microsoft JhengHei' (msjhl.ttc) normal normal light normal>) = 10.24\n",
      "07/22/2020 06:29:12 PM  [DEBUG   ]  findfont: score(<Font 'Cambria' (cambriaz.ttf) italic normal 700 normal>) = 11.335\n",
      "07/22/2020 06:29:12 PM  [DEBUG   ]  findfont: score(<Font 'Nirmala UI' (NirmalaB.ttf) normal normal 700 normal>) = 10.335\n",
      "07/22/2020 06:29:12 PM  [DEBUG   ]  findfont: score(<Font 'Franklin Gothic Medium' (framdit.ttf) italic normal medium normal>) = 11.145\n",
      "07/22/2020 06:29:12 PM  [DEBUG   ]  findfont: score(<Font 'Segoe UI' (seguisb.ttf) normal normal semibold normal>) = 10.24\n",
      "07/22/2020 06:29:12 PM  [DEBUG   ]  findfont: score(<Font 'Candara' (Candaraz.ttf) italic normal 700 normal>) = 11.335\n",
      "07/22/2020 06:29:12 PM  [DEBUG   ]  findfont: score(<Font 'Candara' (Candarab.ttf) normal normal 700 normal>) = 10.335\n",
      "07/22/2020 06:29:12 PM  [DEBUG   ]  findfont: score(<Font 'Myanmar Text' (mmrtext.ttf) normal normal 400 normal>) = 10.05\n",
      "07/22/2020 06:29:12 PM  [DEBUG   ]  findfont: score(<Font 'Microsoft New Tai Lue' (ntailu.ttf) normal normal 400 normal>) = 10.05\n",
      "07/22/2020 06:29:12 PM  [DEBUG   ]  findfont: score(<Font 'Calibri' (calibrili.ttf) italic normal light normal>) = 11.24\n",
      "07/22/2020 06:29:12 PM  [DEBUG   ]  findfont: score(<Font 'Gadugi' (gadugib.ttf) normal normal 700 normal>) = 10.335\n",
      "07/22/2020 06:29:12 PM  [DEBUG   ]  findfont: score(<Font 'Yu Gothic' (YuGothR.ttc) normal normal regular normal>) = 10.05\n",
      "07/22/2020 06:29:12 PM  [DEBUG   ]  findfont: score(<Font 'Trebuchet MS' (trebucit.ttf) italic normal 400 normal>) = 11.05\n",
      "07/22/2020 06:29:12 PM  [DEBUG   ]  findfont: score(<Font 'Times New Roman' (timesi.ttf) italic normal roman normal>) = 11.145\n",
      "07/22/2020 06:29:12 PM  [DEBUG   ]  findfont: score(<Font 'Trebuchet MS' (trebucbi.ttf) italic normal 700 normal>) = 11.335\n",
      "07/22/2020 06:29:12 PM  [DEBUG   ]  findfont: score(<Font 'Microsoft PhagsPa' (phagspa.ttf) normal normal 400 normal>) = 10.05\n",
      "07/22/2020 06:29:12 PM  [DEBUG   ]  findfont: score(<Font 'Garamond' (GARA.TTF) normal normal 400 normal>) = 10.05\n",
      "07/22/2020 06:29:12 PM  [DEBUG   ]  findfont: score(<Font 'MS Reference Sans Serif' (REFSAN.TTF) normal normal 400 normal>) = 10.05\n",
      "07/22/2020 06:29:12 PM  [DEBUG   ]  findfont: score(<Font 'Century Gothic' (GOTHICBI.TTF) italic normal 700 normal>) = 11.335\n",
      "07/22/2020 06:29:12 PM  [DEBUG   ]  findfont: score(<Font 'Consolas' (consolaz.ttf) italic normal 700 normal>) = 11.335\n",
      "07/22/2020 06:29:12 PM  [DEBUG   ]  findfont: score(<Font 'Tahoma' (tahomabd.ttf) normal normal 700 normal>) = 10.335\n",
      "07/22/2020 06:29:12 PM  [DEBUG   ]  findfont: score(<Font 'Microsoft YaHei' (msyh.ttc) normal normal 400 normal>) = 10.05\n",
      "07/22/2020 06:29:12 PM  [DEBUG   ]  findfont: score(<Font 'Times New Roman' (timesbd.ttf) normal normal 700 normal>) = 10.335\n",
      "07/22/2020 06:29:12 PM  [DEBUG   ]  findfont: score(<Font 'Corbel' (corbeli.ttf) italic normal 400 normal>) = 11.05\n",
      "07/22/2020 06:29:12 PM  [DEBUG   ]  findfont: score(<Font 'Javanese Text' (javatext.ttf) normal normal 400 normal>) = 10.05\n",
      "07/22/2020 06:29:12 PM  [DEBUG   ]  findfont: score(<Font 'Microsoft JhengHei' (msjh.ttc) normal normal 400 normal>) = 10.05\n",
      "07/22/2020 06:29:12 PM  [DEBUG   ]  findfont: score(<Font 'Book Antiqua' (ANTQUAI.TTF) italic normal book normal>) = 11.05\n",
      "07/22/2020 06:29:12 PM  [DEBUG   ]  findfont: score(<Font 'Trebuchet MS' (trebucit.ttf) italic normal 400 normal>) = 11.05\n",
      "07/22/2020 06:29:12 PM  [DEBUG   ]  findfont: score(<Font 'Microsoft New Tai Lue' (ntailu.ttf) normal normal 400 normal>) = 10.05\n",
      "07/22/2020 06:29:12 PM  [DEBUG   ]  findfont: score(<Font 'Segoe UI' (seguisli.ttf) italic normal light normal>) = 11.24\n",
      "07/22/2020 06:29:12 PM  [DEBUG   ]  findfont: score(<Font 'Tahoma' (tahomabd.ttf) normal normal 700 normal>) = 10.335\n",
      "07/22/2020 06:29:12 PM  [DEBUG   ]  findfont: score(<Font 'Franklin Gothic Medium' (framdit.ttf) italic normal medium normal>) = 11.145\n",
      "07/22/2020 06:29:12 PM  [DEBUG   ]  findfont: score(<Font 'Calibri' (calibril.ttf) normal normal light normal>) = 10.24\n",
      "07/22/2020 06:29:12 PM  [DEBUG   ]  findfont: score(<Font 'HoloLens MDL2 Assets' (holomdl2.ttf) normal normal 400 normal>) = 10.05\n",
      "07/22/2020 06:29:12 PM  [DEBUG   ]  findfont: score(<Font 'Dubai' (DUBAI-REGULAR.TTF) normal normal regular normal>) = 10.05\n",
      "07/22/2020 06:29:12 PM  [DEBUG   ]  findfont: score(<Font 'Segoe UI' (segoeuib.ttf) normal normal 700 normal>) = 10.335\n",
      "07/22/2020 06:29:12 PM  [DEBUG   ]  findfont: score(<Font 'Century Gothic' (GOTHICB.TTF) normal normal 700 normal>) = 10.335\n",
      "07/22/2020 06:29:12 PM  [DEBUG   ]  findfont: score(<Font 'Sitka Small' (SitkaB.ttc) normal normal 700 normal>) = 10.335\n",
      "07/22/2020 06:29:12 PM  [DEBUG   ]  findfont: score(<Font 'Cambria' (cambriaz.ttf) italic normal 700 normal>) = 11.335\n",
      "07/22/2020 06:29:12 PM  [DEBUG   ]  findfont: score(<Font 'Verdana' (verdanaz.ttf) italic normal 700 normal>) = 4.971363636363637\n",
      "07/22/2020 06:29:12 PM  [DEBUG   ]  findfont: score(<Font 'Consolas' (consola.ttf) normal normal 400 normal>) = 10.05\n",
      "07/22/2020 06:29:12 PM  [DEBUG   ]  findfont: score(<Font 'Papyrus' (PAPYRUS.TTF) normal normal 400 normal>) = 10.05\n",
      "07/22/2020 06:29:12 PM  [DEBUG   ]  findfont: score(<Font 'Malgun Gothic' (malgunsl.ttf) normal normal light normal>) = 10.24\n",
      "07/22/2020 06:29:12 PM  [DEBUG   ]  findfont: score(<Font 'Segoe UI Historic' (seguihis.ttf) normal normal 400 normal>) = 10.05\n",
      "07/22/2020 06:29:12 PM  [DEBUG   ]  findfont: score(<Font 'Wingdings' (wingding.ttf) normal normal 400 normal>) = 10.05\n",
      "07/22/2020 06:29:12 PM  [DEBUG   ]  findfont: score(<Font 'SimSun-ExtB' (simsunb.ttf) normal normal 400 normal>) = 10.05\n",
      "07/22/2020 06:29:12 PM  [DEBUG   ]  findfont: score(<Font 'Garamond' (GARABD.TTF) normal normal 700 normal>) = 10.335\n"
     ]
    },
    {
     "name": "stdout",
     "output_type": "stream",
     "text": [
      "07/22/2020 06:29:12 PM  [DEBUG   ]  findfont: score(<Font 'Arial' (ARIALNI.TTF) italic normal 400 condensed>) = 7.613636363636363\n",
      "07/22/2020 06:29:12 PM  [DEBUG   ]  findfont: score(<Font 'Tempus Sans ITC' (TEMPSITC.TTF) normal normal 400 normal>) = 10.05\n",
      "07/22/2020 06:29:12 PM  [DEBUG   ]  findfont: score(<Font 'Arial' (ARIALNB.TTF) normal normal 700 condensed>) = 6.8986363636363635\n",
      "07/22/2020 06:29:12 PM  [DEBUG   ]  findfont: score(<Font 'SimSun-ExtB' (simsunb.ttf) normal normal 400 normal>) = 10.05\n",
      "07/22/2020 06:29:12 PM  [DEBUG   ]  findfont: score(<Font 'Corbel' (corbell.ttf) normal normal light normal>) = 10.24\n",
      "07/22/2020 06:29:12 PM  [DEBUG   ]  findfont: score(<Font 'MS Outlook' (OUTLOOK.TTF) normal normal 400 normal>) = 10.05\n",
      "07/22/2020 06:29:12 PM  [DEBUG   ]  findfont: score(<Font 'Impact' (impact.ttf) normal normal 400 normal>) = 10.05\n",
      "07/22/2020 06:29:12 PM  [DEBUG   ]  findfont: score(<Font 'Gadugi' (gadugi.ttf) normal normal 400 normal>) = 10.05\n",
      "07/22/2020 06:29:12 PM  [DEBUG   ]  findfont: score(<Font 'Nirmala UI' (NirmalaS.ttf) normal normal light normal>) = 10.24\n",
      "07/22/2020 06:29:12 PM  [DEBUG   ]  findfont: score(<Font 'Verdana' (verdanai.ttf) italic normal 400 normal>) = 4.6863636363636365\n",
      "07/22/2020 06:29:12 PM  [DEBUG   ]  findfont: score(<Font 'Bookman Old Style' (BOOKOSBI.TTF) italic normal 700 normal>) = 11.335\n",
      "07/22/2020 06:29:12 PM  [DEBUG   ]  findfont: score(<Font 'Arial' (arial.ttf) normal normal 400 normal>) = 6.413636363636363\n",
      "07/22/2020 06:29:12 PM  [DEBUG   ]  findfont: score(<Font 'Segoe UI Emoji' (seguiemj.ttf) normal normal 400 normal>) = 10.05\n",
      "07/22/2020 06:29:12 PM  [DEBUG   ]  findfont: score(<Font 'Segoe Print' (segoeprb.ttf) normal normal 700 normal>) = 10.335\n",
      "07/22/2020 06:29:12 PM  [DEBUG   ]  findfont: score(<Font 'Microsoft Himalaya' (himalaya.ttf) normal normal 400 normal>) = 10.05\n",
      "07/22/2020 06:29:12 PM  [DEBUG   ]  findfont: score(<Font 'Bookman Old Style' (BOOKOSI.TTF) italic normal book normal>) = 11.05\n",
      "07/22/2020 06:29:12 PM  [DEBUG   ]  findfont: score(<Font 'Microsoft PhagsPa' (phagspa.ttf) normal normal 400 normal>) = 10.05\n",
      "07/22/2020 06:29:12 PM  [DEBUG   ]  findfont: score(<Font 'Courier New' (courbi.ttf) italic normal 700 normal>) = 11.335\n",
      "07/22/2020 06:29:12 PM  [DEBUG   ]  findfont: score(<Font 'Yu Gothic' (YuGothM.ttc) normal normal medium normal>) = 10.145\n",
      "07/22/2020 06:29:12 PM  [DEBUG   ]  findfont: score(<Font 'TeamViewer15' (teamviewer15.otf) normal normal 400 normal>) = 10.05\n",
      "07/22/2020 06:29:12 PM  [DEBUG   ]  findfont: score(<Font 'Candara' (Candara.ttf) normal normal 400 normal>) = 10.05\n",
      "07/22/2020 06:29:12 PM  [DEBUG   ]  findfont: score(<Font 'Times New Roman' (timesbd.ttf) normal normal 700 normal>) = 10.335\n",
      "07/22/2020 06:29:12 PM  [DEBUG   ]  findfont: score(<Font 'Comic Sans MS' (comic.ttf) normal normal 400 normal>) = 10.05\n",
      "07/22/2020 06:29:12 PM  [DEBUG   ]  findfont: score(<Font 'MS Gothic' (msgothic.ttc) normal normal 400 normal>) = 10.05\n",
      "07/22/2020 06:29:12 PM  [DEBUG   ]  findfont: score(<Font 'Times New Roman' (times.ttf) normal normal roman normal>) = 10.145\n",
      "07/22/2020 06:29:12 PM  [DEBUG   ]  findfont: score(<Font 'Microsoft Tai Le' (taile.ttf) normal normal 400 normal>) = 10.05\n",
      "07/22/2020 06:29:12 PM  [DEBUG   ]  findfont: score(<Font 'Microsoft YaHei' (msyhbd.ttc) normal normal 700 normal>) = 10.335\n",
      "07/22/2020 06:29:12 PM  [DEBUG   ]  findfont: score(<Font 'Sitka Small' (SitkaI.ttc) italic normal 400 normal>) = 11.05\n",
      "07/22/2020 06:29:12 PM  [DEBUG   ]  findfont: score(<Font 'MS Outlook' (OUTLOOK.TTF) normal normal 400 normal>) = 10.05\n",
      "07/22/2020 06:29:12 PM  [DEBUG   ]  findfont: score(<Font 'Arial' (ARIALNBI.TTF) italic normal 700 condensed>) = 7.8986363636363635\n",
      "07/22/2020 06:29:12 PM  [DEBUG   ]  findfont: score(<Font 'SimSun' (simsun.ttc) normal normal 400 normal>) = 10.05\n",
      "07/22/2020 06:29:12 PM  [DEBUG   ]  findfont: score(<Font 'Gabriola' (Gabriola.ttf) normal normal 400 normal>) = 10.05\n",
      "07/22/2020 06:29:12 PM  [DEBUG   ]  findfont: score(<Font 'Lucida Handwriting' (LHANDW.TTF) italic normal 400 normal>) = 11.05\n",
      "07/22/2020 06:29:12 PM  [DEBUG   ]  findfont: score(<Font 'Microsoft Sans Serif' (micross.ttf) normal normal 400 normal>) = 10.05\n",
      "07/22/2020 06:29:12 PM  [DEBUG   ]  findfont: score(<Font 'Microsoft Yi Baiti' (msyi.ttf) normal normal 400 normal>) = 10.05\n",
      "07/22/2020 06:29:12 PM  [DEBUG   ]  findfont: score(<Font 'Leelawadee UI' (LeelUIsl.ttf) normal normal light normal>) = 10.24\n",
      "07/22/2020 06:29:12 PM  [DEBUG   ]  findfont: score(<Font 'Segoe UI Symbol' (seguisym.ttf) normal normal 400 normal>) = 10.05\n",
      "07/22/2020 06:29:12 PM  [DEBUG   ]  findfont: score(<Font 'Comic Sans MS' (comici.ttf) italic normal 400 normal>) = 11.05\n",
      "07/22/2020 06:29:12 PM  [DEBUG   ]  findfont: score(<Font 'Leelawadee UI' (LeelawUI.ttf) normal normal 400 normal>) = 10.05\n",
      "07/22/2020 06:29:12 PM  [DEBUG   ]  findfont: score(<Font 'Impact' (impact.ttf) normal normal 400 normal>) = 10.05\n",
      "07/22/2020 06:29:12 PM  [DEBUG   ]  findfont: score(<Font 'Constantia' (constanz.ttf) italic normal 700 normal>) = 11.335\n",
      "07/22/2020 06:29:12 PM  [DEBUG   ]  findfont: score(<Font 'Microsoft JhengHei' (msjhl.ttc) normal normal light normal>) = 10.24\n",
      "07/22/2020 06:29:12 PM  [DEBUG   ]  findfont: score(<Font 'Calibri' (calibril.ttf) normal normal light normal>) = 10.24\n",
      "07/22/2020 06:29:12 PM  [DEBUG   ]  findfont: score(<Font 'Freestyle Script' (FREESCPT.TTF) normal normal 400 normal>) = 10.05\n",
      "07/22/2020 06:29:12 PM  [DEBUG   ]  findfont: score(<Font 'Dubai' (DUBAI-BOLD.TTF) normal normal 700 normal>) = 10.335\n",
      "07/22/2020 06:29:12 PM  [DEBUG   ]  findfont: score(<Font 'Book Antiqua' (ANTQUABI.TTF) italic normal 700 normal>) = 11.335\n",
      "07/22/2020 06:29:12 PM  [DEBUG   ]  findfont: score(<Font 'Myanmar Text' (mmrtext.ttf) normal normal 400 normal>) = 10.05\n",
      "07/22/2020 06:29:12 PM  [DEBUG   ]  findfont: score(<Font 'Nirmala UI' (NirmalaS.ttf) normal normal light normal>) = 10.24\n",
      "07/22/2020 06:29:12 PM  [DEBUG   ]  findfont: score(<Font 'Segoe UI' (seguisb.ttf) normal normal semibold normal>) = 10.24\n",
      "07/22/2020 06:29:12 PM  [DEBUG   ]  findfont: score(<Font 'Segoe UI' (seguili.ttf) italic normal light normal>) = 11.24\n",
      "07/22/2020 06:29:12 PM  [DEBUG   ]  findfont: score(<Font 'Comic Sans MS' (comicz.ttf) italic normal 700 normal>) = 11.335\n",
      "07/22/2020 06:29:12 PM  [DEBUG   ]  findfont: score(<Font 'Malgun Gothic' (malgun.ttf) normal normal 400 normal>) = 10.05\n",
      "07/22/2020 06:29:12 PM  [DEBUG   ]  findfont: score(<Font 'Segoe UI' (segoeuil.ttf) normal normal light normal>) = 10.24\n",
      "07/22/2020 06:29:12 PM  [DEBUG   ]  findfont: score(<Font 'Mongolian Baiti' (monbaiti.ttf) normal normal 400 normal>) = 10.05\n",
      "07/22/2020 06:29:12 PM  [DEBUG   ]  findfont: score(<Font 'Arial' (ARIALNI.TTF) italic normal 400 condensed>) = 7.613636363636363\n",
      "07/22/2020 06:29:12 PM  [DEBUG   ]  findfont: score(<Font 'Constantia' (constani.ttf) italic normal 400 normal>) = 11.05\n",
      "07/22/2020 06:29:12 PM  [DEBUG   ]  findfont: score(<Font 'Calibri' (calibriz.ttf) italic normal 700 normal>) = 11.335\n",
      "07/22/2020 06:29:12 PM  [DEBUG   ]  findfont: score(<Font 'Dubai' (DUBAI-REGULAR.TTF) normal normal regular normal>) = 10.05\n",
      "07/22/2020 06:29:12 PM  [DEBUG   ]  findfont: score(<Font 'MT Extra' (MTEXTRA.TTF) normal normal 400 normal>) = 10.05\n",
      "07/22/2020 06:29:12 PM  [DEBUG   ]  findfont: score(<Font 'Arial' (ARIALN.TTF) normal normal 400 condensed>) = 6.613636363636363\n",
      "07/22/2020 06:29:12 PM  [DEBUG   ]  findfont: score(<Font 'Cambria' (cambriab.ttf) normal normal 700 normal>) = 10.335\n",
      "07/22/2020 06:29:12 PM  [DEBUG   ]  findfont: score(<Font 'Dubai' (DUBAI-LIGHT.TTF) normal normal light normal>) = 10.24\n",
      "07/22/2020 06:29:12 PM  [DEBUG   ]  findfont: score(<Font 'Courier New' (courbd.ttf) normal normal 700 normal>) = 10.335\n",
      "07/22/2020 06:29:12 PM  [DEBUG   ]  findfont: score(<Font 'Microsoft Tai Le' (taileb.ttf) normal normal 700 normal>) = 10.335\n",
      "07/22/2020 06:29:12 PM  [DEBUG   ]  findfont: score(<Font 'Yu Gothic' (YuGothB.ttc) normal normal 700 normal>) = 10.335\n",
      "07/22/2020 06:29:12 PM  [DEBUG   ]  findfont: score(<Font 'Corbel' (corbelli.ttf) italic normal light normal>) = 11.24\n",
      "07/22/2020 06:29:12 PM  [DEBUG   ]  findfont: score(<Font 'Courier New' (couri.ttf) italic normal 400 normal>) = 11.05\n"
     ]
    },
    {
     "name": "stdout",
     "output_type": "stream",
     "text": [
      "07/22/2020 06:29:12 PM  [DEBUG   ]  findfont: score(<Font 'Comic Sans MS' (comicbd.ttf) normal normal 700 normal>) = 10.335\n",
      "07/22/2020 06:29:12 PM  [DEBUG   ]  findfont: score(<Font 'Microsoft YaHei' (msyhbd.ttc) normal normal 700 normal>) = 10.335\n",
      "07/22/2020 06:29:12 PM  [DEBUG   ]  findfont: score(<Font 'Tahoma' (tahoma.ttf) normal normal 400 normal>) = 10.05\n",
      "07/22/2020 06:29:12 PM  [DEBUG   ]  findfont: score(<Font 'Palatino Linotype' (palabi.ttf) italic normal 700 normal>) = 11.335\n",
      "07/22/2020 06:29:12 PM  [DEBUG   ]  findfont: score(<Font 'Ebrima' (ebrimabd.ttf) normal normal 700 normal>) = 10.335\n",
      "07/22/2020 06:29:12 PM  [DEBUG   ]  findfont: score(<Font 'Wingdings 2' (WINGDNG2.TTF) normal normal 400 normal>) = 10.05\n",
      "07/22/2020 06:29:12 PM  [DEBUG   ]  findfont: score(<Font 'Corbel' (corbell.ttf) normal normal light normal>) = 10.24\n",
      "07/22/2020 06:29:12 PM  [DEBUG   ]  findfont: score(<Font 'TeamViewer15' (teamviewer15.otf) normal normal 400 normal>) = 10.05\n",
      "07/22/2020 06:29:12 PM  [DEBUG   ]  findfont: score(<Font 'Calibri' (calibri.ttf) normal normal 400 normal>) = 10.05\n",
      "07/22/2020 06:29:12 PM  [DEBUG   ]  findfont: score(<Font 'Georgia' (georgiaz.ttf) italic normal 700 normal>) = 11.335\n",
      "07/22/2020 06:29:12 PM  [DEBUG   ]  findfont: score(<Font 'MS Reference Specialty' (REFSPCL.TTF) normal normal 400 normal>) = 10.05\n",
      "07/22/2020 06:29:12 PM  [DEBUG   ]  findfont: score(<Font 'Segoe UI' (seguibli.ttf) italic normal black normal>) = 11.525\n",
      "07/22/2020 06:29:12 PM  [DEBUG   ]  findfont: score(<Font 'Consolas' (consolab.ttf) normal normal 700 normal>) = 10.335\n",
      "07/22/2020 06:29:12 PM  [DEBUG   ]  findfont: score(<Font 'Times New Roman' (times.ttf) normal normal roman normal>) = 10.145\n",
      "07/22/2020 06:29:12 PM  [DEBUG   ]  findfont: score(<Font 'Consolas' (consolaz.ttf) italic normal 700 normal>) = 11.335\n",
      "07/22/2020 06:29:12 PM  [DEBUG   ]  findfont: score(<Font 'Consolas' (consolab.ttf) normal normal 700 normal>) = 10.335\n",
      "07/22/2020 06:29:12 PM  [DEBUG   ]  findfont: score(<Font 'Mistral' (MISTRAL.TTF) normal normal 400 normal>) = 10.05\n",
      "07/22/2020 06:29:12 PM  [DEBUG   ]  findfont: score(<Font 'Segoe UI Historic' (seguihis.ttf) normal normal 400 normal>) = 10.05\n",
      "07/22/2020 06:29:12 PM  [DEBUG   ]  findfont: score(<Font 'Bookshelf Symbol 7' (BSSYM7.TTF) normal normal book normal>) = 10.05\n",
      "07/22/2020 06:29:12 PM  [DEBUG   ]  findfont: score(<Font 'Microsoft Sans Serif' (micross.ttf) normal normal 400 normal>) = 10.05\n",
      "07/22/2020 06:29:12 PM  [DEBUG   ]  findfont: score(<Font 'Dubai' (DUBAI-MEDIUM.TTF) normal normal medium normal>) = 10.145\n",
      "07/22/2020 06:29:12 PM  [DEBUG   ]  findfont: score(<Font 'Ink Free' (Inkfree.ttf) normal normal 400 normal>) = 10.05\n",
      "07/22/2020 06:29:12 PM  [DEBUG   ]  findfont: score(<Font 'Consolas' (consola.ttf) normal normal 400 normal>) = 10.05\n",
      "07/22/2020 06:29:12 PM  [DEBUG   ]  findfont: score(<Font 'Georgia' (georgiai.ttf) italic normal 400 normal>) = 11.05\n",
      "07/22/2020 06:29:12 PM  [DEBUG   ]  findfont: score(<Font 'Sitka Small' (SitkaI.ttc) italic normal 400 normal>) = 11.05\n",
      "07/22/2020 06:29:12 PM  [DEBUG   ]  findfont: score(<Font 'Nirmala UI' (Nirmala.ttf) normal normal 400 normal>) = 10.05\n",
      "07/22/2020 06:29:12 PM  [DEBUG   ]  findfont: score(<Font 'Dubai' (DUBAI-LIGHT.TTF) normal normal light normal>) = 10.24\n",
      "07/22/2020 06:29:12 PM  [DEBUG   ]  findfont: score(<Font 'Arial' (ariali.ttf) italic normal 400 normal>) = 7.413636363636363\n",
      "07/22/2020 06:29:12 PM  [DEBUG   ]  findfont: score(<Font 'Georgia' (georgiaz.ttf) italic normal 700 normal>) = 11.335\n",
      "07/22/2020 06:29:12 PM  [DEBUG   ]  findfont: score(<Font 'MV Boli' (mvboli.ttf) normal normal 400 normal>) = 10.05\n",
      "07/22/2020 06:29:12 PM  [DEBUG   ]  findfont: score(<Font 'Bookman Old Style' (BOOKOSBI.TTF) italic normal 700 normal>) = 11.335\n",
      "07/22/2020 06:29:12 PM  [DEBUG   ]  findfont: score(<Font 'Microsoft Himalaya' (himalaya.ttf) normal normal 400 normal>) = 10.05\n",
      "07/22/2020 06:29:12 PM  [DEBUG   ]  findfont: score(<Font 'Constantia' (constan.ttf) normal normal 400 normal>) = 10.05\n",
      "07/22/2020 06:29:12 PM  [DEBUG   ]  findfont: score(<Font 'Book Antiqua' (ANTQUAB.TTF) normal normal 700 normal>) = 10.335\n",
      "07/22/2020 06:29:12 PM  [DEBUG   ]  findfont: score(<Font 'Microsoft Tai Le' (taileb.ttf) normal normal 700 normal>) = 10.335\n",
      "07/22/2020 06:29:12 PM  [DEBUG   ]  findfont: score(<Font 'Bradley Hand ITC' (BRADHITC.TTF) normal normal 400 normal>) = 10.05\n",
      "07/22/2020 06:29:12 PM  [DEBUG   ]  findfont: score(<Font 'Pristina' (PRISTINA.TTF) normal normal 400 normal>) = 10.05\n",
      "07/22/2020 06:29:12 PM  [DEBUG   ]  findfont: score(<Font 'Comic Sans MS' (comici.ttf) italic normal 400 normal>) = 11.05\n",
      "07/22/2020 06:29:12 PM  [DEBUG   ]  findfont: score(<Font 'Corbel' (corbelb.ttf) normal normal 700 normal>) = 10.335\n",
      "07/22/2020 06:29:12 PM  [DEBUG   ]  findfont: score(<Font 'Georgia' (georgia.ttf) normal normal 400 normal>) = 10.05\n",
      "07/22/2020 06:29:12 PM  [DEBUG   ]  findfont: score(<Font 'Yu Gothic' (YuGothM.ttc) normal normal medium normal>) = 10.145\n",
      "07/22/2020 06:29:12 PM  [DEBUG   ]  findfont: score(<Font 'Myanmar Text' (mmrtextb.ttf) normal normal 700 normal>) = 10.335\n",
      "07/22/2020 06:29:12 PM  [DEBUG   ]  findfont: score(<Font 'Segoe MDL2 Assets' (segmdl2.ttf) normal normal 400 normal>) = 10.05\n",
      "07/22/2020 06:29:12 PM  [DEBUG   ]  findfont: score(<Font 'Times New Roman' (timesbi.ttf) italic normal 700 normal>) = 11.335\n",
      "07/22/2020 06:29:12 PM  [DEBUG   ]  findfont: score(<Font 'Cambria' (cambria.ttc) normal normal 400 normal>) = 10.05\n",
      "07/22/2020 06:29:12 PM  [DEBUG   ]  findfont: score(<Font 'Book Antiqua' (BKANT.TTF) normal normal book normal>) = 10.05\n",
      "07/22/2020 06:29:12 PM  [DEBUG   ]  findfont: score(<Font 'Yu Gothic' (YuGothB.ttc) normal normal 700 normal>) = 10.335\n",
      "07/22/2020 06:29:12 PM  [DEBUG   ]  findfont: score(<Font 'Trebuchet MS' (trebuc.ttf) normal normal 400 normal>) = 10.05\n",
      "07/22/2020 06:29:12 PM  [DEBUG   ]  findfont: score(<Font 'Webdings' (webdings.ttf) normal normal 400 normal>) = 10.05\n",
      "07/22/2020 06:29:12 PM  [DEBUG   ]  findfont: score(<Font 'Ebrima' (ebrima.ttf) normal normal 400 normal>) = 10.05\n",
      "07/22/2020 06:29:12 PM  [DEBUG   ]  findfont: score(<Font 'Segoe UI' (seguibl.ttf) normal normal black normal>) = 10.525\n",
      "07/22/2020 06:29:12 PM  [DEBUG   ]  findfont: score(<Font 'Segoe Script' (segoescb.ttf) normal normal 700 normal>) = 10.335\n",
      "07/22/2020 06:29:12 PM  [DEBUG   ]  findfont: score(<Font 'Microsoft YaHei' (msyh.ttc) normal normal 400 normal>) = 10.05\n",
      "07/22/2020 06:29:12 PM  [DEBUG   ]  findfont: score(<Font 'Constantia' (constan.ttf) normal normal 400 normal>) = 10.05\n",
      "07/22/2020 06:29:12 PM  [DEBUG   ]  findfont: score(<Font 'Georgia' (georgiab.ttf) normal normal 700 normal>) = 10.335\n",
      "07/22/2020 06:29:12 PM  [DEBUG   ]  findfont: score(<Font 'Pristina' (PRISTINA.TTF) normal normal 400 normal>) = 10.05\n",
      "07/22/2020 06:29:12 PM  [DEBUG   ]  findfont: score(<Font 'Cambria' (cambriai.ttf) italic normal 400 normal>) = 11.05\n",
      "07/22/2020 06:29:12 PM  [DEBUG   ]  findfont: score(<Font 'Candara' (Candaraz.ttf) italic normal 700 normal>) = 11.335\n",
      "07/22/2020 06:29:12 PM  [DEBUG   ]  findfont: score(<Font 'Courier New' (couri.ttf) italic normal 400 normal>) = 11.05\n",
      "07/22/2020 06:29:12 PM  [DEBUG   ]  findfont: score(<Font 'Century Gothic' (GOTHIC.TTF) normal normal 400 normal>) = 10.05\n",
      "07/22/2020 06:29:12 PM  [DEBUG   ]  findfont: score(<Font 'Garamond' (GARABD.TTF) normal normal 700 normal>) = 10.335\n",
      "07/22/2020 06:29:12 PM  [DEBUG   ]  findfont: score(<Font 'Corbel' (corbelz.ttf) italic normal 700 normal>) = 11.335\n",
      "07/22/2020 06:29:12 PM  [DEBUG   ]  findfont: score(<Font 'Sitka Small' (SitkaZ.ttc) italic normal 700 normal>) = 11.335\n",
      "07/22/2020 06:29:12 PM  [DEBUG   ]  findfont: score(<Font 'Corbel' (corbelz.ttf) italic normal 700 normal>) = 11.335\n",
      "07/22/2020 06:29:12 PM  [DEBUG   ]  findfont: score(<Font 'Candara' (Candaral.ttf) normal normal light normal>) = 10.24\n",
      "07/22/2020 06:29:12 PM  [DEBUG   ]  findfont: score(<Font 'Segoe UI' (segoeuiz.ttf) italic normal 700 normal>) = 11.335\n",
      "07/22/2020 06:29:12 PM  [DEBUG   ]  findfont: score(<Font 'Constantia' (constanb.ttf) normal normal 700 normal>) = 10.335\n",
      "07/22/2020 06:29:12 PM  [DEBUG   ]  findfont: score(<Font 'Symbol' (symbol.ttf) normal normal 400 normal>) = 10.05\n"
     ]
    },
    {
     "name": "stdout",
     "output_type": "stream",
     "text": [
      "07/22/2020 06:29:12 PM  [DEBUG   ]  findfont: score(<Font 'Segoe MDL2 Assets' (segmdl2.ttf) normal normal 400 normal>) = 10.05\n",
      "07/22/2020 06:29:12 PM  [DEBUG   ]  findfont: score(<Font 'Calibri' (calibrii.ttf) italic normal 400 normal>) = 11.05\n",
      "07/22/2020 06:29:12 PM  [DEBUG   ]  findfont: score(<Font 'Nirmala UI' (Nirmala.ttf) normal normal 400 normal>) = 10.05\n",
      "07/22/2020 06:29:12 PM  [DEBUG   ]  findfont: score(<Font 'Segoe UI' (seguibli.ttf) italic normal black normal>) = 11.525\n",
      "07/22/2020 06:29:12 PM  [DEBUG   ]  findfont: score(<Font 'French Script MT' (FRSCRIPT.TTF) normal normal 400 normal>) = 10.05\n",
      "07/22/2020 06:29:12 PM  [DEBUG   ]  findfont: score(<Font 'Sylfaen' (sylfaen.ttf) normal normal 400 normal>) = 10.05\n",
      "07/22/2020 06:29:12 PM  [DEBUG   ]  findfont: score(<Font 'Segoe UI' (segoeui.ttf) normal normal 400 normal>) = 10.05\n",
      "07/22/2020 06:29:12 PM  [DEBUG   ]  findfont: score(<Font 'Bahnschrift' (bahnschrift.ttf) normal normal 400 normal>) = 10.05\n",
      "07/22/2020 06:29:12 PM  [DEBUG   ]  findfont: score(<Font 'Cambria' (cambria.ttc) normal normal 400 normal>) = 10.05\n",
      "07/22/2020 06:29:12 PM  [DEBUG   ]  findfont: score(<Font 'Malgun Gothic' (malgunbd.ttf) normal normal 700 normal>) = 10.335\n",
      "07/22/2020 06:29:12 PM  [DEBUG   ]  findfont: score(<Font 'Consolas' (consolai.ttf) italic normal 400 normal>) = 11.05\n",
      "07/22/2020 06:29:12 PM  [DEBUG   ]  findfont: score(<Font 'Segoe UI' (segoeuiz.ttf) italic normal 700 normal>) = 11.335\n",
      "07/22/2020 06:29:12 PM  [DEBUG   ]  findfont: score(<Font 'Constantia' (constanz.ttf) italic normal 700 normal>) = 11.335\n",
      "07/22/2020 06:29:12 PM  [DEBUG   ]  findfont: score(<Font 'Wingdings 3' (WINGDNG3.TTF) normal normal 400 normal>) = 10.05\n",
      "07/22/2020 06:29:12 PM  [DEBUG   ]  findfont: score(<Font 'Sitka Small' (Sitka.ttc) normal normal 400 normal>) = 10.05\n",
      "07/22/2020 06:29:12 PM  [DEBUG   ]  findfont: score(<Font 'Book Antiqua' (ANTQUAI.TTF) italic normal book normal>) = 11.05\n",
      "07/22/2020 06:29:12 PM  [DEBUG   ]  findfont: score(<Font 'Segoe UI' (segoeuil.ttf) normal normal light normal>) = 10.24\n",
      "07/22/2020 06:29:12 PM  [DEBUG   ]  findfont: score(<Font 'Century Gothic' (GOTHICI.TTF) italic normal 400 normal>) = 11.05\n",
      "07/22/2020 06:29:12 PM  [DEBUG   ]  findfont: score(<Font 'Verdana' (verdana.ttf) normal normal 400 normal>) = 3.6863636363636365\n",
      "07/22/2020 06:29:12 PM  [DEBUG   ]  findfont: score(<Font 'Corbel' (corbelb.ttf) normal normal 700 normal>) = 10.335\n",
      "07/22/2020 06:29:12 PM  [DEBUG   ]  findfont: score(<Font 'Microsoft New Tai Lue' (ntailub.ttf) normal normal 700 normal>) = 10.335\n",
      "07/22/2020 06:29:12 PM  [DEBUG   ]  findfont: score(<Font 'Century Gothic' (GOTHICBI.TTF) italic normal 700 normal>) = 11.335\n",
      "07/22/2020 06:29:12 PM  [DEBUG   ]  findfont: score(<Font 'Segoe Script' (segoesc.ttf) normal normal 400 normal>) = 10.05\n",
      "07/22/2020 06:29:12 PM  [DEBUG   ]  findfont: score(<Font 'Book Antiqua' (ANTQUABI.TTF) italic normal 700 normal>) = 11.335\n",
      "07/22/2020 06:29:12 PM  [DEBUG   ]  findfont: score(<Font 'Verdana' (verdanab.ttf) normal normal 700 normal>) = 3.9713636363636367\n",
      "07/22/2020 06:29:12 PM  [DEBUG   ]  findfont: score(<Font 'Wingdings' (wingding.ttf) normal normal 400 normal>) = 10.05\n",
      "07/22/2020 06:29:12 PM  [DEBUG   ]  findfont: score(<Font 'Microsoft Tai Le' (taile.ttf) normal normal 400 normal>) = 10.05\n",
      "07/22/2020 06:29:12 PM  [DEBUG   ]  findfont: score(<Font 'Garamond' (GARAIT.TTF) italic normal 400 normal>) = 11.05\n",
      "07/22/2020 06:29:12 PM  [DEBUG   ]  findfont: score(<Font 'Palatino Linotype' (palab.ttf) normal normal 700 normal>) = 10.335\n",
      "07/22/2020 06:29:12 PM  [DEBUG   ]  findfont: score(<Font 'Candara' (Candara.ttf) normal normal 400 normal>) = 10.05\n",
      "07/22/2020 06:29:12 PM  [DEBUG   ]  findfont: score(<Font 'MingLiU-ExtB' (mingliub.ttc) normal normal 400 normal>) = 10.05\n",
      "07/22/2020 06:29:12 PM  [DEBUG   ]  findfont: score(<Font 'MV Boli' (mvboli.ttf) normal normal 400 normal>) = 10.05\n",
      "07/22/2020 06:29:12 PM  [DEBUG   ]  findfont: score(<Font 'Lucida Console' (lucon.ttf) normal normal 400 normal>) = 10.05\n",
      "07/22/2020 06:29:12 PM  [DEBUG   ]  findfont: score(<Font 'Symbol' (symbol.ttf) normal normal 400 normal>) = 10.05\n",
      "07/22/2020 06:29:12 PM  [DEBUG   ]  findfont: score(<Font 'MingLiU-ExtB' (mingliub.ttc) normal normal 400 normal>) = 10.05\n",
      "07/22/2020 06:29:12 PM  [DEBUG   ]  findfont: score(<Font 'Arial' (ariblk.ttf) normal normal black normal>) = 6.888636363636364\n",
      "07/22/2020 06:29:12 PM  [DEBUG   ]  findfont: score(<Font 'Times New Roman' (timesbi.ttf) italic normal 700 normal>) = 11.335\n",
      "07/22/2020 06:29:12 PM  [DEBUG   ]  findfont: score(<Font 'Segoe UI' (seguibl.ttf) normal normal black normal>) = 10.525\n",
      "07/22/2020 06:29:12 PM  [DEBUG   ]  findfont: score(<Font 'Segoe Print' (segoeprb.ttf) normal normal 700 normal>) = 10.335\n",
      "07/22/2020 06:29:12 PM  [DEBUG   ]  findfont: score(<Font 'Malgun Gothic' (malgunbd.ttf) normal normal 700 normal>) = 10.335\n",
      "07/22/2020 06:29:12 PM  [DEBUG   ]  findfont: score(<Font 'Corbel' (corbeli.ttf) italic normal 400 normal>) = 11.05\n",
      "07/22/2020 06:29:12 PM  [DEBUG   ]  findfont: score(<Font 'Bookman Old Style' (BOOKOSB.TTF) normal normal 700 normal>) = 10.335\n",
      "07/22/2020 06:29:12 PM  [DEBUG   ]  findfont: score(<Font 'Courier New' (courbd.ttf) normal normal 700 normal>) = 10.335\n",
      "07/22/2020 06:29:12 PM  [DEBUG   ]  findfont: score(<Font 'Trebuchet MS' (trebuc.ttf) normal normal 400 normal>) = 10.05\n",
      "07/22/2020 06:29:12 PM  [DEBUG   ]  findfont: score(<Font 'Microsoft YaHei' (msyhl.ttc) normal normal light normal>) = 10.24\n",
      "07/22/2020 06:29:12 PM  [DEBUG   ]  findfont: score(<Font 'Dubai' (DUBAI-BOLD.TTF) normal normal 700 normal>) = 10.335\n",
      "07/22/2020 06:29:12 PM  [DEBUG   ]  findfont: score(<Font 'Segoe UI' (segoeui.ttf) normal normal 400 normal>) = 10.05\n",
      "07/22/2020 06:29:12 PM  [DEBUG   ]  findfont: score(<Font 'Kristen ITC' (ITCKRIST.TTF) normal normal 400 normal>) = 10.05\n",
      "07/22/2020 06:29:12 PM  [DEBUG   ]  findfont: score(<Font 'SimSun' (simsun.ttc) normal normal 400 normal>) = 10.05\n",
      "07/22/2020 06:29:12 PM  [DEBUG   ]  findfont: score(<Font 'Arial' (arialbi.ttf) italic normal 700 normal>) = 7.698636363636363\n",
      "07/22/2020 06:29:12 PM  [DEBUG   ]  findfont: score(<Font 'Segoe UI' (segoeuii.ttf) italic normal 400 normal>) = 11.05\n",
      "07/22/2020 06:29:12 PM  [DEBUG   ]  findfont: score(<Font 'MS Gothic' (msgothic.ttc) normal normal 400 normal>) = 10.05\n",
      "07/22/2020 06:29:12 PM  [DEBUG   ]  findfont: score(<Font 'Ebrima' (ebrima.ttf) normal normal 400 normal>) = 10.05\n",
      "07/22/2020 06:29:12 PM  [DEBUG   ]  findfont: score(<Font 'Courier New' (courbi.ttf) italic normal 700 normal>) = 11.335\n",
      "07/22/2020 06:29:12 PM  [DEBUG   ]  findfont: score(<Font 'Webdings' (webdings.ttf) normal normal 400 normal>) = 10.05\n",
      "07/22/2020 06:29:12 PM  [DEBUG   ]  findfont: score(<Font 'Calibri' (calibri.ttf) normal normal 400 normal>) = 10.05\n",
      "07/22/2020 06:29:12 PM  [DEBUG   ]  findfont: score(<Font 'Lucida Sans Unicode' (l_10646.ttf) normal normal 400 normal>) = 10.05\n",
      "07/22/2020 06:29:12 PM  [DEBUG   ]  findfont: score(<Font 'Leelawadee UI' (LeelaUIb.ttf) normal normal 700 normal>) = 10.335\n",
      "07/22/2020 06:29:12 PM  [DEBUG   ]  findfont: score(<Font 'Candara' (Candarai.ttf) italic normal 400 normal>) = 11.05\n",
      "07/22/2020 06:29:12 PM  [DEBUG   ]  findfont: score(<Font 'Corbel' (corbel.ttf) normal normal 400 normal>) = 10.05\n",
      "07/22/2020 06:29:12 PM  [DEBUG   ]  findfont: score(<Font 'Bahnschrift' (bahnschrift.ttf) normal normal 400 normal>) = 10.05\n",
      "07/22/2020 06:29:12 PM  [DEBUG   ]  findfont: score(<Font 'Century Gothic' (GOTHICB.TTF) normal normal 700 normal>) = 10.335\n",
      "07/22/2020 06:29:12 PM  [DEBUG   ]  findfont: score(<Font 'Segoe Print' (segoepr.ttf) normal normal 400 normal>) = 10.05\n",
      "07/22/2020 06:29:12 PM  [DEBUG   ]  findfont: score(<Font 'Leelawadee UI' (LeelaUIb.ttf) normal normal 700 normal>) = 10.335\n",
      "07/22/2020 06:29:12 PM  [DEBUG   ]  findfont: score(<Font 'Consolas' (consolai.ttf) italic normal 400 normal>) = 11.05\n",
      "07/22/2020 06:29:12 PM  [DEBUG   ]  findfont: score(<Font 'Yu Gothic' (YuGothL.ttc) normal normal light normal>) = 10.24\n",
      "07/22/2020 06:29:12 PM  [DEBUG   ]  findfont: score(<Font 'Palatino Linotype' (palai.ttf) italic normal 400 normal>) = 11.05\n",
      "07/22/2020 06:29:12 PM  [DEBUG   ]  findfont: score(<Font 'Gadugi' (gadugi.ttf) normal normal 400 normal>) = 10.05\n"
     ]
    },
    {
     "name": "stdout",
     "output_type": "stream",
     "text": [
      "07/22/2020 06:29:12 PM  [DEBUG   ]  findfont: score(<Font 'Lucida Console' (lucon.ttf) normal normal 400 normal>) = 10.05\n",
      "07/22/2020 06:29:12 PM  [DEBUG   ]  findfont: score(<Font 'Segoe UI' (segoeuisl.ttf) normal normal light normal>) = 10.24\n",
      "07/22/2020 06:29:12 PM  [DEBUG   ]  findfont: score(<Font 'Trebuchet MS' (trebucbd.ttf) normal normal 700 normal>) = 10.335\n",
      "07/22/2020 06:29:12 PM  [DEBUG   ]  findfont: score(<Font 'Bookman Old Style' (BOOKOSB.TTF) normal normal 700 normal>) = 10.335\n",
      "07/22/2020 06:29:12 PM  [DEBUG   ]  findfont: score(<Font 'Segoe UI' (seguisli.ttf) italic normal light normal>) = 11.24\n",
      "07/22/2020 06:29:12 PM  [DEBUG   ]  findfont: score(<Font 'Verdana' (verdanai.ttf) italic normal 400 normal>) = 4.6863636363636365\n",
      "07/22/2020 06:29:12 PM  [DEBUG   ]  findfont: score(<Font 'Franklin Gothic Medium' (framd.ttf) normal normal medium normal>) = 10.145\n",
      "07/22/2020 06:29:12 PM  [DEBUG   ]  findfont: score(<Font 'Arial' (arialbd.ttf) normal normal 700 normal>) = 6.698636363636363\n",
      "07/22/2020 06:29:12 PM  [DEBUG   ]  findfont: score(<Font 'Calibri' (calibrili.ttf) italic normal light normal>) = 11.24\n",
      "07/22/2020 06:29:12 PM  [DEBUG   ]  findfont: score(<Font 'Verdana' (verdanab.ttf) normal normal 700 normal>) = 3.9713636363636367\n",
      "07/22/2020 06:29:12 PM  [DEBUG   ]  findfont: Matching sans\\-serif:style=normal:variant=normal:weight=normal:stretch=normal:size=12.0 to DejaVu Sans ('C:\\\\Users\\\\apignet\\\\Anaconda3\\\\envs\\\\TenSEAL\\\\lib\\\\site-packages\\\\matplotlib\\\\mpl-data\\\\fonts\\\\ttf\\\\DejaVuSans.ttf') with score of 0.050000.\n",
      "07/22/2020 06:29:13 PM  [DEBUG   ]  findfont: Matching sans\\-serif:style=normal:variant=normal:weight=normal:stretch=normal:size=10.0.\n",
      "07/22/2020 06:29:13 PM  [DEBUG   ]  findfont: score(<Font 'STIXNonUnicode' (STIXNonUniIta.ttf) italic normal 400 normal>) = 11.05\n",
      "07/22/2020 06:29:13 PM  [DEBUG   ]  findfont: score(<Font 'DejaVu Serif' (DejaVuSerif-Italic.ttf) italic normal 400 normal>) = 11.05\n",
      "07/22/2020 06:29:13 PM  [DEBUG   ]  findfont: score(<Font 'cmmi10' (cmmi10.ttf) normal normal 400 normal>) = 10.05\n",
      "07/22/2020 06:29:13 PM  [DEBUG   ]  findfont: score(<Font 'STIXSizeFiveSym' (STIXSizFiveSymReg.ttf) normal normal regular normal>) = 10.05\n",
      "07/22/2020 06:29:13 PM  [DEBUG   ]  findfont: score(<Font 'STIXSizeOneSym' (STIXSizOneSymReg.ttf) normal normal regular normal>) = 10.05\n",
      "07/22/2020 06:29:13 PM  [DEBUG   ]  findfont: score(<Font 'STIXGeneral' (STIXGeneral.ttf) normal normal regular normal>) = 10.05\n",
      "07/22/2020 06:29:13 PM  [DEBUG   ]  findfont: score(<Font 'STIXSizeThreeSym' (STIXSizThreeSymBol.ttf) normal normal 700 normal>) = 10.335\n",
      "07/22/2020 06:29:13 PM  [DEBUG   ]  findfont: score(<Font 'cmex10' (cmex10.ttf) normal normal 400 normal>) = 10.05\n",
      "07/22/2020 06:29:13 PM  [DEBUG   ]  findfont: score(<Font 'cmss10' (cmss10.ttf) normal normal 400 normal>) = 10.05\n",
      "07/22/2020 06:29:13 PM  [DEBUG   ]  findfont: score(<Font 'DejaVu Serif' (DejaVuSerif-BoldItalic.ttf) italic normal 700 normal>) = 11.335\n",
      "07/22/2020 06:29:13 PM  [DEBUG   ]  findfont: score(<Font 'cmsy10' (cmsy10.ttf) normal normal 400 normal>) = 10.05\n",
      "07/22/2020 06:29:13 PM  [DEBUG   ]  findfont: score(<Font 'DejaVu Sans Mono' (DejaVuSansMono.ttf) normal normal 400 normal>) = 10.05\n",
      "07/22/2020 06:29:13 PM  [DEBUG   ]  findfont: score(<Font 'STIXNonUnicode' (STIXNonUni.ttf) normal normal regular normal>) = 10.05\n",
      "07/22/2020 06:29:13 PM  [DEBUG   ]  findfont: score(<Font 'cmr10' (cmr10.ttf) normal normal 400 normal>) = 10.05\n",
      "07/22/2020 06:29:13 PM  [DEBUG   ]  findfont: score(<Font 'STIXSizeFourSym' (STIXSizFourSymBol.ttf) normal normal 700 normal>) = 10.335\n",
      "07/22/2020 06:29:13 PM  [DEBUG   ]  findfont: score(<Font 'cmtt10' (cmtt10.ttf) normal normal 400 normal>) = 10.05\n",
      "07/22/2020 06:29:13 PM  [DEBUG   ]  findfont: score(<Font 'STIXSizeOneSym' (STIXSizOneSymBol.ttf) normal normal 700 normal>) = 10.335\n",
      "07/22/2020 06:29:13 PM  [DEBUG   ]  findfont: score(<Font 'STIXSizeThreeSym' (STIXSizThreeSymReg.ttf) normal normal regular normal>) = 10.05\n",
      "07/22/2020 06:29:13 PM  [DEBUG   ]  findfont: score(<Font 'DejaVu Sans Mono' (DejaVuSansMono-Oblique.ttf) oblique normal 400 normal>) = 11.05\n",
      "07/22/2020 06:29:13 PM  [DEBUG   ]  findfont: score(<Font 'STIXGeneral' (STIXGeneralItalic.ttf) italic normal 400 normal>) = 11.05\n",
      "07/22/2020 06:29:13 PM  [DEBUG   ]  findfont: score(<Font 'DejaVu Sans' (DejaVuSans.ttf) normal normal 400 normal>) = 0.05\n",
      "07/22/2020 06:29:13 PM  [DEBUG   ]  findfont: score(<Font 'DejaVu Sans' (DejaVuSans-Oblique.ttf) oblique normal 400 normal>) = 1.05\n",
      "07/22/2020 06:29:13 PM  [DEBUG   ]  findfont: score(<Font 'STIXSizeTwoSym' (STIXSizTwoSymBol.ttf) normal normal 700 normal>) = 10.335\n",
      "07/22/2020 06:29:13 PM  [DEBUG   ]  findfont: score(<Font 'STIXNonUnicode' (STIXNonUniBol.ttf) normal normal 700 normal>) = 10.335\n",
      "07/22/2020 06:29:13 PM  [DEBUG   ]  findfont: score(<Font 'DejaVu Sans' (DejaVuSans-BoldOblique.ttf) oblique normal 700 normal>) = 1.335\n",
      "07/22/2020 06:29:13 PM  [DEBUG   ]  findfont: score(<Font 'DejaVu Serif' (DejaVuSerif.ttf) normal normal 400 normal>) = 10.05\n",
      "07/22/2020 06:29:13 PM  [DEBUG   ]  findfont: score(<Font 'STIXSizeFourSym' (STIXSizFourSymReg.ttf) normal normal regular normal>) = 10.05\n",
      "07/22/2020 06:29:13 PM  [DEBUG   ]  findfont: score(<Font 'STIXGeneral' (STIXGeneralBolIta.ttf) italic normal 700 normal>) = 11.335\n",
      "07/22/2020 06:29:13 PM  [DEBUG   ]  findfont: score(<Font 'DejaVu Sans Mono' (DejaVuSansMono-Bold.ttf) normal normal 700 normal>) = 10.335\n",
      "07/22/2020 06:29:13 PM  [DEBUG   ]  findfont: score(<Font 'DejaVu Sans Mono' (DejaVuSansMono-BoldOblique.ttf) oblique normal 700 normal>) = 11.335\n",
      "07/22/2020 06:29:13 PM  [DEBUG   ]  findfont: score(<Font 'DejaVu Serif' (DejaVuSerif-Bold.ttf) normal normal 700 normal>) = 10.335\n",
      "07/22/2020 06:29:13 PM  [DEBUG   ]  findfont: score(<Font 'DejaVu Sans Display' (DejaVuSansDisplay.ttf) normal normal 400 normal>) = 10.05\n",
      "07/22/2020 06:29:13 PM  [DEBUG   ]  findfont: score(<Font 'STIXGeneral' (STIXGeneralBol.ttf) normal normal 700 normal>) = 10.335\n",
      "07/22/2020 06:29:13 PM  [DEBUG   ]  findfont: score(<Font 'DejaVu Sans' (DejaVuSans-Bold.ttf) normal normal 700 normal>) = 0.33499999999999996\n",
      "07/22/2020 06:29:13 PM  [DEBUG   ]  findfont: score(<Font 'STIXNonUnicode' (STIXNonUniBolIta.ttf) italic normal 700 normal>) = 11.335\n",
      "07/22/2020 06:29:13 PM  [DEBUG   ]  findfont: score(<Font 'cmb10' (cmb10.ttf) normal normal 400 normal>) = 10.05\n",
      "07/22/2020 06:29:13 PM  [DEBUG   ]  findfont: score(<Font 'DejaVu Serif Display' (DejaVuSerifDisplay.ttf) normal normal 400 normal>) = 10.05\n",
      "07/22/2020 06:29:13 PM  [DEBUG   ]  findfont: score(<Font 'STIXSizeTwoSym' (STIXSizTwoSymReg.ttf) normal normal regular normal>) = 10.05\n",
      "07/22/2020 06:29:13 PM  [DEBUG   ]  findfont: score(<Font 'Gadugi' (gadugib.ttf) normal normal 700 normal>) = 10.335\n",
      "07/22/2020 06:29:13 PM  [DEBUG   ]  findfont: score(<Font 'Franklin Gothic Medium' (framd.ttf) normal normal medium normal>) = 10.145\n",
      "07/22/2020 06:29:13 PM  [DEBUG   ]  findfont: score(<Font 'Century Gothic' (GOTHIC.TTF) normal normal 400 normal>) = 10.05\n",
      "07/22/2020 06:29:13 PM  [DEBUG   ]  findfont: score(<Font 'Book Antiqua' (BKANT.TTF) normal normal book normal>) = 10.05\n",
      "07/22/2020 06:29:13 PM  [DEBUG   ]  findfont: score(<Font 'Calibri' (calibrib.ttf) normal normal 700 normal>) = 10.335\n",
      "07/22/2020 06:29:13 PM  [DEBUG   ]  findfont: score(<Font 'Wingdings 3' (WINGDNG3.TTF) normal normal 400 normal>) = 10.05\n",
      "07/22/2020 06:29:13 PM  [DEBUG   ]  findfont: score(<Font 'Candara' (Candarab.ttf) normal normal 700 normal>) = 10.335\n",
      "07/22/2020 06:29:13 PM  [DEBUG   ]  findfont: score(<Font 'Georgia' (georgia.ttf) normal normal 400 normal>) = 10.05\n",
      "07/22/2020 06:29:13 PM  [DEBUG   ]  findfont: score(<Font 'Sylfaen' (sylfaen.ttf) normal normal 400 normal>) = 10.05\n",
      "07/22/2020 06:29:13 PM  [DEBUG   ]  findfont: score(<Font 'Mongolian Baiti' (monbaiti.ttf) normal normal 400 normal>) = 10.05\n",
      "07/22/2020 06:29:13 PM  [DEBUG   ]  findfont: score(<Font 'Garamond' (GARA.TTF) normal normal 400 normal>) = 10.05\n",
      "07/22/2020 06:29:13 PM  [DEBUG   ]  findfont: score(<Font 'Ink Free' (Inkfree.ttf) normal normal 400 normal>) = 10.05\n",
      "07/22/2020 06:29:13 PM  [DEBUG   ]  findfont: score(<Font 'Georgia' (georgiai.ttf) italic normal 400 normal>) = 11.05\n"
     ]
    },
    {
     "name": "stdout",
     "output_type": "stream",
     "text": [
      "07/22/2020 06:29:13 PM  [DEBUG   ]  findfont: score(<Font 'Bookshelf Symbol 7' (BSSYM7.TTF) normal normal book normal>) = 10.05\n",
      "07/22/2020 06:29:13 PM  [DEBUG   ]  findfont: score(<Font 'Comic Sans MS' (comicz.ttf) italic normal 700 normal>) = 11.335\n",
      "07/22/2020 06:29:13 PM  [DEBUG   ]  findfont: score(<Font 'Constantia' (constani.ttf) italic normal 400 normal>) = 11.05\n",
      "07/22/2020 06:29:13 PM  [DEBUG   ]  findfont: score(<Font 'Garamond' (GARAIT.TTF) italic normal 400 normal>) = 11.05\n",
      "07/22/2020 06:29:13 PM  [DEBUG   ]  findfont: score(<Font 'Leelawadee UI' (LeelUIsl.ttf) normal normal light normal>) = 10.24\n",
      "07/22/2020 06:29:13 PM  [DEBUG   ]  findfont: score(<Font 'Microsoft YaHei' (msyhl.ttc) normal normal light normal>) = 10.24\n",
      "07/22/2020 06:29:13 PM  [DEBUG   ]  findfont: score(<Font 'Segoe UI Emoji' (seguiemj.ttf) normal normal 400 normal>) = 10.05\n",
      "07/22/2020 06:29:13 PM  [DEBUG   ]  findfont: score(<Font 'Cambria' (cambriab.ttf) normal normal 700 normal>) = 10.335\n",
      "07/22/2020 06:29:13 PM  [DEBUG   ]  findfont: score(<Font 'Palatino Linotype' (palai.ttf) italic normal 400 normal>) = 11.05\n",
      "07/22/2020 06:29:13 PM  [DEBUG   ]  findfont: score(<Font 'Century Gothic' (GOTHICI.TTF) italic normal 400 normal>) = 11.05\n",
      "07/22/2020 06:29:13 PM  [DEBUG   ]  findfont: score(<Font 'MS Reference Sans Serif' (REFSAN.TTF) normal normal 400 normal>) = 10.05\n",
      "07/22/2020 06:29:13 PM  [DEBUG   ]  findfont: score(<Font 'Microsoft PhagsPa' (phagspab.ttf) normal normal 700 normal>) = 10.335\n",
      "07/22/2020 06:29:13 PM  [DEBUG   ]  findfont: score(<Font 'Papyrus' (PAPYRUS.TTF) normal normal 400 normal>) = 10.05\n",
      "07/22/2020 06:29:13 PM  [DEBUG   ]  findfont: score(<Font 'Verdana' (verdanaz.ttf) italic normal 700 normal>) = 4.971363636363637\n",
      "07/22/2020 06:29:13 PM  [DEBUG   ]  findfont: score(<Font 'Segoe Print' (segoepr.ttf) normal normal 400 normal>) = 10.05\n",
      "07/22/2020 06:29:13 PM  [DEBUG   ]  findfont: score(<Font 'Myanmar Text' (mmrtextb.ttf) normal normal 700 normal>) = 10.335\n",
      "07/22/2020 06:29:13 PM  [DEBUG   ]  findfont: score(<Font 'Segoe Script' (segoesc.ttf) normal normal 400 normal>) = 10.05\n",
      "07/22/2020 06:29:13 PM  [DEBUG   ]  findfont: score(<Font 'Calibri' (calibrib.ttf) normal normal 700 normal>) = 10.335\n",
      "07/22/2020 06:29:13 PM  [DEBUG   ]  findfont: score(<Font 'Segoe UI' (seguili.ttf) italic normal light normal>) = 11.24\n",
      "07/22/2020 06:29:13 PM  [DEBUG   ]  findfont: score(<Font 'Segoe Script' (segoescb.ttf) normal normal 700 normal>) = 10.335\n",
      "07/22/2020 06:29:13 PM  [DEBUG   ]  findfont: score(<Font 'HoloLens MDL2 Assets' (holomdl2.ttf) normal normal 400 normal>) = 10.05\n",
      "07/22/2020 06:29:13 PM  [DEBUG   ]  findfont: score(<Font 'Wingdings 2' (WINGDNG2.TTF) normal normal 400 normal>) = 10.05\n",
      "07/22/2020 06:29:13 PM  [DEBUG   ]  findfont: score(<Font 'Cambria' (cambriai.ttf) italic normal 400 normal>) = 11.05\n",
      "07/22/2020 06:29:13 PM  [DEBUG   ]  findfont: score(<Font 'Segoe UI' (segoeuisl.ttf) normal normal light normal>) = 10.24\n",
      "07/22/2020 06:29:13 PM  [DEBUG   ]  findfont: score(<Font 'Arial' (ARIALNB.TTF) normal normal 700 condensed>) = 6.8986363636363635\n",
      "07/22/2020 06:29:13 PM  [DEBUG   ]  findfont: score(<Font 'Arial' (ariblk.ttf) normal normal black normal>) = 6.888636363636364\n",
      "07/22/2020 06:29:13 PM  [DEBUG   ]  findfont: score(<Font 'Juice ITC' (JUICE___.TTF) normal normal 400 normal>) = 10.05\n",
      "07/22/2020 06:29:13 PM  [DEBUG   ]  findfont: score(<Font 'Bookman Old Style' (BOOKOS.TTF) normal normal book normal>) = 10.05\n",
      "07/22/2020 06:29:13 PM  [DEBUG   ]  findfont: score(<Font 'Constantia' (constanb.ttf) normal normal 700 normal>) = 10.335\n",
      "07/22/2020 06:29:13 PM  [DEBUG   ]  findfont: score(<Font 'Segoe UI Symbol' (seguisym.ttf) normal normal 400 normal>) = 10.05\n",
      "07/22/2020 06:29:13 PM  [DEBUG   ]  findfont: score(<Font 'Lucida Handwriting' (LHANDW.TTF) italic normal 400 normal>) = 11.05\n",
      "07/22/2020 06:29:13 PM  [DEBUG   ]  findfont: score(<Font 'Arial' (ARIALN.TTF) normal normal 400 condensed>) = 6.613636363636363\n",
      "07/22/2020 06:29:13 PM  [DEBUG   ]  findfont: score(<Font 'French Script MT' (FRSCRIPT.TTF) normal normal 400 normal>) = 10.05\n",
      "07/22/2020 06:29:13 PM  [DEBUG   ]  findfont: score(<Font 'MS Reference Specialty' (REFSPCL.TTF) normal normal 400 normal>) = 10.05\n",
      "07/22/2020 06:29:13 PM  [DEBUG   ]  findfont: score(<Font 'Georgia' (georgiab.ttf) normal normal 700 normal>) = 10.335\n",
      "07/22/2020 06:29:13 PM  [DEBUG   ]  findfont: score(<Font 'Tahoma' (tahoma.ttf) normal normal 400 normal>) = 10.05\n",
      "07/22/2020 06:29:13 PM  [DEBUG   ]  findfont: score(<Font 'Courier New' (cour.ttf) normal normal 400 normal>) = 10.05\n",
      "07/22/2020 06:29:13 PM  [DEBUG   ]  findfont: score(<Font 'Palatino Linotype' (palabi.ttf) italic normal 700 normal>) = 11.335\n",
      "07/22/2020 06:29:13 PM  [DEBUG   ]  findfont: score(<Font 'Book Antiqua' (ANTQUAB.TTF) normal normal 700 normal>) = 10.335\n",
      "07/22/2020 06:29:13 PM  [DEBUG   ]  findfont: score(<Font 'Dubai' (DUBAI-MEDIUM.TTF) normal normal medium normal>) = 10.145\n",
      "07/22/2020 06:29:13 PM  [DEBUG   ]  findfont: score(<Font 'Calibri' (calibrii.ttf) italic normal 400 normal>) = 11.05\n",
      "07/22/2020 06:29:13 PM  [DEBUG   ]  findfont: score(<Font 'Trebuchet MS' (trebucbd.ttf) normal normal 700 normal>) = 10.335\n",
      "07/22/2020 06:29:13 PM  [DEBUG   ]  findfont: score(<Font 'Century' (CENTURY.TTF) normal normal 400 normal>) = 10.05\n",
      "07/22/2020 06:29:13 PM  [DEBUG   ]  findfont: score(<Font 'Candara' (Candarai.ttf) italic normal 400 normal>) = 11.05\n",
      "07/22/2020 06:29:13 PM  [DEBUG   ]  findfont: score(<Font 'Segoe UI' (segoeuib.ttf) normal normal 700 normal>) = 10.335\n",
      "07/22/2020 06:29:13 PM  [DEBUG   ]  findfont: score(<Font 'Leelawadee UI' (LeelawUI.ttf) normal normal 400 normal>) = 10.05\n",
      "07/22/2020 06:29:13 PM  [DEBUG   ]  findfont: score(<Font 'Monotype Corsiva' (MTCORSVA.TTF) normal normal 400 normal>) = 10.05\n",
      "07/22/2020 06:29:13 PM  [DEBUG   ]  findfont: score(<Font 'Nirmala UI' (NirmalaB.ttf) normal normal 700 normal>) = 10.335\n",
      "07/22/2020 06:29:13 PM  [DEBUG   ]  findfont: score(<Font 'Bookman Old Style' (BOOKOS.TTF) normal normal book normal>) = 10.05\n",
      "07/22/2020 06:29:13 PM  [DEBUG   ]  findfont: score(<Font 'Trebuchet MS' (trebucbi.ttf) italic normal 700 normal>) = 11.335\n",
      "07/22/2020 06:29:13 PM  [DEBUG   ]  findfont: score(<Font 'Verdana' (verdana.ttf) normal normal 400 normal>) = 3.6863636363636365\n",
      "07/22/2020 06:29:13 PM  [DEBUG   ]  findfont: score(<Font 'Times New Roman' (timesi.ttf) italic normal roman normal>) = 11.145\n",
      "07/22/2020 06:29:13 PM  [DEBUG   ]  findfont: score(<Font 'Ebrima' (ebrimabd.ttf) normal normal 700 normal>) = 10.335\n",
      "07/22/2020 06:29:13 PM  [DEBUG   ]  findfont: score(<Font 'Arial' (ARIALNBI.TTF) italic normal 700 condensed>) = 7.8986363636363635\n",
      "07/22/2020 06:29:13 PM  [DEBUG   ]  findfont: score(<Font 'Microsoft JhengHei' (msjh.ttc) normal normal 400 normal>) = 10.05\n",
      "07/22/2020 06:29:13 PM  [DEBUG   ]  findfont: score(<Font 'Javanese Text' (javatext.ttf) normal normal 400 normal>) = 10.05\n",
      "07/22/2020 06:29:13 PM  [DEBUG   ]  findfont: score(<Font 'Segoe UI' (seguisbi.ttf) italic normal semibold normal>) = 11.24\n",
      "07/22/2020 06:29:13 PM  [DEBUG   ]  findfont: score(<Font 'Microsoft PhagsPa' (phagspab.ttf) normal normal 700 normal>) = 10.335\n",
      "07/22/2020 06:29:13 PM  [DEBUG   ]  findfont: score(<Font 'Century' (CENTURY.TTF) normal normal 400 normal>) = 10.05\n",
      "07/22/2020 06:29:13 PM  [DEBUG   ]  findfont: score(<Font 'Palatino Linotype' (pala.ttf) normal normal 400 normal>) = 10.05\n",
      "07/22/2020 06:29:13 PM  [DEBUG   ]  findfont: score(<Font 'Segoe UI' (segoeuii.ttf) italic normal 400 normal>) = 11.05\n",
      "07/22/2020 06:29:13 PM  [DEBUG   ]  findfont: score(<Font 'MT Extra' (MTEXTRA.TTF) normal normal 400 normal>) = 10.05\n",
      "07/22/2020 06:29:13 PM  [DEBUG   ]  findfont: score(<Font 'Arial' (arial.ttf) normal normal 400 normal>) = 6.413636363636363\n",
      "07/22/2020 06:29:13 PM  [DEBUG   ]  findfont: score(<Font 'Marlett' (marlett.ttf) normal normal 400 normal>) = 10.05\n",
      "07/22/2020 06:29:13 PM  [DEBUG   ]  findfont: score(<Font 'Bookman Old Style' (BOOKOSI.TTF) italic normal book normal>) = 11.05\n",
      "07/22/2020 06:29:13 PM  [DEBUG   ]  findfont: score(<Font 'Sitka Small' (SitkaB.ttc) normal normal 700 normal>) = 10.335\n",
      "07/22/2020 06:29:13 PM  [DEBUG   ]  findfont: score(<Font 'Microsoft New Tai Lue' (ntailub.ttf) normal normal 700 normal>) = 10.335\n"
     ]
    },
    {
     "name": "stdout",
     "output_type": "stream",
     "text": [
      "07/22/2020 06:29:13 PM  [DEBUG   ]  findfont: score(<Font 'Arial' (arialbd.ttf) normal normal 700 normal>) = 6.698636363636363\n",
      "07/22/2020 06:29:13 PM  [DEBUG   ]  findfont: score(<Font 'Palatino Linotype' (palab.ttf) normal normal 700 normal>) = 10.335\n",
      "07/22/2020 06:29:13 PM  [DEBUG   ]  findfont: score(<Font 'Candara' (Candaral.ttf) normal normal light normal>) = 10.24\n",
      "07/22/2020 06:29:13 PM  [DEBUG   ]  findfont: score(<Font 'Corbel' (corbel.ttf) normal normal 400 normal>) = 10.05\n",
      "07/22/2020 06:29:13 PM  [DEBUG   ]  findfont: score(<Font 'Monotype Corsiva' (MTCORSVA.TTF) normal normal 400 normal>) = 10.05\n",
      "07/22/2020 06:29:13 PM  [DEBUG   ]  findfont: score(<Font 'Juice ITC' (JUICE___.TTF) normal normal 400 normal>) = 10.05\n",
      "07/22/2020 06:29:13 PM  [DEBUG   ]  findfont: score(<Font 'Corbel' (corbelli.ttf) italic normal light normal>) = 11.24\n",
      "07/22/2020 06:29:13 PM  [DEBUG   ]  findfont: score(<Font 'Malgun Gothic' (malgun.ttf) normal normal 400 normal>) = 10.05\n",
      "07/22/2020 06:29:13 PM  [DEBUG   ]  findfont: score(<Font 'Yu Gothic' (YuGothR.ttc) normal normal regular normal>) = 10.05\n",
      "07/22/2020 06:29:13 PM  [DEBUG   ]  findfont: score(<Font 'Comic Sans MS' (comicbd.ttf) normal normal 700 normal>) = 10.335\n",
      "07/22/2020 06:29:13 PM  [DEBUG   ]  findfont: score(<Font 'Yu Gothic' (YuGothL.ttc) normal normal light normal>) = 10.24\n",
      "07/22/2020 06:29:13 PM  [DEBUG   ]  findfont: score(<Font 'Gabriola' (Gabriola.ttf) normal normal 400 normal>) = 10.05\n",
      "07/22/2020 06:29:13 PM  [DEBUG   ]  findfont: score(<Font 'Sitka Small' (SitkaZ.ttc) italic normal 700 normal>) = 11.335\n",
      "07/22/2020 06:29:13 PM  [DEBUG   ]  findfont: score(<Font 'Malgun Gothic' (malgunsl.ttf) normal normal light normal>) = 10.24\n",
      "07/22/2020 06:29:13 PM  [DEBUG   ]  findfont: score(<Font 'Mistral' (MISTRAL.TTF) normal normal 400 normal>) = 10.05\n",
      "07/22/2020 06:29:13 PM  [DEBUG   ]  findfont: score(<Font 'Comic Sans MS' (comic.ttf) normal normal 400 normal>) = 10.05\n",
      "07/22/2020 06:29:13 PM  [DEBUG   ]  findfont: score(<Font 'Microsoft Yi Baiti' (msyi.ttf) normal normal 400 normal>) = 10.05\n",
      "07/22/2020 06:29:13 PM  [DEBUG   ]  findfont: score(<Font 'Candara' (Candarali.ttf) italic normal light normal>) = 11.24\n",
      "07/22/2020 06:29:13 PM  [DEBUG   ]  findfont: score(<Font 'Arial' (arialbi.ttf) italic normal 700 normal>) = 7.698636363636363\n",
      "07/22/2020 06:29:13 PM  [DEBUG   ]  findfont: score(<Font 'Courier New' (cour.ttf) normal normal 400 normal>) = 10.05\n",
      "07/22/2020 06:29:13 PM  [DEBUG   ]  findfont: score(<Font 'Freestyle Script' (FREESCPT.TTF) normal normal 400 normal>) = 10.05\n",
      "07/22/2020 06:29:13 PM  [DEBUG   ]  findfont: score(<Font 'Arial' (ariali.ttf) italic normal 400 normal>) = 7.413636363636363\n",
      "07/22/2020 06:29:13 PM  [DEBUG   ]  findfont: score(<Font 'Sitka Small' (Sitka.ttc) normal normal 400 normal>) = 10.05\n",
      "07/22/2020 06:29:13 PM  [DEBUG   ]  findfont: score(<Font 'Lucida Sans Unicode' (l_10646.ttf) normal normal 400 normal>) = 10.05\n",
      "07/22/2020 06:29:13 PM  [DEBUG   ]  findfont: score(<Font 'Microsoft JhengHei' (msjhbd.ttc) normal normal 700 normal>) = 10.335\n",
      "07/22/2020 06:29:13 PM  [DEBUG   ]  findfont: score(<Font 'Tempus Sans ITC' (TEMPSITC.TTF) normal normal 400 normal>) = 10.05\n",
      "07/22/2020 06:29:13 PM  [DEBUG   ]  findfont: score(<Font 'Candara' (Candarali.ttf) italic normal light normal>) = 11.24\n",
      "07/22/2020 06:29:13 PM  [DEBUG   ]  findfont: score(<Font 'Kristen ITC' (ITCKRIST.TTF) normal normal 400 normal>) = 10.05\n",
      "07/22/2020 06:29:13 PM  [DEBUG   ]  findfont: score(<Font 'Bradley Hand ITC' (BRADHITC.TTF) normal normal 400 normal>) = 10.05\n",
      "07/22/2020 06:29:13 PM  [DEBUG   ]  findfont: score(<Font 'Palatino Linotype' (pala.ttf) normal normal 400 normal>) = 10.05\n",
      "07/22/2020 06:29:13 PM  [DEBUG   ]  findfont: score(<Font 'Segoe UI' (seguisbi.ttf) italic normal semibold normal>) = 11.24\n",
      "07/22/2020 06:29:13 PM  [DEBUG   ]  findfont: score(<Font 'Microsoft JhengHei' (msjhbd.ttc) normal normal 700 normal>) = 10.335\n",
      "07/22/2020 06:29:13 PM  [DEBUG   ]  findfont: score(<Font 'Calibri' (calibriz.ttf) italic normal 700 normal>) = 11.335\n",
      "07/22/2020 06:29:13 PM  [DEBUG   ]  findfont: score(<Font 'Microsoft JhengHei' (msjhl.ttc) normal normal light normal>) = 10.24\n",
      "07/22/2020 06:29:13 PM  [DEBUG   ]  findfont: score(<Font 'Cambria' (cambriaz.ttf) italic normal 700 normal>) = 11.335\n",
      "07/22/2020 06:29:13 PM  [DEBUG   ]  findfont: score(<Font 'Nirmala UI' (NirmalaB.ttf) normal normal 700 normal>) = 10.335\n",
      "07/22/2020 06:29:13 PM  [DEBUG   ]  findfont: score(<Font 'Franklin Gothic Medium' (framdit.ttf) italic normal medium normal>) = 11.145\n",
      "07/22/2020 06:29:13 PM  [DEBUG   ]  findfont: score(<Font 'Segoe UI' (seguisb.ttf) normal normal semibold normal>) = 10.24\n",
      "07/22/2020 06:29:13 PM  [DEBUG   ]  findfont: score(<Font 'Candara' (Candaraz.ttf) italic normal 700 normal>) = 11.335\n",
      "07/22/2020 06:29:13 PM  [DEBUG   ]  findfont: score(<Font 'Candara' (Candarab.ttf) normal normal 700 normal>) = 10.335\n",
      "07/22/2020 06:29:13 PM  [DEBUG   ]  findfont: score(<Font 'Myanmar Text' (mmrtext.ttf) normal normal 400 normal>) = 10.05\n",
      "07/22/2020 06:29:13 PM  [DEBUG   ]  findfont: score(<Font 'Microsoft New Tai Lue' (ntailu.ttf) normal normal 400 normal>) = 10.05\n",
      "07/22/2020 06:29:13 PM  [DEBUG   ]  findfont: score(<Font 'Calibri' (calibrili.ttf) italic normal light normal>) = 11.24\n",
      "07/22/2020 06:29:13 PM  [DEBUG   ]  findfont: score(<Font 'Gadugi' (gadugib.ttf) normal normal 700 normal>) = 10.335\n",
      "07/22/2020 06:29:13 PM  [DEBUG   ]  findfont: score(<Font 'Yu Gothic' (YuGothR.ttc) normal normal regular normal>) = 10.05\n",
      "07/22/2020 06:29:13 PM  [DEBUG   ]  findfont: score(<Font 'Trebuchet MS' (trebucit.ttf) italic normal 400 normal>) = 11.05\n",
      "07/22/2020 06:29:13 PM  [DEBUG   ]  findfont: score(<Font 'Times New Roman' (timesi.ttf) italic normal roman normal>) = 11.145\n",
      "07/22/2020 06:29:13 PM  [DEBUG   ]  findfont: score(<Font 'Trebuchet MS' (trebucbi.ttf) italic normal 700 normal>) = 11.335\n",
      "07/22/2020 06:29:13 PM  [DEBUG   ]  findfont: score(<Font 'Microsoft PhagsPa' (phagspa.ttf) normal normal 400 normal>) = 10.05\n",
      "07/22/2020 06:29:13 PM  [DEBUG   ]  findfont: score(<Font 'Garamond' (GARA.TTF) normal normal 400 normal>) = 10.05\n",
      "07/22/2020 06:29:13 PM  [DEBUG   ]  findfont: score(<Font 'MS Reference Sans Serif' (REFSAN.TTF) normal normal 400 normal>) = 10.05\n",
      "07/22/2020 06:29:13 PM  [DEBUG   ]  findfont: score(<Font 'Century Gothic' (GOTHICBI.TTF) italic normal 700 normal>) = 11.335\n",
      "07/22/2020 06:29:13 PM  [DEBUG   ]  findfont: score(<Font 'Consolas' (consolaz.ttf) italic normal 700 normal>) = 11.335\n",
      "07/22/2020 06:29:13 PM  [DEBUG   ]  findfont: score(<Font 'Tahoma' (tahomabd.ttf) normal normal 700 normal>) = 10.335\n",
      "07/22/2020 06:29:13 PM  [DEBUG   ]  findfont: score(<Font 'Microsoft YaHei' (msyh.ttc) normal normal 400 normal>) = 10.05\n",
      "07/22/2020 06:29:13 PM  [DEBUG   ]  findfont: score(<Font 'Times New Roman' (timesbd.ttf) normal normal 700 normal>) = 10.335\n",
      "07/22/2020 06:29:13 PM  [DEBUG   ]  findfont: score(<Font 'Corbel' (corbeli.ttf) italic normal 400 normal>) = 11.05\n",
      "07/22/2020 06:29:13 PM  [DEBUG   ]  findfont: score(<Font 'Javanese Text' (javatext.ttf) normal normal 400 normal>) = 10.05\n",
      "07/22/2020 06:29:13 PM  [DEBUG   ]  findfont: score(<Font 'Microsoft JhengHei' (msjh.ttc) normal normal 400 normal>) = 10.05\n",
      "07/22/2020 06:29:13 PM  [DEBUG   ]  findfont: score(<Font 'Book Antiqua' (ANTQUAI.TTF) italic normal book normal>) = 11.05\n",
      "07/22/2020 06:29:13 PM  [DEBUG   ]  findfont: score(<Font 'Trebuchet MS' (trebucit.ttf) italic normal 400 normal>) = 11.05\n",
      "07/22/2020 06:29:13 PM  [DEBUG   ]  findfont: score(<Font 'Microsoft New Tai Lue' (ntailu.ttf) normal normal 400 normal>) = 10.05\n",
      "07/22/2020 06:29:13 PM  [DEBUG   ]  findfont: score(<Font 'Segoe UI' (seguisli.ttf) italic normal light normal>) = 11.24\n",
      "07/22/2020 06:29:13 PM  [DEBUG   ]  findfont: score(<Font 'Tahoma' (tahomabd.ttf) normal normal 700 normal>) = 10.335\n",
      "07/22/2020 06:29:13 PM  [DEBUG   ]  findfont: score(<Font 'Franklin Gothic Medium' (framdit.ttf) italic normal medium normal>) = 11.145\n",
      "07/22/2020 06:29:13 PM  [DEBUG   ]  findfont: score(<Font 'Calibri' (calibril.ttf) normal normal light normal>) = 10.24\n",
      "07/22/2020 06:29:13 PM  [DEBUG   ]  findfont: score(<Font 'HoloLens MDL2 Assets' (holomdl2.ttf) normal normal 400 normal>) = 10.05\n"
     ]
    },
    {
     "name": "stdout",
     "output_type": "stream",
     "text": [
      "07/22/2020 06:29:13 PM  [DEBUG   ]  findfont: score(<Font 'Dubai' (DUBAI-REGULAR.TTF) normal normal regular normal>) = 10.05\n",
      "07/22/2020 06:29:13 PM  [DEBUG   ]  findfont: score(<Font 'Segoe UI' (segoeuib.ttf) normal normal 700 normal>) = 10.335\n",
      "07/22/2020 06:29:13 PM  [DEBUG   ]  findfont: score(<Font 'Century Gothic' (GOTHICB.TTF) normal normal 700 normal>) = 10.335\n",
      "07/22/2020 06:29:13 PM  [DEBUG   ]  findfont: score(<Font 'Sitka Small' (SitkaB.ttc) normal normal 700 normal>) = 10.335\n",
      "07/22/2020 06:29:13 PM  [DEBUG   ]  findfont: score(<Font 'Cambria' (cambriaz.ttf) italic normal 700 normal>) = 11.335\n",
      "07/22/2020 06:29:13 PM  [DEBUG   ]  findfont: score(<Font 'Verdana' (verdanaz.ttf) italic normal 700 normal>) = 4.971363636363637\n",
      "07/22/2020 06:29:13 PM  [DEBUG   ]  findfont: score(<Font 'Consolas' (consola.ttf) normal normal 400 normal>) = 10.05\n",
      "07/22/2020 06:29:13 PM  [DEBUG   ]  findfont: score(<Font 'Papyrus' (PAPYRUS.TTF) normal normal 400 normal>) = 10.05\n",
      "07/22/2020 06:29:13 PM  [DEBUG   ]  findfont: score(<Font 'Malgun Gothic' (malgunsl.ttf) normal normal light normal>) = 10.24\n",
      "07/22/2020 06:29:13 PM  [DEBUG   ]  findfont: score(<Font 'Segoe UI Historic' (seguihis.ttf) normal normal 400 normal>) = 10.05\n",
      "07/22/2020 06:29:13 PM  [DEBUG   ]  findfont: score(<Font 'Wingdings' (wingding.ttf) normal normal 400 normal>) = 10.05\n",
      "07/22/2020 06:29:13 PM  [DEBUG   ]  findfont: score(<Font 'SimSun-ExtB' (simsunb.ttf) normal normal 400 normal>) = 10.05\n",
      "07/22/2020 06:29:13 PM  [DEBUG   ]  findfont: score(<Font 'Garamond' (GARABD.TTF) normal normal 700 normal>) = 10.335\n",
      "07/22/2020 06:29:13 PM  [DEBUG   ]  findfont: score(<Font 'Arial' (ARIALNI.TTF) italic normal 400 condensed>) = 7.613636363636363\n",
      "07/22/2020 06:29:13 PM  [DEBUG   ]  findfont: score(<Font 'Tempus Sans ITC' (TEMPSITC.TTF) normal normal 400 normal>) = 10.05\n",
      "07/22/2020 06:29:13 PM  [DEBUG   ]  findfont: score(<Font 'Arial' (ARIALNB.TTF) normal normal 700 condensed>) = 6.8986363636363635\n",
      "07/22/2020 06:29:13 PM  [DEBUG   ]  findfont: score(<Font 'SimSun-ExtB' (simsunb.ttf) normal normal 400 normal>) = 10.05\n",
      "07/22/2020 06:29:13 PM  [DEBUG   ]  findfont: score(<Font 'Corbel' (corbell.ttf) normal normal light normal>) = 10.24\n",
      "07/22/2020 06:29:13 PM  [DEBUG   ]  findfont: score(<Font 'MS Outlook' (OUTLOOK.TTF) normal normal 400 normal>) = 10.05\n",
      "07/22/2020 06:29:13 PM  [DEBUG   ]  findfont: score(<Font 'Impact' (impact.ttf) normal normal 400 normal>) = 10.05\n",
      "07/22/2020 06:29:13 PM  [DEBUG   ]  findfont: score(<Font 'Gadugi' (gadugi.ttf) normal normal 400 normal>) = 10.05\n",
      "07/22/2020 06:29:13 PM  [DEBUG   ]  findfont: score(<Font 'Nirmala UI' (NirmalaS.ttf) normal normal light normal>) = 10.24\n",
      "07/22/2020 06:29:13 PM  [DEBUG   ]  findfont: score(<Font 'Verdana' (verdanai.ttf) italic normal 400 normal>) = 4.6863636363636365\n",
      "07/22/2020 06:29:13 PM  [DEBUG   ]  findfont: score(<Font 'Bookman Old Style' (BOOKOSBI.TTF) italic normal 700 normal>) = 11.335\n",
      "07/22/2020 06:29:13 PM  [DEBUG   ]  findfont: score(<Font 'Arial' (arial.ttf) normal normal 400 normal>) = 6.413636363636363\n",
      "07/22/2020 06:29:13 PM  [DEBUG   ]  findfont: score(<Font 'Segoe UI Emoji' (seguiemj.ttf) normal normal 400 normal>) = 10.05\n",
      "07/22/2020 06:29:13 PM  [DEBUG   ]  findfont: score(<Font 'Segoe Print' (segoeprb.ttf) normal normal 700 normal>) = 10.335\n",
      "07/22/2020 06:29:13 PM  [DEBUG   ]  findfont: score(<Font 'Microsoft Himalaya' (himalaya.ttf) normal normal 400 normal>) = 10.05\n",
      "07/22/2020 06:29:13 PM  [DEBUG   ]  findfont: score(<Font 'Bookman Old Style' (BOOKOSI.TTF) italic normal book normal>) = 11.05\n",
      "07/22/2020 06:29:13 PM  [DEBUG   ]  findfont: score(<Font 'Microsoft PhagsPa' (phagspa.ttf) normal normal 400 normal>) = 10.05\n",
      "07/22/2020 06:29:13 PM  [DEBUG   ]  findfont: score(<Font 'Courier New' (courbi.ttf) italic normal 700 normal>) = 11.335\n",
      "07/22/2020 06:29:13 PM  [DEBUG   ]  findfont: score(<Font 'Yu Gothic' (YuGothM.ttc) normal normal medium normal>) = 10.145\n",
      "07/22/2020 06:29:13 PM  [DEBUG   ]  findfont: score(<Font 'TeamViewer15' (teamviewer15.otf) normal normal 400 normal>) = 10.05\n",
      "07/22/2020 06:29:13 PM  [DEBUG   ]  findfont: score(<Font 'Candara' (Candara.ttf) normal normal 400 normal>) = 10.05\n",
      "07/22/2020 06:29:13 PM  [DEBUG   ]  findfont: score(<Font 'Times New Roman' (timesbd.ttf) normal normal 700 normal>) = 10.335\n",
      "07/22/2020 06:29:13 PM  [DEBUG   ]  findfont: score(<Font 'Comic Sans MS' (comic.ttf) normal normal 400 normal>) = 10.05\n",
      "07/22/2020 06:29:13 PM  [DEBUG   ]  findfont: score(<Font 'MS Gothic' (msgothic.ttc) normal normal 400 normal>) = 10.05\n",
      "07/22/2020 06:29:13 PM  [DEBUG   ]  findfont: score(<Font 'Times New Roman' (times.ttf) normal normal roman normal>) = 10.145\n",
      "07/22/2020 06:29:13 PM  [DEBUG   ]  findfont: score(<Font 'Microsoft Tai Le' (taile.ttf) normal normal 400 normal>) = 10.05\n",
      "07/22/2020 06:29:13 PM  [DEBUG   ]  findfont: score(<Font 'Microsoft YaHei' (msyhbd.ttc) normal normal 700 normal>) = 10.335\n",
      "07/22/2020 06:29:13 PM  [DEBUG   ]  findfont: score(<Font 'Sitka Small' (SitkaI.ttc) italic normal 400 normal>) = 11.05\n",
      "07/22/2020 06:29:13 PM  [DEBUG   ]  findfont: score(<Font 'MS Outlook' (OUTLOOK.TTF) normal normal 400 normal>) = 10.05\n",
      "07/22/2020 06:29:13 PM  [DEBUG   ]  findfont: score(<Font 'Arial' (ARIALNBI.TTF) italic normal 700 condensed>) = 7.8986363636363635\n",
      "07/22/2020 06:29:13 PM  [DEBUG   ]  findfont: score(<Font 'SimSun' (simsun.ttc) normal normal 400 normal>) = 10.05\n",
      "07/22/2020 06:29:13 PM  [DEBUG   ]  findfont: score(<Font 'Gabriola' (Gabriola.ttf) normal normal 400 normal>) = 10.05\n",
      "07/22/2020 06:29:13 PM  [DEBUG   ]  findfont: score(<Font 'Lucida Handwriting' (LHANDW.TTF) italic normal 400 normal>) = 11.05\n",
      "07/22/2020 06:29:13 PM  [DEBUG   ]  findfont: score(<Font 'Microsoft Sans Serif' (micross.ttf) normal normal 400 normal>) = 10.05\n",
      "07/22/2020 06:29:13 PM  [DEBUG   ]  findfont: score(<Font 'Microsoft Yi Baiti' (msyi.ttf) normal normal 400 normal>) = 10.05\n",
      "07/22/2020 06:29:13 PM  [DEBUG   ]  findfont: score(<Font 'Leelawadee UI' (LeelUIsl.ttf) normal normal light normal>) = 10.24\n",
      "07/22/2020 06:29:13 PM  [DEBUG   ]  findfont: score(<Font 'Segoe UI Symbol' (seguisym.ttf) normal normal 400 normal>) = 10.05\n",
      "07/22/2020 06:29:13 PM  [DEBUG   ]  findfont: score(<Font 'Comic Sans MS' (comici.ttf) italic normal 400 normal>) = 11.05\n",
      "07/22/2020 06:29:13 PM  [DEBUG   ]  findfont: score(<Font 'Leelawadee UI' (LeelawUI.ttf) normal normal 400 normal>) = 10.05\n",
      "07/22/2020 06:29:13 PM  [DEBUG   ]  findfont: score(<Font 'Impact' (impact.ttf) normal normal 400 normal>) = 10.05\n",
      "07/22/2020 06:29:13 PM  [DEBUG   ]  findfont: score(<Font 'Constantia' (constanz.ttf) italic normal 700 normal>) = 11.335\n",
      "07/22/2020 06:29:13 PM  [DEBUG   ]  findfont: score(<Font 'Microsoft JhengHei' (msjhl.ttc) normal normal light normal>) = 10.24\n",
      "07/22/2020 06:29:13 PM  [DEBUG   ]  findfont: score(<Font 'Calibri' (calibril.ttf) normal normal light normal>) = 10.24\n",
      "07/22/2020 06:29:13 PM  [DEBUG   ]  findfont: score(<Font 'Freestyle Script' (FREESCPT.TTF) normal normal 400 normal>) = 10.05\n",
      "07/22/2020 06:29:13 PM  [DEBUG   ]  findfont: score(<Font 'Dubai' (DUBAI-BOLD.TTF) normal normal 700 normal>) = 10.335\n",
      "07/22/2020 06:29:13 PM  [DEBUG   ]  findfont: score(<Font 'Book Antiqua' (ANTQUABI.TTF) italic normal 700 normal>) = 11.335\n",
      "07/22/2020 06:29:13 PM  [DEBUG   ]  findfont: score(<Font 'Myanmar Text' (mmrtext.ttf) normal normal 400 normal>) = 10.05\n",
      "07/22/2020 06:29:13 PM  [DEBUG   ]  findfont: score(<Font 'Nirmala UI' (NirmalaS.ttf) normal normal light normal>) = 10.24\n",
      "07/22/2020 06:29:13 PM  [DEBUG   ]  findfont: score(<Font 'Segoe UI' (seguisb.ttf) normal normal semibold normal>) = 10.24\n",
      "07/22/2020 06:29:13 PM  [DEBUG   ]  findfont: score(<Font 'Segoe UI' (seguili.ttf) italic normal light normal>) = 11.24\n",
      "07/22/2020 06:29:13 PM  [DEBUG   ]  findfont: score(<Font 'Comic Sans MS' (comicz.ttf) italic normal 700 normal>) = 11.335\n",
      "07/22/2020 06:29:13 PM  [DEBUG   ]  findfont: score(<Font 'Malgun Gothic' (malgun.ttf) normal normal 400 normal>) = 10.05\n",
      "07/22/2020 06:29:13 PM  [DEBUG   ]  findfont: score(<Font 'Segoe UI' (segoeuil.ttf) normal normal light normal>) = 10.24\n",
      "07/22/2020 06:29:13 PM  [DEBUG   ]  findfont: score(<Font 'Mongolian Baiti' (monbaiti.ttf) normal normal 400 normal>) = 10.05\n"
     ]
    },
    {
     "name": "stdout",
     "output_type": "stream",
     "text": [
      "07/22/2020 06:29:13 PM  [DEBUG   ]  findfont: score(<Font 'Arial' (ARIALNI.TTF) italic normal 400 condensed>) = 7.613636363636363\n",
      "07/22/2020 06:29:13 PM  [DEBUG   ]  findfont: score(<Font 'Constantia' (constani.ttf) italic normal 400 normal>) = 11.05\n",
      "07/22/2020 06:29:13 PM  [DEBUG   ]  findfont: score(<Font 'Calibri' (calibriz.ttf) italic normal 700 normal>) = 11.335\n",
      "07/22/2020 06:29:13 PM  [DEBUG   ]  findfont: score(<Font 'Dubai' (DUBAI-REGULAR.TTF) normal normal regular normal>) = 10.05\n",
      "07/22/2020 06:29:13 PM  [DEBUG   ]  findfont: score(<Font 'MT Extra' (MTEXTRA.TTF) normal normal 400 normal>) = 10.05\n",
      "07/22/2020 06:29:13 PM  [DEBUG   ]  findfont: score(<Font 'Arial' (ARIALN.TTF) normal normal 400 condensed>) = 6.613636363636363\n",
      "07/22/2020 06:29:13 PM  [DEBUG   ]  findfont: score(<Font 'Cambria' (cambriab.ttf) normal normal 700 normal>) = 10.335\n",
      "07/22/2020 06:29:13 PM  [DEBUG   ]  findfont: score(<Font 'Dubai' (DUBAI-LIGHT.TTF) normal normal light normal>) = 10.24\n",
      "07/22/2020 06:29:13 PM  [DEBUG   ]  findfont: score(<Font 'Courier New' (courbd.ttf) normal normal 700 normal>) = 10.335\n",
      "07/22/2020 06:29:13 PM  [DEBUG   ]  findfont: score(<Font 'Microsoft Tai Le' (taileb.ttf) normal normal 700 normal>) = 10.335\n",
      "07/22/2020 06:29:13 PM  [DEBUG   ]  findfont: score(<Font 'Yu Gothic' (YuGothB.ttc) normal normal 700 normal>) = 10.335\n",
      "07/22/2020 06:29:13 PM  [DEBUG   ]  findfont: score(<Font 'Corbel' (corbelli.ttf) italic normal light normal>) = 11.24\n",
      "07/22/2020 06:29:13 PM  [DEBUG   ]  findfont: score(<Font 'Courier New' (couri.ttf) italic normal 400 normal>) = 11.05\n",
      "07/22/2020 06:29:13 PM  [DEBUG   ]  findfont: score(<Font 'Comic Sans MS' (comicbd.ttf) normal normal 700 normal>) = 10.335\n",
      "07/22/2020 06:29:13 PM  [DEBUG   ]  findfont: score(<Font 'Microsoft YaHei' (msyhbd.ttc) normal normal 700 normal>) = 10.335\n",
      "07/22/2020 06:29:13 PM  [DEBUG   ]  findfont: score(<Font 'Tahoma' (tahoma.ttf) normal normal 400 normal>) = 10.05\n",
      "07/22/2020 06:29:13 PM  [DEBUG   ]  findfont: score(<Font 'Palatino Linotype' (palabi.ttf) italic normal 700 normal>) = 11.335\n",
      "07/22/2020 06:29:13 PM  [DEBUG   ]  findfont: score(<Font 'Ebrima' (ebrimabd.ttf) normal normal 700 normal>) = 10.335\n",
      "07/22/2020 06:29:13 PM  [DEBUG   ]  findfont: score(<Font 'Wingdings 2' (WINGDNG2.TTF) normal normal 400 normal>) = 10.05\n",
      "07/22/2020 06:29:13 PM  [DEBUG   ]  findfont: score(<Font 'Corbel' (corbell.ttf) normal normal light normal>) = 10.24\n",
      "07/22/2020 06:29:13 PM  [DEBUG   ]  findfont: score(<Font 'TeamViewer15' (teamviewer15.otf) normal normal 400 normal>) = 10.05\n",
      "07/22/2020 06:29:13 PM  [DEBUG   ]  findfont: score(<Font 'Calibri' (calibri.ttf) normal normal 400 normal>) = 10.05\n",
      "07/22/2020 06:29:13 PM  [DEBUG   ]  findfont: score(<Font 'Georgia' (georgiaz.ttf) italic normal 700 normal>) = 11.335\n",
      "07/22/2020 06:29:13 PM  [DEBUG   ]  findfont: score(<Font 'MS Reference Specialty' (REFSPCL.TTF) normal normal 400 normal>) = 10.05\n",
      "07/22/2020 06:29:13 PM  [DEBUG   ]  findfont: score(<Font 'Segoe UI' (seguibli.ttf) italic normal black normal>) = 11.525\n",
      "07/22/2020 06:29:13 PM  [DEBUG   ]  findfont: score(<Font 'Consolas' (consolab.ttf) normal normal 700 normal>) = 10.335\n",
      "07/22/2020 06:29:13 PM  [DEBUG   ]  findfont: score(<Font 'Times New Roman' (times.ttf) normal normal roman normal>) = 10.145\n",
      "07/22/2020 06:29:13 PM  [DEBUG   ]  findfont: score(<Font 'Consolas' (consolaz.ttf) italic normal 700 normal>) = 11.335\n",
      "07/22/2020 06:29:13 PM  [DEBUG   ]  findfont: score(<Font 'Consolas' (consolab.ttf) normal normal 700 normal>) = 10.335\n",
      "07/22/2020 06:29:13 PM  [DEBUG   ]  findfont: score(<Font 'Mistral' (MISTRAL.TTF) normal normal 400 normal>) = 10.05\n",
      "07/22/2020 06:29:13 PM  [DEBUG   ]  findfont: score(<Font 'Segoe UI Historic' (seguihis.ttf) normal normal 400 normal>) = 10.05\n",
      "07/22/2020 06:29:13 PM  [DEBUG   ]  findfont: score(<Font 'Bookshelf Symbol 7' (BSSYM7.TTF) normal normal book normal>) = 10.05\n",
      "07/22/2020 06:29:13 PM  [DEBUG   ]  findfont: score(<Font 'Microsoft Sans Serif' (micross.ttf) normal normal 400 normal>) = 10.05\n",
      "07/22/2020 06:29:13 PM  [DEBUG   ]  findfont: score(<Font 'Dubai' (DUBAI-MEDIUM.TTF) normal normal medium normal>) = 10.145\n",
      "07/22/2020 06:29:13 PM  [DEBUG   ]  findfont: score(<Font 'Ink Free' (Inkfree.ttf) normal normal 400 normal>) = 10.05\n",
      "07/22/2020 06:29:13 PM  [DEBUG   ]  findfont: score(<Font 'Consolas' (consola.ttf) normal normal 400 normal>) = 10.05\n",
      "07/22/2020 06:29:13 PM  [DEBUG   ]  findfont: score(<Font 'Georgia' (georgiai.ttf) italic normal 400 normal>) = 11.05\n",
      "07/22/2020 06:29:13 PM  [DEBUG   ]  findfont: score(<Font 'Sitka Small' (SitkaI.ttc) italic normal 400 normal>) = 11.05\n",
      "07/22/2020 06:29:13 PM  [DEBUG   ]  findfont: score(<Font 'Nirmala UI' (Nirmala.ttf) normal normal 400 normal>) = 10.05\n",
      "07/22/2020 06:29:13 PM  [DEBUG   ]  findfont: score(<Font 'Dubai' (DUBAI-LIGHT.TTF) normal normal light normal>) = 10.24\n",
      "07/22/2020 06:29:13 PM  [DEBUG   ]  findfont: score(<Font 'Arial' (ariali.ttf) italic normal 400 normal>) = 7.413636363636363\n",
      "07/22/2020 06:29:13 PM  [DEBUG   ]  findfont: score(<Font 'Georgia' (georgiaz.ttf) italic normal 700 normal>) = 11.335\n",
      "07/22/2020 06:29:13 PM  [DEBUG   ]  findfont: score(<Font 'MV Boli' (mvboli.ttf) normal normal 400 normal>) = 10.05\n",
      "07/22/2020 06:29:13 PM  [DEBUG   ]  findfont: score(<Font 'Bookman Old Style' (BOOKOSBI.TTF) italic normal 700 normal>) = 11.335\n",
      "07/22/2020 06:29:13 PM  [DEBUG   ]  findfont: score(<Font 'Microsoft Himalaya' (himalaya.ttf) normal normal 400 normal>) = 10.05\n",
      "07/22/2020 06:29:13 PM  [DEBUG   ]  findfont: score(<Font 'Constantia' (constan.ttf) normal normal 400 normal>) = 10.05\n",
      "07/22/2020 06:29:13 PM  [DEBUG   ]  findfont: score(<Font 'Book Antiqua' (ANTQUAB.TTF) normal normal 700 normal>) = 10.335\n",
      "07/22/2020 06:29:13 PM  [DEBUG   ]  findfont: score(<Font 'Microsoft Tai Le' (taileb.ttf) normal normal 700 normal>) = 10.335\n",
      "07/22/2020 06:29:13 PM  [DEBUG   ]  findfont: score(<Font 'Bradley Hand ITC' (BRADHITC.TTF) normal normal 400 normal>) = 10.05\n",
      "07/22/2020 06:29:13 PM  [DEBUG   ]  findfont: score(<Font 'Pristina' (PRISTINA.TTF) normal normal 400 normal>) = 10.05\n",
      "07/22/2020 06:29:13 PM  [DEBUG   ]  findfont: score(<Font 'Comic Sans MS' (comici.ttf) italic normal 400 normal>) = 11.05\n",
      "07/22/2020 06:29:13 PM  [DEBUG   ]  findfont: score(<Font 'Corbel' (corbelb.ttf) normal normal 700 normal>) = 10.335\n",
      "07/22/2020 06:29:13 PM  [DEBUG   ]  findfont: score(<Font 'Georgia' (georgia.ttf) normal normal 400 normal>) = 10.05\n",
      "07/22/2020 06:29:13 PM  [DEBUG   ]  findfont: score(<Font 'Yu Gothic' (YuGothM.ttc) normal normal medium normal>) = 10.145\n",
      "07/22/2020 06:29:13 PM  [DEBUG   ]  findfont: score(<Font 'Myanmar Text' (mmrtextb.ttf) normal normal 700 normal>) = 10.335\n",
      "07/22/2020 06:29:13 PM  [DEBUG   ]  findfont: score(<Font 'Segoe MDL2 Assets' (segmdl2.ttf) normal normal 400 normal>) = 10.05\n",
      "07/22/2020 06:29:13 PM  [DEBUG   ]  findfont: score(<Font 'Times New Roman' (timesbi.ttf) italic normal 700 normal>) = 11.335\n",
      "07/22/2020 06:29:13 PM  [DEBUG   ]  findfont: score(<Font 'Cambria' (cambria.ttc) normal normal 400 normal>) = 10.05\n",
      "07/22/2020 06:29:13 PM  [DEBUG   ]  findfont: score(<Font 'Book Antiqua' (BKANT.TTF) normal normal book normal>) = 10.05\n",
      "07/22/2020 06:29:13 PM  [DEBUG   ]  findfont: score(<Font 'Yu Gothic' (YuGothB.ttc) normal normal 700 normal>) = 10.335\n",
      "07/22/2020 06:29:13 PM  [DEBUG   ]  findfont: score(<Font 'Trebuchet MS' (trebuc.ttf) normal normal 400 normal>) = 10.05\n",
      "07/22/2020 06:29:13 PM  [DEBUG   ]  findfont: score(<Font 'Webdings' (webdings.ttf) normal normal 400 normal>) = 10.05\n",
      "07/22/2020 06:29:13 PM  [DEBUG   ]  findfont: score(<Font 'Ebrima' (ebrima.ttf) normal normal 400 normal>) = 10.05\n",
      "07/22/2020 06:29:13 PM  [DEBUG   ]  findfont: score(<Font 'Segoe UI' (seguibl.ttf) normal normal black normal>) = 10.525\n",
      "07/22/2020 06:29:13 PM  [DEBUG   ]  findfont: score(<Font 'Segoe Script' (segoescb.ttf) normal normal 700 normal>) = 10.335\n",
      "07/22/2020 06:29:13 PM  [DEBUG   ]  findfont: score(<Font 'Microsoft YaHei' (msyh.ttc) normal normal 400 normal>) = 10.05\n",
      "07/22/2020 06:29:13 PM  [DEBUG   ]  findfont: score(<Font 'Constantia' (constan.ttf) normal normal 400 normal>) = 10.05\n",
      "07/22/2020 06:29:13 PM  [DEBUG   ]  findfont: score(<Font 'Georgia' (georgiab.ttf) normal normal 700 normal>) = 10.335\n"
     ]
    },
    {
     "name": "stdout",
     "output_type": "stream",
     "text": [
      "07/22/2020 06:29:13 PM  [DEBUG   ]  findfont: score(<Font 'Pristina' (PRISTINA.TTF) normal normal 400 normal>) = 10.05\n",
      "07/22/2020 06:29:13 PM  [DEBUG   ]  findfont: score(<Font 'Cambria' (cambriai.ttf) italic normal 400 normal>) = 11.05\n",
      "07/22/2020 06:29:13 PM  [DEBUG   ]  findfont: score(<Font 'Candara' (Candaraz.ttf) italic normal 700 normal>) = 11.335\n",
      "07/22/2020 06:29:13 PM  [DEBUG   ]  findfont: score(<Font 'Courier New' (couri.ttf) italic normal 400 normal>) = 11.05\n",
      "07/22/2020 06:29:13 PM  [DEBUG   ]  findfont: score(<Font 'Century Gothic' (GOTHIC.TTF) normal normal 400 normal>) = 10.05\n",
      "07/22/2020 06:29:13 PM  [DEBUG   ]  findfont: score(<Font 'Garamond' (GARABD.TTF) normal normal 700 normal>) = 10.335\n",
      "07/22/2020 06:29:13 PM  [DEBUG   ]  findfont: score(<Font 'Corbel' (corbelz.ttf) italic normal 700 normal>) = 11.335\n",
      "07/22/2020 06:29:13 PM  [DEBUG   ]  findfont: score(<Font 'Sitka Small' (SitkaZ.ttc) italic normal 700 normal>) = 11.335\n",
      "07/22/2020 06:29:13 PM  [DEBUG   ]  findfont: score(<Font 'Corbel' (corbelz.ttf) italic normal 700 normal>) = 11.335\n",
      "07/22/2020 06:29:13 PM  [DEBUG   ]  findfont: score(<Font 'Candara' (Candaral.ttf) normal normal light normal>) = 10.24\n",
      "07/22/2020 06:29:13 PM  [DEBUG   ]  findfont: score(<Font 'Segoe UI' (segoeuiz.ttf) italic normal 700 normal>) = 11.335\n",
      "07/22/2020 06:29:13 PM  [DEBUG   ]  findfont: score(<Font 'Constantia' (constanb.ttf) normal normal 700 normal>) = 10.335\n",
      "07/22/2020 06:29:13 PM  [DEBUG   ]  findfont: score(<Font 'Symbol' (symbol.ttf) normal normal 400 normal>) = 10.05\n",
      "07/22/2020 06:29:13 PM  [DEBUG   ]  findfont: score(<Font 'Segoe MDL2 Assets' (segmdl2.ttf) normal normal 400 normal>) = 10.05\n",
      "07/22/2020 06:29:13 PM  [DEBUG   ]  findfont: score(<Font 'Calibri' (calibrii.ttf) italic normal 400 normal>) = 11.05\n",
      "07/22/2020 06:29:13 PM  [DEBUG   ]  findfont: score(<Font 'Nirmala UI' (Nirmala.ttf) normal normal 400 normal>) = 10.05\n",
      "07/22/2020 06:29:13 PM  [DEBUG   ]  findfont: score(<Font 'Segoe UI' (seguibli.ttf) italic normal black normal>) = 11.525\n",
      "07/22/2020 06:29:13 PM  [DEBUG   ]  findfont: score(<Font 'French Script MT' (FRSCRIPT.TTF) normal normal 400 normal>) = 10.05\n",
      "07/22/2020 06:29:13 PM  [DEBUG   ]  findfont: score(<Font 'Sylfaen' (sylfaen.ttf) normal normal 400 normal>) = 10.05\n",
      "07/22/2020 06:29:13 PM  [DEBUG   ]  findfont: score(<Font 'Segoe UI' (segoeui.ttf) normal normal 400 normal>) = 10.05\n",
      "07/22/2020 06:29:13 PM  [DEBUG   ]  findfont: score(<Font 'Bahnschrift' (bahnschrift.ttf) normal normal 400 normal>) = 10.05\n",
      "07/22/2020 06:29:13 PM  [DEBUG   ]  findfont: score(<Font 'Cambria' (cambria.ttc) normal normal 400 normal>) = 10.05\n",
      "07/22/2020 06:29:13 PM  [DEBUG   ]  findfont: score(<Font 'Malgun Gothic' (malgunbd.ttf) normal normal 700 normal>) = 10.335\n",
      "07/22/2020 06:29:13 PM  [DEBUG   ]  findfont: score(<Font 'Consolas' (consolai.ttf) italic normal 400 normal>) = 11.05\n",
      "07/22/2020 06:29:13 PM  [DEBUG   ]  findfont: score(<Font 'Segoe UI' (segoeuiz.ttf) italic normal 700 normal>) = 11.335\n",
      "07/22/2020 06:29:13 PM  [DEBUG   ]  findfont: score(<Font 'Constantia' (constanz.ttf) italic normal 700 normal>) = 11.335\n",
      "07/22/2020 06:29:13 PM  [DEBUG   ]  findfont: score(<Font 'Wingdings 3' (WINGDNG3.TTF) normal normal 400 normal>) = 10.05\n",
      "07/22/2020 06:29:13 PM  [DEBUG   ]  findfont: score(<Font 'Sitka Small' (Sitka.ttc) normal normal 400 normal>) = 10.05\n",
      "07/22/2020 06:29:13 PM  [DEBUG   ]  findfont: score(<Font 'Book Antiqua' (ANTQUAI.TTF) italic normal book normal>) = 11.05\n",
      "07/22/2020 06:29:13 PM  [DEBUG   ]  findfont: score(<Font 'Segoe UI' (segoeuil.ttf) normal normal light normal>) = 10.24\n",
      "07/22/2020 06:29:13 PM  [DEBUG   ]  findfont: score(<Font 'Century Gothic' (GOTHICI.TTF) italic normal 400 normal>) = 11.05\n",
      "07/22/2020 06:29:13 PM  [DEBUG   ]  findfont: score(<Font 'Verdana' (verdana.ttf) normal normal 400 normal>) = 3.6863636363636365\n",
      "07/22/2020 06:29:13 PM  [DEBUG   ]  findfont: score(<Font 'Corbel' (corbelb.ttf) normal normal 700 normal>) = 10.335\n",
      "07/22/2020 06:29:13 PM  [DEBUG   ]  findfont: score(<Font 'Microsoft New Tai Lue' (ntailub.ttf) normal normal 700 normal>) = 10.335\n",
      "07/22/2020 06:29:13 PM  [DEBUG   ]  findfont: score(<Font 'Century Gothic' (GOTHICBI.TTF) italic normal 700 normal>) = 11.335\n",
      "07/22/2020 06:29:13 PM  [DEBUG   ]  findfont: score(<Font 'Segoe Script' (segoesc.ttf) normal normal 400 normal>) = 10.05\n",
      "07/22/2020 06:29:13 PM  [DEBUG   ]  findfont: score(<Font 'Book Antiqua' (ANTQUABI.TTF) italic normal 700 normal>) = 11.335\n",
      "07/22/2020 06:29:13 PM  [DEBUG   ]  findfont: score(<Font 'Verdana' (verdanab.ttf) normal normal 700 normal>) = 3.9713636363636367\n",
      "07/22/2020 06:29:13 PM  [DEBUG   ]  findfont: score(<Font 'Wingdings' (wingding.ttf) normal normal 400 normal>) = 10.05\n",
      "07/22/2020 06:29:13 PM  [DEBUG   ]  findfont: score(<Font 'Microsoft Tai Le' (taile.ttf) normal normal 400 normal>) = 10.05\n",
      "07/22/2020 06:29:13 PM  [DEBUG   ]  findfont: score(<Font 'Garamond' (GARAIT.TTF) italic normal 400 normal>) = 11.05\n",
      "07/22/2020 06:29:13 PM  [DEBUG   ]  findfont: score(<Font 'Palatino Linotype' (palab.ttf) normal normal 700 normal>) = 10.335\n",
      "07/22/2020 06:29:13 PM  [DEBUG   ]  findfont: score(<Font 'Candara' (Candara.ttf) normal normal 400 normal>) = 10.05\n",
      "07/22/2020 06:29:13 PM  [DEBUG   ]  findfont: score(<Font 'MingLiU-ExtB' (mingliub.ttc) normal normal 400 normal>) = 10.05\n",
      "07/22/2020 06:29:13 PM  [DEBUG   ]  findfont: score(<Font 'MV Boli' (mvboli.ttf) normal normal 400 normal>) = 10.05\n",
      "07/22/2020 06:29:13 PM  [DEBUG   ]  findfont: score(<Font 'Lucida Console' (lucon.ttf) normal normal 400 normal>) = 10.05\n",
      "07/22/2020 06:29:13 PM  [DEBUG   ]  findfont: score(<Font 'Symbol' (symbol.ttf) normal normal 400 normal>) = 10.05\n",
      "07/22/2020 06:29:13 PM  [DEBUG   ]  findfont: score(<Font 'MingLiU-ExtB' (mingliub.ttc) normal normal 400 normal>) = 10.05\n",
      "07/22/2020 06:29:13 PM  [DEBUG   ]  findfont: score(<Font 'Arial' (ariblk.ttf) normal normal black normal>) = 6.888636363636364\n",
      "07/22/2020 06:29:13 PM  [DEBUG   ]  findfont: score(<Font 'Times New Roman' (timesbi.ttf) italic normal 700 normal>) = 11.335\n",
      "07/22/2020 06:29:13 PM  [DEBUG   ]  findfont: score(<Font 'Segoe UI' (seguibl.ttf) normal normal black normal>) = 10.525\n",
      "07/22/2020 06:29:13 PM  [DEBUG   ]  findfont: score(<Font 'Segoe Print' (segoeprb.ttf) normal normal 700 normal>) = 10.335\n",
      "07/22/2020 06:29:13 PM  [DEBUG   ]  findfont: score(<Font 'Malgun Gothic' (malgunbd.ttf) normal normal 700 normal>) = 10.335\n",
      "07/22/2020 06:29:13 PM  [DEBUG   ]  findfont: score(<Font 'Corbel' (corbeli.ttf) italic normal 400 normal>) = 11.05\n",
      "07/22/2020 06:29:13 PM  [DEBUG   ]  findfont: score(<Font 'Bookman Old Style' (BOOKOSB.TTF) normal normal 700 normal>) = 10.335\n",
      "07/22/2020 06:29:13 PM  [DEBUG   ]  findfont: score(<Font 'Courier New' (courbd.ttf) normal normal 700 normal>) = 10.335\n",
      "07/22/2020 06:29:13 PM  [DEBUG   ]  findfont: score(<Font 'Trebuchet MS' (trebuc.ttf) normal normal 400 normal>) = 10.05\n",
      "07/22/2020 06:29:13 PM  [DEBUG   ]  findfont: score(<Font 'Microsoft YaHei' (msyhl.ttc) normal normal light normal>) = 10.24\n",
      "07/22/2020 06:29:13 PM  [DEBUG   ]  findfont: score(<Font 'Dubai' (DUBAI-BOLD.TTF) normal normal 700 normal>) = 10.335\n",
      "07/22/2020 06:29:13 PM  [DEBUG   ]  findfont: score(<Font 'Segoe UI' (segoeui.ttf) normal normal 400 normal>) = 10.05\n",
      "07/22/2020 06:29:13 PM  [DEBUG   ]  findfont: score(<Font 'Kristen ITC' (ITCKRIST.TTF) normal normal 400 normal>) = 10.05\n",
      "07/22/2020 06:29:13 PM  [DEBUG   ]  findfont: score(<Font 'SimSun' (simsun.ttc) normal normal 400 normal>) = 10.05\n",
      "07/22/2020 06:29:13 PM  [DEBUG   ]  findfont: score(<Font 'Arial' (arialbi.ttf) italic normal 700 normal>) = 7.698636363636363\n",
      "07/22/2020 06:29:13 PM  [DEBUG   ]  findfont: score(<Font 'Segoe UI' (segoeuii.ttf) italic normal 400 normal>) = 11.05\n",
      "07/22/2020 06:29:13 PM  [DEBUG   ]  findfont: score(<Font 'MS Gothic' (msgothic.ttc) normal normal 400 normal>) = 10.05\n",
      "07/22/2020 06:29:13 PM  [DEBUG   ]  findfont: score(<Font 'Ebrima' (ebrima.ttf) normal normal 400 normal>) = 10.05\n",
      "07/22/2020 06:29:13 PM  [DEBUG   ]  findfont: score(<Font 'Courier New' (courbi.ttf) italic normal 700 normal>) = 11.335\n",
      "07/22/2020 06:29:13 PM  [DEBUG   ]  findfont: score(<Font 'Webdings' (webdings.ttf) normal normal 400 normal>) = 10.05\n"
     ]
    },
    {
     "name": "stdout",
     "output_type": "stream",
     "text": [
      "07/22/2020 06:29:13 PM  [DEBUG   ]  findfont: score(<Font 'Calibri' (calibri.ttf) normal normal 400 normal>) = 10.05\n",
      "07/22/2020 06:29:13 PM  [DEBUG   ]  findfont: score(<Font 'Lucida Sans Unicode' (l_10646.ttf) normal normal 400 normal>) = 10.05\n",
      "07/22/2020 06:29:13 PM  [DEBUG   ]  findfont: score(<Font 'Leelawadee UI' (LeelaUIb.ttf) normal normal 700 normal>) = 10.335\n",
      "07/22/2020 06:29:13 PM  [DEBUG   ]  findfont: score(<Font 'Candara' (Candarai.ttf) italic normal 400 normal>) = 11.05\n",
      "07/22/2020 06:29:13 PM  [DEBUG   ]  findfont: score(<Font 'Corbel' (corbel.ttf) normal normal 400 normal>) = 10.05\n",
      "07/22/2020 06:29:13 PM  [DEBUG   ]  findfont: score(<Font 'Bahnschrift' (bahnschrift.ttf) normal normal 400 normal>) = 10.05\n",
      "07/22/2020 06:29:13 PM  [DEBUG   ]  findfont: score(<Font 'Century Gothic' (GOTHICB.TTF) normal normal 700 normal>) = 10.335\n",
      "07/22/2020 06:29:13 PM  [DEBUG   ]  findfont: score(<Font 'Segoe Print' (segoepr.ttf) normal normal 400 normal>) = 10.05\n",
      "07/22/2020 06:29:13 PM  [DEBUG   ]  findfont: score(<Font 'Leelawadee UI' (LeelaUIb.ttf) normal normal 700 normal>) = 10.335\n",
      "07/22/2020 06:29:13 PM  [DEBUG   ]  findfont: score(<Font 'Consolas' (consolai.ttf) italic normal 400 normal>) = 11.05\n",
      "07/22/2020 06:29:13 PM  [DEBUG   ]  findfont: score(<Font 'Yu Gothic' (YuGothL.ttc) normal normal light normal>) = 10.24\n",
      "07/22/2020 06:29:13 PM  [DEBUG   ]  findfont: score(<Font 'Palatino Linotype' (palai.ttf) italic normal 400 normal>) = 11.05\n",
      "07/22/2020 06:29:13 PM  [DEBUG   ]  findfont: score(<Font 'Gadugi' (gadugi.ttf) normal normal 400 normal>) = 10.05\n",
      "07/22/2020 06:29:13 PM  [DEBUG   ]  findfont: score(<Font 'Lucida Console' (lucon.ttf) normal normal 400 normal>) = 10.05\n",
      "07/22/2020 06:29:13 PM  [DEBUG   ]  findfont: score(<Font 'Segoe UI' (segoeuisl.ttf) normal normal light normal>) = 10.24\n",
      "07/22/2020 06:29:13 PM  [DEBUG   ]  findfont: score(<Font 'Trebuchet MS' (trebucbd.ttf) normal normal 700 normal>) = 10.335\n",
      "07/22/2020 06:29:13 PM  [DEBUG   ]  findfont: score(<Font 'Bookman Old Style' (BOOKOSB.TTF) normal normal 700 normal>) = 10.335\n",
      "07/22/2020 06:29:13 PM  [DEBUG   ]  findfont: score(<Font 'Segoe UI' (seguisli.ttf) italic normal light normal>) = 11.24\n",
      "07/22/2020 06:29:13 PM  [DEBUG   ]  findfont: score(<Font 'Verdana' (verdanai.ttf) italic normal 400 normal>) = 4.6863636363636365\n",
      "07/22/2020 06:29:13 PM  [DEBUG   ]  findfont: score(<Font 'Franklin Gothic Medium' (framd.ttf) normal normal medium normal>) = 10.145\n",
      "07/22/2020 06:29:13 PM  [DEBUG   ]  findfont: score(<Font 'Arial' (arialbd.ttf) normal normal 700 normal>) = 6.698636363636363\n",
      "07/22/2020 06:29:13 PM  [DEBUG   ]  findfont: score(<Font 'Calibri' (calibrili.ttf) italic normal light normal>) = 11.24\n",
      "07/22/2020 06:29:13 PM  [DEBUG   ]  findfont: score(<Font 'Verdana' (verdanab.ttf) normal normal 700 normal>) = 3.9713636363636367\n",
      "07/22/2020 06:29:13 PM  [DEBUG   ]  findfont: Matching sans\\-serif:style=normal:variant=normal:weight=normal:stretch=normal:size=10.0 to DejaVu Sans ('C:\\\\Users\\\\apignet\\\\Anaconda3\\\\envs\\\\TenSEAL\\\\lib\\\\site-packages\\\\matplotlib\\\\mpl-data\\\\fonts\\\\ttf\\\\DejaVuSans.ttf') with score of 0.050000.\n"
     ]
    },
    {
     "data": {
      "image/png": "[encoded data removed]",
      "text/plain": [
       "<Figure size 432x288 with 1 Axes>"
      ]
     },
     "metadata": {
      "needs_background": "light"
     },
     "output_type": "display_data"
    }
   ],
   "source": [
    "plt.plot([i*VERBOSE for i in range(len(model.loss_list))], [i.decrypt()[0] for i in model.loss_list], label='cipherloss')\n",
    "plt.plot([i*VERBOSE for i in range(len(unencrypted_model.loss_list))], unencrypted_model.loss_list, label='plainloss')\n",
    "plt.plot([i*VERBOSE for i in range(len(unencrypted_model.true_loss_list))], unencrypted_model.loss_list, label='True plainloss')\n",
    "plt.xlabel('Epoch')\n",
    "plt.ylabel('Loss')\n",
    "plt.title('Losses evolution of both models')\n",
    "plt.legend(loc='best')\n",
    "[i.decrypt()[0] for i in model.loss_list]"
   ]
  },
  {
   "cell_type": "markdown",
   "metadata": {},
   "source": [
    "## Unencrypted loss"
   ]
  },
  {
   "cell_type": "code",
   "execution_count": 26,
   "metadata": {},
   "outputs": [
    {
     "data": {
      "text/plain": [
       "Text(0.5, 1.0, 'Loss evolution of unencrypted model')"
      ]
     },
     "execution_count": 26,
     "metadata": {},
     "output_type": "execute_result"
    },
    {
     "data": {
      "image/png": "[encoded data removed]",
      "text/plain": [
       "<Figure size 432x288 with 1 Axes>"
      ]
     },
     "metadata": {
      "needs_background": "light"
     },
     "output_type": "display_data"
    }
   ],
   "source": [
    "plt.plot([i*VERBOSE for i in range(len(unencrypted_model.loss_list))], np.array(unencrypted_model.loss_list).reshape((-1)))\n",
    "plt.xlabel('Epoch')\n",
    "plt.ylabel('Loss')\n",
    "plt.title('Loss evolution of unencrypted model')"
   ]
  },
  {
   "cell_type": "code",
   "execution_count": 27,
   "metadata": {},
   "outputs": [
    {
     "data": {
      "text/plain": [
       "[2.5575205206459,\n",
       " 2.026452700814234,\n",
       " 1.7866250523218459,\n",
       " 1.651832761340346,\n",
       " 1.566156386392605,\n",
       " 1.5069330677493455,\n",
       " 1.4638617528747095,\n",
       " 1.4315005861020973,\n",
       " 1.4066465422272225,\n",
       " 1.38726782819192]"
      ]
     },
     "execution_count": 27,
     "metadata": {},
     "output_type": "execute_result"
    }
   ],
   "source": [
    "unencrypted_model.true_loss_list"
   ]
  },
  {
   "cell_type": "markdown",
   "metadata": {},
   "source": [
    "logging.info(\"Model initialization\")\n",
    "unencrypted_model = unencrypted_LR.LogisticRegression(init_weight=unencrypted_weight,\n",
    "                                                      init_bias=unencrypted_bias,\n",
    "                                                      verbose=VERBOSE,\n",
    "                                                      save_weight= SAVE_WEIGHT,\n",
    "                                                      max_epoch==EPOCH,\n",
    "                                                      lr=LEARNING_RATE,\n",
    "                                                      reg_para=REGULARIZATION_RATE)"
   ]
  },
  {
   "cell_type": "markdown",
   "metadata": {},
   "source": [
    "# Errors"
   ]
  },
  {
   "cell_type": "markdown",
   "metadata": {},
   "source": [
    "## Relative error between losses"
   ]
  },
  {
   "cell_type": "code",
   "execution_count": 28,
   "metadata": {},
   "outputs": [
    {
     "data": {
      "text/plain": [
       "array([1.68997403, 0.43189119, 0.26386643, 0.20538907, 0.17311859,\n",
       "       0.14954603, 0.13234384, 0.12015008, 0.11157919, 0.1055298 ])"
      ]
     },
     "execution_count": 28,
     "metadata": {},
     "output_type": "execute_result"
    }
   ],
   "source": [
    "decrypted = [i.decrypt()[0] for i in model.loss_list]\n",
    "true_err = np.abs(np.array(decrypted) - np.array(unencrypted_model.loss_list))\n",
    "rel_err = true_err/np.linalg.norm(decrypted)\n",
    "rel_err"
   ]
  },
  {
   "cell_type": "code",
   "execution_count": 29,
   "metadata": {},
   "outputs": [
    {
     "data": {
      "text/plain": [
       "Text(0.5, 1.0, 'Relative error between encrypted loss and unencrypted loss')"
      ]
     },
     "execution_count": 29,
     "metadata": {},
     "output_type": "execute_result"
    },
    {
     "data": {
      "image/png": "[encoded data removed]",
      "text/plain": [
       "<Figure size 432x288 with 1 Axes>"
      ]
     },
     "metadata": {
      "needs_background": "light"
     },
     "output_type": "display_data"
    }
   ],
   "source": [
    "plt.plot([i*VERBOSE for i in range(len(model.loss_list))],  rel_err)\n",
    "plt.xlabel('Epoch')\n",
    "plt.ylabel('Relative error on loss')\n",
    "plt.title('Relative error between encrypted loss and unencrypted loss')"
   ]
  },
  {
   "cell_type": "code",
   "execution_count": 30,
   "metadata": {},
   "outputs": [
    {
     "data": {
      "text/plain": [
       "array([0.45502663, 0.43452346, 0.37567061, 0.33946556, 0.31675793,\n",
       "       0.30224133, 0.29259096, 0.28593388, 0.2812117 , 0.27779248])"
      ]
     },
     "execution_count": 30,
     "metadata": {},
     "output_type": "execute_result"
    }
   ],
   "source": [
    "decrypted = [i.decrypt()[0] for i in model.loss_list]\n",
    "true_err = np.abs(np.array(decrypted) - np.array(unencrypted_model.true_loss_list))\n",
    "rel_err = true_err/np.linalg.norm(decrypted)\n",
    "rel_err"
   ]
  },
  {
   "cell_type": "code",
   "execution_count": 31,
   "metadata": {},
   "outputs": [
    {
     "data": {
      "text/plain": [
       "Text(0.5, 1.0, 'Relative error between encrypted loss and unencrypted true loss')"
      ]
     },
     "execution_count": 31,
     "metadata": {},
     "output_type": "execute_result"
    },
    {
     "data": {
      "image/png": "[encoded data removed]",
      "text/plain": [
       "<Figure size 432x288 with 1 Axes>"
      ]
     },
     "metadata": {
      "needs_background": "light"
     },
     "output_type": "display_data"
    }
   ],
   "source": [
    "plt.plot([i*VERBOSE for i in range(len(model.loss_list))],  rel_err)\n",
    "plt.xlabel('Epoch')\n",
    "plt.ylabel('Relative error on loss')\n",
    "plt.title('Relative error between encrypted loss and unencrypted true loss')"
   ]
  },
  {
   "cell_type": "markdown",
   "metadata": {},
   "source": [
    "## Relative error between weights"
   ]
  },
  {
   "cell_type": "code",
   "execution_count": 32,
   "metadata": {},
   "outputs": [
    {
     "data": {
      "text/plain": [
       "Text(0.5, 1.0, 'Relative error between encrypted weights and unencrypted weights')"
      ]
     },
     "execution_count": 32,
     "metadata": {},
     "output_type": "execute_result"
    },
    {
     "data": {
      "image/png": "[encoded data removed]",
      "text/plain": [
       "<Figure size 432x288 with 1 Axes>"
      ]
     },
     "metadata": {
      "needs_background": "light"
     },
     "output_type": "display_data"
    }
   ],
   "source": [
    "error_list = encryption_error(model.weight_list,model.bias_list, unencrypted_model.weight_list,unencrypted_model.bias_list)\n",
    "plt.plot([i*VERBOSE for i in range(len(error_list))], error_list)\n",
    "plt.xlabel('Epoch')\n",
    "plt.ylabel('Relative error on weights')\n",
    "plt.title('Relative error between encrypted weights and unencrypted weights')"
   ]
  },
  {
   "cell_type": "code",
   "execution_count": 33,
   "metadata": {},
   "outputs": [
    {
     "data": {
      "text/plain": [
       "-0.6931471805599453"
      ]
     },
     "execution_count": 33,
     "metadata": {},
     "output_type": "execute_result"
    }
   ],
   "source": [
    "np.log(0.5)"
   ]
  }
 ],
 "metadata": {
  "kernelspec": {
   "display_name": "TenSEAL",
   "language": "python",
   "name": "tenseal"
  },
  "language_info": {
   "codemirror_mode": {
    "name": "ipython",
    "version": 3
   },
   "file_extension": ".py",
   "mimetype": "text/x-python",
   "name": "python",
   "nbconvert_exporter": "python",
   "pygments_lexer": "ipython3",
   "version": "3.7.7"
  }
 },
 "nbformat": 4,
 "nbformat_minor": 2
}
