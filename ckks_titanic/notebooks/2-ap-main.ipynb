{
 "cells": [
  {
   "cell_type": "code",
   "execution_count": 94,
   "metadata": {},
   "outputs": [],
   "source": [
    "import time\n",
    "import os\n",
    "import sys\n",
    "import logging\n",
    "\n",
    "import numpy as np\n",
    "import tenseal as ts\n",
    "\n",
    "from sklearn.model_selection import train_test_split\n",
    "from sklearn.linear_model import LogisticRegression\n",
    "from sklearn.metrics import confusion_matrix, average_precision_score, f1_score, recall_score, precision_score, accuracy_score, classification_report\n",
    "os.chdir(\"C://Users//apignet//Documents/homomorphic-encryption/ckks_titanic/\")\n",
    "from src.features import build_features\n",
    "from models import encrypted_LR\n",
    "from models import unencrypted_LR"
   ]
  },
  {
   "cell_type": "code",
   "execution_count": 2,
   "metadata": {},
   "outputs": [],
   "source": [
    "%load_ext memory_profiler"
   ]
  },
  {
   "cell_type": "code",
   "execution_count": 80,
   "metadata": {},
   "outputs": [
    {
     "data": {
      "text/plain": [
       "1"
      ]
     },
     "execution_count": 80,
     "metadata": {},
     "output_type": "execute_result"
    }
   ],
   "source": [
    "import matplotlib.pyplot as plt\n",
    "import seaborn as sns\n",
    "%matplotlib inline\n",
    "1"
   ]
  },
  {
   "cell_type": "markdown",
   "metadata": {},
   "source": [
    "# definition of parameters"
   ]
  },
  {
   "cell_type": "markdown",
   "metadata": {},
   "source": [
    "### Log "
   ]
  },
  {
   "cell_type": "markdown",
   "metadata": {},
   "source": [
    "### Paths"
   ]
  },
  {
   "cell_type": "code",
   "execution_count": 4,
   "metadata": {},
   "outputs": [],
   "source": [
    "DATA_PATH = \"/data/raw/\"            # whole data set\n",
    "#DATA_PATH = \"/data/quick_demo/\"   # subset of the data set, with 15 train_samples and 5 test_samples\n",
    "#DATA_PATH = \"/home/apignet/homomorphic-encryption/ckks_titanic/data/quick_demo/\"   # subset of the data set, with 400 train_samples and 50 test_samples\n",
    "#DATA_PATH =   '/data/quick_demo/'\n",
    "LOG_PATH = \"reports/log\"\n",
    "LOG_FILENAME = \"test_0716\""
   ]
  },
  {
   "cell_type": "code",
   "execution_count": 5,
   "metadata": {},
   "outputs": [],
   "source": [
    "fileHandler = logging.FileHandler(\"{0}/{1}.log\".format(LOG_PATH, LOG_FILENAME))\n",
    "streamHandler = logging.StreamHandler(sys.stdout)\n",
    "logging.basicConfig(format=\"%(asctime)s  [%(levelname)-8.8s]  %(message)s\", datefmt='%m/%d/%Y %I:%M:%S %p', level = logging.INFO, handlers=[fileHandler, streamHandler])"
   ]
  },
  {
   "cell_type": "code",
   "execution_count": 6,
   "metadata": {},
   "outputs": [
    {
     "data": {
      "text/plain": [
       "'C:\\\\Users\\\\apignet\\\\Documents\\\\homomorphic-encryption\\\\ckks_titanic'"
      ]
     },
     "execution_count": 6,
     "metadata": {},
     "output_type": "execute_result"
    }
   ],
   "source": [
    "os.getcwd()"
   ]
  },
  {
   "cell_type": "markdown",
   "metadata": {},
   "source": [
    "### Training variables"
   ]
  },
  {
   "cell_type": "code",
   "execution_count": 7,
   "metadata": {},
   "outputs": [],
   "source": [
    "EPOCH = 40\n",
    "LEARNING_RATE = 0.9\n",
    "MOMENTUM_RATE = 0.6\n",
    "REGULARIZATION_RATE = 0.5\n",
    "VERBOSE = 2\n",
    "SAVE_WEIGHT = 2\n",
    "N_JOBS = 1"
   ]
  },
  {
   "cell_type": "markdown",
   "metadata": {},
   "source": [
    "## Static functions"
   ]
  },
  {
   "cell_type": "code",
   "execution_count": 8,
   "metadata": {},
   "outputs": [],
   "source": [
    "def crytp_array(X, local_context):\n",
    "    \"\"\"\n",
    "    This function encrypt a list of vector\n",
    "    \n",
    "    :parameters \n",
    "    ------------\n",
    "    \n",
    "    :param X ; list of list, interpreted as list of vector to encrypt\n",
    "    :param local_context ; TenSEAL context object used to encrypt\n",
    "    \n",
    "    :returns\n",
    "    ------------\n",
    "    \n",
    "    list ; list of CKKS ciphertext  \n",
    "    \n",
    "    \"\"\"\n",
    "    res = []\n",
    "    for i in range(len(X)):\n",
    "        res.append(ts.ckks_vector(local_context, X[i]))\n",
    "        if i == len(X) // 4:\n",
    "            logging.info(\"25 % ...\")\n",
    "        elif i == len(X) // 2 :\n",
    "            logging.info(\"50 % ...\")\n",
    "        elif i == 3* len(X)//4:\n",
    "            logging.info(\"75% ...\")\n",
    "    return res"
   ]
  },
  {
   "cell_type": "markdown",
   "metadata": {},
   "source": [
    "### Confidential functions\n",
    "\n",
    "These functions involves security breachs (as use of unencrypted data, or decryption of weights) and cannot be coded by Alice.\n",
    "However, the functions encapslulate the unsafe process, so can be performed by Alice if Bob provides them. \n",
    "Therefore, they are currently passed as parameters to Alice, which only calls them.\n",
    "\n",
    "Currently there is a huge security breach, as confidential parameters (security key for instance), which are needed by those functions, are passed in a dictionnary to Alice. \n",
    "For a safe protocole, we have to change these functions, to set up a safe communication protocole between Bob and Alice.\n",
    "Alice will therefore only send the crypted data to Bob (using these functions, in which can be set up the communication process) and Bob will locally perform the functions which are currently coded bellow. "
   ]
  },
  {
   "cell_type": "code",
   "execution_count": 91,
   "metadata": {},
   "outputs": [],
   "source": [
    "def refresh(ciphertext, **kwarg):\n",
    "    \"\"\"\n",
    "    This function is here to refresh a ciphertext. This operation reset to 0 the calculus depth of the input ciphertext \n",
    "    WARNING :  Basically the function decryt and re-encrypt the ciphertext. \n",
    "    This is not safe, this operation needs to be done by a trusted part \n",
    "    (Bob for the perfect instance, even if it requieres communications between Alice and Bob while training)\n",
    "    \n",
    "    :parameters \n",
    "    ------------\n",
    "    \n",
    "    ciphertext ; encrypted CKKS vector \n",
    "    **kwarg ; dict, must contain context and secret_key.\n",
    "    \n",
    "    :returns\n",
    "    ------------\n",
    "    \n",
    "    ciphertext : encrypted CKKS vector \n",
    "    \n",
    "    \"\"\"\n",
    "    context = kwarg.get(\"context\", None)\n",
    "    secret_key = kwarg.get(\"secret_key\", None)\n",
    "    assert context , \"Context must be provided with the key : context\"+str(context)\n",
    "    if context.is_private():\n",
    "        return ts.ckks_vector(context, ciphertext.decrypt())\n",
    "    else : \n",
    "        if not secret_key:\n",
    "            raise AttributeError(\"The secret key is not provided and the context provided is public, decryption is not possible\")\n",
    "        else:\n",
    "            return ts.ckks_vector(context, ciphertext.decrypt(secret_key))\n",
    "   \n",
    "            \n",
    "def accuracy(crypted_weight, crypted_bias, prior_unencrypted_X = None, prior_unencrypted_Y=None, treshold = 0.5, verbose = True, **kwarg):\n",
    "    \"\"\"\n",
    "    This function is here to compute the accuracy\n",
    "    1-NOTE : we could maybe estimate this function homomorphically, by designing an approximation of the sign function. \n",
    "    However, this kind of approximation seems really hard to set up \n",
    "    Therefore, we will not be able to use the metric, as the result is encrypted.\n",
    "    2-NOTE : this function could be parallelized, as we do not need the result for the next epoch. \n",
    "    \n",
    "    :parameters \n",
    "    ------------\n",
    "    \n",
    "    crypted_weight ; encrypted CKKS vector (size equal to the number of features)\n",
    "    crypted_bias ; encrypted CKKS vector (size 1)\n",
    "    (Optionnal) prior_unencrypted_X ; samples on which the model accuracy will be computed. \n",
    "                                If not provided, the accuracy will be computed with the data provided in the kwarg\n",
    "    (Optionnal) prior_unencrypted_Y ; labels on which the model accuracy will be computed. If not provided.\n",
    "                                If not provided, the accuracy will be computed with the data provided in the kwarg\n",
    "    threshold : default 0.5, use to classified the data from the probability computed\n",
    "    verbose : Default True. If set to True, will log a report on F1, recall, precision, accuracy scores, and print the confusion matrix\n",
    "    **kwarg ; dict, must contain context, secret_key, (Optionnal) unencrytped_X and (Optionnal) unencrypted_Y \n",
    "    \n",
    "    :returns\n",
    "    ------------\n",
    "    \n",
    "    accuray : float (rounded to 2 digits)\n",
    "    \n",
    "    \n",
    "    \"\"\"\n",
    "    context = kwarg.get(\"context\", None)\n",
    "    if not context:\n",
    "        raise AttributeError(\"Context must be provided in the **kwarg, with the key : context\")\n",
    "    secret_key = kwarg.get(\"secret_key\", None)\n",
    "    if prior_unencrypted_X is None:\n",
    "        unencrypted_X = kwarg.get(\"unencrypted_X\", None)\n",
    "        if unencrypted_X is None:\n",
    "            raise AttributeError(\"Unencrypted samples must be provided, either in the arguments, or in the **kwarg, with the key : unencrypted_X\")\n",
    "    else:\n",
    "        unencrypted_X = np.array(prior_unencrypted_X)\n",
    "    if prior_unencrypted_Y is None:\n",
    "        unencrypted_Y = kwarg.get(\"unencrypted_Y\", None)\n",
    "        if unencrypted_Y is None:\n",
    "            raise AttributeError(\"Unencrypted labels must be provided, either in the arguments, or in the **kwarg, with the key : unencrypted_Y\")\n",
    "    else:\n",
    "        unencrypted_Y = np.array(prior_unencrypted_Y)\n",
    "    if context.is_private():\n",
    "            weight = np.array(crypted_weight.decrypt())\n",
    "            bias = np.array(crypted_bias.decrypt())\n",
    "    else : \n",
    "        if not secret_key:\n",
    "            raise AttributeError(\"The secret key is not provided and the context provided is public, decryption is not possible. Pass a private context or the secret key\")\n",
    "        else:\n",
    "            weight = np.array(crypted_weight.decrypt(secret_key))\n",
    "            bias = np.array(crypted_bias.decrypt(secret_key))\n",
    "            \n",
    "    re = unencrypted_X.dot(weight) + bias  \n",
    "    prediction = (np.float_power(re, 3)) * -0.004 + re * 0.197 + 0.5\n",
    "    \n",
    "    prediction = 1*(prediction > treshold)\n",
    "    recall = recall_score(test_labels,prediction)\n",
    "    F1 = f1_score(test_labels, prediction)\n",
    "    precision = precision_score(test_labels, prediction)\n",
    "    cf_m=confusion_matrix(test_labels, prediction ) \n",
    "    accuracy = accuracy_score(test_labels, prediction)\n",
    "    if verbose:\n",
    "        logging.info(\"Precision score of encrypted model on test set: %s \" % precision)\n",
    "        logging.info(\"Recall score  of encrypted model on test set : %s \" % recall)\n",
    "        logging.info(\"F1 score of encrypted model on test set: %s \" % F1)\n",
    "        logging.info(\"Accuracy of encrypted model on train set : %s \" % accuracy)\n",
    "        sns.heatmap(cf_m, annot=True)\n",
    "    return {'precision': precision, 'recall':recall, 'F1 score':F1, \"accuracy\":accuracy, \"confusion matrix\":cf_m}\n",
    "    "
   ]
  },
  {
   "cell_type": "markdown",
   "metadata": {},
   "source": [
    "# Loading and processing the data"
   ]
  },
  {
   "cell_type": "code",
   "execution_count": 10,
   "metadata": {},
   "outputs": [
    {
     "name": "stdout",
     "output_type": "stream",
     "text": [
      "07/27/2020 04:11:58 PM  [INFO    ]  C:\\Users\\apignet\\Documents\\homomorphic-encryption\\ckks_titanic\n",
      "07/27/2020 04:11:58 PM  [INFO    ]  loading the data into memory (pandas df)\n",
      "07/27/2020 04:11:58 PM  [INFO    ]  Done\n",
      "07/27/2020 04:11:58 PM  [INFO    ]  making final data set from raw data\n",
      "07/27/2020 04:11:58 PM  [INFO    ]  Done\n",
      "07/27/2020 04:11:59 PM  [INFO    ]  C:\\Users\\apignet\\Documents\\homomorphic-encryption\\ckks_titanic\n",
      "07/27/2020 04:11:59 PM  [INFO    ]  loading the data into memory (pandas df)\n",
      "07/27/2020 04:11:59 PM  [INFO    ]  Done\n",
      "07/27/2020 04:11:59 PM  [INFO    ]  making final data set from raw data\n",
      "07/27/2020 04:11:59 PM  [INFO    ]  Done\n",
      "peak memory: 134.46 MiB, increment: 4.64 MiB\n"
     ]
    }
   ],
   "source": [
    "%%memit\n",
    "logging.info(os.getcwd())\n",
    "raw_train, raw_test = build_features.data_import(os.getcwd()+DATA_PATH)\n",
    "train, submission_test = build_features.processing(raw_train, raw_test)\n",
    "del submission_test"
   ]
  },
  {
   "cell_type": "code",
   "execution_count": 11,
   "metadata": {},
   "outputs": [
    {
     "name": "stdout",
     "output_type": "stream",
     "text": [
      "peak memory: 133.79 MiB, increment: 0.04 MiB\n"
     ]
    }
   ],
   "source": [
    "%%memit\n",
    "train, test = train_test_split(train, test_size=0.15)\n",
    "train_labels = train.Survived\n",
    "test_labels = test.Survived\n",
    "train_features = train.drop(\"Survived\", axis=1)\n",
    "test_features = test.drop(\"Survived\", axis=1)"
   ]
  },
  {
   "cell_type": "markdown",
   "metadata": {},
   "source": [
    "# Definition of safety parameters"
   ]
  },
  {
   "cell_type": "code",
   "execution_count": 12,
   "metadata": {},
   "outputs": [
    {
     "name": "stdout",
     "output_type": "stream",
     "text": [
      "07/27/2020 04:12:04 PM  [INFO    ]  Definition of safety parameters...\n",
      "07/27/2020 04:12:06 PM  [INFO    ]  Done. 2.11 seconds\n",
      "07/27/2020 04:12:06 PM  [INFO    ]  Generation of the secret key...\n",
      "07/27/2020 04:12:06 PM  [INFO    ]  Done. 0.0 seconds\n",
      "07/27/2020 04:12:06 PM  [INFO    ]  Generation of the Galois Key...\n",
      "07/27/2020 04:12:12 PM  [INFO    ]  Done. 6.14 seconds\n",
      "07/27/2020 04:12:12 PM  [INFO    ]  Generation of the Relin Key...\n",
      "07/27/2020 04:12:13 PM  [INFO    ]  Done. 0.27 seconds\n",
      "peak memory: 702.79 MiB, increment: 568.99 MiB\n"
     ]
    }
   ],
   "source": [
    "%%memit\n",
    "logging.info('Definition of safety parameters...')\n",
    "timer = time.time()\n",
    "# context = ts.context(ts.SCHEME_TYPE.CKKS, 32768,\n",
    "# coeff_mod_bit_sizes=[60, 40, 40, 40, 40, 40, 40, 40, 40, 40, 40, 40, 40, 40, 40, 60])\n",
    "#context = ts.context(ts.SCHEME_TYPE.CKKS, 8192, coeff_mod_bit_sizes=[40, 21, 21, 21, 21, 21, 21, 40])\n",
    "\n",
    "context = ts.context(ts.SCHEME_TYPE.CKKS, 16384, coeff_mod_bit_sizes=[60, 40, 40, 40, 40, 40, 40,40, 60])\n",
    "context.global_scale = pow(2, 40)\n",
    "logging.info(\"Done. \" + str(round(time.time() - timer, 2)) + \" seconds\")\n",
    "\n",
    "\n",
    "logging.info('Generation of the secret key...')\n",
    "timer = time.time()\n",
    "secret_key = context.secret_key()\n",
    "#context.make_context_public() #drop the relin keys, the galois keys, and the secret keys. \n",
    "logging.info(\"Done. \" + str(round(time.time() - timer, 2)) + \" seconds\")\n",
    "logging.info('Generation of the Galois Key...')\n",
    "timer = time.time()\n",
    "context.generate_galois_keys(secret_key)\n",
    "logging.info(\"Done. \" + str(round(time.time() - timer, 2)) + \" seconds\")\n",
    "logging.info('Generation of the Relin Key...')\n",
    "timer = time.time()\n",
    "context.generate_relin_keys(secret_key)\n",
    "logging.info(\"Done. \" + str(round(time.time() - timer, 2)) + \" seconds\")\n",
    "if context.is_public():\n",
    "    logging.info(\"The context is now public, the context do not hold the secret key anymore, and decrypt methods need the secret key to be provide,\")\n",
    "\n"
   ]
  },
  {
   "cell_type": "markdown",
   "metadata": {},
   "source": [
    "# Data encryption"
   ]
  },
  {
   "cell_type": "code",
   "execution_count": 13,
   "metadata": {},
   "outputs": [
    {
     "name": "stdout",
     "output_type": "stream",
     "text": [
      "07/27/2020 04:12:14 PM  [INFO    ]  Data encryption...\n",
      "07/27/2020 04:12:19 PM  [INFO    ]  25 % ...\n",
      "07/27/2020 04:12:24 PM  [INFO    ]  50 % ...\n",
      "07/27/2020 04:12:29 PM  [INFO    ]  75% ...\n",
      "07/27/2020 04:12:39 PM  [INFO    ]  25 % ...\n",
      "07/27/2020 04:12:44 PM  [INFO    ]  50 % ...\n",
      "07/27/2020 04:12:49 PM  [INFO    ]  75% ...\n",
      "07/27/2020 04:12:55 PM  [INFO    ]  25 % ...\n",
      "07/27/2020 04:12:56 PM  [INFO    ]  50 % ...\n",
      "07/27/2020 04:12:57 PM  [INFO    ]  75% ...\n",
      "07/27/2020 04:12:58 PM  [INFO    ]  25 % ...\n",
      "07/27/2020 04:12:59 PM  [INFO    ]  50 % ...\n",
      "07/27/2020 04:13:00 PM  [INFO    ]  75% ...\n",
      "07/27/2020 04:13:01 PM  [INFO    ]  Done. 47.25 seconds\n",
      "peak memory: 3277.16 MiB, increment: 2575.38 MiB\n"
     ]
    }
   ],
   "source": [
    "%%memit\n",
    "logging.info(\"Data encryption...\")\n",
    "timer = time.time()\n",
    "encrypted_X = crytp_array(train_features.to_numpy(), context)\n",
    "encrypted_Y = crytp_array(train_labels.to_numpy().reshape((-1, 1)), context)\n",
    "encrypted_test_X = crytp_array(test_features.to_numpy(), context)\n",
    "encrypted_test_Y = crytp_array(test_labels.to_numpy().reshape((-1, 1)), context)\n",
    "logging.info(\"Done. \" + str(round(time.time() - timer, 2)) + \" seconds\")"
   ]
  },
  {
   "cell_type": "markdown",
   "metadata": {},
   "source": [
    "# Initialize the weight\n",
    "\n",
    "The weights have to be crypted "
   ]
  },
  {
   "cell_type": "code",
   "execution_count": 14,
   "metadata": {},
   "outputs": [
    {
     "name": "stdout",
     "output_type": "stream",
     "text": [
      "07/27/2020 04:13:02 PM  [INFO    ]  [-0.18697702  0.35901735  0.1844088  -0.14490278 -0.13177714  0.02600066\n",
      " -0.01228767 -0.30740482  0.43170242 -0.01972261 -0.29785908  0.07022252\n",
      "  0.13710597  0.05373127  0.34850938 -0.4462788   0.06469832  0.30852834\n",
      "  0.03210874  0.12304691  0.2473772  -0.14819954  0.19390938  0.39916354\n",
      "  0.15106349  0.29429811 -0.26985678  0.18554541  0.11156988  0.11174232\n",
      "  0.3768097   0.53257406]\n",
      "07/27/2020 04:13:04 PM  [INFO    ]  [ 0.17417375 -0.01700633 -0.16862914  0.04860831 -0.08339361  0.10912779\n",
      "  0.31395505 -0.37799035 -0.05456657  0.24809188 -0.20257786  0.42403702\n",
      " -0.242344   -0.28319957  0.01018761  0.48400809 -0.2554772  -0.17479583\n",
      "  0.01720372 -0.06577052 -0.00311102  0.21139184  0.47925557  0.06102232\n",
      "  0.11005595 -0.04247231 -0.03346959  0.10579345  0.20407741  0.04133294\n",
      "  0.07746621  0.20169146]\n",
      "peak memory: 3283.37 MiB, increment: 7.34 MiB\n"
     ]
    }
   ],
   "source": [
    "%%memit\n",
    "unencrypted_weight = np.random.normal(loc=0,\n",
    "                                      scale=0.2, size =(train_features.to_numpy().shape[1]))\n",
    "logging.info(unencrypted_weight)\n",
    "weight = ts.ckks_vector(context, unencrypted_weight)\n",
    "unencrypted_weight = np.array(unencrypted_weight)\n",
    "unencrypted_bias = np.random.random((1))\n",
    "bias = ts.ckks_vector(context, unencrypted_bias)\n",
    "unencrypted_bias = np.array(unencrypted_bias)"
   ]
  },
  {
   "cell_type": "markdown",
   "metadata": {},
   "source": [
    "The confidential data as yet stored into a dictionnary, and will be used during the training only by functions which are passed as arguments to the fit methods. This encapsulation of sensitive data will allows us to ensure security during training later. "
   ]
  },
  {
   "cell_type": "code",
   "execution_count": 15,
   "metadata": {},
   "outputs": [
    {
     "name": "stdout",
     "output_type": "stream",
     "text": [
      "peak memory: 3282.38 MiB, increment: 0.13 MiB\n"
     ]
    }
   ],
   "source": [
    "%%memit\n",
    "confidential_data = {'context':context,\n",
    "                     'secret_key':secret_key, \n",
    "                     'unencrypted_X':train_features.to_numpy(),\n",
    "                     'unencrypted_Y':train_labels.to_numpy().reshape((-1, 1)) \n",
    "                    }"
   ]
  },
  {
   "cell_type": "markdown",
   "metadata": {},
   "source": [
    "# Training the unencrypted model"
   ]
  },
  {
   "cell_type": "code",
   "execution_count": 95,
   "metadata": {},
   "outputs": [
    {
     "name": "stdout",
     "output_type": "stream",
     "text": [
      "07/28/2020 11:49:19 AM  [INFO    ]  Scikit Learn model initialization\n"
     ]
    }
   ],
   "source": [
    "logging.info(\"Scikit Learn model initialization\")\n",
    "sk_model = LogisticRegression(penalty='l2', solver = 'lbfgs')"
   ]
  },
  {
   "cell_type": "code",
   "execution_count": 103,
   "metadata": {},
   "outputs": [
    {
     "name": "stdout",
     "output_type": "stream",
     "text": [
      "07/28/2020 12:05:41 PM  [INFO    ]  Scikit Learn model training is starting.. \n",
      "07/28/2020 12:05:41 PM  [INFO    ]  Done. 61 iterations in 0.0319974422454834 seconds\n"
     ]
    }
   ],
   "source": [
    "logging.info(\"Scikit Learn model training is starting.. \")\n",
    "timer = time.time()\n",
    "sk_model.fit(train_features, train_labels)\n",
    "logging.info(\"Done. %s iterations in %s seconds\" %(sk_model.n_iter_[0], time.time()-timer))"
   ]
  },
  {
   "cell_type": "code",
   "execution_count": 42,
   "metadata": {},
   "outputs": [
    {
     "name": "stdout",
     "output_type": "stream",
     "text": [
      "07/28/2020 10:30:47 AM  [INFO    ]  Model initialization\n"
     ]
    }
   ],
   "source": [
    "logging.info(\"Unencrypted model initialization\")\n",
    "unencrypted_model = unencrypted_LR.LogisticRegression(init_weight=unencrypted_weight,\n",
    "                                                      init_bias=unencrypted_bias,\n",
    "                                                      verbose=VERBOSE,\n",
    "                                                      save_weight= SAVE_WEIGHT,\n",
    "                                                      max_epoch=EPOCH,\n",
    "                                                      learning_rate=LEARNING_RATE,\n",
    "                                                      momentum_rate=MOMENTUM_RATE,\n",
    "                                                      reg_para=REGULARIZATION_RATE,\n",
    "                                                      n_jobs = N_JOBS)"
   ]
  },
  {
   "cell_type": "code",
   "execution_count": 43,
   "metadata": {},
   "outputs": [
    {
     "name": "stdout",
     "output_type": "stream",
     "text": [
      "07/28/2020 10:30:48 AM  [INFO    ]  Training starting\n",
      "07/28/2020 10:30:48 AM  [INFO    ]  Just finished iteration number 0 in  0.14903903007507324 seconds. Starting computations of the loss \n",
      "07/28/2020 10:30:48 AM  [INFO    ]  Loss : 1.8234586237397727.\n",
      "07/28/2020 10:30:48 AM  [INFO    ]  Just finished iteration number 1 in  0.02499556541442871 seconds. Starting computations of the loss \n",
      "07/28/2020 10:30:48 AM  [INFO    ]  Just finished iteration number 2 in  0.015999317169189453 seconds. Starting computations of the loss \n",
      "07/28/2020 10:30:48 AM  [INFO    ]  Loss : 1.3519068298206893.\n",
      "07/28/2020 10:30:48 AM  [INFO    ]  Just finished iteration number 3 in  0.019000530242919922 seconds. Starting computations of the loss \n",
      "07/28/2020 10:30:48 AM  [INFO    ]  Just finished iteration number 4 in  0.016968965530395508 seconds. Starting computations of the loss \n",
      "07/28/2020 10:30:48 AM  [INFO    ]  Loss : 1.2496812107119817.\n",
      "07/28/2020 10:30:48 AM  [INFO    ]  Just finished iteration number 5 in  0.01599717140197754 seconds. Starting computations of the loss \n",
      "07/28/2020 10:30:48 AM  [INFO    ]  Just finished iteration number 6 in  0.011993885040283203 seconds. Starting computations of the loss \n",
      "07/28/2020 10:30:48 AM  [INFO    ]  Loss : 1.1927494865336932.\n",
      "07/28/2020 10:30:48 AM  [INFO    ]  Just finished iteration number 7 in  0.022040843963623047 seconds. Starting computations of the loss \n",
      "07/28/2020 10:30:48 AM  [INFO    ]  Just finished iteration number 8 in  0.020997285842895508 seconds. Starting computations of the loss \n",
      "07/28/2020 10:30:48 AM  [INFO    ]  Loss : 1.1513517554995323.\n",
      "07/28/2020 10:30:48 AM  [INFO    ]  Just finished iteration number 9 in  0.012998342514038086 seconds. Starting computations of the loss \n",
      "07/28/2020 10:30:48 AM  [INFO    ]  Just finished iteration number 10 in  0.020003557205200195 seconds. Starting computations of the loss \n",
      "07/28/2020 10:30:48 AM  [INFO    ]  Loss : 1.1188724747562766.\n",
      "07/28/2020 10:30:48 AM  [INFO    ]  Just finished iteration number 11 in  0.012996673583984375 seconds. Starting computations of the loss \n",
      "07/28/2020 10:30:48 AM  [INFO    ]  Just finished iteration number 12 in  0.016998767852783203 seconds. Starting computations of the loss \n",
      "07/28/2020 10:30:49 AM  [INFO    ]  Loss : 1.0925040361347205.\n",
      "07/28/2020 10:30:49 AM  [INFO    ]  Just finished iteration number 13 in  0.01299428939819336 seconds. Starting computations of the loss \n",
      "07/28/2020 10:30:49 AM  [INFO    ]  Just finished iteration number 14 in  0.023007869720458984 seconds. Starting computations of the loss \n",
      "07/28/2020 10:30:49 AM  [INFO    ]  Loss : 1.0706540259743604.\n",
      "07/28/2020 10:30:49 AM  [INFO    ]  Just finished iteration number 15 in  0.01999044418334961 seconds. Starting computations of the loss \n",
      "07/28/2020 10:30:49 AM  [INFO    ]  Just finished iteration number 16 in  0.012997865676879883 seconds. Starting computations of the loss \n",
      "07/28/2020 10:30:49 AM  [INFO    ]  Loss : 1.052293048172867.\n",
      "07/28/2020 10:30:49 AM  [INFO    ]  Just finished iteration number 17 in  0.012996912002563477 seconds. Starting computations of the loss \n",
      "07/28/2020 10:30:49 AM  [INFO    ]  Just finished iteration number 18 in  0.023999452590942383 seconds. Starting computations of the loss \n",
      "07/28/2020 10:30:49 AM  [INFO    ]  Loss : 1.0367025473466325.\n",
      "07/28/2020 10:30:49 AM  [INFO    ]  Just finished iteration number 19 in  0.023003816604614258 seconds. Starting computations of the loss \n",
      "07/28/2020 10:30:49 AM  [INFO    ]  Just finished iteration number 20 in  0.013995647430419922 seconds. Starting computations of the loss \n",
      "07/28/2020 10:30:49 AM  [INFO    ]  Loss : 1.0233544109569805.\n",
      "07/28/2020 10:30:49 AM  [INFO    ]  Just finished iteration number 21 in  0.01499485969543457 seconds. Starting computations of the loss \n",
      "07/28/2020 10:30:49 AM  [INFO    ]  Just finished iteration number 22 in  0.0259854793548584 seconds. Starting computations of the loss \n",
      "07/28/2020 10:30:49 AM  [INFO    ]  Loss : 1.0118463455259055.\n",
      "07/28/2020 10:30:49 AM  [INFO    ]  Just finished iteration number 23 in  0.020996570587158203 seconds. Starting computations of the loss \n",
      "07/28/2020 10:30:49 AM  [INFO    ]  Just finished iteration number 24 in  0.021003246307373047 seconds. Starting computations of the loss \n",
      "07/28/2020 10:30:49 AM  [INFO    ]  Loss : 1.001864047467084.\n",
      "07/28/2020 10:30:49 AM  [INFO    ]  Just finished iteration number 25 in  0.023991823196411133 seconds. Starting computations of the loss \n",
      "07/28/2020 10:30:49 AM  [INFO    ]  Just finished iteration number 26 in  0.019995927810668945 seconds. Starting computations of the loss \n",
      "07/28/2020 10:30:49 AM  [INFO    ]  Loss : 0.9931574109409108.\n",
      "07/28/2020 10:30:49 AM  [INFO    ]  Just finished iteration number 27 in  0.014998197555541992 seconds. Starting computations of the loss \n",
      "07/28/2020 10:30:49 AM  [INFO    ]  Just finished iteration number 28 in  0.018004655838012695 seconds. Starting computations of the loss \n",
      "07/28/2020 10:30:49 AM  [INFO    ]  Loss : 0.985524657056043.\n",
      "07/28/2020 10:30:49 AM  [INFO    ]  Just finished iteration number 29 in  0.02399468421936035 seconds. Starting computations of the loss \n",
      "07/28/2020 10:30:49 AM  [INFO    ]  Just finished iteration number 30 in  0.018999338150024414 seconds. Starting computations of the loss \n",
      "07/28/2020 10:30:49 AM  [INFO    ]  Loss : 0.9788012420905992.\n",
      "07/28/2020 10:30:49 AM  [INFO    ]  Just finished iteration number 31 in  0.0159914493560791 seconds. Starting computations of the loss \n",
      "07/28/2020 10:30:49 AM  [INFO    ]  Just finished iteration number 32 in  0.020996570587158203 seconds. Starting computations of the loss \n",
      "07/28/2020 10:30:50 AM  [INFO    ]  Loss : 0.972851821486215.\n",
      "07/28/2020 10:30:50 AM  [INFO    ]  Just finished iteration number 33 in  0.022988080978393555 seconds. Starting computations of the loss \n",
      "07/28/2020 10:30:50 AM  [INFO    ]  Just finished iteration number 34 in  0.014984846115112305 seconds. Starting computations of the loss \n",
      "07/28/2020 10:30:50 AM  [INFO    ]  Loss : 0.9675642646009684.\n",
      "07/28/2020 10:30:50 AM  [INFO    ]  Just finished iteration number 35 in  0.02099609375 seconds. Starting computations of the loss \n",
      "07/28/2020 10:30:50 AM  [INFO    ]  Just finished iteration number 36 in  0.022003650665283203 seconds. Starting computations of the loss \n",
      "07/28/2020 10:30:50 AM  [INFO    ]  Loss : 0.9628451004422987.\n",
      "07/28/2020 10:30:50 AM  [INFO    ]  Just finished iteration number 37 in  0.026996850967407227 seconds. Starting computations of the loss \n",
      "07/28/2020 10:30:50 AM  [INFO    ]  Just finished iteration number 38 in  0.012999534606933594 seconds. Starting computations of the loss \n",
      "07/28/2020 10:30:50 AM  [INFO    ]  Loss : 0.9586159932618069.\n",
      "07/28/2020 10:30:50 AM  [INFO    ]  Just finished iteration number 39 in  0.01999807357788086 seconds. Starting computations of the loss \n",
      "07/28/2020 10:30:50 AM  [INFO    ]  Training done. 2.0 seconds\n"
     ]
    }
   ],
   "source": [
    "logging.info(\"Training starting\")\n",
    "timer=time.time()\n",
    "unencrypted_model.fit(train_features.to_numpy(), train_labels.to_numpy().reshape((-1, 1)))\n",
    "logging.info(\"Training done. \" + str(round(time.time() - timer, 0)) + \" seconds\")"
   ]
  },
  {
   "cell_type": "markdown",
   "metadata": {},
   "source": [
    "### Unencrypted accuracy and loss"
   ]
  },
  {
   "cell_type": "code",
   "execution_count": 19,
   "metadata": {},
   "outputs": [
    {
     "name": "stdout",
     "output_type": "stream",
     "text": [
      "07/27/2020 04:13:10 PM  [INFO    ]  Accuracy of unencrypted model : 0.845360824742268 \n"
     ]
    },
    {
     "data": {
      "text/plain": [
       "<matplotlib.legend.Legend at 0x2012beb79c8>"
      ]
     },
     "execution_count": 19,
     "metadata": {},
     "output_type": "execute_result"
    },
    {
     "data": {
      "image/png": "[encoded data removed]",
      "text/plain": [
       "<Figure size 432x288 with 1 Axes>"
      ]
     },
     "metadata": {
      "needs_background": "light"
     },
     "output_type": "display_data"
    }
   ],
   "source": [
    "acc = unencrypted_model.accuracy(test_features.to_numpy(), test_labels.to_numpy().reshape((-1, 1)))\n",
    "logging.info(\"Accuracy of unencrypted model : %s \" % acc)\n",
    "\n",
    "plt.plot([i*VERBOSE for i in range(len(unencrypted_model.loss_list))], unencrypted_model.loss_list,'-xr' ,label='plainloss')\n",
    "plt.plot([i*VERBOSE for i in range(len(unencrypted_model.true_loss_list))], unencrypted_model.true_loss_list, '-ob', label='True plainloss')\n",
    "\n",
    "plt.xlabel('Epoch')\n",
    "plt.ylabel('Loss')\n",
    "plt.title('Losses evolution of unencrypted model with momentum')\n",
    "plt.legend(loc='best')"
   ]
  },
  {
   "cell_type": "markdown",
   "metadata": {},
   "source": [
    "# Training the crypted models"
   ]
  },
  {
   "cell_type": "code",
   "execution_count": 20,
   "metadata": {},
   "outputs": [
    {
     "name": "stdout",
     "output_type": "stream",
     "text": [
      "07/27/2020 04:13:10 PM  [INFO    ]  Model initialization\n"
     ]
    }
   ],
   "source": [
    "logging.info(\"Model initialization\")\n",
    "model = encrypted_LR.LogisticRegressionHE(init_weight=weight,\n",
    "                                          init_bias=bias,\n",
    "                                          refresh_function=refresh, \n",
    "                                          confidential_kwarg=confidential_data,\n",
    "                                          accuracy=accuracy,\n",
    "                                          verbose=VERBOSE,\n",
    "                                          save_weight=SAVE_WEIGHT,\n",
    "                                          max_epoch=EPOCH,\n",
    "                                          learning_rate=LEARNING_RATE,\n",
    "                                          momentum_rate=MOMENTUM_RATE,\n",
    "                                          reg_para=REGULARIZATION_RATE,\n",
    "                                          n_jobs = N_JOBS)"
   ]
  },
  {
   "cell_type": "code",
   "execution_count": 21,
   "metadata": {
    "scrolled": true
   },
   "outputs": [
    {
     "name": "stdout",
     "output_type": "stream",
     "text": [
      "07/27/2020 04:13:11 PM  [INFO    ]  Training starting\n",
      "07/27/2020 04:17:25 PM  [INFO    ]  Just finished iteration number 0 in  254.1711084842682 seconds. Starting computations of the loss \n",
      "07/27/2020 04:20:43 PM  [INFO    ]  Loss : <_tenseal_cpp.CKKSVector object at 0x000002012BF0B7B0>.\n",
      "07/27/2020 04:25:32 PM  [INFO    ]  Just finished iteration number 1 in  289.27153611183167 seconds. Starting computations of the loss \n",
      "07/27/2020 04:31:32 PM  [INFO    ]  Just finished iteration number 2 in  358.94268822669983 seconds. Starting computations of the loss \n",
      "07/27/2020 04:35:01 PM  [INFO    ]  Loss : <_tenseal_cpp.CKKSVector object at 0x000002012BF19370>.\n",
      "07/27/2020 04:45:57 PM  [INFO    ]  Just finished iteration number 3 in  655.2109475135803 seconds. Starting computations of the loss \n",
      "07/27/2020 05:01:53 PM  [INFO    ]  Just finished iteration number 4 in  948.4651284217834 seconds. Starting computations of the loss \n",
      "07/27/2020 05:05:26 PM  [INFO    ]  Loss : <_tenseal_cpp.CKKSVector object at 0x000002012BF169B0>.\n",
      "07/27/2020 05:15:51 PM  [INFO    ]  Just finished iteration number 5 in  625.0166754722595 seconds. Starting computations of the loss \n",
      "07/27/2020 05:27:16 PM  [INFO    ]  Just finished iteration number 6 in  682.4077925682068 seconds. Starting computations of the loss \n",
      "07/27/2020 05:31:06 PM  [INFO    ]  Loss : <_tenseal_cpp.CKKSVector object at 0x000002012BF24270>.\n",
      "07/27/2020 05:39:21 PM  [INFO    ]  Just finished iteration number 7 in  495.3965015411377 seconds. Starting computations of the loss \n",
      "07/27/2020 05:47:23 PM  [INFO    ]  Just finished iteration number 8 in  481.38230323791504 seconds. Starting computations of the loss \n",
      "07/27/2020 05:50:39 PM  [INFO    ]  Loss : <_tenseal_cpp.CKKSVector object at 0x0000020122329A70>.\n",
      "07/27/2020 05:59:43 PM  [INFO    ]  Just finished iteration number 9 in  544.03298163414 seconds. Starting computations of the loss \n",
      "07/27/2020 06:09:51 PM  [INFO    ]  Just finished iteration number 10 in  606.8376367092133 seconds. Starting computations of the loss \n",
      "07/27/2020 06:13:18 PM  [INFO    ]  Loss : <_tenseal_cpp.CKKSVector object at 0x00000201223297B0>.\n",
      "07/27/2020 06:20:52 PM  [INFO    ]  Just finished iteration number 11 in  454.7179870605469 seconds. Starting computations of the loss \n",
      "07/27/2020 06:27:55 PM  [INFO    ]  Just finished iteration number 12 in  422.19299817085266 seconds. Starting computations of the loss \n",
      "07/27/2020 06:31:21 PM  [INFO    ]  Loss : <_tenseal_cpp.CKKSVector object at 0x00000201223294B0>.\n",
      "07/27/2020 06:39:44 PM  [INFO    ]  Just finished iteration number 13 in  502.96924233436584 seconds. Starting computations of the loss \n",
      "07/27/2020 06:46:58 PM  [INFO    ]  Just finished iteration number 14 in  432.954537153244 seconds. Starting computations of the loss \n",
      "07/27/2020 06:50:24 PM  [INFO    ]  Loss : <_tenseal_cpp.CKKSVector object at 0x00000201223296F0>.\n",
      "07/27/2020 06:58:30 PM  [INFO    ]  Just finished iteration number 15 in  485.8418221473694 seconds. Starting computations of the loss \n",
      "07/27/2020 07:05:00 PM  [INFO    ]  Just finished iteration number 16 in  389.5119524002075 seconds. Starting computations of the loss \n",
      "07/27/2020 07:08:14 PM  [INFO    ]  Loss : <_tenseal_cpp.CKKSVector object at 0x000002012BF0A830>.\n",
      "07/27/2020 07:16:19 PM  [INFO    ]  Just finished iteration number 17 in  484.8456676006317 seconds. Starting computations of the loss \n",
      "07/27/2020 07:24:20 PM  [INFO    ]  Just finished iteration number 18 in  480.0379457473755 seconds. Starting computations of the loss \n",
      "07/27/2020 07:28:03 PM  [INFO    ]  Loss : <_tenseal_cpp.CKKSVector object at 0x0000020130551BB0>.\n",
      "07/27/2020 07:36:25 PM  [INFO    ]  Just finished iteration number 19 in  501.870920419693 seconds. Starting computations of the loss \n",
      "07/27/2020 07:44:09 PM  [INFO    ]  Just finished iteration number 20 in  463.09964895248413 seconds. Starting computations of the loss \n",
      "07/27/2020 07:47:43 PM  [INFO    ]  Loss : <_tenseal_cpp.CKKSVector object at 0x000002012BF25D70>.\n",
      "07/27/2020 07:55:58 PM  [INFO    ]  Just finished iteration number 21 in  494.8390302658081 seconds. Starting computations of the loss \n",
      "07/27/2020 08:04:00 PM  [INFO    ]  Just finished iteration number 22 in  480.0967597961426 seconds. Starting computations of the loss \n",
      "07/27/2020 08:07:28 PM  [INFO    ]  Loss : <_tenseal_cpp.CKKSVector object at 0x00000201223280B0>.\n",
      "07/27/2020 08:16:08 PM  [INFO    ]  Just finished iteration number 23 in  519.9713304042816 seconds. Starting computations of the loss \n",
      "07/27/2020 08:23:57 PM  [INFO    ]  Just finished iteration number 24 in  465.9289221763611 seconds. Starting computations of the loss \n",
      "07/27/2020 08:29:09 PM  [INFO    ]  Loss : <_tenseal_cpp.CKKSVector object at 0x000002012BF25CB0>.\n",
      "07/27/2020 08:37:09 PM  [INFO    ]  Just finished iteration number 25 in  479.9901773929596 seconds. Starting computations of the loss \n",
      "07/27/2020 08:43:20 PM  [INFO    ]  Just finished iteration number 26 in  369.0716254711151 seconds. Starting computations of the loss \n",
      "07/27/2020 08:47:13 PM  [INFO    ]  Loss : <_tenseal_cpp.CKKSVector object at 0x00000201223286B0>.\n",
      "07/27/2020 08:58:28 PM  [INFO    ]  Just finished iteration number 27 in  672.5045537948608 seconds. Starting computations of the loss \n",
      "07/27/2020 09:06:42 PM  [INFO    ]  Just finished iteration number 28 in  487.46993923187256 seconds. Starting computations of the loss \n",
      "07/27/2020 09:10:18 PM  [INFO    ]  Loss : <_tenseal_cpp.CKKSVector object at 0x00000201223287B0>.\n",
      "07/27/2020 09:18:15 PM  [INFO    ]  Just finished iteration number 29 in  476.4445369243622 seconds. Starting computations of the loss \n",
      "07/27/2020 09:25:53 PM  [INFO    ]  Just finished iteration number 30 in  457.52989053726196 seconds. Starting computations of the loss \n",
      "07/27/2020 09:29:28 PM  [INFO    ]  Loss : <_tenseal_cpp.CKKSVector object at 0x0000020122328D70>.\n",
      "07/27/2020 09:39:45 PM  [INFO    ]  Just finished iteration number 31 in  617.2949872016907 seconds. Starting computations of the loss \n",
      "07/27/2020 09:47:45 PM  [INFO    ]  Just finished iteration number 32 in  478.7378442287445 seconds. Starting computations of the loss \n",
      "07/27/2020 09:51:17 PM  [INFO    ]  Loss : <_tenseal_cpp.CKKSVector object at 0x000002013055E6B0>.\n",
      "07/27/2020 09:58:31 PM  [INFO    ]  Just finished iteration number 33 in  434.1072130203247 seconds. Starting computations of the loss \n",
      "07/27/2020 10:04:44 PM  [INFO    ]  Just finished iteration number 34 in  371.7476634979248 seconds. Starting computations of the loss \n",
      "07/27/2020 10:08:09 PM  [INFO    ]  Loss : <_tenseal_cpp.CKKSVector object at 0x000002012BF282B0>.\n",
      "07/27/2020 10:16:35 PM  [INFO    ]  Just finished iteration number 35 in  504.60350799560547 seconds. Starting computations of the loss \n",
      "07/27/2020 10:23:45 PM  [INFO    ]  Just finished iteration number 36 in  427.9429121017456 seconds. Starting computations of the loss \n",
      "07/27/2020 10:27:16 PM  [INFO    ]  Loss : <_tenseal_cpp.CKKSVector object at 0x000002012BF28770>.\n",
      "07/27/2020 10:35:24 PM  [INFO    ]  Just finished iteration number 37 in  487.3360650539398 seconds. Starting computations of the loss \n",
      "07/27/2020 10:42:34 PM  [INFO    ]  Just finished iteration number 38 in  429.12979316711426 seconds. Starting computations of the loss \n",
      "07/27/2020 10:46:07 PM  [INFO    ]  Loss : <_tenseal_cpp.CKKSVector object at 0x0000020122327FB0>.\n",
      "07/27/2020 10:54:35 PM  [INFO    ]  Just finished iteration number 39 in  507.4975280761719 seconds. Starting computations of the loss \n",
      "07/27/2020 10:54:48 PM  [INFO    ]  Training done. 24097.0 seconds\n"
     ]
    }
   ],
   "source": [
    "logging.info(\"Training starting\")\n",
    "timer=time.time()\n",
    "model.fit(encrypted_X, encrypted_Y)\n",
    "logging.info(\"Training done. \" + str(round(time.time() - timer, 0)) + \" seconds\")"
   ]
  },
  {
   "cell_type": "code",
   "execution_count": 36,
   "metadata": {},
   "outputs": [
    {
     "name": "stdout",
     "output_type": "stream",
     "text": [
      "[0.10322659 0.93027811 0.4362986  0.49620697 0.11949092 0.46012039\n",
      " 0.3613186  0.11531734 0.95951149 0.45713546 0.35370093 0.59112403\n",
      " 0.10996332 0.14742652 0.35293123 0.56025825 0.6853352  0.13830057\n",
      " 0.59137303 0.62898464 0.165452   0.08331372 0.68976927 0.27342219\n",
      " 0.27904914 0.1100992  0.95797294 0.08351993 0.1553519  0.29649967\n",
      " 0.59937181 0.10190718 0.37713851 0.56084405 0.93222576 0.31130745\n",
      " 0.41247581 0.14743987 0.12996073 0.64690247 0.29018057 0.40512645\n",
      " 0.27956327 0.444273   0.31303704 0.08108564 0.10107685 0.85798574\n",
      " 0.2520345  0.68001817 0.63417107 0.48316823 0.13571965 0.11945987\n",
      " 0.76204419 0.3775154  0.38002937 0.16833079 0.04274705 0.11291359\n",
      " 0.29625997 0.47884388 0.1211292  0.57232235 0.62248584 0.59812481\n",
      " 0.12674587 0.87875133 0.05284493 0.10365945 0.63432956 0.15535558\n",
      " 0.68732369 0.33162518 0.20406476 0.60840306 0.20333506 0.65649016\n",
      " 0.07159434 0.86660682 0.63418921 0.67384347 0.06742861 0.05223914\n",
      " 0.09266565 0.28125357 0.1423846  0.10056656 0.15946547 0.46743057\n",
      " 0.61954747 0.19803748 0.1553519  0.94443203 0.4095987  0.31335549\n",
      " 0.08536971]\n",
      "[ 0.04886163  0.11005882  0.10457762  0.25741812  0.56206892  0.36876821\n",
      "  0.54612359  0.08651176  0.82213565  0.46219781  0.27223142  0.9359831\n",
      "  0.9503628   0.09400484  0.24309709  0.39649461  0.26244377  0.77172754\n",
      "  0.07402624  0.56127765  0.33903952  0.16377358  0.11066553  0.12393997\n",
      "  0.17274647  0.60219131  0.43389477  0.10198446  0.1012483   0.14152156\n",
      "  0.12783525  0.67263468  0.37155749  0.55089218  0.15729816  0.54965623\n",
      "  0.33461827  0.07402624  0.89065759  0.11769196  0.66752616  0.04598739\n",
      "  0.11125664  0.46517819  0.48309217  0.10954857  0.42524682  0.84676307\n",
      "  0.24321236  0.12687307  0.36847237  0.39131444  0.57254453  0.87255384\n",
      "  0.72278371  0.4355467   0.33461827  0.09411803  0.13600163  0.12687307\n",
      "  0.56556803  0.46038736  0.92792175  0.77368185  0.26226919  0.11018077\n",
      "  0.53886169  0.95329889  0.70808867  0.14745782  0.8707832   0.24079817\n",
      "  0.14676799 -0.00968327  0.2620815   0.26226919  0.96409393  0.07572273\n",
      "  0.83942802  0.12551663  0.92738959  0.51980167  0.4318053   0.10393905\n",
      "  0.44815678  0.50613627  0.02995371  0.40247162  0.96586343  0.34643392\n",
      "  0.62358886  0.3979191   0.11005882  0.03733621  0.03579809  0.83324343\n",
      "  0.12123092  0.19756764  0.10996332  0.3265284   0.87946083  0.10734701\n",
      "  1.01986847  0.11018077  0.66715431  0.36325777  0.33965131  0.80350033\n",
      "  0.8562045   0.92226716  0.74694064  0.12322372  0.58348845  0.58390282\n",
      "  0.13222777  0.7258872   0.63427524  0.11005882  0.63609169  0.09108107\n",
      "  0.13181874  0.78694516  0.06332227  0.12993058  0.25801118  0.63418921\n",
      "  0.73557152  0.09360519  0.21584182  0.11018077  0.63405797  0.3681937\n",
      "  0.57614133  0.33228473  0.46346143  0.79643841  0.44887266  0.1121906\n",
      "  0.61529257  0.63664762  0.96632962  0.57805231  0.78660539  0.09185816\n",
      "  0.39792175  0.121543    0.87172434  0.57304463  0.08950612  0.04609209\n",
      "  0.10734701  0.27470186  0.91517317  1.02490626  0.0214728   0.9788298\n",
      "  0.64801719  0.27199229  0.15040573  0.76718153  0.1354786   0.71142488\n",
      "  0.11831424  0.63432956  0.76039176  0.60288369  0.2825935   0.89438242\n",
      "  0.26944067  0.56030023  0.0467099   0.14745782  0.62298421  0.14745782\n",
      "  0.40959084  0.15594006  0.67449611  0.1211292   0.12123092  0.07698481\n",
      "  0.57741687  0.61488703  0.83181177  0.61954747  0.12028395  0.56931254\n",
      " -0.01935144  0.90732205  0.63571445  0.82515365  0.78540089  0.30867589\n",
      "  0.93412281  0.87494783  0.11831424  1.00506842  0.11005882  0.91398\n",
      "  0.08137478  0.25474283  0.60656035  0.09790913  0.77448742  0.41595265\n",
      "  0.14668898  0.14752617  0.26226919  0.09924145  0.51012057  0.56708979\n",
      "  0.12102409  0.09147751  0.11005882  1.00043395  0.12450784  0.63418921\n",
      "  0.30867589  0.27177017  0.18386331  0.1073405   0.02738204  0.26226919\n",
      "  0.12674587  0.88159633  0.65650811  0.44400152  0.3481393   0.62920035\n",
      "  0.15762302  0.11407063  0.04475895  0.63461013  0.84996687  0.11550924\n",
      "  0.48570119  0.92806115  0.13600163  0.15594006  0.89761376  0.26769593\n",
      "  0.65631379  0.87295285  0.96349651  0.07176105  0.25443308  0.27242085\n",
      "  0.17575972  0.73274285  0.60914022  0.12100717 -0.02690983  0.14745066\n",
      "  0.21061993  0.37973965  0.65218605  0.03141851 -0.02690983  0.34362259\n",
      "  0.06228216  0.09792727  0.68847682  0.49371869  0.57124064  0.05311287\n",
      "  0.14179231  0.13310369  0.63792584  0.29858164  0.14744704  0.11801137\n",
      "  0.3007709   0.1553519   0.21880538  0.0560819   0.10259486  0.0839881\n",
      "  0.10322659  0.99833422  0.12172973  0.96622978  0.29607021  0.50944292\n",
      "  0.58084031  0.4069551   0.21998911  0.12972279  0.3819555   0.10954857\n",
      "  0.50360594  0.58519973  0.52770023  0.4941098   0.11531734  0.25801118\n",
      "  0.14745782  0.33985097  0.86699271  0.39923388  0.11271111  0.65403877\n",
      "  0.52449903  0.15418991  0.70724308  0.4179787   0.10939069  0.73023419\n",
      "  0.21714775  0.11154467  0.25108978  0.5807844   0.14806939  0.54303975\n",
      "  0.41349803  0.58988572  0.80131261  0.33974455  0.1530942   0.12642362\n",
      "  0.93248021  0.9259655   0.29141579  0.44818729  0.86791221  0.04652356\n",
      "  0.15535558  0.12862641  0.77692638  0.98165776  0.63422995  0.55914491\n",
      "  0.96914069  0.11005882  0.17665447  0.63418921  0.44696138  0.53928908\n",
      "  0.22295972  0.7903743   0.26848017  0.15535558  0.540539    0.54716659\n",
      "  0.45037296  0.50627021  0.57830688  0.6403819   0.35384368  0.89660221\n",
      "  0.46558559  0.33444839  0.05041515  0.75122797  0.04324056  0.64551907\n",
      "  0.73623954  0.13213593  0.12523234  0.14269268  0.09153051  0.01495523\n",
      "  0.80231578  0.56939114  0.58676381  0.95693962  0.34180349  0.68732369\n",
      "  0.05657209  0.11005882  0.05998557  0.63418921  0.12388197  0.94374913\n",
      "  0.14629015 -0.02690983  0.90914073  0.1553519   0.05184549  0.84278354\n",
      "  0.12388197  0.06660389  0.12949445  0.10703153  0.12404239  0.02559689\n",
      "  0.63451512  0.19748586  0.33250781  0.11005882  0.84093996  0.78813727\n",
      "  0.13310369  0.34830765  0.34632135  0.57830688  0.6147083   0.09153051\n",
      "  0.78060408  0.16218678  0.09931813 -0.02451292  0.17665447  0.1005537\n",
      "  0.16022723  0.25670047  0.11005882  0.53558467  0.92411621  0.89336407\n",
      "  0.11005882  0.13524727  0.11661044  0.18235748  0.11018077  0.50638206\n",
      "  0.54133376  0.35384368  0.97696368  0.08287041  0.14745782  0.59306923\n",
      "  0.10695416  0.66878398  0.23150645  0.58042515  0.45194183  0.77448742\n",
      "  0.24479836  0.05449534  0.09682186  0.99490657  0.95270174  0.55555089\n",
      "  0.14744341  0.76440191  0.11005882  0.09682186  0.38609529  0.14745782\n",
      "  0.41246471  0.92100349  0.24479836  0.09191238  0.15040573  0.77632175\n",
      "  0.04937308  0.58478762  0.80732494  0.9997169   0.93290257  0.40701762\n",
      "  0.47909197  0.2659366   0.34921184  0.68742672  0.27199229  0.33124027\n",
      "  0.49442296  0.79959453  0.29687309  0.11392016  0.25832362  0.72862359\n",
      "  0.35470044  0.09543632  0.0839881   0.11005882  0.26724518  0.63417563\n",
      "  0.65355486  0.8955353   0.11211769  0.33608123  0.72600373  0.39164053\n",
      "  0.00429767  0.08885303  0.10954857  0.74666241  0.78751615  0.28356575\n",
      "  0.56465707  0.25377061  0.08176491  0.95387714  0.26788128  0.06352103\n",
      "  0.12198142  0.73972569  0.01126107  0.11554262  0.34366531  0.16218305\n",
      "  0.10939069  0.17665447  0.87225799  0.72571534  0.11018077  0.35316094\n",
      "  0.19327797  0.27648181  0.07690399  0.2729558   0.09360519  0.63418921\n",
      "  0.11018077  0.39923388  0.26226919  0.60583896  0.23061942  0.91508085\n",
      "  0.10525317  0.76401416  0.13813962  0.88845639  0.10725222  0.12993058\n",
      "  0.45174087  0.99598657  0.86247339  0.83298398  0.10198446  0.52905563\n",
      "  0.11018077  0.23951036  0.75069607  0.58043531  0.85054854  0.35889016\n",
      "  0.79698919  0.41207157  0.09621358  0.03349977  0.98352613  0.63418921\n",
      "  0.87244338  0.12664625  0.67263905  0.35469507  0.06228216  0.63418921\n",
      "  0.12674587  0.67006725  0.24858841  0.68395773  0.11005882  0.06867413]\n",
      "07/28/2020 10:19:30 AM  [INFO    ]  Accuracy of encrypted model on test set: 0.845360824742268 \n",
      "07/28/2020 10:19:30 AM  [INFO    ]  Accuracy of encrypted model on train set : 0.8168498168498168 \n"
     ]
    }
   ],
   "source": [
    "acc_test = model.accuracy(test_features.to_numpy(), test_labels.to_numpy().reshape((-1, 1)))\n",
    "acc_train = model.accuracy(train_features.to_numpy(), train_labels.to_numpy().reshape((-1,1)))\n",
    "logging.info(\"Accuracy of encrypted model on test set: %s \" % acc_test)\n",
    "logging.info(\"Accuracy of encrypted model on train set : %s \" % acc_train)\n"
   ]
  },
  {
   "cell_type": "code",
   "execution_count": 90,
   "metadata": {},
   "outputs": [
    {
     "name": "stdout",
     "output_type": "stream",
     "text": [
      "07/28/2020 11:11:07 AM  [INFO    ]  Precision score of encrypted model on test set: 0.9 \n",
      "07/28/2020 11:11:07 AM  [INFO    ]  Recall score  of encrypted model on test set : 0.6923076923076923 \n",
      "07/28/2020 11:11:07 AM  [INFO    ]  F1 score of encrypted model on test set: 0.7826086956521738 \n",
      "07/28/2020 11:11:07 AM  [INFO    ]  Accuracy of encrypted model on train set : 0.845360824742268 \n"
     ]
    },
    {
     "data": {
      "text/plain": [
       "<matplotlib.axes._subplots.AxesSubplot at 0x202cc287e48>"
      ]
     },
     "execution_count": 90,
     "metadata": {},
     "output_type": "execute_result"
    },
    {
     "data": {
      "image/png": "[encoded data removed]",
      "text/plain": [
       "<Figure size 432x288 with 2 Axes>"
      ]
     },
     "metadata": {
      "needs_background": "light"
     },
     "output_type": "display_data"
    }
   ],
   "source": [
    "unencrypted_X = test_features.to_numpy()\n",
    "weight = model.weight.decrypt(secret_key)\n",
    "bias = model.bias.decrypt(secret_key)\n",
    "re = unencrypted_X.dot(weight) + bias  \n",
    "prediction = (np.float_power(re, 3)) * -0.004 + re * 0.197 + 0.5\n",
    "prediction = 1*(prediction > 0.5)\n",
    "recall = recall_score(test_labels,prediction)\n",
    "F1 = f1_score(test_labels, prediction)\n",
    "precision = precision_score(test_labels, prediction)\n",
    "cf_m=confusion_matrix(test_labels, prediction ) \n",
    "accuracy = accuracy_score(test_labels, prediction)\n",
    "\n",
    "logging.info(\"Precision score of encrypted model on test set: %s \" % precision)\n",
    "logging.info(\"Recall score  of encrypted model on test set : %s \" % recall)\n",
    "logging.info(\"F1 score of encrypted model on test set: %s \" % F1)\n",
    "logging.info(\"Accuracy of encrypted model on train set : %s \" % accuracy)\n",
    "sns.heatmap(cf_m, annot=True)"
   ]
  },
  {
   "cell_type": "code",
   "execution_count": 92,
   "metadata": {},
   "outputs": [
    {
     "name": "stdout",
     "output_type": "stream",
     "text": [
      "07/28/2020 11:18:50 AM  [INFO    ]  Precision score of encrypted model on test set: 0.9 \n",
      "07/28/2020 11:18:50 AM  [INFO    ]  Recall score  of encrypted model on test set : 0.6923076923076923 \n",
      "07/28/2020 11:18:50 AM  [INFO    ]  F1 score of encrypted model on test set: 0.7826086956521738 \n",
      "07/28/2020 11:18:50 AM  [INFO    ]  Accuracy of encrypted model on train set : 0.845360824742268 \n"
     ]
    },
    {
     "data": {
      "text/plain": [
       "<matplotlib.axes._subplots.AxesSubplot at 0x202caf775c8>"
      ]
     },
     "execution_count": 92,
     "metadata": {},
     "output_type": "execute_result"
    },
    {
     "data": {
      "image/png": "[encoded data removed]",
      "text/plain": [
       "<Figure size 432x288 with 2 Axes>"
      ]
     },
     "metadata": {
      "needs_background": "light"
     },
     "output_type": "display_data"
    }
   ],
   "source": [
    "prediction = unencrypted_model.predict(test_features)\n",
    "prediction = 1*(prediction > 0.5)\n",
    "recall = recall_score(test_labels,prediction)\n",
    "F1 = f1_score(test_labels, prediction)\n",
    "precision = precision_score(test_labels, prediction)\n",
    "cf_m=confusion_matrix(test_labels, prediction ) \n",
    "accuracy = accuracy_score(test_labels, prediction)\n",
    "\n",
    "logging.info(\"Precision score of unencrypted model on test set: %s \" % precision)\n",
    "logging.info(\"Recall score  of unencrypted model on test set : %s \" % recall)\n",
    "logging.info(\"F1 score of unencrypted model on test set: %s \" % F1)\n",
    "logging.info(\"Accuracy of unencrypted model on train set : %s \" % accuracy)\n",
    "sns.heatmap(cf_m, annot=True)"
   ]
  },
  {
   "cell_type": "code",
   "execution_count": 101,
   "metadata": {},
   "outputs": [
    {
     "name": "stdout",
     "output_type": "stream",
     "text": [
      "07/28/2020 11:55:37 AM  [INFO    ]  Precision score of scikit-learn model on test set: 0.8823529411764706 \n",
      "07/28/2020 11:55:37 AM  [INFO    ]  Recall score  of scikit-learn model on test set : 0.7692307692307693 \n",
      "07/28/2020 11:55:37 AM  [INFO    ]  F1 score of scikit-learn model on test set: 0.8219178082191781 \n",
      "07/28/2020 11:55:37 AM  [INFO    ]  Accuracy of scikit-learn model on test set : 0.865979381443299 \n"
     ]
    },
    {
     "data": {
      "text/plain": [
       "<matplotlib.axes._subplots.AxesSubplot at 0x202cd457a08>"
      ]
     },
     "execution_count": 101,
     "metadata": {},
     "output_type": "execute_result"
    },
    {
     "data": {
      "image/png": "[encoded data removed]",
      "text/plain": [
       "<Figure size 432x288 with 2 Axes>"
      ]
     },
     "metadata": {
      "needs_background": "light"
     },
     "output_type": "display_data"
    }
   ],
   "source": [
    "prediction = sk_model.predict(test_features)\n",
    "prediction = 1*(prediction > 0.5)\n",
    "recall = recall_score(test_labels,prediction)\n",
    "F1 = f1_score(test_labels, prediction)\n",
    "precision = precision_score(test_labels, prediction)\n",
    "cf_m=confusion_matrix(test_labels, prediction ) \n",
    "accuracy = accuracy_score(test_labels, prediction)\n",
    "\n",
    "logging.info(\"Precision score of scikit-learn model on test set: %s \" % precision)\n",
    "logging.info(\"Recall score  of scikit-learn model on test set : %s \" % recall)\n",
    "logging.info(\"F1 score of scikit-learn model on test set: %s \" % F1)\n",
    "logging.info(\"Accuracy of scikit-learn model on test set : %s \" % accuracy)\n",
    "sns.heatmap(cf_m, annot=True)"
   ]
  },
  {
   "cell_type": "markdown",
   "metadata": {},
   "source": [
    "# Figures"
   ]
  },
  {
   "cell_type": "markdown",
   "metadata": {},
   "source": [
    "## encrypted and unencrypted losses "
   ]
  },
  {
   "cell_type": "code",
   "execution_count": 44,
   "metadata": {},
   "outputs": [
    {
     "data": {
      "text/plain": [
       "<matplotlib.legend.Legend at 0x202cb4a6c88>"
      ]
     },
     "execution_count": 44,
     "metadata": {},
     "output_type": "execute_result"
    },
    {
     "data": {
      "image/png": "[encoded data removed]",
      "text/plain": [
       "<Figure size 432x288 with 1 Axes>"
      ]
     },
     "metadata": {
      "needs_background": "light"
     },
     "output_type": "display_data"
    }
   ],
   "source": [
    "plt.plot([i*VERBOSE for i in range(len(model.loss_list))], [i.decrypt(secret_key)[0] for i in model.loss_list],'-or', label='cipherloss')\n",
    "\n",
    "plt.plot([i*VERBOSE for i in range(len(unencrypted_model.loss_list))], unencrypted_model.loss_list, label='plainloss')\n",
    "plt.plot([i*VERBOSE for i in range(len(unencrypted_model.true_loss_list))], unencrypted_model.true_loss_list, label='True plainloss')\n",
    "plt.xlabel('Epoch')\n",
    "plt.ylabel('Loss')\n",
    "plt.title('Losses evolution of both models')\n",
    "plt.legend(loc='best')"
   ]
  },
  {
   "cell_type": "markdown",
   "metadata": {},
   "source": [
    "## Unencrypted loss"
   ]
  },
  {
   "cell_type": "markdown",
   "metadata": {},
   "source": [
    "# Errors"
   ]
  },
  {
   "cell_type": "markdown",
   "metadata": {},
   "source": [
    "## Relative error between losses"
   ]
  },
  {
   "cell_type": "code",
   "execution_count": 24,
   "metadata": {},
   "outputs": [],
   "source": [
    "decrypted = [i.decrypt(secret_key)[0] for i in model.loss_list]\n",
    "true_err_cl = np.abs(np.array(decrypted) - np.array(unencrypted_model.loss_list))\n",
    "rel_err_cl = true_err_cl/np.abs(decrypted)\n",
    "true_err_ct = np.abs(np.array(decrypted) - np.array(unencrypted_model.true_loss_list))\n",
    "rel_err_ct = true_err_ct/np.abs(decrypted)\n",
    "true_err_lt = np.abs(np.array(unencrypted_model.loss_list) - np.array(unencrypted_model.true_loss_list))\n",
    "rel_err_lt = true_err_lt/np.abs(unencrypted_model.true_loss_list)\n"
   ]
  },
  {
   "cell_type": "code",
   "execution_count": 25,
   "metadata": {},
   "outputs": [
    {
     "data": {
      "text/plain": [
       "Text(0.5, 1.0, 'Relative error between losses')"
      ]
     },
     "execution_count": 25,
     "metadata": {},
     "output_type": "execute_result"
    },
    {
     "data": {
      "image/png": "[encoded data removed]",
      "text/plain": [
       "<Figure size 432x288 with 1 Axes>"
      ]
     },
     "metadata": {
      "needs_background": "light"
     },
     "output_type": "display_data"
    }
   ],
   "source": [
    "plt.plot([i*VERBOSE for i in range(len(model.loss_list))],  rel_err_cl, label='cipherloss and plainloss')\n",
    "plt.plot([i*VERBOSE for i in range(len(model.loss_list))],  rel_err_ct, label='cipherloss and trueloss' )\n",
    "plt.plot([i*VERBOSE for i in range(len(model.loss_list))],  rel_err_lt, label='plainlosses')\n",
    "plt.legend(loc='best')\n",
    "plt.xlabel('Epoch')\n",
    "plt.ylabel('Relative error on loss')\n",
    "plt.title('Relative error between losses')"
   ]
  },
  {
   "cell_type": "markdown",
   "metadata": {},
   "source": [
    "## Relative error between weights"
   ]
  },
  {
   "cell_type": "code",
   "execution_count": 29,
   "metadata": {},
   "outputs": [],
   "source": [
    "dwl = np.array([i.decrypt(secret_key) for i in model.weight_list])\n",
    "dbl = np.array([i.decrypt(secret_key) for i in model.bias_list]).reshape((-1,1))\n",
    "dl = np.concatenate((dwl,dbl), axis=1)\n",
    "\n",
    "ul = np.concatenate((np.array(unencrypted_model.weight_list), np.array(unencrypted_model.bias_list).reshape((-1,1))), axis=1)\n",
    "w_err = np.mean((np.abs(dl-ul)/np.abs(ul)), axis=1)"
   ]
  },
  {
   "cell_type": "code",
   "execution_count": 30,
   "metadata": {},
   "outputs": [
    {
     "data": {
      "text/plain": [
       "Text(0.5, 1.0, 'Relative error between encrypted weights and unencrypted weights')"
      ]
     },
     "execution_count": 30,
     "metadata": {},
     "output_type": "execute_result"
    },
    {
     "data": {
      "image/png": "[encoded data removed]",
      "text/plain": [
       "<Figure size 432x288 with 1 Axes>"
      ]
     },
     "metadata": {
      "needs_background": "light"
     },
     "output_type": "display_data"
    }
   ],
   "source": [
    "#plt.plot([i*VERBOSE for i in range(w_err.shape[0])],wm_err)\n",
    "plt.plot([i*VERBOSE for i in range(w_err.shape[0])],w_err)\n",
    "#plt.plot([i*VERBOSE for i in range(w_err.shape[0])],w2_err)\n",
    "\n",
    "\n",
    "plt.xlabel('Epoch')\n",
    "plt.ylabel('Relative error on weights')\n",
    "plt.title('Relative error between encrypted weights and unencrypted weights')"
   ]
  },
  {
   "cell_type": "code",
   "execution_count": 32,
   "metadata": {},
   "outputs": [],
   "source": [
    "del encrypted_X, encrypted_Y"
   ]
  },
  {
   "cell_type": "code",
   "execution_count": null,
   "metadata": {},
   "outputs": [],
   "source": []
  }
 ],
 "metadata": {
  "kernelspec": {
   "display_name": "TenSEAL",
   "language": "python",
   "name": "tenseal"
  },
  "language_info": {
   "codemirror_mode": {
    "name": "ipython",
    "version": 3
   },
   "file_extension": ".py",
   "mimetype": "text/x-python",
   "name": "python",
   "nbconvert_exporter": "python",
   "pygments_lexer": "ipython3",
   "version": "3.7.7"
  }
 },
 "nbformat": 4,
 "nbformat_minor": 4
}
