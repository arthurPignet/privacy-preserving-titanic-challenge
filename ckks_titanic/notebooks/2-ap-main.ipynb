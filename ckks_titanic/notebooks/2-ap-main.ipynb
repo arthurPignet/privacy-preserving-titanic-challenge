{
 "cells": [
  {
   "cell_type": "code",
   "execution_count": 4,
   "metadata": {},
   "outputs": [],
   "source": [
    "import time\n",
    "import os\n",
    "import sys\n",
    "import logging\n",
    "\n",
    "import numpy as np\n",
    "import tenseal as ts\n",
    "\n",
    "from sklearn.model_selection import train_test_split\n",
    "os.chdir(\"/home/apignet/homomorphic-encryption/ckks_titanic\")\n",
    "from src.features import build_features\n",
    "from models import encrypted_LR\n",
    "from models import unencrypted_LR"
   ]
  },
  {
   "cell_type": "code",
   "execution_count": 5,
   "metadata": {},
   "outputs": [],
   "source": [
    "%load_ext memory_profiler"
   ]
  },
  {
   "cell_type": "code",
   "execution_count": 6,
   "metadata": {},
   "outputs": [
    {
     "data": {
      "text/plain": [
       "1"
      ]
     },
     "execution_count": 6,
     "metadata": {},
     "output_type": "execute_result"
    }
   ],
   "source": [
    "import matplotlib.pyplot as plt\n",
    "%matplotlib inline\n",
    "1"
   ]
  },
  {
   "cell_type": "markdown",
   "metadata": {},
   "source": [
    "# definition of parameters"
   ]
  },
  {
   "cell_type": "markdown",
   "metadata": {},
   "source": [
    "### Paths"
   ]
  },
  {
   "cell_type": "code",
   "execution_count": 7,
   "metadata": {},
   "outputs": [],
   "source": [
    "#DATA_PATH = \"\\\\data\\\\raw\\\\\"            # whole data set\n",
    "DATA_PATH = \"/data/quick_demo/\"   # subset of the data set, with 15 train_samples and 5 test_samples\n",
    "#DATA_PATH = \"/home/apignet/homomorphic-encryption/ckks_titanic/data/quick_demo/\"   # subset of the data set, with 400 train_samples and 50 test_samples\n",
    "LOG_PATH = \"reports/log\"\n",
    "LOG_FILENAME = \"test_0716\""
   ]
  },
  {
   "cell_type": "code",
   "execution_count": 8,
   "metadata": {},
   "outputs": [
    {
     "data": {
      "text/plain": [
       "'/home/apignet/homomorphic-encryption/ckks_titanic'"
      ]
     },
     "execution_count": 8,
     "metadata": {},
     "output_type": "execute_result"
    }
   ],
   "source": [
    "os.getcwd()"
   ]
  },
  {
   "cell_type": "markdown",
   "metadata": {},
   "source": [
    "### Log "
   ]
  },
  {
   "cell_type": "code",
   "execution_count": 9,
   "metadata": {},
   "outputs": [],
   "source": [
    "fileHandler = logging.FileHandler(\"{0}/{1}.log\".format(LOG_PATH, LOG_FILENAME))\n",
    "streamHandler = logging.StreamHandler(sys.stdout)\n",
    "logging.basicConfig(format=\"%(asctime)s  [%(levelname)-8.8s]  %(message)s\", datefmt='%m/%d/%Y %I:%M:%S %p', level = logging.DEBUG, handlers=[fileHandler, streamHandler])"
   ]
  },
  {
   "cell_type": "markdown",
   "metadata": {},
   "source": [
    "### Training variables"
   ]
  },
  {
   "cell_type": "code",
   "execution_count": 10,
   "metadata": {},
   "outputs": [],
   "source": [
    "EPOCH = 20\n",
    "LEARNING_RATE = 0.8\n",
    "REGULARIZATION_RATE = 0.5\n",
    "VERBOSE = 2\n",
    "SAVE_WEIGHT = 2\n",
    "N_JOBS = 1"
   ]
  },
  {
   "cell_type": "markdown",
   "metadata": {},
   "source": [
    "## Static functions"
   ]
  },
  {
   "cell_type": "code",
   "execution_count": 11,
   "metadata": {},
   "outputs": [],
   "source": [
    "def crytp_array(X, local_context):\n",
    "    \"\"\"\n",
    "    This function encrypt a list of vector\n",
    "    \n",
    "    :parameters \n",
    "    ------------\n",
    "    \n",
    "    :param X ; list of list, interpreted as list of vector to encrypt\n",
    "    :param local_context ; TenSEAL context object used to encrypt\n",
    "    \n",
    "    :returns\n",
    "    ------------\n",
    "    \n",
    "    list ; list of CKKS ciphertext  \n",
    "    \n",
    "    \"\"\"\n",
    "    res = []\n",
    "    for i in range(len(X)):\n",
    "        res.append(ts.ckks_vector(local_context, X[i]))\n",
    "        if i == len(X) // 4:\n",
    "            logging.info(\"25 % ...\")\n",
    "        elif i == len(X) // 2 :\n",
    "            logging.info(\"50 % ...\")\n",
    "        elif i == 3* len(X)//4:\n",
    "            logging.info(\"75% ...\")\n",
    "    return res"
   ]
  },
  {
   "cell_type": "markdown",
   "metadata": {},
   "source": [
    "### Confidential functions\n",
    "\n",
    "These functions involves security breachs (as use of unencrypted data, or decryption of weights) and cannot be coded by Alice.\n",
    "However, the functions encapslulate the unsafe process, so can be performed by Alice if Bob provides them. \n",
    "Therefore, they are currently passed as parameters to Alice, which only calls them.\n",
    "\n",
    "Currently there is a huge security breach, as confidential parameters (security key for instance), which are needed by those functions, are passed in a dictionnary to Alice. \n",
    "For a safe protocole, we have to change these functions, to set up a safe communication protocole between Bob and Alice.\n",
    "Alice will therefore only send the crypted data to Bob (using these functions, in which can be set up the communication process) and Bob will locally perform the functions which are currently coded bellow. "
   ]
  },
  {
   "cell_type": "code",
   "execution_count": 12,
   "metadata": {},
   "outputs": [],
   "source": [
    "def refresh(ciphertext, **kwarg):\n",
    "    \"\"\"\n",
    "    This function is here to refresh a ciphertext. This operation reset to 0 the calculus depth of the input ciphertext \n",
    "    WARNING :  Basically the function decryt and re-encrypt the ciphertext. \n",
    "    This is not safe, this operation needs to be done by a trusted part \n",
    "    (Bob for the perfect instance, even if it requieres communications between Alice and Bob while training)\n",
    "    \n",
    "    :parameters \n",
    "    ------------\n",
    "    \n",
    "    ciphertext ; encrypted CKKS vector \n",
    "    **kwarg ; dict, must contain context and secret_key.\n",
    "    \n",
    "    :returns\n",
    "    ------------\n",
    "    \n",
    "    ciphertext : encrypted CKKS vector \n",
    "    \n",
    "    \"\"\"\n",
    "    context = kwarg.get(\"context\", None)\n",
    "    secret_key = kwarg.get(\"secret_key\", None)\n",
    "    assert context , \"Context must be provided with the key : context\"+str(context)\n",
    "    if context.is_private():\n",
    "        return ts.ckks_vector(context, ciphertext.decrypt())\n",
    "    else : \n",
    "        if not secret_key:\n",
    "            raise AttributeError(\"The secret key is not provided and the context provided is public, decryption is not possible\")\n",
    "        else:\n",
    "            return ts.ckks_vector(context, ciphertext.decrypt(secret_key))\n",
    "   \n",
    "            \n",
    "def accuracy(crypted_weight, crypted_bias, prior_unencrypted_X = None, prior_unencrypted_Y=None, **kwarg):\n",
    "    \"\"\"\n",
    "    This function is here to compute the accuracy\n",
    "    1-NOTE : we could maybe estimate this function homomorphically, by designing an approximation of the sign function. \n",
    "    However, this kind of approximation seems really hard to set up \n",
    "    Therefore, we will not be able to use the metric, as the result is encrypted.\n",
    "    2-NOTE : this function could be parallelized, as we do not need the result for the next epoch. \n",
    "    \n",
    "    :parameters \n",
    "    ------------\n",
    "    \n",
    "    crypted_weight ; encrypted CKKS vector (size equal to the number of features)\n",
    "    crypted_bias ; encrypted CKKS vector (size 1)\n",
    "    (Optionnal) prior_unencrypted_X ; samples on which the model accuracy will be computed. \n",
    "                                If not provided, the accuracy will be computed with the data provided in the kwarg\n",
    "    (Optionnal) prior_unencrypted_Y ; labels on which the model accuracy will be computed. If not provided.\n",
    "                                If not provided, the accuracy will be computed with the data provided in the kwarg\n",
    "    **kwarg ; dict, must contain context, secret_key, (Optionnal) unencrytped_X and (Optionnal) unencrypted_Y \n",
    "    \n",
    "    :returns\n",
    "    ------------\n",
    "    \n",
    "    accuray : float (rounded to 2 digits)\n",
    "    \n",
    "    \n",
    "    \"\"\"\n",
    "    context = kwarg.get(\"context\", None)\n",
    "    if not context:\n",
    "        raise AttributeError(\"Context must be provided in the **kwarg, with the key : context\")\n",
    "    secret_key = kwarg.get(\"secret_key\", None)\n",
    "    if prior_unencrypted_X is None:\n",
    "        unencrypted_X = kwarg.get(\"unencrypted_X\", None)\n",
    "        if unencrypted_X is None:\n",
    "            raise AttributeError(\"Unencrypted samples must be provided, either in the arguments, or in the **kwarg, with the key : unencrypted_X\")\n",
    "    else:\n",
    "        unencrypted_X = np.array(prior_unencrypted_X)\n",
    "    if prior_unencrypted_Y is None:\n",
    "        unencrypted_Y = kwarg.get(\"unencrypted_Y\", None)\n",
    "        if unencrypted_Y is None:\n",
    "            raise AttributeError(\"Unencrypted labels must be provided, either in the arguments, or in the **kwarg, with the key : unencrypted_Y\")\n",
    "    else:\n",
    "        unencrypted_Y = np.array(prior_unencrypted_Y)\n",
    "    if context.is_private():\n",
    "            weight = np.array(crypted_weight.decrypt())\n",
    "            bias = np.array(crypted_bias.decrypt())\n",
    "    else : \n",
    "        if not secret_key:\n",
    "            raise AttributeError(\"The secret key is not provided and the context provided is public, decryption is not possible. Pass a private context or the secret key\")\n",
    "        else:\n",
    "            weight = np.array(crypted_weight.decrypt(secret_key))\n",
    "            bias = np.array(crypted_bias.decrypt(secret_key))\n",
    "            \n",
    "    re = unencrypted_X.dot(weight) + bias  \n",
    "    prediction = (np.float_power(re, 3)) * -0.004 + re * 0.197 + 0.5\n",
    "    print(prediction)\n",
    "    return (np.abs((unencrypted_Y-prediction.reshape(unencrypted_Y.shape))) < 0.5).astype(float).mean()\n",
    "    "
   ]
  },
  {
   "cell_type": "markdown",
   "metadata": {},
   "source": [
    "# Loading and processing the data"
   ]
  },
  {
   "cell_type": "code",
   "execution_count": 13,
   "metadata": {},
   "outputs": [
    {
     "name": "stdout",
     "output_type": "stream",
     "text": [
      "07/23/2020 08:29:41 AM  [INFO    ]  /home/apignet/homomorphic-encryption/ckks_titanic\n",
      "07/23/2020 08:29:41 AM  [INFO    ]  loading the data into memory (pandas df)\n",
      "07/23/2020 08:29:41 AM  [INFO    ]  Done\n",
      "07/23/2020 08:29:41 AM  [INFO    ]  making final data set from raw data\n",
      "07/23/2020 08:29:43 AM  [INFO    ]  Done\n",
      "peak memory: 162.61 MiB, increment: 13.75 MiB\n"
     ]
    }
   ],
   "source": [
    "%%memit\n",
    "logging.info(os.getcwd())\n",
    "raw_train, raw_test = build_features.data_import(os.getcwd()+DATA_PATH)\n",
    "train, submission_test = build_features.processing(raw_train, raw_test)\n",
    "del submission_test"
   ]
  },
  {
   "cell_type": "code",
   "execution_count": 14,
   "metadata": {},
   "outputs": [
    {
     "name": "stdout",
     "output_type": "stream",
     "text": [
      "peak memory: 162.66 MiB, increment: 0.05 MiB\n"
     ]
    }
   ],
   "source": [
    "%%memit\n",
    "train, test = train_test_split(train, test_size=0.15)\n",
    "train_labels = train.Survived\n",
    "test_labels = test.Survived\n",
    "train_features = train.drop(\"Survived\", axis=1)\n",
    "test_features = test.drop(\"Survived\", axis=1)"
   ]
  },
  {
   "cell_type": "markdown",
   "metadata": {},
   "source": [
    "# Definition of safety parameters"
   ]
  },
  {
   "cell_type": "code",
   "execution_count": 37,
   "metadata": {},
   "outputs": [
    {
     "name": "stdout",
     "output_type": "stream",
     "text": [
      "07/23/2020 08:38:40 AM  [INFO    ]  Definition of safety parameters...\n",
      "07/23/2020 08:38:40 AM  [INFO    ]  Done. 0.46 seconds\n",
      "07/23/2020 08:38:40 AM  [INFO    ]  Generation of the secret key...\n",
      "07/23/2020 08:38:40 AM  [INFO    ]  Done. 0.0 seconds\n",
      "07/23/2020 08:38:40 AM  [INFO    ]  Generation of the Galois Key...\n",
      "07/23/2020 08:38:45 AM  [INFO    ]  Done. 4.79 seconds\n",
      "07/23/2020 08:38:45 AM  [INFO    ]  Generation of the Relin Key...\n",
      "07/23/2020 08:38:45 AM  [INFO    ]  Done. 0.19 seconds\n",
      "07/23/2020 08:38:45 AM  [INFO    ]  The context is now public, the context do not hold the secret key anymore, and decrypt methods need the secret key to be provide,\n",
      "peak memory: 1462.04 MiB, increment: 525.04 MiB\n"
     ]
    }
   ],
   "source": [
    "%%memit\n",
    "logging.info('Definition of safety parameters...')\n",
    "timer = time.time()\n",
    "# context = ts.context(ts.SCHEME_TYPE.CKKS, 32768,\n",
    "# coeff_mod_bit_sizes=[60, 40, 40, 40, 40, 40, 40, 40, 40, 40, 40, 40, 40, 40, 40, 60])\n",
    "#context = ts.context(ts.SCHEME_TYPE.CKKS, 8192, coeff_mod_bit_sizes=[40, 21, 21, 21, 21, 21, 21, 40])\n",
    "\n",
    "context = ts.context(ts.SCHEME_TYPE.CKKS, 16384, coeff_mod_bit_sizes=[60, 40, 40, 40, 40, 40, 40, 40, 60])\n",
    "context.global_scale = pow(2, 40)\n",
    "logging.info(\"Done. \" + str(round(time.time() - timer, 2)) + \" seconds\")\n",
    "\n",
    "\n",
    "logging.info('Generation of the secret key...')\n",
    "timer = time.time()\n",
    "secret_key = context.secret_key()\n",
    "context.make_context_public() #drop the relin keys, the galois keys, and the secret keys. \n",
    "logging.info(\"Done. \" + str(round(time.time() - timer, 2)) + \" seconds\")\n",
    "logging.info('Generation of the Galois Key...')\n",
    "timer = time.time()\n",
    "context.generate_galois_keys(secret_key)\n",
    "logging.info(\"Done. \" + str(round(time.time() - timer, 2)) + \" seconds\")\n",
    "logging.info('Generation of the Relin Key...')\n",
    "timer = time.time()\n",
    "context.generate_relin_keys(secret_key)\n",
    "logging.info(\"Done. \" + str(round(time.time() - timer, 2)) + \" seconds\")\n",
    "if context.is_public():\n",
    "    logging.info(\"The context is now public, the context do not hold the secret key anymore, and decrypt methods need the secret key to be provide,\")\n",
    "\n"
   ]
  },
  {
   "cell_type": "markdown",
   "metadata": {},
   "source": [
    "# Data encryption"
   ]
  },
  {
   "cell_type": "code",
   "execution_count": 38,
   "metadata": {},
   "outputs": [
    {
     "name": "stdout",
     "output_type": "stream",
     "text": [
      "07/23/2020 08:38:56 AM  [INFO    ]  Data encryption...\n",
      "07/23/2020 08:38:56 AM  [INFO    ]  25 % ...\n",
      "07/23/2020 08:38:56 AM  [INFO    ]  50 % ...\n",
      "07/23/2020 08:38:56 AM  [INFO    ]  75% ...\n",
      "07/23/2020 08:38:57 AM  [INFO    ]  25 % ...\n",
      "07/23/2020 08:38:57 AM  [INFO    ]  50 % ...\n",
      "07/23/2020 08:38:57 AM  [INFO    ]  75% ...\n",
      "07/23/2020 08:38:57 AM  [INFO    ]  25 % ...\n",
      "07/23/2020 08:38:57 AM  [INFO    ]  50 % ...\n",
      "07/23/2020 08:38:57 AM  [INFO    ]  25 % ...\n",
      "07/23/2020 08:38:57 AM  [INFO    ]  50 % ...\n",
      "07/23/2020 08:38:57 AM  [INFO    ]  Done. 0.82 seconds\n",
      "peak memory: 1468.04 MiB, increment: 6.00 MiB\n"
     ]
    }
   ],
   "source": [
    "%%memit\n",
    "logging.info(\"Data encryption...\")\n",
    "timer = time.time()\n",
    "encrypted_X = crytp_array(train_features.to_numpy(), context)\n",
    "encrypted_Y = crytp_array(train_labels.to_numpy().reshape((-1, 1)), context)\n",
    "encrypted_test_X = crytp_array(test_features.to_numpy(), context)\n",
    "encrypted_test_Y = crytp_array(test_labels.to_numpy().reshape((-1, 1)), context)\n",
    "logging.info(\"Done. \" + str(round(time.time() - timer, 2)) + \" seconds\")"
   ]
  },
  {
   "cell_type": "markdown",
   "metadata": {},
   "source": [
    "# Initialize the weight\n",
    "\n",
    "The weights have to be crypted "
   ]
  },
  {
   "cell_type": "code",
   "execution_count": 39,
   "metadata": {},
   "outputs": [
    {
     "name": "stdout",
     "output_type": "stream",
     "text": [
      "07/23/2020 08:39:01 AM  [INFO    ]  [ 0.02185282 -0.18716308 -0.09431521 -0.05827752 -0.08814106  0.13739476\n",
      "  0.26155794  0.01930372 -0.09061397 -0.39584732  0.140819   -0.15038426\n",
      "  0.11227191  0.2343604   0.27865725 -0.21182937 -0.02901022  0.16364484\n",
      "  0.09936007 -0.10673712  0.47387126  0.12257005 -0.0742602   0.10368004\n",
      " -0.27597397  0.20590621  0.2250719  -0.26545796 -0.24903764  0.16741278\n",
      "  0.04004065]\n",
      "07/23/2020 08:39:01 AM  [INFO    ]  [ 0.03757165  0.19920334  0.1185711  -0.05208609 -0.43393707 -0.32532253\n",
      " -0.141818   -0.03166219 -0.04989633  0.15551812  0.04407847  0.07755225\n",
      " -0.11074074  0.05590777  0.08525554 -0.19880057  0.26405341 -0.05357474\n",
      "  0.24161234  0.41214676 -0.22008116  0.21101304  0.18928008  0.39407312\n",
      " -0.14935762  0.057345   -0.19319326 -0.0782555  -0.14035421 -0.0094159\n",
      "  0.12227357]\n",
      "peak memory: 1468.04 MiB, increment: 0.00 MiB\n"
     ]
    }
   ],
   "source": [
    "%%memit\n",
    "unencrypted_weight = np.random.normal(loc=0,\n",
    "                                      scale=0.2, size =(train_features.to_numpy().shape[1]))\n",
    "logging.info(unencrypted_weight)\n",
    "weight = ts.ckks_vector(context, unencrypted_weight)\n",
    "unencrypted_weight = np.array(unencrypted_weight)\n",
    "unencrypted_bias = np.random.random((1))\n",
    "bias = ts.ckks_vector(context, unencrypted_bias)\n",
    "unencrypted_bias = np.array(unencrypted_bias)"
   ]
  },
  {
   "cell_type": "markdown",
   "metadata": {},
   "source": [
    "The confidential data as yet stored into a dictionnary, and will be used during the training only by functions which are passed as arguments to the fit methods. This encapsulation of sensitive data will allows us to ensure security during training later. "
   ]
  },
  {
   "cell_type": "code",
   "execution_count": 40,
   "metadata": {},
   "outputs": [
    {
     "name": "stdout",
     "output_type": "stream",
     "text": [
      "peak memory: 1468.04 MiB, increment: 0.00 MiB\n"
     ]
    }
   ],
   "source": [
    "%%memit\n",
    "confidential_data = {'context':context,\n",
    "                     'secret_key':secret_key, \n",
    "                     'unencrypted_X':train_features.to_numpy(),\n",
    "                     'unencrypted_Y':train_labels.to_numpy().reshape((-1, 1)) \n",
    "                    }"
   ]
  },
  {
   "cell_type": "code",
   "execution_count": 42,
   "metadata": {},
   "outputs": [
    {
     "data": {
      "text/plain": [
       "<_tenseal_cpp.CKKSVector at 0x7fba1bfe28f0>"
      ]
     },
     "execution_count": 42,
     "metadata": {},
     "output_type": "execute_result"
    }
   ],
   "source": [
    "weight.dot(weight)"
   ]
  },
  {
   "cell_type": "markdown",
   "metadata": {},
   "source": [
    "# Training the crypted model"
   ]
  },
  {
   "cell_type": "code",
   "execution_count": 43,
   "metadata": {},
   "outputs": [
    {
     "name": "stdout",
     "output_type": "stream",
     "text": [
      "07/23/2020 08:39:32 AM  [INFO    ]  Model initialization\n"
     ]
    }
   ],
   "source": [
    "logging.info(\"Model initialization\")\n",
    "model = encrypted_LR.LogisticRegressionHE(init_weight=weight,\n",
    "                                          init_bias=bias,\n",
    "                                          refresh_function=refresh, \n",
    "                                          confidential_kwarg=confidential_data,\n",
    "                                          accuracy=accuracy,\n",
    "                                          verbose=VERBOSE,\n",
    "                                          save_weight=SAVE_WEIGHT,\n",
    "                                          max_epoch=EPOCH,\n",
    "                                          lr=LEARNING_RATE,\n",
    "                                          reg_para=REGULARIZATION_RATE,\n",
    "                                          n_jobs = N_JOBS)"
   ]
  },
  {
   "cell_type": "code",
   "execution_count": 44,
   "metadata": {},
   "outputs": [
    {
     "name": "stdout",
     "output_type": "stream",
     "text": [
      "07/23/2020 08:39:37 AM  [INFO    ]  Training starting\n",
      "07/23/2020 08:39:46 AM  [INFO    ]  Just finished iteration number 1 \n",
      "07/23/2020 08:39:49 AM  [INFO    ]  Loss : <_tenseal_cpp.CKKSVector object at 0x7fba1bbc35a8>.\n",
      "07/23/2020 08:40:06 AM  [INFO    ]  Just finished iteration number 3 \n",
      "07/23/2020 08:40:09 AM  [INFO    ]  Loss : <_tenseal_cpp.CKKSVector object at 0x7fba1bbe2848>.\n",
      "07/23/2020 08:40:26 AM  [INFO    ]  Just finished iteration number 5 \n",
      "07/23/2020 08:40:30 AM  [INFO    ]  Loss : <_tenseal_cpp.CKKSVector object at 0x7fba1bbe2458>.\n",
      "07/23/2020 08:40:47 AM  [INFO    ]  Just finished iteration number 7 \n",
      "07/23/2020 08:40:50 AM  [INFO    ]  Loss : <_tenseal_cpp.CKKSVector object at 0x7fba1bbe2030>.\n",
      "07/23/2020 08:41:07 AM  [INFO    ]  Just finished iteration number 9 \n",
      "07/23/2020 08:41:11 AM  [INFO    ]  Loss : <_tenseal_cpp.CKKSVector object at 0x7fba1bffa5e0>.\n",
      "07/23/2020 08:41:28 AM  [INFO    ]  Just finished iteration number 11 \n",
      "07/23/2020 08:41:31 AM  [INFO    ]  Loss : <_tenseal_cpp.CKKSVector object at 0x7fba1bbc3f10>.\n",
      "07/23/2020 08:41:48 AM  [INFO    ]  Just finished iteration number 13 \n",
      "07/23/2020 08:41:51 AM  [INFO    ]  Loss : <_tenseal_cpp.CKKSVector object at 0x7fba1bbc3e30>.\n",
      "07/23/2020 08:42:08 AM  [INFO    ]  Just finished iteration number 15 \n",
      "07/23/2020 08:42:12 AM  [INFO    ]  Loss : <_tenseal_cpp.CKKSVector object at 0x7fba1c56cce0>.\n",
      "07/23/2020 08:42:28 AM  [INFO    ]  Just finished iteration number 17 \n",
      "07/23/2020 08:42:32 AM  [INFO    ]  Loss : <_tenseal_cpp.CKKSVector object at 0x7fba1c56cc00>.\n",
      "07/23/2020 08:42:49 AM  [INFO    ]  Just finished iteration number 19 \n",
      "07/23/2020 08:42:52 AM  [INFO    ]  Loss : <_tenseal_cpp.CKKSVector object at 0x7fba1bbe2688>.\n",
      " 07/23/2020 08:43:01 AM  [INFO    ]  Training done. 204.0 seconds\n"
     ]
    },
    {
     "data": {
      "text/plain": [
       "         4631 function calls in 203.878 seconds\n",
       "\n",
       "   Ordered by: internal time\n",
       "\n",
       "   ncalls  tottime  percall  cumtime  percall filename:lineno(function)\n",
       "      160  116.319    0.727  143.454    0.897 encrypted_LR.py:137(forward)\n",
       "      160   27.135    0.170   27.135    0.170 encrypted_LR.py:117(sigmoid)\n",
       "      160   23.303    0.146   23.303    0.146 encrypted_LR.py:151(backward)\n",
       "      160   20.250    0.127   20.250    0.127 encrypted_LR.py:132(__log)\n",
       "       10   12.520    1.252   33.610    3.361 encrypted_LR.py:77(loss)\n",
       "       60    2.294    0.038    2.294    0.038 __init__.py:25(ckks_vector)\n",
       "        1    1.560    1.560  203.878  203.878 encrypted_LR.py:198(fit)\n",
       "       60    0.434    0.007    2.729    0.045 <ipython-input-12-684b9bb3c833>:1(refresh)\n",
       "       80    0.048    0.001    0.048    0.001 socket.py:337(send)\n",
       "      160    0.003    0.000  166.760    1.042 encrypted_LR.py:186(forward_backward)\n",
       "       20    0.001    0.000  166.762    8.338 encrypted_LR.py:229(<listcomp>)\n",
       "      160    0.001    0.000  166.761    1.042 encrypted_LR.py:176(_forward_backward_wrapper)\n",
       "       20    0.001    0.000    0.001    0.000 {method 'flush' of '_io.TextIOWrapper' objects}\n",
       "       20    0.001    0.000    0.002    0.000 __init__.py:293(__init__)\n",
       "      160    0.001    0.000    0.001    0.000 encrypted_LR.py:130(<listcomp>)\n",
       "       60    0.001    0.000    2.729    0.045 encrypted_LR.py:69(refresh)\n",
       "      160    0.001    0.000    0.001    0.000 encrypted_LR.py:135(<listcomp>)\n",
       "       80    0.000    0.000    0.049    0.001 iostream.py:195(schedule)\n",
       "       40    0.000    0.000    0.000    0.000 {built-in method time.localtime}\n",
       "       20    0.000    0.000    0.044    0.002 iostream.py:334(flush)\n",
       "       20    0.000    0.000    0.000    0.000 threading.py:216(__init__)\n",
       "       20    0.000    0.000    0.001    0.000 __init__.py:1451(findCaller)\n",
       "       40    0.000    0.000    0.000    0.000 {built-in method time.strftime}\n",
       "      100    0.000    0.000    0.000    0.000 threading.py:1080(is_alive)\n",
       "       40    0.000    0.000    0.053    0.001 __init__.py:1022(emit)\n",
       "       40    0.000    0.000    0.001    0.000 __init__.py:606(format)\n",
       "       40    0.000    0.000    0.046    0.001 __init__.py:1011(flush)\n",
       "      190    0.000    0.000    0.000    0.000 {method 'append' of 'list' objects}\n",
       "       20    0.000    0.000    0.057    0.003 __init__.py:1373(info)\n",
       "       20    0.000    0.000    0.054    0.003 __init__.py:1575(callHandlers)\n",
       "       20    0.000    0.000    0.006    0.000 iostream.py:382(write)\n",
       "       40    0.000    0.000    0.054    0.001 __init__.py:892(handle)\n",
       "       20    0.000    0.000    0.056    0.003 __init__.py:1496(_log)\n",
       "       40    0.000    0.000    0.000    0.000 __init__.py:432(format)\n",
       "       80    0.000    0.000    0.000    0.000 iostream.py:93(_event_pipe)\n",
       "       20    0.000    0.000    0.000    0.000 posixpath.py:144(basename)\n",
       "       40    0.000    0.000    0.000    0.000 {built-in method posix.getpid}\n",
       "      100    0.000    0.000    0.000    0.000 {method 'acquire' of '_thread.lock' objects}\n",
       "       20    0.000    0.000    0.000    0.000 {built-in method sys._getframe}\n",
       "       20    0.000    0.000    0.002    0.000 __init__.py:1481(makeRecord)\n",
       "      100    0.000    0.000    0.000    0.000 threading.py:1038(_wait_for_tstate_lock)\n",
       "       20    0.000    0.000    0.054    0.003 __init__.py:1521(handle)\n",
       "       20    0.000    0.000    0.000    0.000 threading.py:499(__init__)\n",
       "       60    0.000    0.000    0.000    0.000 {method 'rfind' of 'str' objects}\n",
       "      160    0.000    0.000    0.000    0.000 {method 'get' of 'dict' objects}\n",
       "       80    0.000    0.000    0.000    0.000 __init__.py:856(release)\n",
       "       20    0.000    0.000    0.000    0.000 posixpath.py:52(normcase)\n",
       "       20    0.000    0.000    0.000    0.000 posixpath.py:121(splitext)\n",
       "       20    0.000    0.000    0.000    0.000 __init__.py:1619(isEnabledFor)\n",
       "       20    0.000    0.000    0.000    0.000 __init__.py:154(<lambda>)\n",
       "       81    0.000    0.000    0.000    0.000 {method 'acquire' of '_thread.RLock' objects}\n",
       "       40    0.000    0.000    0.001    0.000 __init__.py:539(formatTime)\n",
       "       20    0.000    0.000    0.000    0.000 {method 'write' of '_io.TextIOWrapper' objects}\n",
       "       60    0.000    0.000    0.000    0.000 __init__.py:747(filter)\n",
       "       80    0.000    0.000    0.000    0.000 __init__.py:849(acquire)\n",
       "       80    0.000    0.000    0.000    0.000 {built-in method builtins.hasattr}\n",
       "       40    0.000    0.000    0.000    0.000 __init__.py:429(usesTime)\n",
       "       20    0.000    0.000    0.000    0.000 genericpath.py:117(_splitext)\n",
       "       20    0.000    0.000    0.000    0.000 threading.py:1214(current_thread)\n",
       "       80    0.000    0.000    0.000    0.000 {built-in method builtins.isinstance}\n",
       "       40    0.000    0.000    0.001    0.000 __init__.py:869(format)\n",
       "       40    0.000    0.000    0.000    0.000 __init__.py:371(getMessage)\n",
       "       60    0.000    0.000    0.000    0.000 {built-in method posix.fspath}\n",
       "        1    0.000    0.000  203.878  203.878 {built-in method builtins.exec}\n",
       "       20    0.000    0.000    0.002    0.000 __init__.py:1123(emit)\n",
       "       40    0.000    0.000    0.000    0.000 __init__.py:584(usesTime)\n",
       "       21    0.000    0.000    0.000    0.000 {built-in method builtins.len}\n",
       "       20    0.000    0.000    0.002    0.000 iostream.py:320(_schedule_flush)\n",
       "       20    0.000    0.000    0.000    0.000 __init__.py:117(getLevelName)\n",
       "       20    0.000    0.000    0.000    0.000 threading.py:534(wait)\n",
       "       40    0.000    0.000    0.000    0.000 {method 'find' of 'str' objects}\n",
       "       20    0.000    0.000    0.000    0.000 {built-in method _thread.allocate_lock}\n",
       "        1    0.000    0.000  203.878  203.878 <string>:1(<module>)\n",
       "       20    0.000    0.000    0.000    0.000 iostream.py:307(_is_master_process)\n",
       "       20    0.000    0.000    0.000    0.000 threading.py:1052(name)\n",
       "      100    0.000    0.000    0.000    0.000 threading.py:507(is_set)\n",
       "       20    0.000    0.000    0.000    0.000 {built-in method time.time}\n",
       "       40    0.000    0.000    0.000    0.000 __init__.py:590(formatMessage)\n",
       "       20    0.000    0.000    0.000    0.000 posixpath.py:41(_get_sep)\n",
       "       80    0.000    0.000    0.000    0.000 {method 'append' of 'collections.deque' objects}\n",
       "       20    0.000    0.000    0.000    0.000 process.py:36(current_process)\n",
       "       40    0.000    0.000    0.000    0.000 {built-in method _thread.get_ident}\n",
       "       81    0.000    0.000    0.000    0.000 {method 'release' of '_thread.RLock' objects}\n",
       "       20    0.000    0.000    0.000    0.000 process.py:180(name)\n",
       "       20    0.000    0.000    0.000    0.000 {built-in method _imp.lock_held}\n",
       "       20    0.000    0.000    0.000    0.000 threading.py:243(__exit__)\n",
       "       20    0.000    0.000    0.000    0.000 threading.py:240(__enter__)\n",
       "        1    0.000    0.000    0.000    0.000 __init__.py:212(_acquireLock)\n",
       "        1    0.000    0.000    0.000    0.000 __init__.py:1605(getEffectiveLevel)\n",
       "       20    0.000    0.000    0.000    0.000 {method '__exit__' of '_thread.lock' objects}\n",
       "       20    0.000    0.000    0.000    0.000 {method '__enter__' of '_thread.lock' objects}\n",
       "        1    0.000    0.000    0.000    0.000 encrypted_LR.py:207(<listcomp>)\n",
       "        1    0.000    0.000    0.000    0.000 __init__.py:221(_releaseLock)\n",
       "        1    0.000    0.000    0.000    0.000 {method 'disable' of '_lsprof.Profiler' objects}"
      ]
     },
     "metadata": {},
     "output_type": "display_data"
    }
   ],
   "source": [
    "logging.info(\"Training starting\")\n",
    "timer=time.time()\n",
    "%prun model.fit(encrypted_X, encrypted_Y)\n",
    "logging.info(\"Training done. \" + str(round(time.time() - timer, 0)) + \" seconds\")"
   ]
  },
  {
   "cell_type": "markdown",
   "metadata": {},
   "source": [
    "# Accuracy"
   ]
  },
  {
   "cell_type": "code",
   "execution_count": 45,
   "metadata": {},
   "outputs": [
    {
     "name": "stdout",
     "output_type": "stream",
     "text": [
      "[0.01397769 0.51593743]\n",
      "[0. 1.]\n",
      "07/23/2020 08:43:46 AM  [INFO    ]  Accuracy of encrypted model : 1.0 \n"
     ]
    }
   ],
   "source": [
    "acc = model.accuracy(unencrypted_X=test_features.to_numpy(), unencrypted_Y=test_labels.to_numpy().reshape((-1, 1)))\n",
    "print(test_labels.to_numpy())\n",
    "logging.info(\"Accuracy of encrypted model : %s \" % acc)"
   ]
  },
  {
   "cell_type": "markdown",
   "metadata": {},
   "source": [
    "# Training the unencrypted model"
   ]
  },
  {
   "cell_type": "code",
   "execution_count": 46,
   "metadata": {},
   "outputs": [
    {
     "name": "stdout",
     "output_type": "stream",
     "text": [
      "07/23/2020 08:43:50 AM  [INFO    ]  Model initialization\n"
     ]
    }
   ],
   "source": [
    "logging.info(\"Model initialization\")\n",
    "unencrypted_model = unencrypted_LR.LogisticRegression(init_weight=unencrypted_weight,\n",
    "                                                      init_bias=unencrypted_bias,\n",
    "                                                      verbose=VERBOSE,\n",
    "                                                      save_weight= SAVE_WEIGHT,\n",
    "                                                      max_epoch=EPOCH,\n",
    "                                                      lr=LEARNING_RATE,\n",
    "                                                      reg_para=REGULARIZATION_RATE,\n",
    "                                                      n_jobs = N_JOBS)"
   ]
  },
  {
   "cell_type": "code",
   "execution_count": 47,
   "metadata": {},
   "outputs": [
    {
     "name": "stdout",
     "output_type": "stream",
     "text": [
      "07/23/2020 08:44:01 AM  [INFO    ]  Training starting\n",
      "07/23/2020 08:44:01 AM  [INFO    ]  Just finished iteration number 1 \n",
      "07/23/2020 08:44:01 AM  [INFO    ]  Loss : 5.295814368806415.\n",
      "07/23/2020 08:44:01 AM  [INFO    ]  Just finished iteration number 3 \n",
      "07/23/2020 08:44:01 AM  [INFO    ]  Loss : 3.8284886401709883.\n",
      "07/23/2020 08:44:01 AM  [INFO    ]  Just finished iteration number 5 \n",
      "07/23/2020 08:44:01 AM  [INFO    ]  Loss : 3.342486560747898.\n",
      "07/23/2020 08:44:01 AM  [INFO    ]  Just finished iteration number 7 \n",
      "07/23/2020 08:44:01 AM  [INFO    ]  Loss : 3.1082816995152744.\n",
      "07/23/2020 08:44:01 AM  [INFO    ]  Just finished iteration number 9 \n",
      "07/23/2020 08:44:01 AM  [INFO    ]  Loss : 2.977005168206513.\n",
      "07/23/2020 08:44:01 AM  [INFO    ]  Just finished iteration number 11 \n",
      "07/23/2020 08:44:01 AM  [INFO    ]  Loss : 2.892732651065445.\n",
      "07/23/2020 08:44:01 AM  [INFO    ]  Just finished iteration number 13 \n",
      "07/23/2020 08:44:01 AM  [INFO    ]  Loss : 2.8330063231510385.\n",
      "07/23/2020 08:44:01 AM  [INFO    ]  Just finished iteration number 15 \n",
      "07/23/2020 08:44:01 AM  [INFO    ]  Loss : 2.7883030446264145.\n",
      "07/23/2020 08:44:01 AM  [INFO    ]  Just finished iteration number 17 \n",
      "07/23/2020 08:44:01 AM  [INFO    ]  Loss : 2.7539898651542583.\n",
      "07/23/2020 08:44:01 AM  [INFO    ]  Just finished iteration number 19 \n",
      "07/23/2020 08:44:01 AM  [INFO    ]  Loss : 2.72736671474788.\n",
      "07/23/2020 08:44:01 AM  [INFO    ]  Training done. 0.0 seconds\n"
     ]
    }
   ],
   "source": [
    "logging.info(\"Training starting\")\n",
    "timer=time.time()\n",
    "unencrypted_model.fit(train_features.to_numpy(), train_labels.to_numpy().reshape((-1, 1)))\n",
    "logging.info(\"Training done. \" + str(round(time.time() - timer, 0)) + \" seconds\")"
   ]
  },
  {
   "cell_type": "code",
   "execution_count": 48,
   "metadata": {},
   "outputs": [
    {
     "name": "stdout",
     "output_type": "stream",
     "text": [
      "07/23/2020 08:44:04 AM  [INFO    ]  Accuracy of unencrypted model : 1.0 \n"
     ]
    }
   ],
   "source": [
    "acc = unencrypted_model.accuracy(test_features.to_numpy(), test_labels.to_numpy().reshape((-1, 1)))\n",
    "logging.info(\"Accuracy of unencrypted model : %s \" % acc)"
   ]
  },
  {
   "cell_type": "markdown",
   "metadata": {},
   "source": [
    "# Figures"
   ]
  },
  {
   "cell_type": "markdown",
   "metadata": {},
   "source": [
    "## encrypted and unencrypted losses "
   ]
  },
  {
   "cell_type": "code",
   "execution_count": 55,
   "metadata": {},
   "outputs": [
    {
     "data": {
      "text/plain": [
       "<matplotlib.legend.Legend at 0x7fba10bd8908>"
      ]
     },
     "execution_count": 55,
     "metadata": {},
     "output_type": "execute_result"
    },
    {
     "name": "stdout",
     "output_type": "stream",
     "text": [
      "07/23/2020 08:52:19 AM  [DEBUG   ]  update_title_pos\n",
      "07/23/2020 08:52:19 AM  [DEBUG   ]  update_title_pos\n",
      "07/23/2020 08:52:19 AM  [DEBUG   ]  update_title_pos\n",
      "07/23/2020 08:52:19 AM  [DEBUG   ]  update_title_pos\n",
      "07/23/2020 08:52:19 AM  [DEBUG   ]  update_title_pos\n"
     ]
    },
    {
     "data": {
      "image/png": "[encoded data removed]",
      "text/plain": [
       "<Figure size 432x288 with 1 Axes>"
      ]
     },
     "metadata": {
      "needs_background": "light"
     },
     "output_type": "display_data"
    }
   ],
   "source": [
    "plt.plot([i*VERBOSE for i in range(len(model.loss_list))], [i.decrypt(secret_key)[0] for i in model.loss_list], label='cipherloss')\n",
    "plt.plot([i*VERBOSE for i in range(len(unencrypted_model.loss_list))], unencrypted_model.loss_list, label='plainloss')\n",
    "plt.plot([i*VERBOSE for i in range(len(unencrypted_model.true_loss_list))], unencrypted_model.true_loss_list, label='True plainloss')\n",
    "plt.xlabel('Epoch')\n",
    "plt.ylabel('Loss')\n",
    "plt.title('Losses evolution of both models')\n",
    "plt.legend(loc='best')"
   ]
  },
  {
   "cell_type": "markdown",
   "metadata": {},
   "source": [
    "## Unencrypted loss"
   ]
  },
  {
   "cell_type": "code",
   "execution_count": 56,
   "metadata": {},
   "outputs": [
    {
     "data": {
      "text/plain": [
       "Text(0.5, 1.0, 'Loss evolution of unencrypted model')"
      ]
     },
     "execution_count": 56,
     "metadata": {},
     "output_type": "execute_result"
    },
    {
     "name": "stdout",
     "output_type": "stream",
     "text": [
      "07/23/2020 08:52:22 AM  [DEBUG   ]  update_title_pos\n",
      "07/23/2020 08:52:22 AM  [DEBUG   ]  update_title_pos\n",
      "07/23/2020 08:52:22 AM  [DEBUG   ]  update_title_pos\n",
      "07/23/2020 08:52:22 AM  [DEBUG   ]  update_title_pos\n",
      "07/23/2020 08:52:22 AM  [DEBUG   ]  update_title_pos\n"
     ]
    },
    {
     "data": {
      "image/png": "[encoded data removed]",
      "text/plain": [
       "<Figure size 432x288 with 1 Axes>"
      ]
     },
     "metadata": {
      "needs_background": "light"
     },
     "output_type": "display_data"
    }
   ],
   "source": [
    "plt.plot([i*VERBOSE for i in range(len(unencrypted_model.loss_list))], np.array(unencrypted_model.loss_list).reshape((-1)))\n",
    "plt.xlabel('Epoch')\n",
    "plt.ylabel('Loss')\n",
    "plt.title('Loss evolution of unencrypted model')"
   ]
  },
  {
   "cell_type": "code",
   "execution_count": 57,
   "metadata": {},
   "outputs": [
    {
     "data": {
      "text/plain": [
       "[4.216965164868728,\n",
       " 3.1750170980023076,\n",
       " 2.729302037286492,\n",
       " 2.4948831094840678,\n",
       " 2.3644760598277976,\n",
       " 2.2895960088160225,\n",
       " 2.2453673530867198,\n",
       " 2.218478977510577,\n",
       " 2.2016277801402593,\n",
       " 2.190720939186728]"
      ]
     },
     "execution_count": 57,
     "metadata": {},
     "output_type": "execute_result"
    }
   ],
   "source": [
    "unencrypted_model.true_loss_list"
   ]
  },
  {
   "cell_type": "markdown",
   "metadata": {},
   "source": [
    "# Errors"
   ]
  },
  {
   "cell_type": "markdown",
   "metadata": {},
   "source": [
    "## Relative error between losses"
   ]
  },
  {
   "cell_type": "code",
   "execution_count": 114,
   "metadata": {},
   "outputs": [],
   "source": [
    "decrypted = [i.decrypt(secret_key) for i in model.loss_list]\n",
    "true_err_cl = np.abs(np.array(decrypted) - np.array(unencrypted_model.loss_list))\n",
    "rel_err_cl = true_err_cl/np.abs(decrypted)\n",
    "true_err_ct = np.abs(np.array(decrypted) - np.array(unencrypted_model.true_loss_list))\n",
    "rel_err_ct = true_err_ct/np.abs(decrypted)\n",
    "true_err_lt = np.abs(np.array(unencrypted_model.loss_list) - np.array(unencrypted_model.true_loss_list))\n",
    "rel_err_lt = true_err_lt/np.abs(unencrypted_model.true_loss_list)\n"
   ]
  },
  {
   "cell_type": "code",
   "execution_count": 115,
   "metadata": {},
   "outputs": [
    {
     "data": {
      "text/plain": [
       "[[0.934995704004468],\n",
       " [0.8337800771265114],\n",
       " [0.8582740557037536],\n",
       " [0.9087883136657621],\n",
       " [0.9626226821242098],\n",
       " [1.0113145466694848],\n",
       " [1.0523138186333885],\n",
       " [1.0855783283313232],\n",
       " [1.1119945021230766],\n",
       " [1.1326892845900927]]"
      ]
     },
     "execution_count": 115,
     "metadata": {},
     "output_type": "execute_result"
    }
   ],
   "source": [
    "decrypted"
   ]
  },
  {
   "cell_type": "code",
   "execution_count": 116,
   "metadata": {},
   "outputs": [
    {
     "data": {
      "text/plain": [
       "[5.295814368806415,\n",
       " 3.8284886401709883,\n",
       " 3.342486560747898,\n",
       " 3.1082816995152744,\n",
       " 2.977005168206513,\n",
       " 2.892732651065445,\n",
       " 2.8330063231510385,\n",
       " 2.7883030446264145,\n",
       " 2.7539898651542583,\n",
       " 2.72736671474788]"
      ]
     },
     "execution_count": 116,
     "metadata": {},
     "output_type": "execute_result"
    }
   ],
   "source": [
    "unencrypted_model.loss_list"
   ]
  },
  {
   "cell_type": "markdown",
   "metadata": {},
   "source": [
    "## Relative error between weights"
   ]
  },
  {
   "cell_type": "code",
   "execution_count": 117,
   "metadata": {},
   "outputs": [
    {
     "data": {
      "text/plain": [
       "Text(0.5, 1.0, 'Relative error between losses')"
      ]
     },
     "execution_count": 117,
     "metadata": {},
     "output_type": "execute_result"
    },
    {
     "name": "stdout",
     "output_type": "stream",
     "text": [
      "07/23/2020 09:25:33 AM  [DEBUG   ]  update_title_pos\n",
      "07/23/2020 09:25:33 AM  [DEBUG   ]  update_title_pos\n",
      "07/23/2020 09:25:33 AM  [DEBUG   ]  update_title_pos\n",
      "07/23/2020 09:25:33 AM  [DEBUG   ]  update_title_pos\n",
      "07/23/2020 09:25:33 AM  [DEBUG   ]  update_title_pos\n"
     ]
    },
    {
     "data": {
      "image/png": "[encoded data removed]",
      "text/plain": [
       "<Figure size 432x288 with 1 Axes>"
      ]
     },
     "metadata": {
      "needs_background": "light"
     },
     "output_type": "display_data"
    }
   ],
   "source": [
    "plt.plot([i*VERBOSE for i in range(len(model.loss_list))],  rel_err_cl, label='cipherloss and plainloss')\n",
    "plt.plot([i*VERBOSE for i in range(len(model.loss_list))],  rel_err_ct, label='cipherloss and trueloss' )\n",
    "plt.plot([i*VERBOSE for i in range(len(model.loss_list))],  rel_err_lt, label='plainlosses')\n",
    "\n",
    "plt.xlabel('Epoch')\n",
    "plt.ylabel('Relative error on loss')\n",
    "plt.title('Relative error between losses')"
   ]
  },
  {
   "cell_type": "code",
   "execution_count": 107,
   "metadata": {},
   "outputs": [],
   "source": [
    "dwl = np.array([i.decrypt(secret_key) for i in model.weight_list])\n",
    "dbl = np.array([i.decrypt(secret_key) for i in model.bias_list]).reshape((-1,1))\n",
    "dl = np.concatenate((dwl,dbl), axis=1)\n",
    "\n",
    "ul = np.concatenate((np.array(unencrypted_model.weight_list), np.array(unencrypted_model.bias_list).reshape((-1,1))), axis=1)\n",
    "w_err = np.mean((np.abs(dl-ul)/np.abs(ul)), axis=1)"
   ]
  },
  {
   "cell_type": "code",
   "execution_count": 111,
   "metadata": {},
   "outputs": [
    {
     "data": {
      "text/plain": [
       "Text(0.5, 1.0, 'Relative error between encrypted weights and unencrypted weights')"
      ]
     },
     "execution_count": 111,
     "metadata": {},
     "output_type": "execute_result"
    },
    {
     "name": "stdout",
     "output_type": "stream",
     "text": [
      "07/23/2020 09:23:55 AM  [DEBUG   ]  update_title_pos\n",
      "07/23/2020 09:23:55 AM  [DEBUG   ]  update_title_pos\n",
      "07/23/2020 09:23:55 AM  [DEBUG   ]  update_title_pos\n",
      "07/23/2020 09:23:55 AM  [DEBUG   ]  update_title_pos\n",
      "07/23/2020 09:23:55 AM  [DEBUG   ]  update_title_pos\n"
     ]
    },
    {
     "data": {
      "image/png": "[encoded data removed]",
      "text/plain": [
       "<Figure size 432x288 with 1 Axes>"
      ]
     },
     "metadata": {
      "needs_background": "light"
     },
     "output_type": "display_data"
    }
   ],
   "source": [
    "plt.plot([i*VERBOSE for i in range(w_err.shape[0])],w_err)\n",
    "plt.xlabel('Epoch')\n",
    "plt.ylabel('Relative error on weights')\n",
    "plt.title('Relative error between encrypted weights and unencrypted weights')"
   ]
  }
 ],
 "metadata": {
  "kernelspec": {
   "display_name": "Python 3",
   "language": "python",
   "name": "python3"
  },
  "language_info": {
   "codemirror_mode": {
    "name": "ipython",
    "version": 3
   },
   "file_extension": ".py",
   "mimetype": "text/x-python",
   "name": "python",
   "nbconvert_exporter": "python",
   "pygments_lexer": "ipython3",
   "version": "3.7.3"
  }
 },
 "nbformat": 4,
 "nbformat_minor": 2
}
