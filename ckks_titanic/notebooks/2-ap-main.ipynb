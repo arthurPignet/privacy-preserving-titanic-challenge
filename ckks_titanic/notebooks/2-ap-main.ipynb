{
 "cells": [
  {
   "cell_type": "code",
   "execution_count": 1,
   "metadata": {},
   "outputs": [],
   "source": [
    "import time\n",
    "import os\n",
    "import sys\n",
    "import logging\n",
    "\n",
    "import numpy as np\n",
    "import tenseal as ts\n",
    "\n",
    "from sklearn.model_selection import train_test_split\n",
    "from sklearn.linear_model import LogisticRegression\n",
    "from sklearn.metrics import confusion_matrix, average_precision_score, f1_score, recall_score, precision_score, accuracy_score, classification_report\n",
    "os.chdir(\"/home/apignet/homomorphic-encryption/ckks_titanic/\")\n",
    "from src.features import build_features\n",
    "from models import encrypted_LR\n",
    "from models import unencrypted_LR"
   ]
  },
  {
   "cell_type": "code",
   "execution_count": 2,
   "metadata": {},
   "outputs": [],
   "source": [
    "%load_ext memory_profiler"
   ]
  },
  {
   "cell_type": "code",
   "execution_count": 3,
   "metadata": {},
   "outputs": [
    {
     "data": {
      "text/plain": [
       "1"
      ]
     },
     "execution_count": 3,
     "metadata": {},
     "output_type": "execute_result"
    }
   ],
   "source": [
    "import matplotlib.pyplot as plt\n",
    "import seaborn as sns\n",
    "%matplotlib inline\n",
    "1"
   ]
  },
  {
   "cell_type": "markdown",
   "metadata": {},
   "source": [
    "# definition of parameters"
   ]
  },
  {
   "cell_type": "markdown",
   "metadata": {},
   "source": [
    "### Log "
   ]
  },
  {
   "cell_type": "markdown",
   "metadata": {},
   "source": [
    "### Paths"
   ]
  },
  {
   "cell_type": "code",
   "execution_count": 4,
   "metadata": {},
   "outputs": [],
   "source": [
    "#DATA_PATH = \"/data/raw/\"            # whole data set\n",
    "#DATA_PATH = \"/data/quick_demo/\"   # subset of the data set, with 15 train_samples and 5 test_samples\n",
    "#DATA_PATH = \"/home/apignet/homomorphic-encryption/ckks_titanic/data/quick_demo/\"   # subset of the data set, with 400 train_samples and 50 test_samples\n",
    "DATA_PATH =   '/data/quick_demo/'\n",
    "LOG_PATH = \"reports/log\"\n",
    "LOG_FILENAME = \"test_multiprocessing\""
   ]
  },
  {
   "cell_type": "code",
   "execution_count": 5,
   "metadata": {},
   "outputs": [],
   "source": [
    "fileHandler = logging.FileHandler(\"{0}/{1}.log\".format(LOG_PATH, LOG_FILENAME))\n",
    "streamHandler = logging.StreamHandler(sys.stdout)\n",
    "logging.basicConfig(format=\"%(asctime)s  [%(levelname)-8.8s]  %(message)s\", datefmt='%m/%d/%Y %I:%M:%S %p', level = logging.INFO, handlers=[fileHandler, streamHandler])"
   ]
  },
  {
   "cell_type": "code",
   "execution_count": 6,
   "metadata": {},
   "outputs": [
    {
     "data": {
      "text/plain": [
       "'/home/apignet/homomorphic-encryption/ckks_titanic'"
      ]
     },
     "execution_count": 6,
     "metadata": {},
     "output_type": "execute_result"
    }
   ],
   "source": [
    "os.getcwd()"
   ]
  },
  {
   "cell_type": "markdown",
   "metadata": {},
   "source": [
    "### Training variables"
   ]
  },
  {
   "cell_type": "code",
   "execution_count": 7,
   "metadata": {},
   "outputs": [],
   "source": [
    "EPOCH = 40\n",
    "LEARNING_RATE = 0.9\n",
    "MOMENTUM_RATE = 0.6\n",
    "REGULARIZATION_RATE = 0.5\n",
    "VERBOSE = 2\n",
    "SAVE_WEIGHT = 2\n",
    "N_JOBS = 4"
   ]
  },
  {
   "cell_type": "markdown",
   "metadata": {},
   "source": [
    "## Static functions"
   ]
  },
  {
   "cell_type": "code",
   "execution_count": 8,
   "metadata": {},
   "outputs": [],
   "source": [
    "def crytp_array(X, local_context):\n",
    "    \"\"\"\n",
    "    This function encrypt a list of vector\n",
    "    \n",
    "    :parameters \n",
    "    ------------\n",
    "    \n",
    "    :param X ; list of list, interpreted as list of vector to encrypt\n",
    "    :param local_context ; TenSEAL context object used to encrypt\n",
    "    \n",
    "    :returns\n",
    "    ------------\n",
    "    \n",
    "    list ; list of CKKS ciphertext  \n",
    "    \n",
    "    \"\"\"\n",
    "    res = []\n",
    "    for i in range(len(X)):\n",
    "        res.append(ts.ckks_vector(local_context, X[i]))\n",
    "        if i == len(X) // 4:\n",
    "            logging.info(\"25 % ...\")\n",
    "        elif i == len(X) // 2 :\n",
    "            logging.info(\"50 % ...\")\n",
    "        elif i == 3* len(X)//4:\n",
    "            logging.info(\"75% ...\")\n",
    "    return res"
   ]
  },
  {
   "cell_type": "markdown",
   "metadata": {},
   "source": [
    "### Confidential functions\n",
    "\n",
    "These functions involves security breachs (as use of unencrypted data, or decryption of weights) and cannot be coded by Alice.\n",
    "However, the functions encapslulate the unsafe process, so can be performed by Alice if Bob provides them. \n",
    "Therefore, they are currently passed as parameters to Alice, which only calls them.\n",
    "\n",
    "Currently there is a huge security breach, as confidential parameters (security key for instance), which are needed by those functions, are passed in a dictionnary to Alice. \n",
    "For a safe protocole, we have to change these functions, to set up a safe communication protocole between Bob and Alice.\n",
    "Alice will therefore only send the crypted data to Bob (using these functions, in which can be set up the communication process) and Bob will locally perform the functions which are currently coded bellow. "
   ]
  },
  {
   "cell_type": "code",
   "execution_count": 9,
   "metadata": {},
   "outputs": [],
   "source": [
    "def refresh(ciphertext, **kwarg):\n",
    "    \"\"\"\n",
    "    This function is here to refresh a ciphertext. This operation reset to 0 the calculus depth of the input ciphertext \n",
    "    WARNING :  Basically the function decryt and re-encrypt the ciphertext. \n",
    "    This is not safe, this operation needs to be done by a trusted part \n",
    "    (Bob for the perfect instance, even if it requieres communications between Alice and Bob while training)\n",
    "    \n",
    "    :parameters \n",
    "    ------------\n",
    "    \n",
    "    ciphertext ; encrypted CKKS vector \n",
    "    **kwarg ; dict, must contain context and secret_key.\n",
    "    \n",
    "    :returns\n",
    "    ------------\n",
    "    \n",
    "    ciphertext : encrypted CKKS vector \n",
    "    \n",
    "    \"\"\"\n",
    "    context = kwarg.get(\"context\", None)\n",
    "    secret_key = kwarg.get(\"secret_key\", None)\n",
    "    assert context , \"Context must be provided with the key : context\"+str(context)\n",
    "    if context.is_private():\n",
    "        return ts.ckks_vector(context, ciphertext.decrypt())\n",
    "    else : \n",
    "        if not secret_key:\n",
    "            raise AttributeError(\"The secret key is not provided and the context provided is public, decryption is not possible\")\n",
    "        else:\n",
    "            return ts.ckks_vector(context, ciphertext.decrypt(secret_key))\n",
    "   \n",
    "            \n",
    "def accuracy(crypted_weight, crypted_bias, prior_unencrypted_X = None, prior_unencrypted_Y=None, treshold = 0.5, verbose = True, **kwarg):\n",
    "    \"\"\"\n",
    "    This function is here to compute the accuracy\n",
    "    1-NOTE : we could maybe estimate this function homomorphically, by designing an approximation of the sign function. \n",
    "    However, this kind of approximation seems really hard to set up \n",
    "    Therefore, we will not be able to use the metric, as the result is encrypted.\n",
    "    2-NOTE : this function could be parallelized, as we do not need the result for the next epoch. \n",
    "    \n",
    "    :parameters \n",
    "    ------------\n",
    "    \n",
    "    crypted_weight ; encrypted CKKS vector (size equal to the number of features)\n",
    "    crypted_bias ; encrypted CKKS vector (size 1)\n",
    "    (Optionnal) prior_unencrypted_X ; samples on which the model accuracy will be computed. \n",
    "                                If not provided, the accuracy will be computed with the data provided in the kwarg\n",
    "    (Optionnal) prior_unencrypted_Y ; labels on which the model accuracy will be computed. If not provided.\n",
    "                                If not provided, the accuracy will be computed with the data provided in the kwarg\n",
    "    threshold : default 0.5, use to classified the data from the probability computed\n",
    "    verbose : Default True. If set to True, will log a report on F1, recall, precision, accuracy scores, and print the confusion matrix\n",
    "    **kwarg ; dict, must contain context, secret_key, (Optionnal) unencrytped_X and (Optionnal) unencrypted_Y \n",
    "    \n",
    "    :returns\n",
    "    ------------\n",
    "    \n",
    "    accuray : float (rounded to 2 digits)\n",
    "    \n",
    "    \n",
    "    \"\"\"\n",
    "    context = kwarg.get(\"context\", None)\n",
    "    if not context:\n",
    "        raise AttributeError(\"Context must be provided in the **kwarg, with the key : context\")\n",
    "    secret_key = kwarg.get(\"secret_key\", None)\n",
    "    if prior_unencrypted_X is None:\n",
    "        unencrypted_X = kwarg.get(\"unencrypted_X\", None)\n",
    "        if unencrypted_X is None:\n",
    "            raise AttributeError(\"Unencrypted samples must be provided, either in the arguments, or in the **kwarg, with the key : unencrypted_X\")\n",
    "    else:\n",
    "        unencrypted_X = np.array(prior_unencrypted_X)\n",
    "    if prior_unencrypted_Y is None:\n",
    "        unencrypted_Y = kwarg.get(\"unencrypted_Y\", None)\n",
    "        if unencrypted_Y is None:\n",
    "            raise AttributeError(\"Unencrypted labels must be provided, either in the arguments, or in the **kwarg, with the key : unencrypted_Y\")\n",
    "    else:\n",
    "        unencrypted_Y = np.array(prior_unencrypted_Y)\n",
    "    if context.is_private():\n",
    "            weight = np.array(crypted_weight.decrypt())\n",
    "            bias = np.array(crypted_bias.decrypt())\n",
    "    else : \n",
    "        if not secret_key:\n",
    "            raise AttributeError(\"The secret key is not provided and the context provided is public, decryption is not possible. Pass a private context or the secret key\")\n",
    "        else:\n",
    "            weight = np.array(crypted_weight.decrypt(secret_key))\n",
    "            bias = np.array(crypted_bias.decrypt(secret_key))\n",
    "            \n",
    "    re = unencrypted_X.dot(weight) + bias  \n",
    "    prediction = (np.float_power(re, 3)) * -0.004 + re * 0.197 + 0.5\n",
    "    \n",
    "    prediction = 1*(prediction > treshold)\n",
    "    recall = recall_score(test_labels,prediction)\n",
    "    F1 = f1_score(test_labels, prediction)\n",
    "    precision = precision_score(test_labels, prediction)\n",
    "    cf_m=confusion_matrix(test_labels, prediction ) \n",
    "    accuracy = accuracy_score(test_labels, prediction)\n",
    "    if verbose:\n",
    "        logging.info(\"Precision score of encrypted model on test set: %s \" % precision)\n",
    "        logging.info(\"Recall score  of encrypted model on test set : %s \" % recall)\n",
    "        logging.info(\"F1 score of encrypted model on test set: %s \" % F1)\n",
    "        logging.info(\"Accuracy of encrypted model on train set : %s \" % accuracy)\n",
    "        sns.heatmap(cf_m, annot=True)\n",
    "    return {'precision': precision, 'recall':recall, 'F1 score':F1, \"accuracy\":accuracy, \"confusion matrix\":cf_m}\n",
    "    "
   ]
  },
  {
   "cell_type": "markdown",
   "metadata": {},
   "source": [
    "# Loading and processing the data"
   ]
  },
  {
   "cell_type": "code",
   "execution_count": 10,
   "metadata": {},
   "outputs": [
    {
     "name": "stdout",
     "output_type": "stream",
     "text": [
      "08/03/2020 02:35:52 PM  [INFO    ]  /home/apignet/homomorphic-encryption/ckks_titanic\n",
      "08/03/2020 02:35:52 PM  [INFO    ]  loading the data into memory (pandas df)\n",
      "08/03/2020 02:35:52 PM  [INFO    ]  Done\n",
      "08/03/2020 02:35:52 PM  [INFO    ]  making final data set from raw data\n",
      "08/03/2020 02:35:52 PM  [INFO    ]  Done\n",
      "08/03/2020 02:35:52 PM  [INFO    ]  /home/apignet/homomorphic-encryption/ckks_titanic\n",
      "08/03/2020 02:35:52 PM  [INFO    ]  loading the data into memory (pandas df)\n",
      "08/03/2020 02:35:52 PM  [INFO    ]  Done\n",
      "08/03/2020 02:35:52 PM  [INFO    ]  making final data set from raw data\n",
      "08/03/2020 02:35:52 PM  [INFO    ]  Done\n",
      "peak memory: 169.43 MiB, increment: 14.55 MiB\n"
     ]
    }
   ],
   "source": [
    "%%memit\n",
    "logging.info(os.getcwd())\n",
    "raw_train, raw_test = build_features.data_import(os.getcwd()+DATA_PATH)\n",
    "train, submission_test = build_features.processing(raw_train, raw_test)\n",
    "del submission_test"
   ]
  },
  {
   "cell_type": "code",
   "execution_count": 11,
   "metadata": {},
   "outputs": [
    {
     "name": "stdout",
     "output_type": "stream",
     "text": [
      "peak memory: 169.63 MiB, increment: 0.20 MiB\n"
     ]
    }
   ],
   "source": [
    "%%memit\n",
    "train, test = train_test_split(train, test_size=0.15)\n",
    "train_labels = train.Survived\n",
    "test_labels = test.Survived\n",
    "train_features = train.drop(\"Survived\", axis=1)\n",
    "test_features = test.drop(\"Survived\", axis=1)"
   ]
  },
  {
   "cell_type": "markdown",
   "metadata": {},
   "source": [
    "# Definition of safety parameters"
   ]
  },
  {
   "cell_type": "code",
   "execution_count": 12,
   "metadata": {},
   "outputs": [
    {
     "name": "stdout",
     "output_type": "stream",
     "text": [
      "08/03/2020 02:35:52 PM  [INFO    ]  Definition of safety parameters...\n",
      "08/03/2020 02:35:53 PM  [INFO    ]  Done. 0.32 seconds\n",
      "08/03/2020 02:35:53 PM  [INFO    ]  Generation of the secret key...\n",
      "08/03/2020 02:35:53 PM  [INFO    ]  Done. 0.0 seconds\n",
      "08/03/2020 02:35:53 PM  [INFO    ]  Generation of the Galois Key...\n",
      "08/03/2020 02:35:56 PM  [INFO    ]  Done. 3.32 seconds\n",
      "08/03/2020 02:35:56 PM  [INFO    ]  Generation of the Relin Key...\n",
      "08/03/2020 02:35:56 PM  [INFO    ]  Done. 0.13 seconds\n",
      "peak memory: 744.10 MiB, increment: 574.47 MiB\n"
     ]
    }
   ],
   "source": [
    "%%memit\n",
    "logging.info('Definition of safety parameters...')\n",
    "timer = time.time()\n",
    "# context = ts.context(ts.SCHEME_TYPE.CKKS, 32768,\n",
    "# coeff_mod_bit_sizes=[60, 40, 40, 40, 40, 40, 40, 40, 40, 40, 40, 40, 40, 40, 40, 60])\n",
    "#context = ts.context(ts.SCHEME_TYPE.CKKS, 8192, coeff_mod_bit_sizes=[40, 21, 21, 21, 21, 21, 21, 40])\n",
    "\n",
    "context = ts.context(ts.SCHEME_TYPE.CKKS, 16384, coeff_mod_bit_sizes=[60, 40, 40, 40, 40, 40, 40,40, 60])\n",
    "context.global_scale = pow(2, 40)\n",
    "logging.info(\"Done. \" + str(round(time.time() - timer, 2)) + \" seconds\")\n",
    "\n",
    "\n",
    "logging.info('Generation of the secret key...')\n",
    "timer = time.time()\n",
    "secret_key = context.secret_key()\n",
    "#context.make_context_public() #drop the relin keys, the galois keys, and the secret keys. \n",
    "logging.info(\"Done. \" + str(round(time.time() - timer, 2)) + \" seconds\")\n",
    "logging.info('Generation of the Galois Key...')\n",
    "timer = time.time()\n",
    "context.generate_galois_keys(secret_key)\n",
    "logging.info(\"Done. \" + str(round(time.time() - timer, 2)) + \" seconds\")\n",
    "logging.info('Generation of the Relin Key...')\n",
    "timer = time.time()\n",
    "context.generate_relin_keys(secret_key)\n",
    "logging.info(\"Done. \" + str(round(time.time() - timer, 2)) + \" seconds\")\n",
    "if context.is_public():\n",
    "    logging.info(\"The context is now public, the context do not hold the secret key anymore, and decrypt methods need the secret key to be provide,\")\n",
    "\n"
   ]
  },
  {
   "cell_type": "markdown",
   "metadata": {},
   "source": [
    "# Data encryption"
   ]
  },
  {
   "cell_type": "code",
   "execution_count": 13,
   "metadata": {},
   "outputs": [
    {
     "name": "stdout",
     "output_type": "stream",
     "text": [
      "08/03/2020 02:35:56 PM  [INFO    ]  Data encryption...\n",
      "08/03/2020 02:35:56 PM  [INFO    ]  25 % ...\n",
      "08/03/2020 02:35:56 PM  [INFO    ]  50 % ...\n",
      "08/03/2020 02:35:56 PM  [INFO    ]  75% ...\n",
      "08/03/2020 02:35:56 PM  [INFO    ]  25 % ...\n",
      "08/03/2020 02:35:56 PM  [INFO    ]  50 % ...\n",
      "08/03/2020 02:35:57 PM  [INFO    ]  75% ...\n",
      "08/03/2020 02:35:57 PM  [INFO    ]  25 % ...\n",
      "08/03/2020 02:35:57 PM  [INFO    ]  50 % ...\n",
      "08/03/2020 02:35:57 PM  [INFO    ]  25 % ...\n",
      "08/03/2020 02:35:57 PM  [INFO    ]  50 % ...\n",
      "08/03/2020 02:35:57 PM  [INFO    ]  Done. 0.49 seconds\n",
      "peak memory: 784.82 MiB, increment: 40.60 MiB\n"
     ]
    }
   ],
   "source": [
    "%%memit\n",
    "logging.info(\"Data encryption...\")\n",
    "timer = time.time()\n",
    "encrypted_X = crytp_array(train_features.to_numpy().tolist(), context)\n",
    "encrypted_Y = crytp_array(train_labels.to_numpy().reshape((-1, 1)).tolist(), context)\n",
    "encrypted_test_X = crytp_array(test_features.to_numpy().tolist(), context)\n",
    "encrypted_test_Y = crytp_array(test_labels.to_numpy().reshape((-1, 1)).tolist(), context)\n",
    "logging.info(\"Done. \" + str(round(time.time() - timer, 2)) + \" seconds\")"
   ]
  },
  {
   "cell_type": "markdown",
   "metadata": {},
   "source": [
    "# Initialize the weight\n",
    "\n",
    "The weights have to be crypted "
   ]
  },
  {
   "cell_type": "code",
   "execution_count": 14,
   "metadata": {},
   "outputs": [
    {
     "name": "stdout",
     "output_type": "stream",
     "text": [
      "08/03/2020 02:35:57 PM  [INFO    ]  [-0.0702491   0.46902374  0.3494855  -0.23057593 -0.06257674  0.08766366\n",
      " -0.16432926  0.09853273 -0.22798694 -0.14406664  0.3747321   0.33195363\n",
      "  0.09552228 -0.04046565  0.40655411 -0.18231959  0.12932264  0.04814169\n",
      "  0.38856166 -0.00123001  0.02334827 -0.12767309 -0.1736485  -0.01535684\n",
      "  0.05991035  0.18599332 -0.40438465  0.03565092  0.02549029  0.10802959\n",
      "  0.45323312]\n",
      "08/03/2020 02:35:57 PM  [INFO    ]  [ 0.12858387  0.05263818 -0.04909242  0.25137243  0.1927675  -0.07428396\n",
      "  0.07617964 -0.08785105 -0.05557698 -0.03894221 -0.17548729 -0.2619084\n",
      "  0.04941755 -0.14667116  0.21326407  0.14549226 -0.03105039  0.14257497\n",
      "  0.07585576 -0.0769348   0.02969358 -0.04194939 -0.22062436  0.10714856\n",
      "  0.05559916  0.03471234  0.16138949  0.26915611  0.03401468  0.00917517\n",
      " -0.13093246]\n",
      "peak memory: 790.95 MiB, increment: 6.13 MiB\n"
     ]
    }
   ],
   "source": [
    "%%memit\n",
    "unencrypted_weight = np.random.normal(loc=0,\n",
    "                                      scale=0.2, size =(train_features.to_numpy().shape[1]))\n",
    "logging.info(unencrypted_weight)\n",
    "weight = ts.ckks_vector(context, unencrypted_weight.tolist())\n",
    "unencrypted_bias = np.random.random((1))\n",
    "bias = ts.ckks_vector(context, unencrypted_bias.tolist())"
   ]
  },
  {
   "cell_type": "markdown",
   "metadata": {},
   "source": [
    "The confidential data as yet stored into a dictionnary, and will be used during the training only by functions which are passed as arguments to the fit methods. This encapsulation of sensitive data will allows us to ensure security during training later. "
   ]
  },
  {
   "cell_type": "code",
   "execution_count": 15,
   "metadata": {},
   "outputs": [
    {
     "name": "stdout",
     "output_type": "stream",
     "text": [
      "peak memory: 790.95 MiB, increment: 0.00 MiB\n"
     ]
    }
   ],
   "source": [
    "%%memit\n",
    "confidential_data = {'context':context,\n",
    "                     'secret_key':secret_key, \n",
    "                     'unencrypted_X':train_features.to_numpy(),\n",
    "                     'unencrypted_Y':train_labels.to_numpy().reshape((-1, 1)) \n",
    "                    }"
   ]
  },
  {
   "cell_type": "markdown",
   "metadata": {},
   "source": [
    "# Training the unencrypted model"
   ]
  },
  {
   "cell_type": "code",
   "execution_count": 16,
   "metadata": {},
   "outputs": [
    {
     "name": "stdout",
     "output_type": "stream",
     "text": [
      "08/03/2020 02:35:57 PM  [INFO    ]  Scikit Learn model initialization\n"
     ]
    }
   ],
   "source": [
    "logging.info(\"Scikit Learn model initialization\")\n",
    "sk_model = LogisticRegression(penalty='l2', solver = 'lbfgs')"
   ]
  },
  {
   "cell_type": "code",
   "execution_count": 17,
   "metadata": {},
   "outputs": [
    {
     "name": "stdout",
     "output_type": "stream",
     "text": [
      "08/03/2020 02:35:57 PM  [INFO    ]  Scikit Learn model training is starting.. \n",
      "08/03/2020 02:35:57 PM  [INFO    ]  Done. 11 iterations in 0.006175994873046875 seconds\n"
     ]
    }
   ],
   "source": [
    "logging.info(\"Scikit Learn model training is starting.. \")\n",
    "timer = time.time()\n",
    "sk_model.fit(train_features, train_labels)\n",
    "logging.info(\"Done. %s iterations in %s seconds\" %(sk_model.n_iter_[0], time.time()-timer))"
   ]
  },
  {
   "cell_type": "code",
   "execution_count": 18,
   "metadata": {},
   "outputs": [
    {
     "name": "stdout",
     "output_type": "stream",
     "text": [
      "08/03/2020 02:35:57 PM  [INFO    ]  Unencrypted model initialization\n"
     ]
    }
   ],
   "source": [
    "logging.info(\"Unencrypted model initialization\")\n",
    "unencrypted_model = unencrypted_LR.LogisticRegression(init_weight=unencrypted_weight,\n",
    "                                                      init_bias=unencrypted_bias,\n",
    "                                                      verbose=VERBOSE,\n",
    "                                                      save_weight= SAVE_WEIGHT,\n",
    "                                                      max_epoch=EPOCH,\n",
    "                                                      learning_rate=LEARNING_RATE,\n",
    "                                                      momentum_rate=MOMENTUM_RATE,\n",
    "                                                      reg_para=REGULARIZATION_RATE,\n",
    "                                                      n_jobs = N_JOBS)"
   ]
  },
  {
   "cell_type": "code",
   "execution_count": 19,
   "metadata": {},
   "outputs": [
    {
     "name": "stdout",
     "output_type": "stream",
     "text": [
      "08/03/2020 02:35:57 PM  [INFO    ]  Training starting\n",
      "08/03/2020 02:35:57 PM  [INFO    ]  Just finished iteration number 0 in  0.0003044605255126953 seconds.\n",
      "08/03/2020 02:35:57 PM  [INFO    ]  Starting computation of the loss ...\n",
      "08/03/2020 02:35:57 PM  [INFO    ]  Loss : 1.775849772073132.\n",
      "08/03/2020 02:35:57 PM  [INFO    ]  Just finished iteration number 1 in  0.000293731689453125 seconds.\n",
      "08/03/2020 02:35:57 PM  [INFO    ]  Just finished iteration number 2 in  0.0002837181091308594 seconds.\n",
      "08/03/2020 02:35:57 PM  [INFO    ]  Starting computation of the loss ...\n",
      "08/03/2020 02:35:57 PM  [INFO    ]  Loss : 1.1870274707246518.\n",
      "08/03/2020 02:35:57 PM  [INFO    ]  Just finished iteration number 3 in  0.0002696514129638672 seconds.\n",
      "08/03/2020 02:35:57 PM  [INFO    ]  Just finished iteration number 4 in  0.00028634071350097656 seconds.\n",
      "08/03/2020 02:35:57 PM  [INFO    ]  Starting computation of the loss ...\n",
      "08/03/2020 02:35:57 PM  [INFO    ]  Loss : 0.9469890710361384.\n",
      "08/03/2020 02:35:57 PM  [INFO    ]  Just finished iteration number 5 in  0.0002803802490234375 seconds.\n",
      "08/03/2020 02:35:57 PM  [INFO    ]  Just finished iteration number 6 in  0.00030875205993652344 seconds.\n",
      "08/03/2020 02:35:57 PM  [INFO    ]  Starting computation of the loss ...\n",
      "08/03/2020 02:35:57 PM  [INFO    ]  Loss : 0.814323038720406.\n",
      "08/03/2020 02:35:57 PM  [INFO    ]  Just finished iteration number 7 in  0.00027751922607421875 seconds.\n",
      "08/03/2020 02:35:57 PM  [INFO    ]  Just finished iteration number 8 in  0.0002777576446533203 seconds.\n",
      "08/03/2020 02:35:57 PM  [INFO    ]  Starting computation of the loss ...\n",
      "08/03/2020 02:35:57 PM  [INFO    ]  Loss : 0.7333597936126515.\n",
      "08/03/2020 02:35:57 PM  [INFO    ]  Just finished iteration number 9 in  0.00027441978454589844 seconds.\n",
      "08/03/2020 02:35:57 PM  [INFO    ]  Just finished iteration number 10 in  0.00028252601623535156 seconds.\n",
      "08/03/2020 02:35:57 PM  [INFO    ]  Starting computation of the loss ...\n",
      "08/03/2020 02:35:57 PM  [INFO    ]  Loss : 0.6810739353680592.\n",
      "08/03/2020 02:35:57 PM  [INFO    ]  Just finished iteration number 11 in  0.0002684593200683594 seconds.\n",
      "08/03/2020 02:35:57 PM  [INFO    ]  Just finished iteration number 12 in  0.0002760887145996094 seconds.\n",
      "08/03/2020 02:35:57 PM  [INFO    ]  Starting computation of the loss ...\n",
      "08/03/2020 02:35:57 PM  [INFO    ]  Loss : 0.6459694334298993.\n",
      "08/03/2020 02:35:57 PM  [INFO    ]  Just finished iteration number 13 in  0.00027370452880859375 seconds.\n",
      "08/03/2020 02:35:57 PM  [INFO    ]  Just finished iteration number 14 in  0.0002779960632324219 seconds.\n",
      "08/03/2020 02:35:57 PM  [INFO    ]  Starting computation of the loss ...\n",
      "08/03/2020 02:35:57 PM  [INFO    ]  Loss : 0.621706123256883.\n",
      "08/03/2020 02:35:57 PM  [INFO    ]  Just finished iteration number 15 in  0.0002880096435546875 seconds.\n",
      "08/03/2020 02:35:57 PM  [INFO    ]  Just finished iteration number 16 in  0.00028014183044433594 seconds.\n",
      "08/03/2020 02:35:57 PM  [INFO    ]  Starting computation of the loss ...\n",
      "08/03/2020 02:35:57 PM  [INFO    ]  Loss : 0.6045511502203064.\n",
      "08/03/2020 02:35:57 PM  [INFO    ]  Just finished iteration number 17 in  0.0002834796905517578 seconds.\n",
      "08/03/2020 02:35:57 PM  [INFO    ]  Just finished iteration number 18 in  0.0002696514129638672 seconds.\n",
      "08/03/2020 02:35:57 PM  [INFO    ]  Starting computation of the loss ...\n",
      "08/03/2020 02:35:57 PM  [INFO    ]  Loss : 0.5921992528188418.\n",
      "08/03/2020 02:35:57 PM  [INFO    ]  Just finished iteration number 19 in  0.0002846717834472656 seconds.\n",
      "08/03/2020 02:35:57 PM  [INFO    ]  Just finished iteration number 20 in  0.0002772808074951172 seconds.\n",
      "08/03/2020 02:35:57 PM  [INFO    ]  Starting computation of the loss ...\n",
      "08/03/2020 02:35:57 PM  [INFO    ]  Loss : 0.5831725991926383.\n",
      "08/03/2020 02:35:57 PM  [INFO    ]  Just finished iteration number 21 in  0.0002758502960205078 seconds.\n",
      "08/03/2020 02:35:57 PM  [INFO    ]  Just finished iteration number 22 in  0.0002849102020263672 seconds.\n",
      "08/03/2020 02:35:57 PM  [INFO    ]  Starting computation of the loss ...\n",
      "08/03/2020 02:35:57 PM  [INFO    ]  Loss : 0.5764944864593826.\n",
      "08/03/2020 02:35:57 PM  [INFO    ]  Just finished iteration number 23 in  0.0002701282501220703 seconds.\n",
      "08/03/2020 02:35:57 PM  [INFO    ]  Just finished iteration number 24 in  0.0002827644348144531 seconds.\n",
      "08/03/2020 02:35:57 PM  [INFO    ]  Starting computation of the loss ...\n",
      "08/03/2020 02:35:57 PM  [INFO    ]  Loss : 0.5715028169224096.\n",
      "08/03/2020 02:35:57 PM  [INFO    ]  Just finished iteration number 25 in  0.0002913475036621094 seconds.\n",
      "08/03/2020 02:35:57 PM  [INFO    ]  Just finished iteration number 26 in  0.0002765655517578125 seconds.\n",
      "08/03/2020 02:35:57 PM  [INFO    ]  Starting computation of the loss ...\n",
      "08/03/2020 02:35:57 PM  [INFO    ]  Loss : 0.5677390812738704.\n",
      "08/03/2020 02:35:57 PM  [INFO    ]  Just finished iteration number 27 in  0.0002753734588623047 seconds.\n",
      "08/03/2020 02:35:57 PM  [INFO    ]  Just finished iteration number 28 in  0.00027680397033691406 seconds.\n",
      "08/03/2020 02:35:57 PM  [INFO    ]  Starting computation of the loss ...\n",
      "08/03/2020 02:35:57 PM  [INFO    ]  Loss : 0.5648799834607825.\n",
      "08/03/2020 02:35:57 PM  [INFO    ]  Just finished iteration number 29 in  0.00027561187744140625 seconds.\n",
      "08/03/2020 02:35:57 PM  [INFO    ]  Just finished iteration number 30 in  0.0002772808074951172 seconds.\n",
      "08/03/2020 02:35:57 PM  [INFO    ]  Starting computation of the loss ...\n",
      "08/03/2020 02:35:57 PM  [INFO    ]  Loss : 0.5626940555037682.\n",
      "08/03/2020 02:35:57 PM  [INFO    ]  Just finished iteration number 31 in  0.00027298927307128906 seconds.\n",
      "08/03/2020 02:35:57 PM  [INFO    ]  Just finished iteration number 32 in  0.0002677440643310547 seconds.\n",
      "08/03/2020 02:35:57 PM  [INFO    ]  Starting computation of the loss ...\n",
      "08/03/2020 02:35:57 PM  [INFO    ]  Loss : 0.5610133992367933.\n",
      "08/03/2020 02:35:57 PM  [INFO    ]  Just finished iteration number 33 in  0.0002722740173339844 seconds.\n",
      "08/03/2020 02:35:57 PM  [INFO    ]  Just finished iteration number 34 in  0.00028252601623535156 seconds.\n",
      "08/03/2020 02:35:57 PM  [INFO    ]  Starting computation of the loss ...\n",
      "08/03/2020 02:35:57 PM  [INFO    ]  Loss : 0.5597148537102934.\n",
      "08/03/2020 02:35:57 PM  [INFO    ]  Just finished iteration number 35 in  0.0002713203430175781 seconds.\n",
      "08/03/2020 02:35:57 PM  [INFO    ]  Just finished iteration number 36 in  0.00028443336486816406 seconds.\n",
      "08/03/2020 02:35:57 PM  [INFO    ]  Starting computation of the loss ...\n",
      "08/03/2020 02:35:57 PM  [INFO    ]  Loss : 0.5587071907140361.\n",
      "08/03/2020 02:35:57 PM  [INFO    ]  Just finished iteration number 37 in  0.00028133392333984375 seconds.\n",
      "08/03/2020 02:35:57 PM  [INFO    ]  Just finished iteration number 38 in  0.00016188621520996094 seconds.\n",
      "08/03/2020 02:35:57 PM  [INFO    ]  Starting computation of the loss ...\n",
      "08/03/2020 02:35:57 PM  [INFO    ]  Loss : 0.5579222563251903.\n",
      "08/03/2020 02:35:57 PM  [INFO    ]  Just finished iteration number 39 in  0.00017905235290527344 seconds.\n",
      "08/03/2020 02:35:57 PM  [INFO    ]  Training done. 0.0 seconds\n"
     ]
    }
   ],
   "source": [
    "logging.info(\"Training starting\")\n",
    "timer=time.time()\n",
    "unencrypted_model.fit(train_features.to_numpy(), train_labels.to_numpy().reshape((-1, 1)))\n",
    "logging.info(\"Training done. \" + str(round(time.time() - timer, 0)) + \" seconds\")"
   ]
  },
  {
   "cell_type": "markdown",
   "metadata": {},
   "source": [
    "### Unencrypted accuracy and loss"
   ]
  },
  {
   "cell_type": "code",
   "execution_count": 20,
   "metadata": {},
   "outputs": [
    {
     "name": "stdout",
     "output_type": "stream",
     "text": [
      "08/03/2020 02:35:57 PM  [INFO    ]  Accuracy of unencrypted model : 0.5 \n"
     ]
    },
    {
     "data": {
      "text/plain": [
       "<matplotlib.legend.Legend at 0x7fb45486ecc0>"
      ]
     },
     "execution_count": 20,
     "metadata": {},
     "output_type": "execute_result"
    },
    {
     "data": {
      "image/png": "[encoded data removed]",
      "text/plain": [
       "<Figure size 432x288 with 1 Axes>"
      ]
     },
     "metadata": {
      "needs_background": "light"
     },
     "output_type": "display_data"
    }
   ],
   "source": [
    "acc = unencrypted_model.accuracy(test_features.to_numpy(), test_labels.to_numpy().reshape((-1, 1)))\n",
    "logging.info(\"Accuracy of unencrypted model : %s \" % acc)\n",
    "\n",
    "plt.plot([i*VERBOSE for i in range(len(unencrypted_model.loss_list))], unencrypted_model.loss_list,'-xr' ,label='plainloss')\n",
    "plt.plot([i*VERBOSE for i in range(len(unencrypted_model.true_loss_list))], unencrypted_model.true_loss_list, '-ob', label='True plainloss')\n",
    "\n",
    "plt.xlabel('Epoch')\n",
    "plt.ylabel('Loss')\n",
    "plt.title('Losses evolution of unencrypted model with momentum')\n",
    "plt.legend(loc='best')"
   ]
  },
  {
   "cell_type": "markdown",
   "metadata": {},
   "source": [
    "# Training the crypted models"
   ]
  },
  {
   "cell_type": "code",
   "execution_count": 21,
   "metadata": {},
   "outputs": [
    {
     "name": "stdout",
     "output_type": "stream",
     "text": [
      "08/03/2020 02:35:57 PM  [INFO    ]  Model initialization\n"
     ]
    }
   ],
   "source": [
    "logging.info(\"Model initialization\")\n",
    "model = encrypted_LR.LogisticRegressionHE(init_weight=weight,\n",
    "                                          init_bias=bias,\n",
    "                                          refresh_function=refresh,\n",
    "                                          context=context,\n",
    "                                          confidential_kwarg=confidential_data,\n",
    "                                          accuracy=accuracy,\n",
    "                                          verbose=VERBOSE,\n",
    "                                          save_weight=SAVE_WEIGHT,\n",
    "                                          max_epoch=EPOCH,\n",
    "                                          learning_rate=LEARNING_RATE,\n",
    "                                          momentum_rate=MOMENTUM_RATE,\n",
    "                                          reg_para=REGULARIZATION_RATE,\n",
    "                                          n_jobs = N_JOBS)"
   ]
  },
  {
   "cell_type": "code",
   "execution_count": 22,
   "metadata": {
    "scrolled": true
   },
   "outputs": [
    {
     "name": "stdout",
     "output_type": "stream",
     "text": [
      "08/03/2020 02:35:58 PM  [INFO    ]  Training starting\n",
      "08/03/2020 02:35:58 PM  [INFO    ]  Starting serialization of data\n",
      "08/03/2020 02:36:01 PM  [INFO    ]  Data serialization done in 3.4277944564819336 seconds\n",
      "08/03/2020 02:36:01 PM  [INFO    ]  Initialization of 4 workers\n",
      "08/03/2020 02:36:05 PM  [INFO    ]  Initialization done for process Process-17. Len of data : 2\n",
      "08/03/2020 02:36:05 PM  [INFO    ]  Initialization done for process Process-18. Len of data : 2\n",
      "08/03/2020 02:36:05 PM  [INFO    ]  Initialization done for process Process-19. Len of data : 2\n",
      "08/03/2020 02:36:05 PM  [INFO    ]  Initialization done for process Process-20. Len of data : 2\n",
      "08/03/2020 02:36:05 PM  [INFO    ]  Initialization done in 3.760517120361328 seconds\n"
     ]
    },
    {
     "name": "stderr",
     "output_type": "stream",
     "text": [
      "Traceback (most recent call last):\n",
      "Traceback (most recent call last):\n",
      "Traceback (most recent call last):\n",
      "  File \"/home/apignet/anaconda3/lib/python3.7/multiprocessing/queues.py\", line 236, in _feed\n",
      "    obj = _ForkingPickler.dumps(obj)\n",
      "  File \"/home/apignet/anaconda3/lib/python3.7/multiprocessing/queues.py\", line 236, in _feed\n",
      "    obj = _ForkingPickler.dumps(obj)\n",
      "  File \"/home/apignet/anaconda3/lib/python3.7/multiprocessing/queues.py\", line 236, in _feed\n",
      "    obj = _ForkingPickler.dumps(obj)\n",
      "  File \"/home/apignet/anaconda3/lib/python3.7/multiprocessing/reduction.py\", line 51, in dumps\n",
      "    cls(buf, protocol).dump(obj)\n",
      "  File \"/home/apignet/anaconda3/lib/python3.7/multiprocessing/reduction.py\", line 51, in dumps\n",
      "    cls(buf, protocol).dump(obj)\n",
      "TypeError: can't pickle _tenseal_cpp.CKKSVector objects\n",
      "TypeError: can't pickle _tenseal_cpp.CKKSVector objects\n",
      "  File \"/home/apignet/anaconda3/lib/python3.7/multiprocessing/reduction.py\", line 51, in dumps\n",
      "    cls(buf, protocol).dump(obj)\n",
      "TypeError: can't pickle _tenseal_cpp.CKKSVector objects\n",
      "Traceback (most recent call last):\n",
      "  File \"/home/apignet/anaconda3/lib/python3.7/multiprocessing/queues.py\", line 236, in _feed\n",
      "    obj = _ForkingPickler.dumps(obj)\n",
      "  File \"/home/apignet/anaconda3/lib/python3.7/multiprocessing/reduction.py\", line 51, in dumps\n",
      "    cls(buf, protocol).dump(obj)\n",
      "TypeError: can't pickle _tenseal_cpp.CKKSVector objects\n",
      "Process Process-20:\n",
      "Process Process-17:\n",
      "Process Process-19:\n",
      "Process Process-18:\n",
      "Traceback (most recent call last):\n",
      "Traceback (most recent call last):\n",
      "Traceback (most recent call last):\n",
      "Traceback (most recent call last):\n",
      "  File \"/home/apignet/anaconda3/lib/python3.7/multiprocessing/process.py\", line 297, in _bootstrap\n",
      "    self.run()\n",
      "  File \"/home/apignet/anaconda3/lib/python3.7/multiprocessing/process.py\", line 297, in _bootstrap\n",
      "    self.run()\n",
      "  File \"/home/apignet/anaconda3/lib/python3.7/multiprocessing/process.py\", line 297, in _bootstrap\n",
      "    self.run()\n",
      "  File \"/home/apignet/anaconda3/lib/python3.7/multiprocessing/process.py\", line 297, in _bootstrap\n",
      "    self.run()\n",
      "  File \"/home/apignet/anaconda3/lib/python3.7/multiprocessing/process.py\", line 99, in run\n",
      "    self._target(*self._args, **self._kwargs)\n",
      "  File \"/home/apignet/anaconda3/lib/python3.7/multiprocessing/process.py\", line 99, in run\n",
      "    self._target(*self._args, **self._kwargs)\n",
      "  File \"/home/apignet/anaconda3/lib/python3.7/multiprocessing/process.py\", line 99, in run\n",
      "    self._target(*self._args, **self._kwargs)\n",
      "  File \"/home/apignet/anaconda3/lib/python3.7/multiprocessing/process.py\", line 99, in run\n",
      "    self._target(*self._args, **self._kwargs)\n",
      "  File \"/home/apignet/homomorphic-encryption/ckks_titanic/models/encrypted_LR.py\", line 15, in worker\n",
      "    for func, args in iter(input_queue.get, 'STOP'):\n",
      "  File \"/home/apignet/homomorphic-encryption/ckks_titanic/models/encrypted_LR.py\", line 15, in worker\n",
      "    for func, args in iter(input_queue.get, 'STOP'):\n",
      "  File \"/home/apignet/homomorphic-encryption/ckks_titanic/models/encrypted_LR.py\", line 15, in worker\n",
      "    for func, args in iter(input_queue.get, 'STOP'):\n",
      "  File \"/home/apignet/anaconda3/lib/python3.7/multiprocessing/queues.py\", line 94, in get\n",
      "    res = self._recv_bytes()\n",
      "  File \"/home/apignet/anaconda3/lib/python3.7/multiprocessing/queues.py\", line 94, in get\n",
      "    res = self._recv_bytes()\n",
      "  File \"/home/apignet/anaconda3/lib/python3.7/multiprocessing/queues.py\", line 94, in get\n",
      "    res = self._recv_bytes()\n",
      "  File \"/home/apignet/anaconda3/lib/python3.7/multiprocessing/connection.py\", line 216, in recv_bytes\n",
      "    buf = self._recv_bytes(maxlength)\n",
      "  File \"/home/apignet/anaconda3/lib/python3.7/multiprocessing/connection.py\", line 216, in recv_bytes\n",
      "    buf = self._recv_bytes(maxlength)\n",
      "  File \"/home/apignet/anaconda3/lib/python3.7/multiprocessing/connection.py\", line 407, in _recv_bytes\n",
      "    buf = self._recv(4)\n",
      "  File \"/home/apignet/anaconda3/lib/python3.7/multiprocessing/connection.py\", line 216, in recv_bytes\n",
      "    buf = self._recv_bytes(maxlength)\n",
      "  File \"/home/apignet/anaconda3/lib/python3.7/multiprocessing/connection.py\", line 407, in _recv_bytes\n",
      "    buf = self._recv(4)\n",
      "  File \"/home/apignet/anaconda3/lib/python3.7/multiprocessing/connection.py\", line 379, in _recv\n",
      "    chunk = read(handle, remaining)\n",
      "  File \"/home/apignet/anaconda3/lib/python3.7/multiprocessing/connection.py\", line 407, in _recv_bytes\n",
      "    buf = self._recv(4)\n",
      "  File \"/home/apignet/anaconda3/lib/python3.7/multiprocessing/connection.py\", line 379, in _recv\n",
      "    chunk = read(handle, remaining)\n",
      "KeyboardInterrupt\n",
      "  File \"/home/apignet/anaconda3/lib/python3.7/multiprocessing/connection.py\", line 379, in _recv\n",
      "    chunk = read(handle, remaining)\n",
      "KeyboardInterrupt\n",
      "KeyboardInterrupt\n",
      "  File \"/home/apignet/homomorphic-encryption/ckks_titanic/models/encrypted_LR.py\", line 15, in worker\n",
      "    for func, args in iter(input_queue.get, 'STOP'):\n",
      "  File \"/home/apignet/anaconda3/lib/python3.7/multiprocessing/queues.py\", line 94, in get\n",
      "    res = self._recv_bytes()\n",
      "  File \"/home/apignet/anaconda3/lib/python3.7/multiprocessing/connection.py\", line 216, in recv_bytes\n",
      "    buf = self._recv_bytes(maxlength)\n",
      "  File \"/home/apignet/anaconda3/lib/python3.7/multiprocessing/connection.py\", line 407, in _recv_bytes\n",
      "    buf = self._recv(4)\n",
      "  File \"/home/apignet/anaconda3/lib/python3.7/multiprocessing/connection.py\", line 379, in _recv\n",
      "    chunk = read(handle, remaining)\n",
      "KeyboardInterrupt\n"
     ]
    },
    {
     "ename": "KeyboardInterrupt",
     "evalue": "",
     "output_type": "error",
     "traceback": [
      "\u001b[0;31m---------------------------------------------------------------------------\u001b[0m",
      "\u001b[0;31mKeyboardInterrupt\u001b[0m                         Traceback (most recent call last)",
      "\u001b[0;32m<ipython-input-22-3b9f6d2b43e7>\u001b[0m in \u001b[0;36m<module>\u001b[0;34m\u001b[0m\n\u001b[1;32m      1\u001b[0m \u001b[0mlogging\u001b[0m\u001b[0;34m.\u001b[0m\u001b[0minfo\u001b[0m\u001b[0;34m(\u001b[0m\u001b[0;34m\"Training starting\"\u001b[0m\u001b[0;34m)\u001b[0m\u001b[0;34m\u001b[0m\u001b[0;34m\u001b[0m\u001b[0m\n\u001b[1;32m      2\u001b[0m \u001b[0mtimer\u001b[0m\u001b[0;34m=\u001b[0m\u001b[0mtime\u001b[0m\u001b[0;34m.\u001b[0m\u001b[0mtime\u001b[0m\u001b[0;34m(\u001b[0m\u001b[0;34m)\u001b[0m\u001b[0;34m\u001b[0m\u001b[0;34m\u001b[0m\u001b[0m\n\u001b[0;32m----> 3\u001b[0;31m \u001b[0mmodel\u001b[0m\u001b[0;34m.\u001b[0m\u001b[0mfit\u001b[0m\u001b[0;34m(\u001b[0m\u001b[0mencrypted_X\u001b[0m\u001b[0;34m,\u001b[0m \u001b[0mencrypted_Y\u001b[0m\u001b[0;34m)\u001b[0m\u001b[0;34m\u001b[0m\u001b[0;34m\u001b[0m\u001b[0m\n\u001b[0m\u001b[1;32m      4\u001b[0m \u001b[0mlogging\u001b[0m\u001b[0;34m.\u001b[0m\u001b[0minfo\u001b[0m\u001b[0;34m(\u001b[0m\u001b[0;34m\"Training done. \"\u001b[0m \u001b[0;34m+\u001b[0m \u001b[0mstr\u001b[0m\u001b[0;34m(\u001b[0m\u001b[0mround\u001b[0m\u001b[0;34m(\u001b[0m\u001b[0mtime\u001b[0m\u001b[0;34m.\u001b[0m\u001b[0mtime\u001b[0m\u001b[0;34m(\u001b[0m\u001b[0;34m)\u001b[0m \u001b[0;34m-\u001b[0m \u001b[0mtimer\u001b[0m\u001b[0;34m,\u001b[0m \u001b[0;36m0\u001b[0m\u001b[0;34m)\u001b[0m\u001b[0;34m)\u001b[0m \u001b[0;34m+\u001b[0m \u001b[0;34m\" seconds\"\u001b[0m\u001b[0;34m)\u001b[0m\u001b[0;34m\u001b[0m\u001b[0;34m\u001b[0m\u001b[0m\n",
      "\u001b[0;32m~/homomorphic-encryption/ckks_titanic/models/encrypted_LR.py\u001b[0m in \u001b[0;36mfit\u001b[0;34m(self, X, Y)\u001b[0m\n\u001b[1;32m    356\u001b[0m             \u001b[0mpredictions\u001b[0m \u001b[0;34m=\u001b[0m \u001b[0;34m[\u001b[0m\u001b[0;34m]\u001b[0m\u001b[0;34m\u001b[0m\u001b[0;34m\u001b[0m\u001b[0m\n\u001b[1;32m    357\u001b[0m             \u001b[0;32mfor\u001b[0m \u001b[0m_\u001b[0m \u001b[0;32min\u001b[0m \u001b[0mrange\u001b[0m\u001b[0;34m(\u001b[0m\u001b[0mself\u001b[0m\u001b[0;34m.\u001b[0m\u001b[0mn_jobs\u001b[0m\u001b[0;34m)\u001b[0m\u001b[0;34m:\u001b[0m\u001b[0;34m\u001b[0m\u001b[0;34m\u001b[0m\u001b[0m\n\u001b[0;32m--> 358\u001b[0;31m                 \u001b[0mlog_out\u001b[0m\u001b[0;34m.\u001b[0m\u001b[0mappend\u001b[0m\u001b[0;34m(\u001b[0m\u001b[0mqueue_out\u001b[0m\u001b[0;34m.\u001b[0m\u001b[0mget\u001b[0m\u001b[0;34m(\u001b[0m\u001b[0;34m)\u001b[0m\u001b[0;34m)\u001b[0m\u001b[0;34m\u001b[0m\u001b[0;34m\u001b[0m\u001b[0m\n\u001b[0m\u001b[1;32m    359\u001b[0m                 \u001b[0mdirection_weight\u001b[0m \u001b[0;34m+=\u001b[0m \u001b[0mts\u001b[0m\u001b[0;34m.\u001b[0m\u001b[0mckks_vector_from\u001b[0m\u001b[0;34m(\u001b[0m\u001b[0mself\u001b[0m\u001b[0;34m.\u001b[0m\u001b[0mcontext\u001b[0m\u001b[0;34m,\u001b[0m \u001b[0mlog_out\u001b[0m\u001b[0;34m[\u001b[0m\u001b[0;34m-\u001b[0m\u001b[0;36m1\u001b[0m\u001b[0;34m]\u001b[0m\u001b[0;34m[\u001b[0m\u001b[0;36m0\u001b[0m\u001b[0;34m]\u001b[0m\u001b[0;34m)\u001b[0m\u001b[0;34m\u001b[0m\u001b[0;34m\u001b[0m\u001b[0m\n\u001b[1;32m    360\u001b[0m                 \u001b[0mdirection_bias\u001b[0m \u001b[0;34m+=\u001b[0m \u001b[0mts\u001b[0m\u001b[0;34m.\u001b[0m\u001b[0mckks_vector_from\u001b[0m\u001b[0;34m(\u001b[0m\u001b[0mself\u001b[0m\u001b[0;34m.\u001b[0m\u001b[0mcontext\u001b[0m\u001b[0;34m,\u001b[0m \u001b[0mlog_out\u001b[0m\u001b[0;34m[\u001b[0m\u001b[0;34m-\u001b[0m\u001b[0;36m1\u001b[0m\u001b[0;34m]\u001b[0m\u001b[0;34m[\u001b[0m\u001b[0;36m1\u001b[0m\u001b[0;34m]\u001b[0m\u001b[0;34m)\u001b[0m\u001b[0;34m\u001b[0m\u001b[0;34m\u001b[0m\u001b[0m\n",
      "\u001b[0;32m~/anaconda3/lib/python3.7/multiprocessing/queues.py\u001b[0m in \u001b[0;36mget\u001b[0;34m(self, block, timeout)\u001b[0m\n\u001b[1;32m     92\u001b[0m         \u001b[0;32mif\u001b[0m \u001b[0mblock\u001b[0m \u001b[0;32mand\u001b[0m \u001b[0mtimeout\u001b[0m \u001b[0;32mis\u001b[0m \u001b[0;32mNone\u001b[0m\u001b[0;34m:\u001b[0m\u001b[0;34m\u001b[0m\u001b[0;34m\u001b[0m\u001b[0m\n\u001b[1;32m     93\u001b[0m             \u001b[0;32mwith\u001b[0m \u001b[0mself\u001b[0m\u001b[0;34m.\u001b[0m\u001b[0m_rlock\u001b[0m\u001b[0;34m:\u001b[0m\u001b[0;34m\u001b[0m\u001b[0;34m\u001b[0m\u001b[0m\n\u001b[0;32m---> 94\u001b[0;31m                 \u001b[0mres\u001b[0m \u001b[0;34m=\u001b[0m \u001b[0mself\u001b[0m\u001b[0;34m.\u001b[0m\u001b[0m_recv_bytes\u001b[0m\u001b[0;34m(\u001b[0m\u001b[0;34m)\u001b[0m\u001b[0;34m\u001b[0m\u001b[0;34m\u001b[0m\u001b[0m\n\u001b[0m\u001b[1;32m     95\u001b[0m             \u001b[0mself\u001b[0m\u001b[0;34m.\u001b[0m\u001b[0m_sem\u001b[0m\u001b[0;34m.\u001b[0m\u001b[0mrelease\u001b[0m\u001b[0;34m(\u001b[0m\u001b[0;34m)\u001b[0m\u001b[0;34m\u001b[0m\u001b[0;34m\u001b[0m\u001b[0m\n\u001b[1;32m     96\u001b[0m         \u001b[0;32melse\u001b[0m\u001b[0;34m:\u001b[0m\u001b[0;34m\u001b[0m\u001b[0;34m\u001b[0m\u001b[0m\n",
      "\u001b[0;32m~/anaconda3/lib/python3.7/multiprocessing/connection.py\u001b[0m in \u001b[0;36mrecv_bytes\u001b[0;34m(self, maxlength)\u001b[0m\n\u001b[1;32m    214\u001b[0m         \u001b[0;32mif\u001b[0m \u001b[0mmaxlength\u001b[0m \u001b[0;32mis\u001b[0m \u001b[0;32mnot\u001b[0m \u001b[0;32mNone\u001b[0m \u001b[0;32mand\u001b[0m \u001b[0mmaxlength\u001b[0m \u001b[0;34m<\u001b[0m \u001b[0;36m0\u001b[0m\u001b[0;34m:\u001b[0m\u001b[0;34m\u001b[0m\u001b[0;34m\u001b[0m\u001b[0m\n\u001b[1;32m    215\u001b[0m             \u001b[0;32mraise\u001b[0m \u001b[0mValueError\u001b[0m\u001b[0;34m(\u001b[0m\u001b[0;34m\"negative maxlength\"\u001b[0m\u001b[0;34m)\u001b[0m\u001b[0;34m\u001b[0m\u001b[0;34m\u001b[0m\u001b[0m\n\u001b[0;32m--> 216\u001b[0;31m         \u001b[0mbuf\u001b[0m \u001b[0;34m=\u001b[0m \u001b[0mself\u001b[0m\u001b[0;34m.\u001b[0m\u001b[0m_recv_bytes\u001b[0m\u001b[0;34m(\u001b[0m\u001b[0mmaxlength\u001b[0m\u001b[0;34m)\u001b[0m\u001b[0;34m\u001b[0m\u001b[0;34m\u001b[0m\u001b[0m\n\u001b[0m\u001b[1;32m    217\u001b[0m         \u001b[0;32mif\u001b[0m \u001b[0mbuf\u001b[0m \u001b[0;32mis\u001b[0m \u001b[0;32mNone\u001b[0m\u001b[0;34m:\u001b[0m\u001b[0;34m\u001b[0m\u001b[0;34m\u001b[0m\u001b[0m\n\u001b[1;32m    218\u001b[0m             \u001b[0mself\u001b[0m\u001b[0;34m.\u001b[0m\u001b[0m_bad_message_length\u001b[0m\u001b[0;34m(\u001b[0m\u001b[0;34m)\u001b[0m\u001b[0;34m\u001b[0m\u001b[0;34m\u001b[0m\u001b[0m\n",
      "\u001b[0;32m~/anaconda3/lib/python3.7/multiprocessing/connection.py\u001b[0m in \u001b[0;36m_recv_bytes\u001b[0;34m(self, maxsize)\u001b[0m\n\u001b[1;32m    405\u001b[0m \u001b[0;34m\u001b[0m\u001b[0m\n\u001b[1;32m    406\u001b[0m     \u001b[0;32mdef\u001b[0m \u001b[0m_recv_bytes\u001b[0m\u001b[0;34m(\u001b[0m\u001b[0mself\u001b[0m\u001b[0;34m,\u001b[0m \u001b[0mmaxsize\u001b[0m\u001b[0;34m=\u001b[0m\u001b[0;32mNone\u001b[0m\u001b[0;34m)\u001b[0m\u001b[0;34m:\u001b[0m\u001b[0;34m\u001b[0m\u001b[0;34m\u001b[0m\u001b[0m\n\u001b[0;32m--> 407\u001b[0;31m         \u001b[0mbuf\u001b[0m \u001b[0;34m=\u001b[0m \u001b[0mself\u001b[0m\u001b[0;34m.\u001b[0m\u001b[0m_recv\u001b[0m\u001b[0;34m(\u001b[0m\u001b[0;36m4\u001b[0m\u001b[0;34m)\u001b[0m\u001b[0;34m\u001b[0m\u001b[0;34m\u001b[0m\u001b[0m\n\u001b[0m\u001b[1;32m    408\u001b[0m         \u001b[0msize\u001b[0m\u001b[0;34m,\u001b[0m \u001b[0;34m=\u001b[0m \u001b[0mstruct\u001b[0m\u001b[0;34m.\u001b[0m\u001b[0munpack\u001b[0m\u001b[0;34m(\u001b[0m\u001b[0;34m\"!i\"\u001b[0m\u001b[0;34m,\u001b[0m \u001b[0mbuf\u001b[0m\u001b[0;34m.\u001b[0m\u001b[0mgetvalue\u001b[0m\u001b[0;34m(\u001b[0m\u001b[0;34m)\u001b[0m\u001b[0;34m)\u001b[0m\u001b[0;34m\u001b[0m\u001b[0;34m\u001b[0m\u001b[0m\n\u001b[1;32m    409\u001b[0m         \u001b[0;32mif\u001b[0m \u001b[0mmaxsize\u001b[0m \u001b[0;32mis\u001b[0m \u001b[0;32mnot\u001b[0m \u001b[0;32mNone\u001b[0m \u001b[0;32mand\u001b[0m \u001b[0msize\u001b[0m \u001b[0;34m>\u001b[0m \u001b[0mmaxsize\u001b[0m\u001b[0;34m:\u001b[0m\u001b[0;34m\u001b[0m\u001b[0;34m\u001b[0m\u001b[0m\n",
      "\u001b[0;32m~/anaconda3/lib/python3.7/multiprocessing/connection.py\u001b[0m in \u001b[0;36m_recv\u001b[0;34m(self, size, read)\u001b[0m\n\u001b[1;32m    377\u001b[0m         \u001b[0mremaining\u001b[0m \u001b[0;34m=\u001b[0m \u001b[0msize\u001b[0m\u001b[0;34m\u001b[0m\u001b[0;34m\u001b[0m\u001b[0m\n\u001b[1;32m    378\u001b[0m         \u001b[0;32mwhile\u001b[0m \u001b[0mremaining\u001b[0m \u001b[0;34m>\u001b[0m \u001b[0;36m0\u001b[0m\u001b[0;34m:\u001b[0m\u001b[0;34m\u001b[0m\u001b[0;34m\u001b[0m\u001b[0m\n\u001b[0;32m--> 379\u001b[0;31m             \u001b[0mchunk\u001b[0m \u001b[0;34m=\u001b[0m \u001b[0mread\u001b[0m\u001b[0;34m(\u001b[0m\u001b[0mhandle\u001b[0m\u001b[0;34m,\u001b[0m \u001b[0mremaining\u001b[0m\u001b[0;34m)\u001b[0m\u001b[0;34m\u001b[0m\u001b[0;34m\u001b[0m\u001b[0m\n\u001b[0m\u001b[1;32m    380\u001b[0m             \u001b[0mn\u001b[0m \u001b[0;34m=\u001b[0m \u001b[0mlen\u001b[0m\u001b[0;34m(\u001b[0m\u001b[0mchunk\u001b[0m\u001b[0;34m)\u001b[0m\u001b[0;34m\u001b[0m\u001b[0;34m\u001b[0m\u001b[0m\n\u001b[1;32m    381\u001b[0m             \u001b[0;32mif\u001b[0m \u001b[0mn\u001b[0m \u001b[0;34m==\u001b[0m \u001b[0;36m0\u001b[0m\u001b[0;34m:\u001b[0m\u001b[0;34m\u001b[0m\u001b[0;34m\u001b[0m\u001b[0m\n",
      "\u001b[0;31mKeyboardInterrupt\u001b[0m: "
     ]
    }
   ],
   "source": [
    "logging.info(\"Training starting\")\n",
    "timer=time.time()\n",
    "model.fit(encrypted_X, encrypted_Y)\n",
    "logging.info(\"Training done. \" + str(round(time.time() - timer, 0)) + \" seconds\")"
   ]
  },
  {
   "cell_type": "code",
   "execution_count": null,
   "metadata": {},
   "outputs": [],
   "source": [
    "acc_test = model.accuracy(test_features.to_numpy(), test_labels.to_numpy().reshape((-1, 1)))\n",
    "acc_train = model.accuracy(train_features.to_numpy(), train_labels.to_numpy().reshape((-1,1)))\n",
    "logging.info(\"Accuracy of encrypted model on test set: %s \" % acc_test)\n",
    "logging.info(\"Accuracy of encrypted model on train set : %s \" % acc_train)\n"
   ]
  },
  {
   "cell_type": "code",
   "execution_count": null,
   "metadata": {},
   "outputs": [],
   "source": [
    "unencrypted_X = test_features.to_numpy()\n",
    "weight = model.weight.decrypt(secret_key)\n",
    "bias = model.bias.decrypt(secret_key)\n",
    "re = unencrypted_X.dot(weight) + bias  \n",
    "prediction = (np.float_power(re, 3)) * -0.004 + re * 0.197 + 0.5\n",
    "prediction = 1*(prediction > 0.5)\n",
    "recall = recall_score(test_labels,prediction)\n",
    "F1 = f1_score(test_labels, prediction)\n",
    "precision = precision_score(test_labels, prediction)\n",
    "cf_m=confusion_matrix(test_labels, prediction ) \n",
    "accuracy = accuracy_score(test_labels, prediction)\n",
    "\n",
    "logging.info(\"Precision score of encrypted model on test set: %s \" % precision)\n",
    "logging.info(\"Recall score  of encrypted model on test set : %s \" % recall)\n",
    "logging.info(\"F1 score of encrypted model on test set: %s \" % F1)\n",
    "logging.info(\"Accuracy of encrypted model on train set : %s \" % accuracy)\n",
    "sns.heatmap(cf_m, annot=True)"
   ]
  },
  {
   "cell_type": "code",
   "execution_count": null,
   "metadata": {
    "scrolled": true
   },
   "outputs": [],
   "source": [
    "prediction = unencrypted_model.predict(test_features)\n",
    "prediction = 1*(prediction > 0.5)\n",
    "recall = recall_score(test_labels,prediction)\n",
    "F1 = f1_score(test_labels, prediction)\n",
    "precision = precision_score(test_labels, prediction)\n",
    "cf_m=confusion_matrix(test_labels, prediction ) \n",
    "accuracy = accuracy_score(test_labels, prediction)\n",
    "\n",
    "logging.info(\"Precision score of unencrypted model on test set: %s \" % precision)\n",
    "logging.info(\"Recall score  of unencrypted model on test set : %s \" % recall)\n",
    "logging.info(\"F1 score of unencrypted model on test set: %s \" % F1)\n",
    "logging.info(\"Accuracy of unencrypted model on train set : %s \" % accuracy)\n",
    "sns.heatmap(cf_m, annot=True)"
   ]
  },
  {
   "cell_type": "code",
   "execution_count": null,
   "metadata": {},
   "outputs": [],
   "source": [
    "prediction = sk_model.predict(test_features)\n",
    "prediction = 1*(prediction > 0.5)\n",
    "recall = recall_score(test_labels,prediction)\n",
    "F1 = f1_score(test_labels, prediction)\n",
    "precision = precision_score(test_labels, prediction)\n",
    "cf_m=confusion_matrix(test_labels, prediction ) \n",
    "accuracy = accuracy_score(test_labels, prediction)\n",
    "\n",
    "logging.info(\"Precision score of scikit-learn model on test set: %s \" % precision)\n",
    "logging.info(\"Recall score  of scikit-learn model on test set : %s \" % recall)\n",
    "logging.info(\"F1 score of scikit-learn model on test set: %s \" % F1)\n",
    "logging.info(\"Accuracy of scikit-learn model on test set : %s \" % accuracy)\n",
    "sns.heatmap(cf_m, annot=True)"
   ]
  },
  {
   "cell_type": "markdown",
   "metadata": {},
   "source": [
    "# Figures"
   ]
  },
  {
   "cell_type": "markdown",
   "metadata": {},
   "source": [
    "## encrypted and unencrypted losses "
   ]
  },
  {
   "cell_type": "code",
   "execution_count": null,
   "metadata": {},
   "outputs": [],
   "source": [
    "plt.plot([i*VERBOSE for i in range(len(model.loss_list))], [i.decrypt(secret_key)[0] for i in model.loss_list],'-or', label='cipherloss')\n",
    "\n",
    "plt.plot([i*VERBOSE for i in range(len(unencrypted_model.loss_list))], unencrypted_model.loss_list, label='plainloss')\n",
    "plt.plot([i*VERBOSE for i in range(len(unencrypted_model.true_loss_list))], unencrypted_model.true_loss_list, label='True plainloss')\n",
    "plt.xlabel('Epoch')\n",
    "plt.ylabel('Loss')\n",
    "plt.title('Losses evolution of both models')\n",
    "plt.legend(loc='best')"
   ]
  },
  {
   "cell_type": "markdown",
   "metadata": {},
   "source": [
    "## Unencrypted loss"
   ]
  },
  {
   "cell_type": "markdown",
   "metadata": {},
   "source": [
    "# Errors"
   ]
  },
  {
   "cell_type": "markdown",
   "metadata": {},
   "source": [
    "## Relative error between losses"
   ]
  },
  {
   "cell_type": "code",
   "execution_count": null,
   "metadata": {},
   "outputs": [],
   "source": [
    "decrypted = [i.decrypt(secret_key)[0] for i in model.loss_list]\n",
    "true_err_cl = np.abs(np.array(decrypted) - np.array(unencrypted_model.loss_list))\n",
    "rel_err_cl = true_err_cl/np.abs(decrypted)\n",
    "true_err_ct = np.abs(np.array(decrypted) - np.array(unencrypted_model.true_loss_list))\n",
    "rel_err_ct = true_err_ct/np.abs(decrypted)\n",
    "true_err_lt = np.abs(np.array(unencrypted_model.loss_list) - np.array(unencrypted_model.true_loss_list))\n",
    "rel_err_lt = true_err_lt/np.abs(unencrypted_model.true_loss_list)\n"
   ]
  },
  {
   "cell_type": "code",
   "execution_count": null,
   "metadata": {},
   "outputs": [],
   "source": [
    "plt.plot([i*VERBOSE for i in range(len(model.loss_list))],  rel_err_cl, label='cipherloss and plainloss')\n",
    "plt.plot([i*VERBOSE for i in range(len(model.loss_list))],  rel_err_ct, label='cipherloss and trueloss' )\n",
    "plt.plot([i*VERBOSE for i in range(len(model.loss_list))],  rel_err_lt, label='plainlosses')\n",
    "plt.legend(loc='best')\n",
    "plt.xlabel('Epoch')\n",
    "plt.ylabel('Relative error on loss')\n",
    "plt.title('Relative error between losses')"
   ]
  },
  {
   "cell_type": "markdown",
   "metadata": {},
   "source": [
    "## Relative error between weights"
   ]
  },
  {
   "cell_type": "code",
   "execution_count": null,
   "metadata": {},
   "outputs": [],
   "source": [
    "dwl = np.array([i.decrypt(secret_key) for i in model.weight_list])\n",
    "dbl = np.array([i.decrypt(secret_key) for i in model.bias_list]).reshape((-1,1))\n",
    "dl = np.concatenate((dwl,dbl), axis=1)\n",
    "\n",
    "ul = np.concatenate((np.array(unencrypted_model.weight_list), np.array(unencrypted_model.bias_list).reshape((-1,1))), axis=1)\n",
    "w_err = np.mean((np.abs(dl-ul)/np.abs(ul)), axis=1)"
   ]
  },
  {
   "cell_type": "code",
   "execution_count": null,
   "metadata": {},
   "outputs": [],
   "source": [
    "#plt.plot([i*VERBOSE for i in range(w_err.shape[0])],wm_err)\n",
    "plt.plot([i*VERBOSE for i in range(w_err.shape[0])],w_err)\n",
    "#plt.plot([i*VERBOSE for i in range(w_err.shape[0])],w2_err)\n",
    "\n",
    "\n",
    "plt.xlabel('Epoch')\n",
    "plt.ylabel('Relative error on weights')\n",
    "plt.title('Relative error between encrypted weights and unencrypted weights')"
   ]
  },
  {
   "cell_type": "code",
   "execution_count": null,
   "metadata": {},
   "outputs": [],
   "source": [
    "del encrypted_X, encrypted_Y"
   ]
  },
  {
   "cell_type": "code",
   "execution_count": null,
   "metadata": {},
   "outputs": [],
   "source": []
  }
 ],
 "metadata": {
  "kernelspec": {
   "display_name": "TenSEAL",
   "language": "python",
   "name": "tenseal"
  },
  "language_info": {
   "codemirror_mode": {
    "name": "ipython",
    "version": 3
   },
   "file_extension": ".py",
   "mimetype": "text/x-python",
   "name": "python",
   "nbconvert_exporter": "python",
   "pygments_lexer": "ipython3",
   "version": "3.7.7"
  }
 },
 "nbformat": 4,
 "nbformat_minor": 4
}
