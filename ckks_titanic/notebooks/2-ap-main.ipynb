{
 "cells": [
  {
   "cell_type": "code",
   "execution_count": 1,
   "metadata": {},
   "outputs": [],
   "source": [
    "import time\n",
    "import os\n",
    "import sys\n",
    "import logging\n",
    "\n",
    "import numpy as np\n",
    "import tenseal as ts\n",
    "\n",
    "from sklearn.model_selection import train_test_split\n",
    "os.chdir(\"..\")\n",
    "from src.features import build_features\n",
    "from models import encrypted_LR"
   ]
  },
  {
   "cell_type": "markdown",
   "metadata": {},
   "source": [
    "# definition of parameters"
   ]
  },
  {
   "cell_type": "code",
   "execution_count": 2,
   "metadata": {},
   "outputs": [],
   "source": [
    "# data_path = \"~/homomorphic-encryption/ckks_titanic/data/raw/\"            # whole data set\n",
    "DATA_PATH = \"~/homomorphic-encryption/ckks_titanic/data/quick_demo/\"   # subset of the data set, with 15 train_samples and 5 test_samples\n",
    "LOG_PATH = \".\"\n",
    "LOG_FILENAME = \"date+all\""
   ]
  },
  {
   "cell_type": "code",
   "execution_count": 3,
   "metadata": {},
   "outputs": [],
   "source": [
    "fileHandler = logging.FileHandler(\"{0}/{1}.log\".format(LOG_PATH, LOG_FILENAME))\n",
    "streamHandler = logging.StreamHandler(sys.stdout)\n",
    "logging.basicConfig(format=\"%(asctime)s  [%(levelname)-8.8s]  %(message)s\", datefmt='%m/%d/%Y %I:%M:%S %p', level = logging.DEBUG, handlers=[fileHandler, streamHandler])"
   ]
  },
  {
   "cell_type": "code",
   "execution_count": 4,
   "metadata": {},
   "outputs": [],
   "source": [
    "def crytp_array(X, local_context):\n",
    "    res = []\n",
    "    for vec in X:\n",
    "        res.append(ts.ckks_vector(local_context, vec))\n",
    "    return res\n",
    "\n",
    "def refresh(ciphertext, **kwarg):\n",
    "    context = kwarg.get(\"context\", None)\n",
    "    secret_key = kwarg.get(\"secret_key\", None)\n",
    "    assert context , \"Context must be provided with the key : context\"+str(context)\n",
    "    if context.is_private():\n",
    "        return ts.ckks_vector(context, ciphertext.decrypt())\n",
    "    else : \n",
    "        if not secret_key:\n",
    "            raise AttributeError(\"The secret key is not provided and the context provided is public, decryption is not possible\")\n",
    "        else:\n",
    "            return ts.ckks_vector(context, ciphertext.decrypt(secret_key))"
   ]
  },
  {
   "cell_type": "markdown",
   "metadata": {},
   "source": [
    "# Loading and processing the data"
   ]
  },
  {
   "cell_type": "code",
   "execution_count": 5,
   "metadata": {},
   "outputs": [
    {
     "name": "stdout",
     "output_type": "stream",
     "text": [
      "07/15/2020 04:04:26 PM  [INFO    ]  /home/apignet/homomorphic-encryption/ckks_titanic\n",
      "07/15/2020 04:04:26 PM  [INFO    ]  loading the data into memory (pandas df)\n",
      "07/15/2020 04:04:26 PM  [INFO    ]  Done\n",
      "07/15/2020 04:04:26 PM  [INFO    ]  making final data set from raw data\n",
      "07/15/2020 04:04:26 PM  [INFO    ]  Done\n"
     ]
    }
   ],
   "source": [
    "logging.info(os.getcwd())\n",
    "raw_train, raw_test = build_features.data_import(DATA_PATH)\n",
    "train, submission_test = build_features.processing(raw_train, raw_test)"
   ]
  },
  {
   "cell_type": "code",
   "execution_count": 6,
   "metadata": {},
   "outputs": [],
   "source": [
    "train, test = train_test_split(train, test_size=0.15)\n",
    "train_labels = train.Survived\n",
    "test_labels = test.Survived\n",
    "train_features = train.drop(\"Survived\", axis=1)\n",
    "test_features = test.drop(\"Survived\", axis=1)"
   ]
  },
  {
   "cell_type": "markdown",
   "metadata": {},
   "source": [
    "# Definition of safety parameters"
   ]
  },
  {
   "cell_type": "code",
   "execution_count": 7,
   "metadata": {},
   "outputs": [
    {
     "name": "stdout",
     "output_type": "stream",
     "text": [
      "07/15/2020 04:04:27 PM  [INFO    ]  Definition of safety parameters...\n",
      "07/15/2020 04:04:27 PM  [INFO    ]  Done. 0.45 seconds\n",
      "07/15/2020 04:04:27 PM  [INFO    ]  Generation of the Galois Key...\n",
      "07/15/2020 04:04:32 PM  [INFO    ]  Done. 4.73 seconds\n"
     ]
    }
   ],
   "source": [
    "logging.info('Definition of safety parameters...')\n",
    "timer = time.time()\n",
    "# context = ts.context(ts.SCHEME_TYPE.CKKS, 32768,\n",
    "# coeff_mod_bit_sizes=[60, 40, 40, 40, 40, 40, 40, 40, 40, 40, 40, 40, 40, 40, 40, 60])\n",
    "# context = ts.context(ts.SCHEME_TYPE.CKKS, 8192, coeff_mod_bit_sizes=[40, 21, 21, 21, 21, 21, 21, 40])\n",
    "\n",
    "context = ts.context(ts.SCHEME_TYPE.CKKS, 16384, coeff_mod_bit_sizes=[60, 40, 40, 40, 40, 40, 40, 40, 60])\n",
    "context.global_scale = pow(2, 40)\n",
    "logging.info(\"Done. \" + str(round(time.time() - timer, 2)) + \" seconds\")\n",
    "logging.info('Generation of the Galois Key...')\n",
    "timer = time.time()\n",
    "context.generate_galois_keys()\n",
    "logging.info(\"Done. \" + str(round(time.time() - timer, 2)) + \" seconds\")\n",
    "\n",
    "#logging.info('Generation of the secret key...')\n",
    "#timer = time.time()\n",
    "secret_key = context.secret_key()\n",
    "#context.make_context_public()\n",
    "#logging.info(\"Done. \" + str(round(time.time() - timer, 2)) + \" seconds\")\n",
    "#if context.is_public():\n",
    "#    logging.info(\"The context is now public, the context do not hold the secret key anymore, and decrypt methods need the secret key to be provide,\")\n",
    "\n",
    "\n",
    "refresh_arguments = {'context':context, 'secret_key':secret_key}"
   ]
  },
  {
   "cell_type": "markdown",
   "metadata": {},
   "source": [
    "# Data encryption"
   ]
  },
  {
   "cell_type": "code",
   "execution_count": 8,
   "metadata": {},
   "outputs": [
    {
     "name": "stdout",
     "output_type": "stream",
     "text": [
      "07/15/2020 04:04:32 PM  [INFO    ]  Data encryption...\n",
      "07/15/2020 04:04:33 PM  [INFO    ]  Done. 1.16 seconds\n"
     ]
    }
   ],
   "source": [
    "logging.info(\"Data encryption...\")\n",
    "timer = time.time()\n",
    "encrypted_X = crytp_array(train_features.to_numpy(), context)\n",
    "encrypted_Y = crytp_array(train_labels.to_numpy().reshape((-1, 1)), context)\n",
    "encrypted_test_X = crytp_array(test_features.to_numpy(), context)\n",
    "encrypted_test_Y = crytp_array(test_labels.to_numpy().reshape((-1, 1)), context)\n",
    "logging.info(\"Done. \" + str(round(time.time() - timer, 2)) + \" seconds\")"
   ]
  },
  {
   "cell_type": "markdown",
   "metadata": {},
   "source": [
    "# Initialize the weight\n",
    "\n",
    "The weights have to be crypted "
   ]
  },
  {
   "cell_type": "code",
   "execution_count": 9,
   "metadata": {},
   "outputs": [],
   "source": [
    "weight_ne = [0. for _ in range(encrypted_test_X[0].size())]\n",
    "weight = ts.ckks_vector(context, weight_ne)\n",
    "weight_ne = np.array(weight_ne)\n",
    "bias_ne = [0.]\n",
    "bias = ts.ckks_vector(context, bias_ne)\n",
    "bias_ne = np.array(bias_ne)"
   ]
  },
  {
   "cell_type": "markdown",
   "metadata": {},
   "source": [
    "# Training"
   ]
  },
  {
   "cell_type": "code",
   "execution_count": null,
   "metadata": {},
   "outputs": [
    {
     "name": "stdout",
     "output_type": "stream",
     "text": [
      "07/15/2020 04:04:33 PM  [INFO    ]  Training starting\n",
      "07/15/2020 04:04:33 PM  [CRITICAL]  The data will be decrypted during the process, the protocol is not safe\n",
      "07/15/2020 04:04:45 PM  [DEBUG   ]  At the first iteration, the error of encryption on the gradient is 0\n",
      "07/15/2020 04:04:58 PM  [INFO    ]  iteration number 1 is starting\n",
      "07/15/2020 04:04:58 PM  [INFO    ]  Loss on the unencrypted fit : 8 \n",
      "07/15/2020 04:04:58 PM  [DEBUG   ]  error 0\n",
      "07/15/2020 04:05:10 PM  [INFO    ]  iteration number 2 is starting\n",
      "07/15/2020 04:05:10 PM  [INFO    ]  Loss on the unencrypted fit : 6 \n",
      "07/15/2020 04:05:10 PM  [DEBUG   ]  error 0\n",
      "07/15/2020 04:05:10 PM  [INFO    ]  Training done. 37.7 seconds\n"
     ]
    }
   ],
   "source": [
    "logging.info(\"Training starting\")\n",
    "model = encrypted_LR.LogisticRegressionHE(weight=weight,\n",
    "                                          bias=bias,\n",
    "                                          weight_ne=weight_ne,\n",
    "                                          bias_ne=bias_ne,\n",
    "                                          refresh_function=refresh, \n",
    "                                          refresh_kwarg=refresh_arguments,\n",
    "                                          safety=False, \n",
    "                                          verbose=True, \n",
    "                                          num_iter=2,\n",
    "                                          lr=0.8,\n",
    "                                          reg_para=0.5)\n",
    "model.fit(encrypted_X, encrypted_Y, X_ne=train_features.to_numpy(), Y_ne=train_labels.to_numpy().reshape((-1, 1)))\n",
    "logging.info(\"Training done. \" + str(round(time.time() - timer, 2)) + \" seconds\")"
   ]
  },
  {
   "cell_type": "markdown",
   "metadata": {},
   "source": [
    "# Accuracy"
   ]
  },
  {
   "cell_type": "code",
   "execution_count": null,
   "metadata": {},
   "outputs": [],
   "source": [
    "acc = model.encrypted_accuracy(encrypted_test_X, encrypted_test_Y)\n",
    "logging.info(\"Accuracy : %s \" % acc[0])"
   ]
  }
 ],
 "metadata": {
  "kernelspec": {
   "display_name": "Python 3",
   "language": "python",
   "name": "python3"
  },
  "language_info": {
   "codemirror_mode": {
    "name": "ipython",
    "version": 3
   },
   "file_extension": ".py",
   "mimetype": "text/x-python",
   "name": "python",
   "nbconvert_exporter": "python",
   "pygments_lexer": "ipython3",
   "version": "3.7.3"
  }
 },
 "nbformat": 4,
 "nbformat_minor": 2
}
