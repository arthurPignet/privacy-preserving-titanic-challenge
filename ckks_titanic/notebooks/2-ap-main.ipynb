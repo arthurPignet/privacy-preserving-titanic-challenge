{
 "cells": [
  {
   "cell_type": "code",
   "execution_count": 1,
   "metadata": {},
   "outputs": [],
   "source": [
    "import time\n",
    "import os\n",
    "import sys\n",
    "import logging\n",
    "\n",
    "import numpy as np\n",
    "import tenseal as ts\n",
    "\n",
    "from sklearn.model_selection import train_test_split\n",
    "from sklearn.linear_model import LogisticRegression\n",
    "from sklearn.metrics import confusion_matrix, average_precision_score, f1_score, recall_score, precision_score, accuracy_score, classification_report\n",
    "os.chdir(\"/home/apignet/homomorphic-encryption/ckks_titanic/\")\n",
    "from src.features import build_features\n",
    "from models import encrypted_LR\n",
    "from models import unencrypted_LR"
   ]
  },
  {
   "cell_type": "code",
   "execution_count": 2,
   "metadata": {},
   "outputs": [],
   "source": [
    "%load_ext memory_profiler"
   ]
  },
  {
   "cell_type": "code",
   "execution_count": 3,
   "metadata": {},
   "outputs": [
    {
     "data": {
      "text/plain": [
       "1"
      ]
     },
     "execution_count": 3,
     "metadata": {},
     "output_type": "execute_result"
    }
   ],
   "source": [
    "import matplotlib.pyplot as plt\n",
    "import seaborn as sns\n",
    "%matplotlib inline\n",
    "1"
   ]
  },
  {
   "cell_type": "markdown",
   "metadata": {},
   "source": [
    "# definition of parameters"
   ]
  },
  {
   "cell_type": "markdown",
   "metadata": {},
   "source": [
    "### Log "
   ]
  },
  {
   "cell_type": "markdown",
   "metadata": {},
   "source": [
    "### Paths"
   ]
  },
  {
   "cell_type": "code",
   "execution_count": 4,
   "metadata": {},
   "outputs": [],
   "source": [
    "DATA_PATH = \"/data/raw/\"            # whole data set\n",
    "#DATA_PATH = \"/data/quick_demo/\"   # subset of the data set, with 15 train_samples and 5 test_samples\n",
    "#DATA_PATH = \"/home/apignet/homomorphic-encryption/ckks_titanic/data/quick_demo/\"   # subset of the data set, with 400 train_samples and 50 test_samples\n",
    "#DATA_PATH =   '/data/quick_demo/'\n",
    "LOG_PATH = \"reports/log\"\n",
    "LOG_FILENAME = \"test_multiprocessing\""
   ]
  },
  {
   "cell_type": "code",
   "execution_count": 5,
   "metadata": {},
   "outputs": [],
   "source": [
    "fileHandler = logging.FileHandler(\"{0}/{1}.log\".format(LOG_PATH, LOG_FILENAME))\n",
    "streamHandler = logging.StreamHandler(sys.stdout)\n",
    "logging.basicConfig(format=\"%(asctime)s  [%(levelname)-8.8s]  %(message)s\", datefmt='%m/%d/%Y %I:%M:%S %p', level = logging.INFO, handlers=[fileHandler, streamHandler])"
   ]
  },
  {
   "cell_type": "code",
   "execution_count": 6,
   "metadata": {},
   "outputs": [
    {
     "data": {
      "text/plain": [
       "'/home/apignet/homomorphic-encryption/ckks_titanic'"
      ]
     },
     "execution_count": 6,
     "metadata": {},
     "output_type": "execute_result"
    }
   ],
   "source": [
    "os.getcwd()"
   ]
  },
  {
   "cell_type": "markdown",
   "metadata": {},
   "source": [
    "### Training variables"
   ]
  },
  {
   "cell_type": "code",
   "execution_count": 7,
   "metadata": {},
   "outputs": [],
   "source": [
    "EPOCH = 40\n",
    "LEARNING_RATE = 0.9\n",
    "MOMENTUM_RATE = 0.6\n",
    "REGULARIZATION_RATE = 0.5\n",
    "VERBOSE = 2\n",
    "SAVE_WEIGHT = 2\n",
    "N_JOBS = 4"
   ]
  },
  {
   "cell_type": "markdown",
   "metadata": {},
   "source": [
    "## Static functions"
   ]
  },
  {
   "cell_type": "code",
   "execution_count": 8,
   "metadata": {},
   "outputs": [],
   "source": [
    "def crytp_array(X, local_context):\n",
    "    \"\"\"\n",
    "    This function encrypt a list of vector\n",
    "    \n",
    "    :parameters \n",
    "    ------------\n",
    "    \n",
    "    :param X ; list of list, interpreted as list of vector to encrypt\n",
    "    :param local_context ; TenSEAL context object used to encrypt\n",
    "    \n",
    "    :returns\n",
    "    ------------\n",
    "    \n",
    "    list ; list of CKKS ciphertext  \n",
    "    \n",
    "    \"\"\"\n",
    "    res = []\n",
    "    for i in range(len(X)):\n",
    "        res.append(ts.ckks_vector(local_context, X[i]))\n",
    "        if i == len(X) // 4:\n",
    "            logging.info(\"25 % ...\")\n",
    "        elif i == len(X) // 2 :\n",
    "            logging.info(\"50 % ...\")\n",
    "        elif i == 3* len(X)//4:\n",
    "            logging.info(\"75% ...\")\n",
    "    return res"
   ]
  },
  {
   "cell_type": "markdown",
   "metadata": {},
   "source": [
    "### Confidential functions\n",
    "\n",
    "These functions involves security breachs (as use of unencrypted data, or decryption of weights) and cannot be coded by Alice.\n",
    "However, the functions encapslulate the unsafe process, so can be performed by Alice if Bob provides them. \n",
    "Therefore, they are currently passed as parameters to Alice, which only calls them.\n",
    "\n",
    "Currently there is a huge security breach, as confidential parameters (security key for instance), which are needed by those functions, are passed in a dictionnary to Alice. \n",
    "For a safe protocole, we have to change these functions, to set up a safe communication protocole between Bob and Alice.\n",
    "Alice will therefore only send the crypted data to Bob (using these functions, in which can be set up the communication process) and Bob will locally perform the functions which are currently coded bellow. "
   ]
  },
  {
   "cell_type": "code",
   "execution_count": 9,
   "metadata": {},
   "outputs": [],
   "source": [
    "def refresh(ciphertext, **kwarg):\n",
    "    \"\"\"\n",
    "    This function is here to refresh a ciphertext. This operation reset to 0 the calculus depth of the input ciphertext \n",
    "    WARNING :  Basically the function decryt and re-encrypt the ciphertext. \n",
    "    This is not safe, this operation needs to be done by a trusted part \n",
    "    (Bob for the perfect instance, even if it requieres communications between Alice and Bob while training)\n",
    "    \n",
    "    :parameters \n",
    "    ------------\n",
    "    \n",
    "    ciphertext ; encrypted CKKS vector \n",
    "    **kwarg ; dict, must contain context and secret_key.\n",
    "    \n",
    "    :returns\n",
    "    ------------\n",
    "    \n",
    "    ciphertext : encrypted CKKS vector \n",
    "    \n",
    "    \"\"\"\n",
    "    context = kwarg.get(\"context\", None)\n",
    "    secret_key = kwarg.get(\"secret_key\", None)\n",
    "    assert context , \"Context must be provided with the key : context\"+str(context)\n",
    "    if context.is_private():\n",
    "        return ts.ckks_vector(context, ciphertext.decrypt())\n",
    "    else : \n",
    "        if not secret_key:\n",
    "            raise AttributeError(\"The secret key is not provided and the context provided is public, decryption is not possible\")\n",
    "        else:\n",
    "            return ts.ckks_vector(context, ciphertext.decrypt(secret_key))\n",
    "   \n",
    "            \n",
    "def accuracy(crypted_weight, crypted_bias, prior_unencrypted_X = None, prior_unencrypted_Y=None, treshold = 0.5, verbose = True, **kwarg):\n",
    "    \"\"\"\n",
    "    This function is here to compute the accuracy\n",
    "    1-NOTE : we could maybe estimate this function homomorphically, by designing an approximation of the sign function. \n",
    "    However, this kind of approximation seems really hard to set up \n",
    "    Therefore, we will not be able to use the metric, as the result is encrypted.\n",
    "    2-NOTE : this function could be parallelized, as we do not need the result for the next epoch. \n",
    "    \n",
    "    :parameters \n",
    "    ------------\n",
    "    \n",
    "    crypted_weight ; encrypted CKKS vector (size equal to the number of features)\n",
    "    crypted_bias ; encrypted CKKS vector (size 1)\n",
    "    (Optionnal) prior_unencrypted_X ; samples on which the model accuracy will be computed. \n",
    "                                If not provided, the accuracy will be computed with the data provided in the kwarg\n",
    "    (Optionnal) prior_unencrypted_Y ; labels on which the model accuracy will be computed. If not provided.\n",
    "                                If not provided, the accuracy will be computed with the data provided in the kwarg\n",
    "    threshold : default 0.5, use to classified the data from the probability computed\n",
    "    verbose : Default True. If set to True, will log a report on F1, recall, precision, accuracy scores, and print the confusion matrix\n",
    "    **kwarg ; dict, must contain context, secret_key, (Optionnal) unencrytped_X and (Optionnal) unencrypted_Y \n",
    "    \n",
    "    :returns\n",
    "    ------------\n",
    "    \n",
    "    accuray : float (rounded to 2 digits)\n",
    "    \n",
    "    \n",
    "    \"\"\"\n",
    "    context = kwarg.get(\"context\", None)\n",
    "    if not context:\n",
    "        raise AttributeError(\"Context must be provided in the **kwarg, with the key : context\")\n",
    "    secret_key = kwarg.get(\"secret_key\", None)\n",
    "    if prior_unencrypted_X is None:\n",
    "        unencrypted_X = kwarg.get(\"unencrypted_X\", None)\n",
    "        if unencrypted_X is None:\n",
    "            raise AttributeError(\"Unencrypted samples must be provided, either in the arguments, or in the **kwarg, with the key : unencrypted_X\")\n",
    "    else:\n",
    "        unencrypted_X = np.array(prior_unencrypted_X)\n",
    "    if prior_unencrypted_Y is None:\n",
    "        unencrypted_Y = kwarg.get(\"unencrypted_Y\", None)\n",
    "        if unencrypted_Y is None:\n",
    "            raise AttributeError(\"Unencrypted labels must be provided, either in the arguments, or in the **kwarg, with the key : unencrypted_Y\")\n",
    "    else:\n",
    "        unencrypted_Y = np.array(prior_unencrypted_Y)\n",
    "    if context.is_private():\n",
    "            weight = np.array(crypted_weight.decrypt())\n",
    "            bias = np.array(crypted_bias.decrypt())\n",
    "    else : \n",
    "        if not secret_key:\n",
    "            raise AttributeError(\"The secret key is not provided and the context provided is public, decryption is not possible. Pass a private context or the secret key\")\n",
    "        else:\n",
    "            weight = np.array(crypted_weight.decrypt(secret_key))\n",
    "            bias = np.array(crypted_bias.decrypt(secret_key))\n",
    "            \n",
    "    \n",
    "    re = unencrypted_X.dot(weight) + bias  \n",
    "    prediction = (np.float_power(re, 3)) * -0.004 + re * 0.197 + 0.5\n",
    "    \n",
    "    prediction = (1*(prediction > treshold)).reshape((-1,1))\n",
    "    recall = recall_score(test_labels,prediction)\n",
    "    F1 = f1_score(test_labels, prediction)\n",
    "    precision = precision_score(test_labels, prediction)\n",
    "    cf_m=confusion_matrix(test_labels, prediction ) \n",
    "    accuracy = accuracy_score(test_labels, prediction)\n",
    "    if verbose:\n",
    "        logging.info(\"Precision score of encrypted model on test set: %s \" % precision)\n",
    "        logging.info(\"Recall score  of encrypted model on test set : %s \" % recall)\n",
    "        logging.info(\"F1 score of encrypted model on test set: %s \" % F1)\n",
    "        logging.info(\"Accuracy of encrypted model on train set : %s \" % accuracy)\n",
    "        sns.heatmap(cf_m, annot=True)\n",
    "    return {'precision': precision, 'recall':recall, 'F1 score':F1, \"accuracy\":accuracy, \"confusion matrix\":cf_m}\n",
    "    "
   ]
  },
  {
   "cell_type": "markdown",
   "metadata": {},
   "source": [
    "# Loading and processing the data"
   ]
  },
  {
   "cell_type": "code",
   "execution_count": 10,
   "metadata": {},
   "outputs": [
    {
     "name": "stdout",
     "output_type": "stream",
     "text": [
      "08/03/2020 05:29:48 PM  [INFO    ]  /home/apignet/homomorphic-encryption/ckks_titanic\n",
      "08/03/2020 05:29:48 PM  [INFO    ]  loading the data into memory (pandas df)\n",
      "08/03/2020 05:29:48 PM  [INFO    ]  Done\n",
      "08/03/2020 05:29:48 PM  [INFO    ]  making final data set from raw data\n",
      "08/03/2020 05:29:48 PM  [INFO    ]  Done\n",
      "08/03/2020 05:29:48 PM  [INFO    ]  /home/apignet/homomorphic-encryption/ckks_titanic\n",
      "08/03/2020 05:29:48 PM  [INFO    ]  loading the data into memory (pandas df)\n",
      "08/03/2020 05:29:48 PM  [INFO    ]  Done\n",
      "08/03/2020 05:29:48 PM  [INFO    ]  making final data set from raw data\n",
      "08/03/2020 05:29:48 PM  [INFO    ]  Done\n",
      "peak memory: 171.06 MiB, increment: 11.78 MiB\n"
     ]
    }
   ],
   "source": [
    "%%memit\n",
    "logging.info(os.getcwd())\n",
    "raw_train, raw_test = build_features.data_import(os.getcwd()+DATA_PATH)\n",
    "train, submission_test = build_features.processing(raw_train, raw_test)\n",
    "del submission_test"
   ]
  },
  {
   "cell_type": "code",
   "execution_count": 11,
   "metadata": {},
   "outputs": [
    {
     "name": "stdout",
     "output_type": "stream",
     "text": [
      "peak memory: 171.44 MiB, increment: 0.13 MiB\n"
     ]
    }
   ],
   "source": [
    "%%memit\n",
    "train, test = train_test_split(train, test_size=0.15)\n",
    "train_labels = train.Survived\n",
    "test_labels = test.Survived\n",
    "train_features = train.drop(\"Survived\", axis=1)\n",
    "test_features = test.drop(\"Survived\", axis=1)"
   ]
  },
  {
   "cell_type": "markdown",
   "metadata": {},
   "source": [
    "# Definition of safety parameters"
   ]
  },
  {
   "cell_type": "code",
   "execution_count": 12,
   "metadata": {},
   "outputs": [
    {
     "name": "stdout",
     "output_type": "stream",
     "text": [
      "08/03/2020 05:29:48 PM  [INFO    ]  Definition of safety parameters...\n",
      "08/03/2020 05:29:48 PM  [INFO    ]  Done. 0.31 seconds\n",
      "08/03/2020 05:29:48 PM  [INFO    ]  Generation of the secret key...\n",
      "08/03/2020 05:29:48 PM  [INFO    ]  Done. 0.0 seconds\n",
      "08/03/2020 05:29:48 PM  [INFO    ]  Generation of the Galois Key...\n",
      "08/03/2020 05:29:52 PM  [INFO    ]  Done. 3.3 seconds\n",
      "08/03/2020 05:29:52 PM  [INFO    ]  Generation of the Relin Key...\n",
      "08/03/2020 05:29:52 PM  [INFO    ]  Done. 0.13 seconds\n",
      "peak memory: 747.67 MiB, increment: 576.23 MiB\n"
     ]
    }
   ],
   "source": [
    "%%memit\n",
    "logging.info('Definition of safety parameters...')\n",
    "timer = time.time()\n",
    "# context = ts.context(ts.SCHEME_TYPE.CKKS, 32768,\n",
    "# coeff_mod_bit_sizes=[60, 40, 40, 40, 40, 40, 40, 40, 40, 40, 40, 40, 40, 40, 40, 60])\n",
    "#context = ts.context(ts.SCHEME_TYPE.CKKS, 8192, coeff_mod_bit_sizes=[40, 21, 21, 21, 21, 21, 21, 40])\n",
    "\n",
    "context = ts.context(ts.SCHEME_TYPE.CKKS, 16384, coeff_mod_bit_sizes=[60, 40, 40, 40, 40, 40, 40,40, 60])\n",
    "context.global_scale = pow(2, 40)\n",
    "logging.info(\"Done. \" + str(round(time.time() - timer, 2)) + \" seconds\")\n",
    "\n",
    "\n",
    "logging.info('Generation of the secret key...')\n",
    "timer = time.time()\n",
    "secret_key = context.secret_key()\n",
    "#context.make_context_public() #drop the relin keys, the galois keys, and the secret keys. \n",
    "logging.info(\"Done. \" + str(round(time.time() - timer, 2)) + \" seconds\")\n",
    "logging.info('Generation of the Galois Key...')\n",
    "timer = time.time()\n",
    "context.generate_galois_keys(secret_key)\n",
    "logging.info(\"Done. \" + str(round(time.time() - timer, 2)) + \" seconds\")\n",
    "logging.info('Generation of the Relin Key...')\n",
    "timer = time.time()\n",
    "context.generate_relin_keys(secret_key)\n",
    "logging.info(\"Done. \" + str(round(time.time() - timer, 2)) + \" seconds\")\n",
    "if context.is_public():\n",
    "    logging.info(\"The context is now public, the context do not hold the secret key anymore, and decrypt methods need the secret key to be provide,\")\n",
    "\n"
   ]
  },
  {
   "cell_type": "markdown",
   "metadata": {},
   "source": [
    "# Data encryption"
   ]
  },
  {
   "cell_type": "code",
   "execution_count": 13,
   "metadata": {},
   "outputs": [
    {
     "name": "stdout",
     "output_type": "stream",
     "text": [
      "08/03/2020 05:29:52 PM  [INFO    ]  Data encryption...\n",
      "08/03/2020 05:29:55 PM  [INFO    ]  25 % ...\n",
      "08/03/2020 05:29:58 PM  [INFO    ]  50 % ...\n",
      "08/03/2020 05:30:01 PM  [INFO    ]  75% ...\n",
      "08/03/2020 05:30:08 PM  [INFO    ]  25 % ...\n",
      "08/03/2020 05:30:11 PM  [INFO    ]  50 % ...\n",
      "08/03/2020 05:30:14 PM  [INFO    ]  75% ...\n",
      "08/03/2020 05:30:18 PM  [INFO    ]  25 % ...\n",
      "08/03/2020 05:30:18 PM  [INFO    ]  50 % ...\n",
      "08/03/2020 05:30:19 PM  [INFO    ]  75% ...\n",
      "08/03/2020 05:30:20 PM  [INFO    ]  25 % ...\n",
      "08/03/2020 05:30:20 PM  [INFO    ]  50 % ...\n",
      "08/03/2020 05:30:21 PM  [INFO    ]  75% ...\n",
      "08/03/2020 05:30:22 PM  [INFO    ]  Done. 29.57 seconds\n",
      "peak memory: 3319.63 MiB, increment: 2571.91 MiB\n"
     ]
    }
   ],
   "source": [
    "%%memit\n",
    "logging.info(\"Data encryption...\")\n",
    "timer = time.time()\n",
    "encrypted_X = crytp_array(train_features.to_numpy().tolist(), context)\n",
    "encrypted_Y = crytp_array(train_labels.to_numpy().reshape((-1, 1)).tolist(), context)\n",
    "encrypted_test_X = crytp_array(test_features.to_numpy().tolist(), context)\n",
    "encrypted_test_Y = crytp_array(test_labels.to_numpy().reshape((-1, 1)).tolist(), context)\n",
    "logging.info(\"Done. \" + str(round(time.time() - timer, 2)) + \" seconds\")"
   ]
  },
  {
   "cell_type": "markdown",
   "metadata": {},
   "source": [
    "# Initialize the weight\n",
    "\n",
    "The weights have to be crypted "
   ]
  },
  {
   "cell_type": "code",
   "execution_count": 14,
   "metadata": {},
   "outputs": [
    {
     "name": "stdout",
     "output_type": "stream",
     "text": [
      "08/03/2020 05:30:22 PM  [INFO    ]  [ 0.23030929 -0.05349824 -0.04325323  0.00531208  0.33073036 -0.06482484\n",
      "  0.13233     0.02308895 -0.08073417 -0.03300082 -0.0558111  -0.10002095\n",
      " -0.27875626  0.30733449 -0.29284184  0.00093058 -0.09617575  0.32612868\n",
      "  0.19173877 -0.1052243  -0.57918686  0.26407131  0.06348029  0.07564833\n",
      " -0.24195816  0.17800675 -0.11830089  0.01619293  0.22304879 -0.19091921\n",
      " -0.00648449  0.06693154]\n",
      "08/03/2020 05:30:22 PM  [INFO    ]  [ 0.14240909  0.09317104 -0.38406832  0.11093055 -0.01002165  0.03573265\n",
      " -0.15729783  0.14115396 -0.52439744 -0.1209898   0.00862908 -0.20973616\n",
      "  0.09638587  0.20473153  0.10614155 -0.16591455 -0.16930631 -0.29665265\n",
      " -0.04898094 -0.19449244 -0.37153852 -0.09124919 -0.57960584 -0.07170145\n",
      "  0.25414194 -0.12467102 -0.19046161 -0.05162879 -0.14636255  0.16134997\n",
      " -0.33217814 -0.04788585]\n",
      "peak memory: 3325.75 MiB, increment: 6.12 MiB\n"
     ]
    }
   ],
   "source": [
    "%%memit\n",
    "unencrypted_weight = np.random.normal(loc=0,\n",
    "                                      scale=0.2, size =(train_features.to_numpy().shape[1]))\n",
    "logging.info(unencrypted_weight)\n",
    "weight = ts.ckks_vector(context, unencrypted_weight.tolist())\n",
    "unencrypted_bias = np.random.random((1))\n",
    "bias = ts.ckks_vector(context, unencrypted_bias.tolist())"
   ]
  },
  {
   "cell_type": "markdown",
   "metadata": {},
   "source": [
    "The confidential data as yet stored into a dictionnary, and will be used during the training only by functions which are passed as arguments to the fit methods. This encapsulation of sensitive data will allows us to ensure security during training later. "
   ]
  },
  {
   "cell_type": "code",
   "execution_count": 15,
   "metadata": {},
   "outputs": [
    {
     "name": "stdout",
     "output_type": "stream",
     "text": [
      "peak memory: 3325.75 MiB, increment: 0.00 MiB\n"
     ]
    }
   ],
   "source": [
    "%%memit\n",
    "confidential_data = {'context':context,\n",
    "                     'secret_key':secret_key, \n",
    "                     'unencrypted_X':train_features.to_numpy(),\n",
    "                     'unencrypted_Y':train_labels.to_numpy().reshape((-1, 1)) \n",
    "                    }"
   ]
  },
  {
   "cell_type": "markdown",
   "metadata": {},
   "source": [
    "# Training the unencrypted model"
   ]
  },
  {
   "cell_type": "code",
   "execution_count": 16,
   "metadata": {},
   "outputs": [
    {
     "name": "stdout",
     "output_type": "stream",
     "text": [
      "08/03/2020 05:30:22 PM  [INFO    ]  Scikit Learn model initialization\n"
     ]
    }
   ],
   "source": [
    "logging.info(\"Scikit Learn model initialization\")\n",
    "sk_model = LogisticRegression(penalty='l2', solver = 'lbfgs')"
   ]
  },
  {
   "cell_type": "code",
   "execution_count": 17,
   "metadata": {},
   "outputs": [
    {
     "name": "stdout",
     "output_type": "stream",
     "text": [
      "08/03/2020 05:30:22 PM  [INFO    ]  Scikit Learn model training is starting.. \n",
      "08/03/2020 05:30:22 PM  [INFO    ]  Done. 55 iterations in 0.0323488712310791 seconds\n"
     ]
    }
   ],
   "source": [
    "logging.info(\"Scikit Learn model training is starting.. \")\n",
    "timer = time.time()\n",
    "sk_model.fit(train_features, train_labels)\n",
    "logging.info(\"Done. %s iterations in %s seconds\" %(sk_model.n_iter_[0], time.time()-timer))"
   ]
  },
  {
   "cell_type": "code",
   "execution_count": 18,
   "metadata": {},
   "outputs": [
    {
     "name": "stdout",
     "output_type": "stream",
     "text": [
      "08/03/2020 05:30:22 PM  [INFO    ]  Unencrypted model initialization\n"
     ]
    }
   ],
   "source": [
    "logging.info(\"Unencrypted model initialization\")\n",
    "unencrypted_model = unencrypted_LR.LogisticRegression(init_weight=unencrypted_weight,\n",
    "                                                      init_bias=unencrypted_bias,\n",
    "                                                      verbose=VERBOSE,\n",
    "                                                      save_weight= SAVE_WEIGHT,\n",
    "                                                      max_epoch=EPOCH,\n",
    "                                                      learning_rate=LEARNING_RATE,\n",
    "                                                      momentum_rate=MOMENTUM_RATE,\n",
    "                                                      reg_para=REGULARIZATION_RATE,\n",
    "                                                      n_jobs = N_JOBS)"
   ]
  },
  {
   "cell_type": "code",
   "execution_count": 19,
   "metadata": {},
   "outputs": [
    {
     "name": "stdout",
     "output_type": "stream",
     "text": [
      "08/03/2020 05:30:22 PM  [INFO    ]  Training starting\n",
      "08/03/2020 05:30:22 PM  [INFO    ]  Just finished iteration number 0 in  0.01981353759765625 seconds.\n",
      "08/03/2020 05:30:22 PM  [INFO    ]  Starting computation of the loss ...\n",
      "08/03/2020 05:30:22 PM  [INFO    ]  Loss : 0.7165658230054134.\n",
      "08/03/2020 05:30:22 PM  [INFO    ]  Just finished iteration number 1 in  0.019771814346313477 seconds.\n",
      "08/03/2020 05:30:22 PM  [INFO    ]  Just finished iteration number 2 in  0.018909692764282227 seconds.\n",
      "08/03/2020 05:30:22 PM  [INFO    ]  Starting computation of the loss ...\n",
      "08/03/2020 05:30:22 PM  [INFO    ]  Loss : 0.6270648212741752.\n",
      "08/03/2020 05:30:22 PM  [INFO    ]  Just finished iteration number 3 in  0.01728034019470215 seconds.\n",
      "08/03/2020 05:30:22 PM  [INFO    ]  Just finished iteration number 4 in  0.0173342227935791 seconds.\n",
      "08/03/2020 05:30:22 PM  [INFO    ]  Starting computation of the loss ...\n",
      "08/03/2020 05:30:22 PM  [INFO    ]  Loss : 0.5788028740960194.\n",
      "08/03/2020 05:30:22 PM  [INFO    ]  Just finished iteration number 5 in  0.017419815063476562 seconds.\n",
      "08/03/2020 05:30:22 PM  [INFO    ]  Just finished iteration number 6 in  0.017295122146606445 seconds.\n",
      "08/03/2020 05:30:22 PM  [INFO    ]  Starting computation of the loss ...\n",
      "08/03/2020 05:30:23 PM  [INFO    ]  Loss : 0.547366887633654.\n",
      "08/03/2020 05:30:23 PM  [INFO    ]  Just finished iteration number 7 in  0.017437458038330078 seconds.\n",
      "08/03/2020 05:30:23 PM  [INFO    ]  Just finished iteration number 8 in  0.017348289489746094 seconds.\n",
      "08/03/2020 05:30:23 PM  [INFO    ]  Starting computation of the loss ...\n",
      "08/03/2020 05:30:23 PM  [INFO    ]  Loss : 0.5261553830294861.\n",
      "08/03/2020 05:30:23 PM  [INFO    ]  Just finished iteration number 9 in  0.017409801483154297 seconds.\n",
      "08/03/2020 05:30:23 PM  [INFO    ]  Just finished iteration number 10 in  0.01728343963623047 seconds.\n",
      "08/03/2020 05:30:23 PM  [INFO    ]  Starting computation of the loss ...\n",
      "08/03/2020 05:30:23 PM  [INFO    ]  Loss : 0.5104942122536346.\n",
      "08/03/2020 05:30:23 PM  [INFO    ]  Just finished iteration number 11 in  0.01819133758544922 seconds.\n",
      "08/03/2020 05:30:23 PM  [INFO    ]  Just finished iteration number 12 in  0.017926454544067383 seconds.\n",
      "08/03/2020 05:30:23 PM  [INFO    ]  Starting computation of the loss ...\n",
      "08/03/2020 05:30:23 PM  [INFO    ]  Loss : 0.49814390261454516.\n",
      "08/03/2020 05:30:23 PM  [INFO    ]  Just finished iteration number 13 in  0.017707347869873047 seconds.\n",
      "08/03/2020 05:30:23 PM  [INFO    ]  Just finished iteration number 14 in  0.017392635345458984 seconds.\n",
      "08/03/2020 05:30:23 PM  [INFO    ]  Starting computation of the loss ...\n",
      "08/03/2020 05:30:23 PM  [INFO    ]  Loss : 0.487994510284266.\n",
      "08/03/2020 05:30:23 PM  [INFO    ]  Just finished iteration number 15 in  0.017346620559692383 seconds.\n",
      "08/03/2020 05:30:23 PM  [INFO    ]  Just finished iteration number 16 in  0.017346858978271484 seconds.\n",
      "08/03/2020 05:30:23 PM  [INFO    ]  Starting computation of the loss ...\n",
      "08/03/2020 05:30:23 PM  [INFO    ]  Loss : 0.479447088312337.\n",
      "08/03/2020 05:30:23 PM  [INFO    ]  Just finished iteration number 17 in  0.017452001571655273 seconds.\n",
      "08/03/2020 05:30:23 PM  [INFO    ]  Just finished iteration number 18 in  0.017353534698486328 seconds.\n",
      "08/03/2020 05:30:23 PM  [INFO    ]  Starting computation of the loss ...\n",
      "08/03/2020 05:30:23 PM  [INFO    ]  Loss : 0.47214141600329246.\n",
      "08/03/2020 05:30:23 PM  [INFO    ]  Just finished iteration number 19 in  0.01730489730834961 seconds.\n",
      "08/03/2020 05:30:23 PM  [INFO    ]  Just finished iteration number 20 in  0.017293930053710938 seconds.\n",
      "08/03/2020 05:30:23 PM  [INFO    ]  Starting computation of the loss ...\n",
      "08/03/2020 05:30:23 PM  [INFO    ]  Loss : 0.46583609112594554.\n",
      "08/03/2020 05:30:23 PM  [INFO    ]  Just finished iteration number 21 in  0.01735997200012207 seconds.\n",
      "08/03/2020 05:30:23 PM  [INFO    ]  Just finished iteration number 22 in  0.01737689971923828 seconds.\n",
      "08/03/2020 05:30:23 PM  [INFO    ]  Starting computation of the loss ...\n",
      "08/03/2020 05:30:23 PM  [INFO    ]  Loss : 0.4603547991508914.\n",
      "08/03/2020 05:30:23 PM  [INFO    ]  Just finished iteration number 23 in  0.01736927032470703 seconds.\n",
      "08/03/2020 05:30:23 PM  [INFO    ]  Just finished iteration number 24 in  0.017218351364135742 seconds.\n",
      "08/03/2020 05:30:23 PM  [INFO    ]  Starting computation of the loss ...\n",
      "08/03/2020 05:30:23 PM  [INFO    ]  Loss : 0.4555611957376498.\n",
      "08/03/2020 05:30:23 PM  [INFO    ]  Just finished iteration number 25 in  0.017636537551879883 seconds.\n",
      "08/03/2020 05:30:23 PM  [INFO    ]  Just finished iteration number 26 in  0.017408132553100586 seconds.\n",
      "08/03/2020 05:30:23 PM  [INFO    ]  Starting computation of the loss ...\n",
      "08/03/2020 05:30:23 PM  [INFO    ]  Loss : 0.4513462513039616.\n",
      "08/03/2020 05:30:23 PM  [INFO    ]  Just finished iteration number 27 in  0.017887353897094727 seconds.\n",
      "08/03/2020 05:30:23 PM  [INFO    ]  Just finished iteration number 28 in  0.01778888702392578 seconds.\n",
      "08/03/2020 05:30:24 PM  [INFO    ]  Starting computation of the loss ...\n",
      "08/03/2020 05:30:24 PM  [INFO    ]  Loss : 0.44762115722329854.\n",
      "08/03/2020 05:30:24 PM  [INFO    ]  Just finished iteration number 29 in  0.017904996871948242 seconds.\n",
      "08/03/2020 05:30:24 PM  [INFO    ]  Just finished iteration number 30 in  0.017899513244628906 seconds.\n",
      "08/03/2020 05:30:24 PM  [INFO    ]  Starting computation of the loss ...\n",
      "08/03/2020 05:30:24 PM  [INFO    ]  Loss : 0.4443128401530721.\n",
      "08/03/2020 05:30:24 PM  [INFO    ]  Just finished iteration number 31 in  0.018089771270751953 seconds.\n",
      "08/03/2020 05:30:24 PM  [INFO    ]  Just finished iteration number 32 in  0.017972946166992188 seconds.\n",
      "08/03/2020 05:30:24 PM  [INFO    ]  Starting computation of the loss ...\n",
      "08/03/2020 05:30:24 PM  [INFO    ]  Loss : 0.44136080691925034.\n",
      "08/03/2020 05:30:24 PM  [INFO    ]  Just finished iteration number 33 in  0.017916202545166016 seconds.\n",
      "08/03/2020 05:30:24 PM  [INFO    ]  Just finished iteration number 34 in  0.017773151397705078 seconds.\n",
      "08/03/2020 05:30:24 PM  [INFO    ]  Starting computation of the loss ...\n",
      "08/03/2020 05:30:24 PM  [INFO    ]  Loss : 0.43871475345340827.\n",
      "08/03/2020 05:30:24 PM  [INFO    ]  Just finished iteration number 35 in  0.018750429153442383 seconds.\n",
      "08/03/2020 05:30:24 PM  [INFO    ]  Just finished iteration number 36 in  0.018251657485961914 seconds.\n",
      "08/03/2020 05:30:24 PM  [INFO    ]  Starting computation of the loss ...\n",
      "08/03/2020 05:30:24 PM  [INFO    ]  Loss : 0.43633267343644744.\n",
      "08/03/2020 05:30:24 PM  [INFO    ]  Just finished iteration number 37 in  0.018210172653198242 seconds.\n",
      "08/03/2020 05:30:24 PM  [INFO    ]  Just finished iteration number 38 in  0.017915010452270508 seconds.\n",
      "08/03/2020 05:30:24 PM  [INFO    ]  Starting computation of the loss ...\n",
      "08/03/2020 05:30:24 PM  [INFO    ]  Loss : 0.43417933151807464.\n",
      "08/03/2020 05:30:24 PM  [INFO    ]  Just finished iteration number 39 in  0.017957210540771484 seconds.\n",
      "08/03/2020 05:30:24 PM  [INFO    ]  Training done. 2.0 seconds\n"
     ]
    }
   ],
   "source": [
    "logging.info(\"Training starting\")\n",
    "timer=time.time()\n",
    "unencrypted_model.fit(train_features.to_numpy(), train_labels.to_numpy().reshape((-1, 1)))\n",
    "logging.info(\"Training done. \" + str(round(time.time() - timer, 0)) + \" seconds\")"
   ]
  },
  {
   "cell_type": "markdown",
   "metadata": {},
   "source": [
    "### Unencrypted accuracy and loss"
   ]
  },
  {
   "cell_type": "code",
   "execution_count": 20,
   "metadata": {},
   "outputs": [
    {
     "name": "stdout",
     "output_type": "stream",
     "text": [
      "08/03/2020 05:30:24 PM  [INFO    ]  Accuracy of unencrypted model : 0.7525773195876289 \n"
     ]
    },
    {
     "data": {
      "text/plain": [
       "<matplotlib.legend.Legend at 0x7f47f6a675f8>"
      ]
     },
     "execution_count": 20,
     "metadata": {},
     "output_type": "execute_result"
    },
    {
     "data": {
      "image/png": "[encoded data removed]",
      "text/plain": [
       "<Figure size 432x288 with 1 Axes>"
      ]
     },
     "metadata": {
      "needs_background": "light"
     },
     "output_type": "display_data"
    }
   ],
   "source": [
    "acc = unencrypted_model.accuracy(test_features.to_numpy(), test_labels.to_numpy().reshape((-1, 1)))\n",
    "logging.info(\"Accuracy of unencrypted model : %s \" % acc)\n",
    "\n",
    "plt.plot([i*VERBOSE for i in range(len(unencrypted_model.loss_list))], unencrypted_model.loss_list,'-xr' ,label='plainloss')\n",
    "plt.plot([i*VERBOSE for i in range(len(unencrypted_model.true_loss_list))], unencrypted_model.true_loss_list, '-ob', label='True plainloss')\n",
    "\n",
    "plt.xlabel('Epoch')\n",
    "plt.ylabel('Loss')\n",
    "plt.title('Losses evolution of unencrypted model with momentum')\n",
    "plt.legend(loc='best')"
   ]
  },
  {
   "cell_type": "markdown",
   "metadata": {},
   "source": [
    "# Training the crypted models"
   ]
  },
  {
   "cell_type": "code",
   "execution_count": 21,
   "metadata": {},
   "outputs": [
    {
     "name": "stdout",
     "output_type": "stream",
     "text": [
      "08/03/2020 05:30:24 PM  [INFO    ]  Model initialization\n"
     ]
    }
   ],
   "source": [
    "logging.info(\"Model initialization\")\n",
    "model = encrypted_LR.LogisticRegressionHE(init_weight=weight,\n",
    "                                          init_bias=bias,\n",
    "                                          refresh_function=refresh,\n",
    "                                          context=context,\n",
    "                                          confidential_kwarg=confidential_data,\n",
    "                                          accuracy=accuracy,\n",
    "                                          verbose=VERBOSE,\n",
    "                                          save_weight=SAVE_WEIGHT,\n",
    "                                          max_epoch=EPOCH,\n",
    "                                          learning_rate=LEARNING_RATE,\n",
    "                                          momentum_rate=MOMENTUM_RATE,\n",
    "                                          reg_para=REGULARIZATION_RATE,\n",
    "                                          n_jobs = N_JOBS)"
   ]
  },
  {
   "cell_type": "code",
   "execution_count": 22,
   "metadata": {
    "scrolled": true
   },
   "outputs": [
    {
     "name": "stdout",
     "output_type": "stream",
     "text": [
      "08/03/2020 05:30:25 PM  [INFO    ]  Training starting\n",
      "08/03/2020 05:30:25 PM  [INFO    ]  Starting serialization of data\n",
      "08/03/2020 05:34:19 PM  [INFO    ]  Data serialization done in 234.30211281776428 seconds\n",
      "08/03/2020 05:34:19 PM  [INFO    ]  Initialization of 4 workers\n",
      "08/03/2020 05:34:27 PM  [INFO    ]  Initialization done for process Process-17. Len of data : 137\n",
      "08/03/2020 05:34:27 PM  [INFO    ]  Initialization done for process Process-18. Len of data : 137\n",
      "08/03/2020 05:34:27 PM  [INFO    ]  Initialization done for process Process-19. Len of data : 136\n",
      "08/03/2020 05:34:27 PM  [INFO    ]  Initialization done for process Process-20. Len of data : 136\n",
      "08/03/2020 05:34:27 PM  [INFO    ]  Initialization done in 8.529286861419678 seconds\n",
      "08/03/2020 05:35:41 PM  [INFO    ]  Just finished iteration number 0 in  73.17382597923279 seconds. \n",
      "08/03/2020 05:37:26 PM  [INFO    ]  Starting computation of the loss ...\n",
      "08/03/2020 05:37:26 PM  [INFO    ]  Loss : <_tenseal_cpp.CKKSVector object at 0x7f47c5384ab0>.\n",
      "08/03/2020 05:38:39 PM  [INFO    ]  Just finished iteration number 1 in  73.15484619140625 seconds. \n",
      "08/03/2020 05:39:52 PM  [INFO    ]  Just finished iteration number 2 in  73.11552143096924 seconds. \n",
      "08/03/2020 05:41:37 PM  [INFO    ]  Starting computation of the loss ...\n",
      "08/03/2020 05:41:37 PM  [INFO    ]  Loss : <_tenseal_cpp.CKKSVector object at 0x7f47c5384848>.\n",
      "08/03/2020 05:42:50 PM  [INFO    ]  Just finished iteration number 3 in  73.13764333724976 seconds. \n",
      "08/03/2020 05:44:03 PM  [INFO    ]  Just finished iteration number 4 in  73.1313807964325 seconds. \n",
      "08/03/2020 05:45:49 PM  [INFO    ]  Starting computation of the loss ...\n",
      "08/03/2020 05:45:49 PM  [INFO    ]  Loss : <_tenseal_cpp.CKKSVector object at 0x7f47c5384a08>.\n",
      "08/03/2020 05:47:02 PM  [INFO    ]  Just finished iteration number 5 in  73.13093614578247 seconds. \n",
      "08/03/2020 05:48:15 PM  [INFO    ]  Just finished iteration number 6 in  73.1307761669159 seconds. \n",
      "08/03/2020 05:50:00 PM  [INFO    ]  Starting computation of the loss ...\n",
      "08/03/2020 05:50:00 PM  [INFO    ]  Loss : <_tenseal_cpp.CKKSVector object at 0x7f47c5384c38>.\n",
      "08/03/2020 05:51:13 PM  [INFO    ]  Just finished iteration number 7 in  73.12663912773132 seconds. \n",
      "08/03/2020 05:52:26 PM  [INFO    ]  Just finished iteration number 8 in  73.07779312133789 seconds. \n",
      "08/03/2020 05:54:12 PM  [INFO    ]  Starting computation of the loss ...\n",
      "08/03/2020 05:54:12 PM  [INFO    ]  Loss : <_tenseal_cpp.CKKSVector object at 0x7f47c5384ca8>.\n",
      "08/03/2020 05:55:25 PM  [INFO    ]  Just finished iteration number 9 in  73.1532940864563 seconds. \n",
      "08/03/2020 05:56:38 PM  [INFO    ]  Just finished iteration number 10 in  73.14412784576416 seconds. \n",
      "08/03/2020 05:58:23 PM  [INFO    ]  Starting computation of the loss ...\n",
      "08/03/2020 05:58:23 PM  [INFO    ]  Loss : <_tenseal_cpp.CKKSVector object at 0x7f47d1ed3880>.\n",
      "08/03/2020 05:59:36 PM  [INFO    ]  Just finished iteration number 11 in  73.07764315605164 seconds. \n",
      "08/03/2020 06:00:49 PM  [INFO    ]  Just finished iteration number 12 in  73.05374932289124 seconds. \n",
      "08/03/2020 06:02:34 PM  [INFO    ]  Starting computation of the loss ...\n",
      "08/03/2020 06:02:34 PM  [INFO    ]  Loss : <_tenseal_cpp.CKKSVector object at 0x7f47d1ed35e0>.\n",
      "08/03/2020 06:03:47 PM  [INFO    ]  Just finished iteration number 13 in  73.09879326820374 seconds. \n",
      "08/03/2020 06:05:01 PM  [INFO    ]  Just finished iteration number 14 in  73.05024671554565 seconds. \n",
      "08/03/2020 06:06:46 PM  [INFO    ]  Starting computation of the loss ...\n",
      "08/03/2020 06:06:46 PM  [INFO    ]  Loss : <_tenseal_cpp.CKKSVector object at 0x7f47f6ad8b90>.\n",
      "08/03/2020 06:07:59 PM  [INFO    ]  Just finished iteration number 15 in  73.09059858322144 seconds. \n",
      "08/03/2020 06:09:12 PM  [INFO    ]  Just finished iteration number 16 in  73.10934233665466 seconds. \n",
      "08/03/2020 06:10:57 PM  [INFO    ]  Starting computation of the loss ...\n",
      "08/03/2020 06:10:57 PM  [INFO    ]  Loss : <_tenseal_cpp.CKKSVector object at 0x7f47f6b37b58>.\n",
      "08/03/2020 06:12:10 PM  [INFO    ]  Just finished iteration number 17 in  73.03262543678284 seconds. \n",
      "08/03/2020 06:13:23 PM  [INFO    ]  Just finished iteration number 18 in  73.10573601722717 seconds. \n",
      "08/03/2020 06:15:09 PM  [INFO    ]  Starting computation of the loss ...\n",
      "08/03/2020 06:15:09 PM  [INFO    ]  Loss : <_tenseal_cpp.CKKSVector object at 0x7f47f6b37ab0>.\n",
      "08/03/2020 06:16:22 PM  [INFO    ]  Just finished iteration number 19 in  73.09477734565735 seconds. \n",
      "08/03/2020 06:17:35 PM  [INFO    ]  Just finished iteration number 20 in  73.10772943496704 seconds. \n",
      "08/03/2020 06:19:20 PM  [INFO    ]  Starting computation of the loss ...\n",
      "08/03/2020 06:19:20 PM  [INFO    ]  Loss : <_tenseal_cpp.CKKSVector object at 0x7f47c5384ae8>.\n",
      "08/03/2020 06:20:33 PM  [INFO    ]  Just finished iteration number 21 in  73.17558431625366 seconds. \n",
      "08/03/2020 06:21:46 PM  [INFO    ]  Just finished iteration number 22 in  73.16956114768982 seconds. \n",
      "08/03/2020 06:23:31 PM  [INFO    ]  Starting computation of the loss ...\n",
      "08/03/2020 06:23:31 PM  [INFO    ]  Loss : <_tenseal_cpp.CKKSVector object at 0x7f47d1ed37a0>.\n",
      "08/03/2020 06:24:45 PM  [INFO    ]  Just finished iteration number 23 in  73.04517030715942 seconds. \n",
      "08/03/2020 06:25:58 PM  [INFO    ]  Just finished iteration number 24 in  73.06501007080078 seconds. \n",
      "08/03/2020 06:27:43 PM  [INFO    ]  Starting computation of the loss ...\n",
      "08/03/2020 06:27:43 PM  [INFO    ]  Loss : <_tenseal_cpp.CKKSVector object at 0x7f47c5384e68>.\n",
      "08/03/2020 06:28:56 PM  [INFO    ]  Just finished iteration number 25 in  73.02154922485352 seconds. \n",
      "08/03/2020 06:30:09 PM  [INFO    ]  Just finished iteration number 26 in  73.23754596710205 seconds. \n",
      "08/03/2020 06:31:55 PM  [INFO    ]  Starting computation of the loss ...\n",
      "08/03/2020 06:31:55 PM  [INFO    ]  Loss : <_tenseal_cpp.CKKSVector object at 0x7f47c5384ea0>.\n"
     ]
    },
    {
     "ename": "MemoryError",
     "evalue": "",
     "output_type": "error",
     "traceback": [
      "\u001b[0;31m---------------------------------------------------------------------------\u001b[0m",
      "\u001b[0;31mMemoryError\u001b[0m                               Traceback (most recent call last)",
      "\u001b[0;32m<ipython-input-22-3b9f6d2b43e7>\u001b[0m in \u001b[0;36m<module>\u001b[0;34m\u001b[0m\n\u001b[1;32m      1\u001b[0m \u001b[0mlogging\u001b[0m\u001b[0;34m.\u001b[0m\u001b[0minfo\u001b[0m\u001b[0;34m(\u001b[0m\u001b[0;34m\"Training starting\"\u001b[0m\u001b[0;34m)\u001b[0m\u001b[0;34m\u001b[0m\u001b[0;34m\u001b[0m\u001b[0m\n\u001b[1;32m      2\u001b[0m \u001b[0mtimer\u001b[0m\u001b[0;34m=\u001b[0m\u001b[0mtime\u001b[0m\u001b[0;34m.\u001b[0m\u001b[0mtime\u001b[0m\u001b[0;34m(\u001b[0m\u001b[0;34m)\u001b[0m\u001b[0;34m\u001b[0m\u001b[0;34m\u001b[0m\u001b[0m\n\u001b[0;32m----> 3\u001b[0;31m \u001b[0mmodel\u001b[0m\u001b[0;34m.\u001b[0m\u001b[0mfit\u001b[0m\u001b[0;34m(\u001b[0m\u001b[0mencrypted_X\u001b[0m\u001b[0;34m,\u001b[0m \u001b[0mencrypted_Y\u001b[0m\u001b[0;34m)\u001b[0m\u001b[0;34m\u001b[0m\u001b[0;34m\u001b[0m\u001b[0m\n\u001b[0m\u001b[1;32m      4\u001b[0m \u001b[0mlogging\u001b[0m\u001b[0;34m.\u001b[0m\u001b[0minfo\u001b[0m\u001b[0;34m(\u001b[0m\u001b[0;34m\"Training done. \"\u001b[0m \u001b[0;34m+\u001b[0m \u001b[0mstr\u001b[0m\u001b[0;34m(\u001b[0m\u001b[0mround\u001b[0m\u001b[0;34m(\u001b[0m\u001b[0mtime\u001b[0m\u001b[0;34m.\u001b[0m\u001b[0mtime\u001b[0m\u001b[0;34m(\u001b[0m\u001b[0;34m)\u001b[0m \u001b[0;34m-\u001b[0m \u001b[0mtimer\u001b[0m\u001b[0;34m,\u001b[0m \u001b[0;36m0\u001b[0m\u001b[0;34m)\u001b[0m\u001b[0;34m)\u001b[0m \u001b[0;34m+\u001b[0m \u001b[0;34m\" seconds\"\u001b[0m\u001b[0;34m)\u001b[0m\u001b[0;34m\u001b[0m\u001b[0;34m\u001b[0m\u001b[0m\n",
      "\u001b[0;32m~/homomorphic-encryption/ckks_titanic/models/encrypted_LR.py\u001b[0m in \u001b[0;36mfit\u001b[0;34m(self, X, Y)\u001b[0m\n\u001b[1;32m    363\u001b[0m             \u001b[0mb_predictions\u001b[0m \u001b[0;34m=\u001b[0m \u001b[0;34m[\u001b[0m\u001b[0;36m0\u001b[0m \u001b[0;32mfor\u001b[0m \u001b[0m_\u001b[0m \u001b[0;32min\u001b[0m \u001b[0mrange\u001b[0m\u001b[0;34m(\u001b[0m\u001b[0mlen\u001b[0m\u001b[0;34m(\u001b[0m\u001b[0mX\u001b[0m\u001b[0;34m)\u001b[0m\u001b[0;34m)\u001b[0m\u001b[0;34m]\u001b[0m\u001b[0;34m\u001b[0m\u001b[0;34m\u001b[0m\u001b[0m\n\u001b[1;32m    364\u001b[0m             \u001b[0;32mfor\u001b[0m \u001b[0m_\u001b[0m \u001b[0;32min\u001b[0m \u001b[0mrange\u001b[0m\u001b[0;34m(\u001b[0m\u001b[0mself\u001b[0m\u001b[0;34m.\u001b[0m\u001b[0mn_jobs\u001b[0m\u001b[0;34m)\u001b[0m\u001b[0;34m:\u001b[0m\u001b[0;34m\u001b[0m\u001b[0;34m\u001b[0m\u001b[0m\n\u001b[0;32m--> 365\u001b[0;31m                 \u001b[0mlog_out\u001b[0m\u001b[0;34m.\u001b[0m\u001b[0mappend\u001b[0m\u001b[0;34m(\u001b[0m\u001b[0mqueue_out\u001b[0m\u001b[0;34m.\u001b[0m\u001b[0mget\u001b[0m\u001b[0;34m(\u001b[0m\u001b[0;34m)\u001b[0m\u001b[0;34m)\u001b[0m\u001b[0;34m\u001b[0m\u001b[0;34m\u001b[0m\u001b[0m\n\u001b[0m\u001b[1;32m    366\u001b[0m                 \u001b[0mdirection_weight\u001b[0m \u001b[0;34m+=\u001b[0m \u001b[0mts\u001b[0m\u001b[0;34m.\u001b[0m\u001b[0mckks_vector_from\u001b[0m\u001b[0;34m(\u001b[0m\u001b[0mself\u001b[0m\u001b[0;34m.\u001b[0m\u001b[0mcontext\u001b[0m\u001b[0;34m,\u001b[0m \u001b[0mlog_out\u001b[0m\u001b[0;34m[\u001b[0m\u001b[0;34m-\u001b[0m\u001b[0;36m1\u001b[0m\u001b[0;34m]\u001b[0m\u001b[0;34m[\u001b[0m\u001b[0;36m0\u001b[0m\u001b[0;34m]\u001b[0m\u001b[0;34m)\u001b[0m\u001b[0;34m\u001b[0m\u001b[0;34m\u001b[0m\u001b[0m\n\u001b[1;32m    367\u001b[0m                 \u001b[0mdirection_bias\u001b[0m \u001b[0;34m+=\u001b[0m \u001b[0mts\u001b[0m\u001b[0;34m.\u001b[0m\u001b[0mckks_vector_from\u001b[0m\u001b[0;34m(\u001b[0m\u001b[0mself\u001b[0m\u001b[0;34m.\u001b[0m\u001b[0mcontext\u001b[0m\u001b[0;34m,\u001b[0m \u001b[0mlog_out\u001b[0m\u001b[0;34m[\u001b[0m\u001b[0;34m-\u001b[0m\u001b[0;36m1\u001b[0m\u001b[0;34m]\u001b[0m\u001b[0;34m[\u001b[0m\u001b[0;36m1\u001b[0m\u001b[0;34m]\u001b[0m\u001b[0;34m)\u001b[0m\u001b[0;34m\u001b[0m\u001b[0;34m\u001b[0m\u001b[0m\n",
      "\u001b[0;32m~/anaconda3/lib/python3.7/multiprocessing/queues.py\u001b[0m in \u001b[0;36mget\u001b[0;34m(self, block, timeout)\u001b[0m\n\u001b[1;32m     92\u001b[0m         \u001b[0;32mif\u001b[0m \u001b[0mblock\u001b[0m \u001b[0;32mand\u001b[0m \u001b[0mtimeout\u001b[0m \u001b[0;32mis\u001b[0m \u001b[0;32mNone\u001b[0m\u001b[0;34m:\u001b[0m\u001b[0;34m\u001b[0m\u001b[0;34m\u001b[0m\u001b[0m\n\u001b[1;32m     93\u001b[0m             \u001b[0;32mwith\u001b[0m \u001b[0mself\u001b[0m\u001b[0;34m.\u001b[0m\u001b[0m_rlock\u001b[0m\u001b[0;34m:\u001b[0m\u001b[0;34m\u001b[0m\u001b[0;34m\u001b[0m\u001b[0m\n\u001b[0;32m---> 94\u001b[0;31m                 \u001b[0mres\u001b[0m \u001b[0;34m=\u001b[0m \u001b[0mself\u001b[0m\u001b[0;34m.\u001b[0m\u001b[0m_recv_bytes\u001b[0m\u001b[0;34m(\u001b[0m\u001b[0;34m)\u001b[0m\u001b[0;34m\u001b[0m\u001b[0;34m\u001b[0m\u001b[0m\n\u001b[0m\u001b[1;32m     95\u001b[0m             \u001b[0mself\u001b[0m\u001b[0;34m.\u001b[0m\u001b[0m_sem\u001b[0m\u001b[0;34m.\u001b[0m\u001b[0mrelease\u001b[0m\u001b[0;34m(\u001b[0m\u001b[0;34m)\u001b[0m\u001b[0;34m\u001b[0m\u001b[0;34m\u001b[0m\u001b[0m\n\u001b[1;32m     96\u001b[0m         \u001b[0;32melse\u001b[0m\u001b[0;34m:\u001b[0m\u001b[0;34m\u001b[0m\u001b[0;34m\u001b[0m\u001b[0m\n",
      "\u001b[0;32m~/anaconda3/lib/python3.7/multiprocessing/connection.py\u001b[0m in \u001b[0;36mrecv_bytes\u001b[0;34m(self, maxlength)\u001b[0m\n\u001b[1;32m    214\u001b[0m         \u001b[0;32mif\u001b[0m \u001b[0mmaxlength\u001b[0m \u001b[0;32mis\u001b[0m \u001b[0;32mnot\u001b[0m \u001b[0;32mNone\u001b[0m \u001b[0;32mand\u001b[0m \u001b[0mmaxlength\u001b[0m \u001b[0;34m<\u001b[0m \u001b[0;36m0\u001b[0m\u001b[0;34m:\u001b[0m\u001b[0;34m\u001b[0m\u001b[0;34m\u001b[0m\u001b[0m\n\u001b[1;32m    215\u001b[0m             \u001b[0;32mraise\u001b[0m \u001b[0mValueError\u001b[0m\u001b[0;34m(\u001b[0m\u001b[0;34m\"negative maxlength\"\u001b[0m\u001b[0;34m)\u001b[0m\u001b[0;34m\u001b[0m\u001b[0;34m\u001b[0m\u001b[0m\n\u001b[0;32m--> 216\u001b[0;31m         \u001b[0mbuf\u001b[0m \u001b[0;34m=\u001b[0m \u001b[0mself\u001b[0m\u001b[0;34m.\u001b[0m\u001b[0m_recv_bytes\u001b[0m\u001b[0;34m(\u001b[0m\u001b[0mmaxlength\u001b[0m\u001b[0;34m)\u001b[0m\u001b[0;34m\u001b[0m\u001b[0;34m\u001b[0m\u001b[0m\n\u001b[0m\u001b[1;32m    217\u001b[0m         \u001b[0;32mif\u001b[0m \u001b[0mbuf\u001b[0m \u001b[0;32mis\u001b[0m \u001b[0;32mNone\u001b[0m\u001b[0;34m:\u001b[0m\u001b[0;34m\u001b[0m\u001b[0;34m\u001b[0m\u001b[0m\n\u001b[1;32m    218\u001b[0m             \u001b[0mself\u001b[0m\u001b[0;34m.\u001b[0m\u001b[0m_bad_message_length\u001b[0m\u001b[0;34m(\u001b[0m\u001b[0;34m)\u001b[0m\u001b[0;34m\u001b[0m\u001b[0;34m\u001b[0m\u001b[0m\n",
      "\u001b[0;32m~/anaconda3/lib/python3.7/multiprocessing/connection.py\u001b[0m in \u001b[0;36m_recv_bytes\u001b[0;34m(self, maxsize)\u001b[0m\n\u001b[1;32m    409\u001b[0m         \u001b[0;32mif\u001b[0m \u001b[0mmaxsize\u001b[0m \u001b[0;32mis\u001b[0m \u001b[0;32mnot\u001b[0m \u001b[0;32mNone\u001b[0m \u001b[0;32mand\u001b[0m \u001b[0msize\u001b[0m \u001b[0;34m>\u001b[0m \u001b[0mmaxsize\u001b[0m\u001b[0;34m:\u001b[0m\u001b[0;34m\u001b[0m\u001b[0;34m\u001b[0m\u001b[0m\n\u001b[1;32m    410\u001b[0m             \u001b[0;32mreturn\u001b[0m \u001b[0;32mNone\u001b[0m\u001b[0;34m\u001b[0m\u001b[0;34m\u001b[0m\u001b[0m\n\u001b[0;32m--> 411\u001b[0;31m         \u001b[0;32mreturn\u001b[0m \u001b[0mself\u001b[0m\u001b[0;34m.\u001b[0m\u001b[0m_recv\u001b[0m\u001b[0;34m(\u001b[0m\u001b[0msize\u001b[0m\u001b[0;34m)\u001b[0m\u001b[0;34m\u001b[0m\u001b[0;34m\u001b[0m\u001b[0m\n\u001b[0m\u001b[1;32m    412\u001b[0m \u001b[0;34m\u001b[0m\u001b[0m\n\u001b[1;32m    413\u001b[0m     \u001b[0;32mdef\u001b[0m \u001b[0m_poll\u001b[0m\u001b[0;34m(\u001b[0m\u001b[0mself\u001b[0m\u001b[0;34m,\u001b[0m \u001b[0mtimeout\u001b[0m\u001b[0;34m)\u001b[0m\u001b[0;34m:\u001b[0m\u001b[0;34m\u001b[0m\u001b[0;34m\u001b[0m\u001b[0m\n",
      "\u001b[0;32m~/anaconda3/lib/python3.7/multiprocessing/connection.py\u001b[0m in \u001b[0;36m_recv\u001b[0;34m(self, size, read)\u001b[0m\n\u001b[1;32m    384\u001b[0m                 \u001b[0;32melse\u001b[0m\u001b[0;34m:\u001b[0m\u001b[0;34m\u001b[0m\u001b[0;34m\u001b[0m\u001b[0m\n\u001b[1;32m    385\u001b[0m                     \u001b[0;32mraise\u001b[0m \u001b[0mOSError\u001b[0m\u001b[0;34m(\u001b[0m\u001b[0;34m\"got end of file during message\"\u001b[0m\u001b[0;34m)\u001b[0m\u001b[0;34m\u001b[0m\u001b[0;34m\u001b[0m\u001b[0m\n\u001b[0;32m--> 386\u001b[0;31m             \u001b[0mbuf\u001b[0m\u001b[0;34m.\u001b[0m\u001b[0mwrite\u001b[0m\u001b[0;34m(\u001b[0m\u001b[0mchunk\u001b[0m\u001b[0;34m)\u001b[0m\u001b[0;34m\u001b[0m\u001b[0;34m\u001b[0m\u001b[0m\n\u001b[0m\u001b[1;32m    387\u001b[0m             \u001b[0mremaining\u001b[0m \u001b[0;34m-=\u001b[0m \u001b[0mn\u001b[0m\u001b[0;34m\u001b[0m\u001b[0;34m\u001b[0m\u001b[0m\n\u001b[1;32m    388\u001b[0m         \u001b[0;32mreturn\u001b[0m \u001b[0mbuf\u001b[0m\u001b[0;34m\u001b[0m\u001b[0;34m\u001b[0m\u001b[0m\n",
      "\u001b[0;31mMemoryError\u001b[0m: "
     ]
    }
   ],
   "source": [
    "logging.info(\"Training starting\")\n",
    "timer=time.time()\n",
    "model.fit(encrypted_X, encrypted_Y)\n",
    "logging.info(\"Training done. \" + str(round(time.time() - timer, 0)) + \" seconds\")"
   ]
  },
  {
   "cell_type": "code",
   "execution_count": null,
   "metadata": {},
   "outputs": [],
   "source": [
    "unencrypted_X = test_features.to_numpy()\n",
    "weight = model.weight.decrypt(secret_key)\n",
    "bias = model.bias.decrypt(secret_key)\n",
    "re = unencrypted_X.dot(weight) + bias  \n",
    "prediction = (np.float_power(re, 3)) * -0.004 + re * 0.197 + 0.5\n",
    "prediction = 1*(prediction > 0.5)\n",
    "recall = recall_score(test_labels,prediction)\n",
    "F1 = f1_score(test_labels, prediction)\n",
    "precision = precision_score(test_labels, prediction)\n",
    "cf_m=confusion_matrix(test_labels, prediction ) \n",
    "accuracy = accuracy_score(test_labels, prediction)\n",
    "\n",
    "logging.info(\"Precision score of encrypted model on test set: %s \" % precision)\n",
    "logging.info(\"Recall score  of encrypted model on test set : %s \" % recall)\n",
    "logging.info(\"F1 score of encrypted model on test set: %s \" % F1)\n",
    "logging.info(\"Accuracy of encrypted model on train set : %s \" % accuracy)\n",
    "sns.heatmap(cf_m, annot=True)"
   ]
  },
  {
   "cell_type": "code",
   "execution_count": null,
   "metadata": {
    "scrolled": true
   },
   "outputs": [],
   "source": [
    "prediction = unencrypted_model.predict(test_features)\n",
    "prediction = 1*(prediction > 0.5)\n",
    "recall = recall_score(test_labels,prediction)\n",
    "F1 = f1_score(test_labels, prediction)\n",
    "precision = precision_score(test_labels, prediction)\n",
    "cf_m=confusion_matrix(test_labels, prediction ) \n",
    "accuracy = accuracy_score(test_labels, prediction)\n",
    "\n",
    "logging.info(\"Precision score of unencrypted model on test set: %s \" % precision)\n",
    "logging.info(\"Recall score  of unencrypted model on test set : %s \" % recall)\n",
    "logging.info(\"F1 score of unencrypted model on test set: %s \" % F1)\n",
    "logging.info(\"Accuracy of unencrypted model on train set : %s \" % accuracy)\n",
    "sns.heatmap(cf_m, annot=True)"
   ]
  },
  {
   "cell_type": "code",
   "execution_count": null,
   "metadata": {},
   "outputs": [],
   "source": [
    "prediction = sk_model.predict(test_features)\n",
    "prediction = 1*(prediction > 0.5)\n",
    "recall = recall_score(test_labels,prediction)\n",
    "F1 = f1_score(test_labels, prediction)\n",
    "precision = precision_score(test_labels, prediction)\n",
    "cf_m=confusion_matrix(test_labels, prediction ) \n",
    "accuracy = accuracy_score(test_labels, prediction)\n",
    "\n",
    "logging.info(\"Precision score of scikit-learn model on test set: %s \" % precision)\n",
    "logging.info(\"Recall score  of scikit-learn model on test set : %s \" % recall)\n",
    "logging.info(\"F1 score of scikit-learn model on test set: %s \" % F1)\n",
    "logging.info(\"Accuracy of scikit-learn model on test set : %s \" % accuracy)\n",
    "sns.heatmap(cf_m, annot=True)"
   ]
  },
  {
   "cell_type": "markdown",
   "metadata": {},
   "source": [
    "# Figures"
   ]
  },
  {
   "cell_type": "markdown",
   "metadata": {},
   "source": [
    "## encrypted and unencrypted losses "
   ]
  },
  {
   "cell_type": "code",
   "execution_count": null,
   "metadata": {},
   "outputs": [],
   "source": [
    "plt.plot([i*VERBOSE for i in range(len(model.loss_list))], [i.decrypt(secret_key)[0] for i in model.loss_list],'-or', label='cipherloss')\n",
    "\n",
    "plt.plot([i*VERBOSE for i in range(len(unencrypted_model.loss_list))], unencrypted_model.loss_list, label='plainloss')\n",
    "plt.plot([i*VERBOSE for i in range(len(unencrypted_model.true_loss_list))], unencrypted_model.true_loss_list, label='True plainloss')\n",
    "plt.xlabel('Epoch')\n",
    "plt.ylabel('Loss')\n",
    "plt.title('Losses evolution of both models')\n",
    "plt.legend(loc='best')"
   ]
  },
  {
   "cell_type": "markdown",
   "metadata": {},
   "source": [
    "## Unencrypted loss"
   ]
  },
  {
   "cell_type": "markdown",
   "metadata": {},
   "source": [
    "# Errors"
   ]
  },
  {
   "cell_type": "markdown",
   "metadata": {},
   "source": [
    "## Relative error between losses"
   ]
  },
  {
   "cell_type": "code",
   "execution_count": null,
   "metadata": {},
   "outputs": [],
   "source": [
    "decrypted = [i.decrypt(secret_key)[0] for i in model.loss_list]\n",
    "true_err_cl = np.abs(np.array(decrypted) - np.array(unencrypted_model.loss_list))\n",
    "rel_err_cl = true_err_cl/np.abs(decrypted)\n",
    "true_err_ct = np.abs(np.array(decrypted) - np.array(unencrypted_model.true_loss_list))\n",
    "rel_err_ct = true_err_ct/np.abs(decrypted)\n",
    "true_err_lt = np.abs(np.array(unencrypted_model.loss_list) - np.array(unencrypted_model.true_loss_list))\n",
    "rel_err_lt = true_err_lt/np.abs(unencrypted_model.true_loss_list)\n"
   ]
  },
  {
   "cell_type": "code",
   "execution_count": null,
   "metadata": {},
   "outputs": [],
   "source": [
    "plt.plot([i*VERBOSE for i in range(len(model.loss_list))],  rel_err_cl, label='cipherloss and plainloss')\n",
    "plt.plot([i*VERBOSE for i in range(len(model.loss_list))],  rel_err_ct, label='cipherloss and trueloss' )\n",
    "plt.plot([i*VERBOSE for i in range(len(model.loss_list))],  rel_err_lt, label='plainlosses')\n",
    "plt.legend(loc='best')\n",
    "plt.xlabel('Epoch')\n",
    "plt.ylabel('Relative error on loss')\n",
    "plt.title('Relative error between losses')"
   ]
  },
  {
   "cell_type": "markdown",
   "metadata": {},
   "source": [
    "## Relative error between weights"
   ]
  },
  {
   "cell_type": "code",
   "execution_count": null,
   "metadata": {},
   "outputs": [],
   "source": [
    "dwl = np.array([i.decrypt(secret_key) for i in model.weight_list])\n",
    "dbl = np.array([i.decrypt(secret_key) for i in model.bias_list]).reshape((-1,1))\n",
    "dl = np.concatenate((dwl,dbl), axis=1)\n",
    "\n",
    "ul = np.concatenate((np.array(unencrypted_model.weight_list), np.array(unencrypted_model.bias_list).reshape((-1,1))), axis=1)\n",
    "w_err = np.mean((np.abs(dl-ul)/np.abs(ul)), axis=1)"
   ]
  },
  {
   "cell_type": "code",
   "execution_count": null,
   "metadata": {},
   "outputs": [],
   "source": [
    "#plt.plot([i*VERBOSE for i in range(w_err.shape[0])],wm_err)\n",
    "plt.plot([i*VERBOSE for i in range(w_err.shape[0])],w_err)\n",
    "#plt.plot([i*VERBOSE for i in range(w_err.shape[0])],w2_err)\n",
    "\n",
    "\n",
    "plt.xlabel('Epoch')\n",
    "plt.ylabel('Relative error on weights')\n",
    "plt.title('Relative error between encrypted weights and unencrypted weights')"
   ]
  },
  {
   "cell_type": "code",
   "execution_count": null,
   "metadata": {},
   "outputs": [],
   "source": [
    "del encrypted_X, encrypted_Y"
   ]
  },
  {
   "cell_type": "code",
   "execution_count": null,
   "metadata": {},
   "outputs": [],
   "source": []
  }
 ],
 "metadata": {
  "kernelspec": {
   "display_name": "TenSEAL",
   "language": "python",
   "name": "tenseal"
  },
  "language_info": {
   "codemirror_mode": {
    "name": "ipython",
    "version": 3
   },
   "file_extension": ".py",
   "mimetype": "text/x-python",
   "name": "python",
   "nbconvert_exporter": "python",
   "pygments_lexer": "ipython3",
   "version": "3.7.7"
  }
 },
 "nbformat": 4,
 "nbformat_minor": 4
}
